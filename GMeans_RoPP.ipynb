{
  "nbformat": 4,
  "nbformat_minor": 0,
  "metadata": {
    "colab": {
      "name": "GMeans_RoPP.ipynb",
      "provenance": [],
      "collapsed_sections": [],
      "toc_visible": true,
      "include_colab_link": true
    },
    "kernelspec": {
      "name": "python3",
      "display_name": "Python 3"
    },
    "language_info": {
      "name": "python"
    }
  },
  "cells": [
    {
      "cell_type": "markdown",
      "metadata": {
        "id": "view-in-github",
        "colab_type": "text"
      },
      "source": [
        "<a href=\"https://colab.research.google.com/github/uob-positron-imaging-centre/PEPT-Algorithms-RoPP/blob/main/GMeans_RoPP.ipynb\" target=\"_parent\"><img src=\"https://colab.research.google.com/assets/colab-badge.svg\" alt=\"Open In Colab\"/></a>"
      ]
    },
    {
      "cell_type": "markdown",
      "metadata": {
        "id": "EfNrzyM_seDp"
      },
      "source": [
        "<a target=\"_blank\"  href=\"https://github.com/uob-positron-imaging-centre/pept\"><img src=\"https://github.com/uob-positron-imaging-centre/misc-hosting/blob/master/logo.png?raw=true\" style=\"height:200px; display: block; margin-left: auto; margin-right: auto;\"/></a>\n",
        "\n",
        "# Interactive PEPT Analysis Examples using *the G-Means algorithm*\n",
        "\n",
        "> [1] Wiggins C, Santos R, Ruggles A. A novel clustering approach to positron emission particle tracking. Nuclear Instruments and Methods in Physics Research Section A: Accelerators, Spectrometers, Detectors and Associated Equipment. 2016 Mar 1;811:18-24.\n",
        "\n",
        "---\n",
        "\n",
        "#### Copyright 2021 the `pept` developers\n",
        "##### Jupyter Notebook authored by Andrei Leonard Nicusan and Dr. Kit Windows-Yule for the \"PEPT: A Comparative Review\" paper, commissioned by the Reports on Progress in Physics journal\n",
        "\n",
        "Licensed under the GNU License, Version 3.0 (the \"License\").\n",
        "\n",
        "---\n"
      ]
    },
    {
      "cell_type": "markdown",
      "metadata": {
        "id": "v65QnGnJu2vO"
      },
      "source": [
        "# 1. Introduction\n",
        "\n",
        "Positron emission particle tracking (PEPT) is a powerful technique allowing the non-invasive, three-dimensional tracking of one or more radioactive 'tracer' particles through particulate, fluid or multiphase systems. It allows particle or fluid motion to be tracked with sub-millimetre accuracy and sub-millisecond temporal resolution and, due to its use of highly-penetrating 511keV gamma rays, can be used to probe the internal dynamics of even large, dense, optically opaque systems <sup>[[2]](https://www.sciencedirect.com/science/article/pii/016890029390864E) [[3]](https://www.sciencedirect.com/science/article/pii/S0263876208003341) [[4]](https://aip.scitation.org/doi/abs/10.1063/1.4983046@rsi.2017.IMGP2017.issue-1)</sup>. In light of its versatility both in terms of the scales and materials of particles which can be tracked <sup>[[5]](https://www.sciencedirect.com/science/article/pii/S1672251507001455)[[6]](https://www.sciencedirect.com/science/article/pii/S0168900206005341)</sup>, and the sizes and geometries of the systems which can be imaged <sup>[[7]](https://www.sciencedirect.com/science/article/pii/S0168900209001880) [[8]](https://www.sciencedirect.com/science/article/pii/S0029549316000273)</sup> , the technique has wide-ranging applicability in diverse scientific, industrial and biomedical applications.\n",
        "\n",
        "PEPT is performed by radioactively labelling a particle with a positron-emitting radioisotope such as Fluorine-18 ($^{18}\\mathrm{F}$) or Gallium-68 ($^{68}\\mathrm{Ga}$), and using the back-to-back gamma rays produced by electron-positron annihilation events in and around the tracer to triangulate its spatial position. Each detected gamma ray represents a **line of response (LoR)** ."
      ]
    },
    {
      "cell_type": "markdown",
      "metadata": {
        "id": "-9WQ3ziZu9FP"
      },
      "source": [
        "## 1.1. This Jupyter Notebook\n",
        "\n",
        "This interactive Jupyter Notebook illustrates the main processing steps employed by the G-Means algorithm<sup>[1]</sup> for radioactive tracer tracking, as described in the Reports on Progress in Physics \"PEPT: A Comparative Review\" paper.\n",
        "\n",
        "An [example dataset](https://raw.githubusercontent.com/uob-positron-imaging-centre/example_data/master/sample_1p_fluidised_bed.csv) is used from an experiment run at the University of Birmingham Positron Imaging Centre using the ADAC Forté by Matthew Herald. It consists of a single 1 mm diameter MCC particle activated with Fluorine-18 radioactive tracer material inside a bubbling fluidised bed. The fluidised bed was filled with 90% sand and 10% MCC; air was fed into the bottom of the bed at a rate of 37 litres per minute at 3.5 bar. This dataset was chosen for its high quality captured lines of response, with the tracer still depicting the random particle motion that is inherent to bubbling fluidised beds - and typical in Lagrangian particle tracking.\n",
        "\n",
        "The [`pept`](https://github.com/uob-positron-imaging-centre/pept) Python library is used for initialising and visualising PEPT data. While not required *per se* for illustrating PEPT algorithms' processing steps, it significantly reduces the amount of repetitive code and visual noise, allowing the reader to focus on the main conceptual procedures."
      ]
    },
    {
      "cell_type": "markdown",
      "metadata": {
        "id": "-Pind7Uk4CrR"
      },
      "source": [
        "## 1.2. Running Code Cells\n",
        "Select any code cell and click on the (▶) sign in the top-left of the cell's frame to run its code (note that code cells have to be run in order when running for the first time)."
      ]
    },
    {
      "cell_type": "code",
      "metadata": {
        "colab": {
          "base_uri": "https://localhost:8080/"
        },
        "id": "8t0Sd5giaM0_",
        "outputId": "196ccaef-93ef-4b3e-808a-18401e4b4f4a"
      },
      "source": [
        "# First install the `pept` library using pip, Python's package manager\n",
        "!pip install pept"
      ],
      "execution_count": 1,
      "outputs": [
        {
          "output_type": "stream",
          "text": [
            "Requirement already satisfied: pept in /usr/local/lib/python3.7/dist-packages (0.3.2)\n",
            "Requirement already satisfied: matplotlib>=3.1.1 in /usr/local/lib/python3.7/dist-packages (from pept) (3.2.2)\n",
            "Requirement already satisfied: hdbscan>=0.8.26 in /usr/local/lib/python3.7/dist-packages (from pept) (0.8.27)\n",
            "Requirement already satisfied: Cython>=0.29.13 in /usr/local/lib/python3.7/dist-packages (from pept) (0.29.22)\n",
            "Requirement already satisfied: numpy>=1.17.3 in /usr/local/lib/python3.7/dist-packages (from pept) (1.19.5)\n",
            "Requirement already satisfied: joblib>=0.13.2 in /usr/local/lib/python3.7/dist-packages (from pept) (1.0.1)\n",
            "Requirement already satisfied: six>=1.12.0 in /usr/local/lib/python3.7/dist-packages (from pept) (1.15.0)\n",
            "Requirement already satisfied: plotly>=4.4.1 in /usr/local/lib/python3.7/dist-packages (from pept) (4.4.1)\n",
            "Requirement already satisfied: pandas>=1.0.5 in /usr/local/lib/python3.7/dist-packages (from pept) (1.1.5)\n",
            "Requirement already satisfied: tqdm>=4.41.1 in /usr/local/lib/python3.7/dist-packages (from pept) (4.41.1)\n",
            "Requirement already satisfied: cma>=3.0.3 in /usr/local/lib/python3.7/dist-packages (from pept) (3.0.3)\n",
            "Requirement already satisfied: scipy>=1.3.1 in /usr/local/lib/python3.7/dist-packages (from pept) (1.4.1)\n",
            "Requirement already satisfied: pyparsing!=2.0.4,!=2.1.2,!=2.1.6,>=2.0.1 in /usr/local/lib/python3.7/dist-packages (from matplotlib>=3.1.1->pept) (2.4.7)\n",
            "Requirement already satisfied: cycler>=0.10 in /usr/local/lib/python3.7/dist-packages (from matplotlib>=3.1.1->pept) (0.10.0)\n",
            "Requirement already satisfied: kiwisolver>=1.0.1 in /usr/local/lib/python3.7/dist-packages (from matplotlib>=3.1.1->pept) (1.3.1)\n",
            "Requirement already satisfied: python-dateutil>=2.1 in /usr/local/lib/python3.7/dist-packages (from matplotlib>=3.1.1->pept) (2.8.1)\n",
            "Requirement already satisfied: scikit-learn>=0.20 in /usr/local/lib/python3.7/dist-packages (from hdbscan>=0.8.26->pept) (0.22.2.post1)\n",
            "Requirement already satisfied: retrying>=1.3.3 in /usr/local/lib/python3.7/dist-packages (from plotly>=4.4.1->pept) (1.3.3)\n",
            "Requirement already satisfied: pytz>=2017.2 in /usr/local/lib/python3.7/dist-packages (from pandas>=1.0.5->pept) (2018.9)\n"
          ],
          "name": "stdout"
        }
      ]
    },
    {
      "cell_type": "markdown",
      "metadata": {
        "id": "JMabYTouG299"
      },
      "source": [
        "# 2. The G-Means Algorithm\n",
        "\n",
        "Next, we need to install the necessary libraries to be able to use the (general) G-means clustering algorithm itself."
      ]
    },
    {
      "cell_type": "code",
      "metadata": {
        "colab": {
          "base_uri": "https://localhost:8080/"
        },
        "id": "fPLbuLiKJm3j",
        "outputId": "775d1cc6-6126-4167-9473-dde3a2988b56"
      },
      "source": [
        "# Install the `pyclustering` library to have access to G-Means\n",
        "!pip install pyclustering"
      ],
      "execution_count": 2,
      "outputs": [
        {
          "output_type": "stream",
          "text": [
            "Requirement already satisfied: pyclustering in /usr/local/lib/python3.7/dist-packages (0.10.1.2)\n",
            "Requirement already satisfied: matplotlib>=3.0.0 in /usr/local/lib/python3.7/dist-packages (from pyclustering) (3.2.2)\n",
            "Requirement already satisfied: scipy>=1.1.0 in /usr/local/lib/python3.7/dist-packages (from pyclustering) (1.4.1)\n",
            "Requirement already satisfied: Pillow>=5.2.0 in /usr/local/lib/python3.7/dist-packages (from pyclustering) (7.1.2)\n",
            "Requirement already satisfied: numpy>=1.15.2 in /usr/local/lib/python3.7/dist-packages (from pyclustering) (1.19.5)\n",
            "Requirement already satisfied: pyparsing!=2.0.4,!=2.1.2,!=2.1.6,>=2.0.1 in /usr/local/lib/python3.7/dist-packages (from matplotlib>=3.0.0->pyclustering) (2.4.7)\n",
            "Requirement already satisfied: cycler>=0.10 in /usr/local/lib/python3.7/dist-packages (from matplotlib>=3.0.0->pyclustering) (0.10.0)\n",
            "Requirement already satisfied: kiwisolver>=1.0.1 in /usr/local/lib/python3.7/dist-packages (from matplotlib>=3.0.0->pyclustering) (1.3.1)\n",
            "Requirement already satisfied: python-dateutil>=2.1 in /usr/local/lib/python3.7/dist-packages (from matplotlib>=3.0.0->pyclustering) (2.8.1)\n",
            "Requirement already satisfied: six in /usr/local/lib/python3.7/dist-packages (from cycler>=0.10->matplotlib>=3.0.0->pyclustering) (1.15.0)\n"
          ],
          "name": "stdout"
        }
      ]
    },
    {
      "cell_type": "markdown",
      "metadata": {
        "id": "oEC_HRIQG5YV"
      },
      "source": [
        "## 2.1. Read in Line of Response Data\n",
        "In this initial step, we read in the \"raw\" LoR data from which our tracer positions are calculated. In this simple example, we load only a single sample (i.e. one particle location at one point in time). The LoRs corresponding to this sample are output as an image.\n",
        "\n",
        "As discussed in the main text, varying the numbers of LoRs used to calculate a PEPT location can affect the quality of the final location measured. Try altering the value \"nrows\" below to see how this inluences your results."
      ]
    },
    {
      "cell_type": "code",
      "metadata": {
        "colab": {
          "base_uri": "https://localhost:8080/"
        },
        "id": "JGGK0NwMG92U",
        "outputId": "b9686aba-70d5-4f4e-9252-54fd34e79756"
      },
      "source": [
        "# Read in a sample of experimental PEPT data from an online repository into a NumPy array\n",
        "import numpy as np\n",
        "import pept\n",
        "\n",
        "# Skip the file header's first 15 lines, then read in 50 LoRs\n",
        "lors_raw = pept.utilities.read_csv(\n",
        "    \"https://raw.githubusercontent.com/uob-positron-imaging-centre/example_data/master/sample_1p_fluidised_bed.csv\",\n",
        "    skiprows = 15,\n",
        "    nrows = 50,\n",
        ")\n",
        "\n",
        "# Insert columns for the z-coordinates\n",
        "head_separation = 600\n",
        "\n",
        "lors_raw = np.insert(lors_raw, 3, 0, axis = 1)\n",
        "lors_raw = np.insert(lors_raw, 6, head_separation, axis = 1)\n",
        "\n",
        "# Project the 3D lines onto the YZ plane for ease of analysis - i.e. select only columns\n",
        "# [time, y1, z1, y2, z2] and flip columns to get [time, x1, y1, x2, y2]\n",
        "lors = np.array(lors_raw[:, [0, 3, 2, 6, 5]])\n",
        "\n",
        "# Print the line of response (LoR) data\n",
        "lors"
      ],
      "execution_count": 3,
      "outputs": [
        {
          "output_type": "execute_result",
          "data": {
            "text/plain": [
              "array([[0.000e+00, 0.000e+00, 1.687e+02, 6.000e+02, 1.428e+02],\n",
              "       [1.000e-01, 0.000e+00, 1.676e+02, 6.000e+02, 3.139e+02],\n",
              "       [1.000e-01, 0.000e+00, 4.100e+02, 6.000e+02, 2.401e+02],\n",
              "       [2.000e-01, 0.000e+00, 2.962e+02, 6.000e+02, 4.525e+02],\n",
              "       [2.000e-01, 0.000e+00, 1.151e+02, 6.000e+02, 3.534e+02],\n",
              "       [2.000e-01, 0.000e+00, 1.322e+02, 6.000e+02, 2.661e+02],\n",
              "       [2.000e-01, 0.000e+00, 3.735e+02, 6.000e+02, 1.310e+02],\n",
              "       [3.000e-01, 0.000e+00, 1.115e+02, 6.000e+02, 3.534e+02],\n",
              "       [4.000e-01, 0.000e+00, 2.094e+02, 6.000e+02, 2.808e+02],\n",
              "       [4.000e-01, 0.000e+00, 2.749e+02, 6.000e+02, 3.062e+02],\n",
              "       [5.000e-01, 0.000e+00, 2.389e+02, 6.000e+02, 1.681e+02],\n",
              "       [6.000e-01, 0.000e+00, 4.283e+02, 6.000e+02, 7.020e+01],\n",
              "       [6.000e-01, 0.000e+00, 1.333e+02, 6.000e+02, 3.499e+02],\n",
              "       [6.000e-01, 0.000e+00, 3.050e+02, 6.000e+02, 1.032e+02],\n",
              "       [6.000e-01, 0.000e+00, 9.200e+01, 6.000e+02, 3.929e+02],\n",
              "       [6.000e-01, 0.000e+00, 1.859e+02, 6.000e+02, 3.027e+02],\n",
              "       [6.000e-01, 0.000e+00, 1.853e+02, 6.000e+02, 2.850e+02],\n",
              "       [7.000e-01, 0.000e+00, 2.454e+02, 6.000e+02, 2.572e+02],\n",
              "       [7.000e-01, 0.000e+00, 1.127e+02, 6.000e+02, 3.941e+02],\n",
              "       [7.000e-01, 0.000e+00, 1.711e+02, 6.000e+02, 3.027e+02],\n",
              "       [8.000e-01, 0.000e+00, 3.906e+02, 6.000e+02, 2.549e+02],\n",
              "       [8.000e-01, 0.000e+00, 4.720e+01, 6.000e+02, 4.136e+02],\n",
              "       [8.000e-01, 0.000e+00, 3.410e+02, 6.000e+02, 1.328e+02],\n",
              "       [8.000e-01, 0.000e+00, 1.263e+02, 6.000e+02, 3.451e+02],\n",
              "       [9.000e-01, 0.000e+00, 4.348e+02, 6.000e+02, 7.200e+01],\n",
              "       [9.000e-01, 0.000e+00, 3.351e+02, 6.000e+02, 2.154e+02],\n",
              "       [9.000e-01, 0.000e+00, 2.767e+02, 6.000e+02, 1.953e+02],\n",
              "       [1.000e+00, 0.000e+00, 1.894e+02, 6.000e+02, 2.956e+02],\n",
              "       [1.000e+00, 0.000e+00, 3.050e+02, 6.000e+02, 1.859e+02],\n",
              "       [1.100e+00, 0.000e+00, 4.301e+02, 6.000e+02, 1.357e+02],\n",
              "       [1.100e+00, 0.000e+00, 4.466e+02, 6.000e+02, 6.430e+01],\n",
              "       [1.100e+00, 0.000e+00, 1.741e+02, 6.000e+02, 7.140e+01],\n",
              "       [1.100e+00, 0.000e+00, 1.941e+02, 6.000e+02, 1.204e+02],\n",
              "       [1.100e+00, 0.000e+00, 1.162e+02, 6.000e+02, 3.510e+02],\n",
              "       [1.200e+00, 0.000e+00, 2.301e+02, 6.000e+02, 2.537e+02],\n",
              "       [1.200e+00, 0.000e+00, 2.767e+02, 6.000e+02, 2.201e+02],\n",
              "       [1.300e+00, 0.000e+00, 2.962e+02, 6.000e+02, 1.941e+02],\n",
              "       [1.400e+00, 0.000e+00, 5.020e+01, 6.000e+02, 3.764e+02],\n",
              "       [1.500e+00, 0.000e+00, 3.003e+02, 6.000e+02, 1.976e+02],\n",
              "       [1.500e+00, 0.000e+00, 1.032e+02, 6.000e+02, 1.369e+02],\n",
              "       [1.600e+00, 0.000e+00, 4.047e+02, 6.000e+02, 9.680e+01],\n",
              "       [1.600e+00, 0.000e+00, 4.395e+02, 6.000e+02, 6.550e+01],\n",
              "       [1.600e+00, 0.000e+00, 2.590e+02, 6.000e+02, 2.903e+02],\n",
              "       [1.600e+00, 0.000e+00, 1.676e+02, 6.000e+02, 2.277e+02],\n",
              "       [1.600e+00, 0.000e+00, 2.826e+02, 6.000e+02, 2.089e+02],\n",
              "       [1.700e+00, 0.000e+00, 2.277e+02, 6.000e+02, 4.301e+02],\n",
              "       [1.700e+00, 0.000e+00, 2.773e+02, 6.000e+02, 3.953e+02],\n",
              "       [1.800e+00, 0.000e+00, 1.658e+02, 6.000e+02, 3.103e+02],\n",
              "       [1.900e+00, 0.000e+00, 1.546e+02, 6.000e+02, 3.227e+02],\n",
              "       [2.000e+00, 0.000e+00, 7.610e+01, 6.000e+02, 5.062e+02]])"
            ]
          },
          "metadata": {
            "tags": []
          },
          "execution_count": 3
        }
      ]
    },
    {
      "cell_type": "code",
      "metadata": {
        "colab": {
          "base_uri": "https://localhost:8080/",
          "height": 542
        },
        "id": "Ye5uFh_DHBj8",
        "outputId": "4b74af88-d7b8-4b99-c99a-5ebf33300003"
      },
      "source": [
        "from pept.visualisation import PlotlyGrapher2D\n",
        "\n",
        "grapher = PlotlyGrapher2D()\n",
        "grapher.add_lines(lors)\n",
        "grapher.show()"
      ],
      "execution_count": 4,
      "outputs": [
        {
          "output_type": "display_data",
          "data": {
            "text/html": [
              "<html>\n",
              "<head><meta charset=\"utf-8\" /></head>\n",
              "<body>\n",
              "    <div>\n",
              "            <script src=\"https://cdnjs.cloudflare.com/ajax/libs/mathjax/2.7.5/MathJax.js?config=TeX-AMS-MML_SVG\"></script><script type=\"text/javascript\">if (window.MathJax) {MathJax.Hub.Config({SVG: {font: \"STIX-Web\"}});}</script>\n",
              "                <script type=\"text/javascript\">window.PlotlyConfig = {MathJaxConfig: 'local'};</script>\n",
              "        <script src=\"https://cdn.plot.ly/plotly-latest.min.js\"></script>    \n",
              "            <div id=\"434ddbed-f83e-450e-b0ec-58a7c84c4ae8\" class=\"plotly-graph-div\" style=\"height:525px; width:100%;\"></div>\n",
              "            <script type=\"text/javascript\">\n",
              "                \n",
              "                    window.PLOTLYENV=window.PLOTLYENV || {};\n",
              "                    \n",
              "                if (document.getElementById(\"434ddbed-f83e-450e-b0ec-58a7c84c4ae8\")) {\n",
              "                    Plotly.newPlot(\n",
              "                        '434ddbed-f83e-450e-b0ec-58a7c84c4ae8',\n",
              "                        [{\"line\": {\"width\": 2.0}, \"mode\": \"lines\", \"opacity\": 0.6, \"type\": \"scatter\", \"x\": [0.0, 600.0, null, 0.0, 600.0, null, 0.0, 600.0, null, 0.0, 600.0, null, 0.0, 600.0, null, 0.0, 600.0, null, 0.0, 600.0, null, 0.0, 600.0, null, 0.0, 600.0, null, 0.0, 600.0, null, 0.0, 600.0, null, 0.0, 600.0, null, 0.0, 600.0, null, 0.0, 600.0, null, 0.0, 600.0, null, 0.0, 600.0, null, 0.0, 600.0, null, 0.0, 600.0, null, 0.0, 600.0, null, 0.0, 600.0, null, 0.0, 600.0, null, 0.0, 600.0, null, 0.0, 600.0, null, 0.0, 600.0, null, 0.0, 600.0, null, 0.0, 600.0, null, 0.0, 600.0, null, 0.0, 600.0, null, 0.0, 600.0, null, 0.0, 600.0, null, 0.0, 600.0, null, 0.0, 600.0, null, 0.0, 600.0, null, 0.0, 600.0, null, 0.0, 600.0, null, 0.0, 600.0, null, 0.0, 600.0, null, 0.0, 600.0, null, 0.0, 600.0, null, 0.0, 600.0, null, 0.0, 600.0, null, 0.0, 600.0, null, 0.0, 600.0, null, 0.0, 600.0, null, 0.0, 600.0, null, 0.0, 600.0, null, 0.0, 600.0, null, 0.0, 600.0, null, 0.0, 600.0, null, 0.0, 600.0, null], \"xaxis\": \"x\", \"y\": [168.7, 142.8, null, 167.6, 313.9, null, 410.0, 240.1, null, 296.2, 452.5, null, 115.1, 353.4, null, 132.2, 266.1, null, 373.5, 131.0, null, 111.5, 353.4, null, 209.4, 280.8, null, 274.9, 306.2, null, 238.9, 168.1, null, 428.3, 70.2, null, 133.3, 349.9, null, 305.0, 103.2, null, 92.0, 392.9, null, 185.9, 302.7, null, 185.3, 285.0, null, 245.4, 257.2, null, 112.7, 394.1, null, 171.1, 302.7, null, 390.6, 254.9, null, 47.2, 413.6, null, 341.0, 132.8, null, 126.3, 345.1, null, 434.8, 72.0, null, 335.1, 215.4, null, 276.7, 195.3, null, 189.4, 295.6, null, 305.0, 185.9, null, 430.1, 135.7, null, 446.6, 64.3, null, 174.1, 71.4, null, 194.1, 120.4, null, 116.2, 351.0, null, 230.1, 253.7, null, 276.7, 220.1, null, 296.2, 194.1, null, 50.2, 376.4, null, 300.3, 197.6, null, 103.2, 136.9, null, 404.7, 96.8, null, 439.5, 65.5, null, 259.0, 290.3, null, 167.6, 227.7, null, 282.6, 208.9, null, 227.7, 430.1, null, 277.3, 395.3, null, 165.8, 310.3, null, 154.6, 322.7, null, 76.1, 506.2, null], \"yaxis\": \"y\"}],\n",
              "                        {\"annotations\": [{\"font\": {\"size\": 16}, \"showarrow\": false, \"text\": \"  \", \"x\": 0.5, \"xanchor\": \"center\", \"xref\": \"paper\", \"y\": 1.0, \"yanchor\": \"bottom\", \"yref\": \"paper\"}], \"margin\": {\"b\": 30, \"l\": 0, \"r\": 0, \"t\": 30}, \"showlegend\": false, \"template\": {\"data\": {\"bar\": [{\"error_x\": {\"color\": \"#2a3f5f\"}, \"error_y\": {\"color\": \"#2a3f5f\"}, \"marker\": {\"line\": {\"color\": \"#E5ECF6\", \"width\": 0.5}}, \"type\": \"bar\"}], \"barpolar\": [{\"marker\": {\"line\": {\"color\": \"#E5ECF6\", \"width\": 0.5}}, \"type\": \"barpolar\"}], \"carpet\": [{\"aaxis\": {\"endlinecolor\": \"#2a3f5f\", \"gridcolor\": \"white\", \"linecolor\": \"white\", \"minorgridcolor\": \"white\", \"startlinecolor\": \"#2a3f5f\"}, \"baxis\": {\"endlinecolor\": \"#2a3f5f\", \"gridcolor\": \"white\", \"linecolor\": \"white\", \"minorgridcolor\": \"white\", \"startlinecolor\": \"#2a3f5f\"}, \"type\": \"carpet\"}], \"choropleth\": [{\"colorbar\": {\"outlinewidth\": 0, \"ticks\": \"\"}, \"type\": \"choropleth\"}], \"contour\": [{\"colorbar\": {\"outlinewidth\": 0, \"ticks\": \"\"}, \"colorscale\": [[0.0, \"#0d0887\"], [0.1111111111111111, \"#46039f\"], [0.2222222222222222, \"#7201a8\"], [0.3333333333333333, \"#9c179e\"], [0.4444444444444444, \"#bd3786\"], [0.5555555555555556, \"#d8576b\"], [0.6666666666666666, \"#ed7953\"], [0.7777777777777778, \"#fb9f3a\"], [0.8888888888888888, \"#fdca26\"], [1.0, \"#f0f921\"]], \"type\": \"contour\"}], \"contourcarpet\": [{\"colorbar\": {\"outlinewidth\": 0, \"ticks\": \"\"}, \"type\": \"contourcarpet\"}], \"heatmap\": [{\"colorbar\": {\"outlinewidth\": 0, \"ticks\": \"\"}, \"colorscale\": [[0.0, \"#0d0887\"], [0.1111111111111111, \"#46039f\"], [0.2222222222222222, \"#7201a8\"], [0.3333333333333333, \"#9c179e\"], [0.4444444444444444, \"#bd3786\"], [0.5555555555555556, \"#d8576b\"], [0.6666666666666666, \"#ed7953\"], [0.7777777777777778, \"#fb9f3a\"], [0.8888888888888888, \"#fdca26\"], [1.0, \"#f0f921\"]], \"type\": \"heatmap\"}], \"heatmapgl\": [{\"colorbar\": {\"outlinewidth\": 0, \"ticks\": \"\"}, \"colorscale\": [[0.0, \"#0d0887\"], [0.1111111111111111, \"#46039f\"], [0.2222222222222222, \"#7201a8\"], [0.3333333333333333, \"#9c179e\"], [0.4444444444444444, \"#bd3786\"], [0.5555555555555556, \"#d8576b\"], [0.6666666666666666, \"#ed7953\"], [0.7777777777777778, \"#fb9f3a\"], [0.8888888888888888, \"#fdca26\"], [1.0, \"#f0f921\"]], \"type\": \"heatmapgl\"}], \"histogram\": [{\"marker\": {\"colorbar\": {\"outlinewidth\": 0, \"ticks\": \"\"}}, \"type\": \"histogram\"}], \"histogram2d\": [{\"colorbar\": {\"outlinewidth\": 0, \"ticks\": \"\"}, \"colorscale\": [[0.0, \"#0d0887\"], [0.1111111111111111, \"#46039f\"], [0.2222222222222222, \"#7201a8\"], [0.3333333333333333, \"#9c179e\"], [0.4444444444444444, \"#bd3786\"], [0.5555555555555556, \"#d8576b\"], [0.6666666666666666, \"#ed7953\"], [0.7777777777777778, \"#fb9f3a\"], [0.8888888888888888, \"#fdca26\"], [1.0, \"#f0f921\"]], \"type\": \"histogram2d\"}], \"histogram2dcontour\": [{\"colorbar\": {\"outlinewidth\": 0, \"ticks\": \"\"}, \"colorscale\": [[0.0, \"#0d0887\"], [0.1111111111111111, \"#46039f\"], [0.2222222222222222, \"#7201a8\"], [0.3333333333333333, \"#9c179e\"], [0.4444444444444444, \"#bd3786\"], [0.5555555555555556, \"#d8576b\"], [0.6666666666666666, \"#ed7953\"], [0.7777777777777778, \"#fb9f3a\"], [0.8888888888888888, \"#fdca26\"], [1.0, \"#f0f921\"]], \"type\": \"histogram2dcontour\"}], \"mesh3d\": [{\"colorbar\": {\"outlinewidth\": 0, \"ticks\": \"\"}, \"type\": \"mesh3d\"}], \"parcoords\": [{\"line\": {\"colorbar\": {\"outlinewidth\": 0, \"ticks\": \"\"}}, \"type\": \"parcoords\"}], \"pie\": [{\"automargin\": true, \"type\": \"pie\"}], \"scatter\": [{\"marker\": {\"colorbar\": {\"outlinewidth\": 0, \"ticks\": \"\"}}, \"type\": \"scatter\"}], \"scatter3d\": [{\"line\": {\"colorbar\": {\"outlinewidth\": 0, \"ticks\": \"\"}}, \"marker\": {\"colorbar\": {\"outlinewidth\": 0, \"ticks\": \"\"}}, \"type\": \"scatter3d\"}], \"scattercarpet\": [{\"marker\": {\"colorbar\": {\"outlinewidth\": 0, \"ticks\": \"\"}}, \"type\": \"scattercarpet\"}], \"scattergeo\": [{\"marker\": {\"colorbar\": {\"outlinewidth\": 0, \"ticks\": \"\"}}, \"type\": \"scattergeo\"}], \"scattergl\": [{\"marker\": {\"colorbar\": {\"outlinewidth\": 0, \"ticks\": \"\"}}, \"type\": \"scattergl\"}], \"scattermapbox\": [{\"marker\": {\"colorbar\": {\"outlinewidth\": 0, \"ticks\": \"\"}}, \"type\": \"scattermapbox\"}], \"scatterpolar\": [{\"marker\": {\"colorbar\": {\"outlinewidth\": 0, \"ticks\": \"\"}}, \"type\": \"scatterpolar\"}], \"scatterpolargl\": [{\"marker\": {\"colorbar\": {\"outlinewidth\": 0, \"ticks\": \"\"}}, \"type\": \"scatterpolargl\"}], \"scatterternary\": [{\"marker\": {\"colorbar\": {\"outlinewidth\": 0, \"ticks\": \"\"}}, \"type\": \"scatterternary\"}], \"surface\": [{\"colorbar\": {\"outlinewidth\": 0, \"ticks\": \"\"}, \"colorscale\": [[0.0, \"#0d0887\"], [0.1111111111111111, \"#46039f\"], [0.2222222222222222, \"#7201a8\"], [0.3333333333333333, \"#9c179e\"], [0.4444444444444444, \"#bd3786\"], [0.5555555555555556, \"#d8576b\"], [0.6666666666666666, \"#ed7953\"], [0.7777777777777778, \"#fb9f3a\"], [0.8888888888888888, \"#fdca26\"], [1.0, \"#f0f921\"]], \"type\": \"surface\"}], \"table\": [{\"cells\": {\"fill\": {\"color\": \"#EBF0F8\"}, \"line\": {\"color\": \"white\"}}, \"header\": {\"fill\": {\"color\": \"#C8D4E3\"}, \"line\": {\"color\": \"white\"}}, \"type\": \"table\"}]}, \"layout\": {\"annotationdefaults\": {\"arrowcolor\": \"#2a3f5f\", \"arrowhead\": 0, \"arrowwidth\": 1}, \"coloraxis\": {\"colorbar\": {\"outlinewidth\": 0, \"ticks\": \"\"}}, \"colorscale\": {\"diverging\": [[0, \"#8e0152\"], [0.1, \"#c51b7d\"], [0.2, \"#de77ae\"], [0.3, \"#f1b6da\"], [0.4, \"#fde0ef\"], [0.5, \"#f7f7f7\"], [0.6, \"#e6f5d0\"], [0.7, \"#b8e186\"], [0.8, \"#7fbc41\"], [0.9, \"#4d9221\"], [1, \"#276419\"]], \"sequential\": [[0.0, \"#0d0887\"], [0.1111111111111111, \"#46039f\"], [0.2222222222222222, \"#7201a8\"], [0.3333333333333333, \"#9c179e\"], [0.4444444444444444, \"#bd3786\"], [0.5555555555555556, \"#d8576b\"], [0.6666666666666666, \"#ed7953\"], [0.7777777777777778, \"#fb9f3a\"], [0.8888888888888888, \"#fdca26\"], [1.0, \"#f0f921\"]], \"sequentialminus\": [[0.0, \"#0d0887\"], [0.1111111111111111, \"#46039f\"], [0.2222222222222222, \"#7201a8\"], [0.3333333333333333, \"#9c179e\"], [0.4444444444444444, \"#bd3786\"], [0.5555555555555556, \"#d8576b\"], [0.6666666666666666, \"#ed7953\"], [0.7777777777777778, \"#fb9f3a\"], [0.8888888888888888, \"#fdca26\"], [1.0, \"#f0f921\"]]}, \"colorway\": [\"#636efa\", \"#EF553B\", \"#00cc96\", \"#ab63fa\", \"#FFA15A\", \"#19d3f3\", \"#FF6692\", \"#B6E880\", \"#FF97FF\", \"#FECB52\"], \"font\": {\"color\": \"#2a3f5f\"}, \"geo\": {\"bgcolor\": \"white\", \"lakecolor\": \"white\", \"landcolor\": \"#E5ECF6\", \"showlakes\": true, \"showland\": true, \"subunitcolor\": \"white\"}, \"hoverlabel\": {\"align\": \"left\"}, \"hovermode\": \"closest\", \"mapbox\": {\"style\": \"light\"}, \"paper_bgcolor\": \"white\", \"plot_bgcolor\": \"#E5ECF6\", \"polar\": {\"angularaxis\": {\"gridcolor\": \"white\", \"linecolor\": \"white\", \"ticks\": \"\"}, \"bgcolor\": \"#E5ECF6\", \"radialaxis\": {\"gridcolor\": \"white\", \"linecolor\": \"white\", \"ticks\": \"\"}}, \"scene\": {\"xaxis\": {\"backgroundcolor\": \"#E5ECF6\", \"gridcolor\": \"white\", \"gridwidth\": 2, \"linecolor\": \"white\", \"showbackground\": true, \"ticks\": \"\", \"zerolinecolor\": \"white\"}, \"yaxis\": {\"backgroundcolor\": \"#E5ECF6\", \"gridcolor\": \"white\", \"gridwidth\": 2, \"linecolor\": \"white\", \"showbackground\": true, \"ticks\": \"\", \"zerolinecolor\": \"white\"}, \"zaxis\": {\"backgroundcolor\": \"#E5ECF6\", \"gridcolor\": \"white\", \"gridwidth\": 2, \"linecolor\": \"white\", \"showbackground\": true, \"ticks\": \"\", \"zerolinecolor\": \"white\"}}, \"shapedefaults\": {\"line\": {\"color\": \"#2a3f5f\"}}, \"ternary\": {\"aaxis\": {\"gridcolor\": \"white\", \"linecolor\": \"white\", \"ticks\": \"\"}, \"baxis\": {\"gridcolor\": \"white\", \"linecolor\": \"white\", \"ticks\": \"\"}, \"bgcolor\": \"#E5ECF6\", \"caxis\": {\"gridcolor\": \"white\", \"linecolor\": \"white\", \"ticks\": \"\"}}, \"title\": {\"x\": 0.05}, \"xaxis\": {\"automargin\": true, \"gridcolor\": \"white\", \"linecolor\": \"white\", \"ticks\": \"\", \"title\": {\"standoff\": 15}, \"zerolinecolor\": \"white\", \"zerolinewidth\": 2}, \"yaxis\": {\"automargin\": true, \"gridcolor\": \"white\", \"linecolor\": \"white\", \"ticks\": \"\", \"title\": {\"standoff\": 15}, \"zerolinecolor\": \"white\", \"zerolinewidth\": 2}}}, \"xaxis\": {\"anchor\": \"y\", \"domain\": [0.0, 1.0], \"range\": [0.0, 600.0], \"title\": {\"text\": \"<i>x</i> (mm)\"}}, \"yaxis\": {\"anchor\": \"x\", \"domain\": [0.0, 1.0], \"scaleanchor\": \"x\", \"scaleratio\": 1, \"title\": {\"text\": \"<i>y</i> (mm)\"}}},\n",
              "                        {\"responsive\": true}\n",
              "                    ).then(function(){\n",
              "                            \n",
              "var gd = document.getElementById('434ddbed-f83e-450e-b0ec-58a7c84c4ae8');\n",
              "var x = new MutationObserver(function (mutations, observer) {{\n",
              "        var display = window.getComputedStyle(gd).display;\n",
              "        if (!display || display === 'none') {{\n",
              "            console.log([gd, 'removed!']);\n",
              "            Plotly.purge(gd);\n",
              "            observer.disconnect();\n",
              "        }}\n",
              "}});\n",
              "\n",
              "// Listen for the removal of the full notebook cells\n",
              "var notebookContainer = gd.closest('#notebook-container');\n",
              "if (notebookContainer) {{\n",
              "    x.observe(notebookContainer, {childList: true});\n",
              "}}\n",
              "\n",
              "// Listen for the clearing of the current output cell\n",
              "var outputEl = gd.closest('.output');\n",
              "if (outputEl) {{\n",
              "    x.observe(outputEl, {childList: true});\n",
              "}}\n",
              "\n",
              "                        })\n",
              "                };\n",
              "                \n",
              "            </script>\n",
              "        </div>\n",
              "</body>\n",
              "</html>"
            ]
          },
          "metadata": {
            "tags": []
          }
        }
      ]
    },
    {
      "cell_type": "markdown",
      "metadata": {
        "id": "UjbPXot1HEA5"
      },
      "source": [
        "## 2.2. Voxelise / Pixelise the Lines of Response\n",
        "The next step is to 'voxelise' the LoRs - that is, to create a grid of square or rectangular cells, and count the number of lines passing through each. For simplicity and ease of visualisation, we work here in 2D, but the real algorithm of course works in 3D.\n",
        "\n",
        "In the code below you can set the resolution - i.e. pixel size - by varying the pair of values corresponding to the `resolution` parameter. Typing, for example, (20,20) will give a 20 by 20 grid of pixels.\n",
        "\n",
        "Try some different values for the `resolution` parameter. As discussed in the main text, larger values - i.e. a higher resolution, smaller pixels - will allow the centroid of our particle to be determined more precisely. However, you may notice that as you increase these values your processor may take longer in the calculation and plotting steps below. Now imagine this is just one of many thousands of locations, and you may get an idea of the issue of using an overly-fine grid. As discussed in the main text, when using codes relying on voxelisation, there is a fine balance to be made between precision and compuationaly efficiency."
      ]
    },
    {
      "cell_type": "code",
      "metadata": {
        "colab": {
          "base_uri": "https://localhost:8080/"
        },
        "id": "rLvcx9hdHLfi",
        "outputId": "8f5e4e85-769f-438e-e5cf-b9fc1287d770"
      },
      "source": [
        "resolution = (20, 20)\n",
        "pixels = pept.Pixels.from_lines(lors, resolution)\n",
        "\n",
        "pixels"
      ],
      "execution_count": 5,
      "outputs": [
        {
          "output_type": "stream",
          "text": [
            "Initialised Pixels class in 0.0004870891571044922 s.\n"
          ],
          "name": "stdout"
        },
        {
          "output_type": "execute_result",
          "data": {
            "text/plain": [
              "Class instance that inherits from `pept.Pixels`.\n",
              "Type:\n",
              "<class 'pept.base.pixel_data.Pixels'>\n",
              "\n",
              "Attributes\n",
              "----------\n",
              "[[ 0.  2.  3.  7.  7.  7.  5.  4.  2. 10.  5.  2.  3.  6.  5.  0.  0.  0.\n",
              "   0.  0.]\n",
              " [ 0.  0.  2.  3.  8.  8.  7.  4.  4.  9.  3.  2.  3.  6.  2.  0.  0.  0.\n",
              "   0.  0.]\n",
              " [ 0.  0.  2.  4.  8. 10.  7.  3.  5.  8.  3.  2.  8.  6.  0.  0.  0.  0.\n",
              "   0.  0.]\n",
              " [ 0.  0.  0.  3.  4. 14.  8.  4.  7.  8.  5.  3.  7.  0.  0.  0.  0.  0.\n",
              "   0.  0.]\n",
              " [ 0.  0.  0.  2.  3. 13. 11.  6.  7.  6.  5.  8.  6.  0.  0.  0.  0.  0.\n",
              "   0.  0.]\n",
              " [ 0.  0.  0.  1.  3.  8. 13.  8.  9.  7.  7.  8.  1.  0.  0.  0.  0.  0.\n",
              "   0.  0.]\n",
              " [ 0.  0.  0.  1.  2.  5. 11. 13. 10.  6.  8.  5.  0.  0.  0.  0.  0.  0.\n",
              "   0.  0.]\n",
              " [ 0.  0.  0.  1.  1.  5. 10. 18. 10. 10.  7.  3.  0.  0.  0.  0.  0.  0.\n",
              "   0.  0.]\n",
              " [ 0.  0.  0.  1.  1.  2.  6. 19. 14. 10.  4.  4.  1.  0.  0.  0.  0.  0.\n",
              "   0.  0.]\n",
              " [ 0.  0.  0.  1.  2.  2.  5. 19. 23.  8.  3.  2.  1.  0.  0.  0.  0.  0.\n",
              "   0.  0.]\n",
              " [ 0.  0.  0.  1.  2.  2.  4. 18. 31.  5.  4.  2.  1.  0.  0.  0.  0.  0.\n",
              "   0.  0.]\n",
              " [ 0.  0.  0.  1.  2.  2.  4. 14. 26.  4.  3.  3.  1.  0.  0.  0.  0.  0.\n",
              "   0.  0.]\n",
              " [ 0.  0.  0.  1.  2.  2.  9. 15. 20.  7.  2.  3.  1.  1.  0.  0.  0.  0.\n",
              "   0.  0.]\n",
              " [ 0.  0.  0.  1.  2.  5.  9.  9. 16. 15.  4.  3.  2.  1.  0.  0.  0.  0.\n",
              "   0.  0.]\n",
              " [ 0.  0.  0.  1.  3.  7.  7.  9.  9. 14.  3.  1.  3.  2.  0.  0.  0.  0.\n",
              "   0.  0.]\n",
              " [ 0.  0.  0.  1.  8.  8.  5.  9.  7. 16.  9.  3.  2.  2.  2.  0.  0.  0.\n",
              "   0.  0.]\n",
              " [ 0.  0.  1.  1.  9.  5.  5.  8.  6. 12.  7.  3.  2.  1.  2.  0.  0.  0.\n",
              "   0.  0.]\n",
              " [ 0.  0.  1.  4.  9.  4.  4.  5.  5. 10.  8.  4.  4.  1.  2.  1.  0.  0.\n",
              "   0.  0.]\n",
              " [ 0.  0.  4.  6.  7.  4.  4.  4.  5.  8.  9.  6.  5.  2.  1.  1.  1.  0.\n",
              "   0.  0.]\n",
              " [ 0.  0.  5.  3.  6.  2.  5.  4.  5.  6.  6.  5.  4.  5.  2.  1.  1.  0.\n",
              "   0.  0.]]\n",
              "\n",
              "number_of_pixels =    (20, 20)\n",
              "pixel_size =          [30. 30.]\n",
              "\n",
              "xlim =                [  0. 600.]\n",
              "ylim =                [  0. 600.]\n",
              "pixel_grids:\n",
              "([0.0 ... 600.0],\n",
              " [0.0 ... 600.0])"
            ]
          },
          "metadata": {
            "tags": []
          },
          "execution_count": 5
        }
      ]
    },
    {
      "cell_type": "code",
      "metadata": {
        "colab": {
          "base_uri": "https://localhost:8080/",
          "height": 542
        },
        "id": "CRJchzjnHOmk",
        "outputId": "8a5b6d3e-db6d-43fb-9829-ce2e24930b4e"
      },
      "source": [
        "grapher = PlotlyGrapher2D()\n",
        "\n",
        "grapher.add_pixels(pixels)\n",
        "grapher.add_lines(lors, color = \"red\")\n",
        "\n",
        "grapher.show()"
      ],
      "execution_count": 6,
      "outputs": [
        {
          "output_type": "display_data",
          "data": {
            "text/html": [
              "<html>\n",
              "<head><meta charset=\"utf-8\" /></head>\n",
              "<body>\n",
              "    <div>\n",
              "            <script src=\"https://cdnjs.cloudflare.com/ajax/libs/mathjax/2.7.5/MathJax.js?config=TeX-AMS-MML_SVG\"></script><script type=\"text/javascript\">if (window.MathJax) {MathJax.Hub.Config({SVG: {font: \"STIX-Web\"}});}</script>\n",
              "                <script type=\"text/javascript\">window.PlotlyConfig = {MathJaxConfig: 'local'};</script>\n",
              "        <script src=\"https://cdn.plot.ly/plotly-latest.min.js\"></script>    \n",
              "            <div id=\"7dbd329a-1ac0-4844-bd0b-1068793c30a1\" class=\"plotly-graph-div\" style=\"height:525px; width:100%;\"></div>\n",
              "            <script type=\"text/javascript\">\n",
              "                \n",
              "                    window.PLOTLYENV=window.PLOTLYENV || {};\n",
              "                    \n",
              "                if (document.getElementById(\"7dbd329a-1ac0-4844-bd0b-1068793c30a1\")) {\n",
              "                    Plotly.newPlot(\n",
              "                        '7dbd329a-1ac0-4844-bd0b-1068793c30a1',\n",
              "                        [{\"colorscale\": [[0.0, \"#000004\"], [0.1111111111111111, \"#180f3d\"], [0.2222222222222222, \"#440f76\"], [0.3333333333333333, \"#721f81\"], [0.4444444444444444, \"#9e2f7f\"], [0.5555555555555556, \"#cd4071\"], [0.6666666666666666, \"#f1605d\"], [0.7777777777777778, \"#fd9668\"], [0.8888888888888888, \"#feca8d\"], [1.0, \"#fcfdbf\"]], \"transpose\": true, \"type\": \"heatmap\", \"x\": [15.0, 45.0, 75.0, 105.0, 135.0, 165.0, 195.0, 225.0, 255.0, 285.0, 315.0, 345.0, 375.0, 405.0, 435.0, 465.0, 495.0, 525.0, 555.0, 585.0], \"xaxis\": \"x\", \"xgap\": 0.0, \"y\": [15.0, 45.0, 75.0, 105.0, 135.0, 165.0, 195.0, 225.0, 255.0, 285.0, 315.0, 345.0, 375.0, 405.0, 435.0, 465.0, 495.0, 525.0, 555.0, 585.0], \"yaxis\": \"y\", \"ygap\": 0.0, \"z\": [[0.0, 2.0, 3.0, 7.0, 7.0, 7.0, 5.0, 4.0, 2.0, 10.0, 5.0, 2.0, 3.0, 6.0, 5.0, 0.0, 0.0, 0.0, 0.0, 0.0], [0.0, 0.0, 2.0, 3.0, 8.0, 8.0, 7.0, 4.0, 4.0, 9.0, 3.0, 2.0, 3.0, 6.0, 2.0, 0.0, 0.0, 0.0, 0.0, 0.0], [0.0, 0.0, 2.0, 4.0, 8.0, 10.0, 7.0, 3.0, 5.0, 8.0, 3.0, 2.0, 8.0, 6.0, 0.0, 0.0, 0.0, 0.0, 0.0, 0.0], [0.0, 0.0, 0.0, 3.0, 4.0, 14.0, 8.0, 4.0, 7.0, 8.0, 5.0, 3.0, 7.0, 0.0, 0.0, 0.0, 0.0, 0.0, 0.0, 0.0], [0.0, 0.0, 0.0, 2.0, 3.0, 13.0, 11.0, 6.0, 7.0, 6.0, 5.0, 8.0, 6.0, 0.0, 0.0, 0.0, 0.0, 0.0, 0.0, 0.0], [0.0, 0.0, 0.0, 1.0, 3.0, 8.0, 13.0, 8.0, 9.0, 7.0, 7.0, 8.0, 1.0, 0.0, 0.0, 0.0, 0.0, 0.0, 0.0, 0.0], [0.0, 0.0, 0.0, 1.0, 2.0, 5.0, 11.0, 13.0, 10.0, 6.0, 8.0, 5.0, 0.0, 0.0, 0.0, 0.0, 0.0, 0.0, 0.0, 0.0], [0.0, 0.0, 0.0, 1.0, 1.0, 5.0, 10.0, 18.0, 10.0, 10.0, 7.0, 3.0, 0.0, 0.0, 0.0, 0.0, 0.0, 0.0, 0.0, 0.0], [0.0, 0.0, 0.0, 1.0, 1.0, 2.0, 6.0, 19.0, 14.0, 10.0, 4.0, 4.0, 1.0, 0.0, 0.0, 0.0, 0.0, 0.0, 0.0, 0.0], [0.0, 0.0, 0.0, 1.0, 2.0, 2.0, 5.0, 19.0, 23.0, 8.0, 3.0, 2.0, 1.0, 0.0, 0.0, 0.0, 0.0, 0.0, 0.0, 0.0], [0.0, 0.0, 0.0, 1.0, 2.0, 2.0, 4.0, 18.0, 31.0, 5.0, 4.0, 2.0, 1.0, 0.0, 0.0, 0.0, 0.0, 0.0, 0.0, 0.0], [0.0, 0.0, 0.0, 1.0, 2.0, 2.0, 4.0, 14.0, 26.0, 4.0, 3.0, 3.0, 1.0, 0.0, 0.0, 0.0, 0.0, 0.0, 0.0, 0.0], [0.0, 0.0, 0.0, 1.0, 2.0, 2.0, 9.0, 15.0, 20.0, 7.0, 2.0, 3.0, 1.0, 1.0, 0.0, 0.0, 0.0, 0.0, 0.0, 0.0], [0.0, 0.0, 0.0, 1.0, 2.0, 5.0, 9.0, 9.0, 16.0, 15.0, 4.0, 3.0, 2.0, 1.0, 0.0, 0.0, 0.0, 0.0, 0.0, 0.0], [0.0, 0.0, 0.0, 1.0, 3.0, 7.0, 7.0, 9.0, 9.0, 14.0, 3.0, 1.0, 3.0, 2.0, 0.0, 0.0, 0.0, 0.0, 0.0, 0.0], [0.0, 0.0, 0.0, 1.0, 8.0, 8.0, 5.0, 9.0, 7.0, 16.0, 9.0, 3.0, 2.0, 2.0, 2.0, 0.0, 0.0, 0.0, 0.0, 0.0], [0.0, 0.0, 1.0, 1.0, 9.0, 5.0, 5.0, 8.0, 6.0, 12.0, 7.0, 3.0, 2.0, 1.0, 2.0, 0.0, 0.0, 0.0, 0.0, 0.0], [0.0, 0.0, 1.0, 4.0, 9.0, 4.0, 4.0, 5.0, 5.0, 10.0, 8.0, 4.0, 4.0, 1.0, 2.0, 1.0, 0.0, 0.0, 0.0, 0.0], [0.0, 0.0, 4.0, 6.0, 7.0, 4.0, 4.0, 4.0, 5.0, 8.0, 9.0, 6.0, 5.0, 2.0, 1.0, 1.0, 1.0, 0.0, 0.0, 0.0], [0.0, 0.0, 5.0, 3.0, 6.0, 2.0, 5.0, 4.0, 5.0, 6.0, 6.0, 5.0, 4.0, 5.0, 2.0, 1.0, 1.0, 0.0, 0.0, 0.0]]}, {\"line\": {\"color\": \"red\", \"width\": 2.0}, \"mode\": \"lines\", \"opacity\": 0.6, \"type\": \"scatter\", \"x\": [0.0, 600.0, null, 0.0, 600.0, null, 0.0, 600.0, null, 0.0, 600.0, null, 0.0, 600.0, null, 0.0, 600.0, null, 0.0, 600.0, null, 0.0, 600.0, null, 0.0, 600.0, null, 0.0, 600.0, null, 0.0, 600.0, null, 0.0, 600.0, null, 0.0, 600.0, null, 0.0, 600.0, null, 0.0, 600.0, null, 0.0, 600.0, null, 0.0, 600.0, null, 0.0, 600.0, null, 0.0, 600.0, null, 0.0, 600.0, null, 0.0, 600.0, null, 0.0, 600.0, null, 0.0, 600.0, null, 0.0, 600.0, null, 0.0, 600.0, null, 0.0, 600.0, null, 0.0, 600.0, null, 0.0, 600.0, null, 0.0, 600.0, null, 0.0, 600.0, null, 0.0, 600.0, null, 0.0, 600.0, null, 0.0, 600.0, null, 0.0, 600.0, null, 0.0, 600.0, null, 0.0, 600.0, null, 0.0, 600.0, null, 0.0, 600.0, null, 0.0, 600.0, null, 0.0, 600.0, null, 0.0, 600.0, null, 0.0, 600.0, null, 0.0, 600.0, null, 0.0, 600.0, null, 0.0, 600.0, null, 0.0, 600.0, null, 0.0, 600.0, null, 0.0, 600.0, null, 0.0, 600.0, null, 0.0, 600.0, null], \"xaxis\": \"x\", \"y\": [168.7, 142.8, null, 167.6, 313.9, null, 410.0, 240.1, null, 296.2, 452.5, null, 115.1, 353.4, null, 132.2, 266.1, null, 373.5, 131.0, null, 111.5, 353.4, null, 209.4, 280.8, null, 274.9, 306.2, null, 238.9, 168.1, null, 428.3, 70.2, null, 133.3, 349.9, null, 305.0, 103.2, null, 92.0, 392.9, null, 185.9, 302.7, null, 185.3, 285.0, null, 245.4, 257.2, null, 112.7, 394.1, null, 171.1, 302.7, null, 390.6, 254.9, null, 47.2, 413.6, null, 341.0, 132.8, null, 126.3, 345.1, null, 434.8, 72.0, null, 335.1, 215.4, null, 276.7, 195.3, null, 189.4, 295.6, null, 305.0, 185.9, null, 430.1, 135.7, null, 446.6, 64.3, null, 174.1, 71.4, null, 194.1, 120.4, null, 116.2, 351.0, null, 230.1, 253.7, null, 276.7, 220.1, null, 296.2, 194.1, null, 50.2, 376.4, null, 300.3, 197.6, null, 103.2, 136.9, null, 404.7, 96.8, null, 439.5, 65.5, null, 259.0, 290.3, null, 167.6, 227.7, null, 282.6, 208.9, null, 227.7, 430.1, null, 277.3, 395.3, null, 165.8, 310.3, null, 154.6, 322.7, null, 76.1, 506.2, null], \"yaxis\": \"y\"}],\n",
              "                        {\"annotations\": [{\"font\": {\"size\": 16}, \"showarrow\": false, \"text\": \"  \", \"x\": 0.5, \"xanchor\": \"center\", \"xref\": \"paper\", \"y\": 1.0, \"yanchor\": \"bottom\", \"yref\": \"paper\"}], \"margin\": {\"b\": 30, \"l\": 0, \"r\": 0, \"t\": 30}, \"showlegend\": false, \"template\": {\"data\": {\"bar\": [{\"error_x\": {\"color\": \"#2a3f5f\"}, \"error_y\": {\"color\": \"#2a3f5f\"}, \"marker\": {\"line\": {\"color\": \"#E5ECF6\", \"width\": 0.5}}, \"type\": \"bar\"}], \"barpolar\": [{\"marker\": {\"line\": {\"color\": \"#E5ECF6\", \"width\": 0.5}}, \"type\": \"barpolar\"}], \"carpet\": [{\"aaxis\": {\"endlinecolor\": \"#2a3f5f\", \"gridcolor\": \"white\", \"linecolor\": \"white\", \"minorgridcolor\": \"white\", \"startlinecolor\": \"#2a3f5f\"}, \"baxis\": {\"endlinecolor\": \"#2a3f5f\", \"gridcolor\": \"white\", \"linecolor\": \"white\", \"minorgridcolor\": \"white\", \"startlinecolor\": \"#2a3f5f\"}, \"type\": \"carpet\"}], \"choropleth\": [{\"colorbar\": {\"outlinewidth\": 0, \"ticks\": \"\"}, \"type\": \"choropleth\"}], \"contour\": [{\"colorbar\": {\"outlinewidth\": 0, \"ticks\": \"\"}, \"colorscale\": [[0.0, \"#0d0887\"], [0.1111111111111111, \"#46039f\"], [0.2222222222222222, \"#7201a8\"], [0.3333333333333333, \"#9c179e\"], [0.4444444444444444, \"#bd3786\"], [0.5555555555555556, \"#d8576b\"], [0.6666666666666666, \"#ed7953\"], [0.7777777777777778, \"#fb9f3a\"], [0.8888888888888888, \"#fdca26\"], [1.0, \"#f0f921\"]], \"type\": \"contour\"}], \"contourcarpet\": [{\"colorbar\": {\"outlinewidth\": 0, \"ticks\": \"\"}, \"type\": \"contourcarpet\"}], \"heatmap\": [{\"colorbar\": {\"outlinewidth\": 0, \"ticks\": \"\"}, \"colorscale\": [[0.0, \"#0d0887\"], [0.1111111111111111, \"#46039f\"], [0.2222222222222222, \"#7201a8\"], [0.3333333333333333, \"#9c179e\"], [0.4444444444444444, \"#bd3786\"], [0.5555555555555556, \"#d8576b\"], [0.6666666666666666, \"#ed7953\"], [0.7777777777777778, \"#fb9f3a\"], [0.8888888888888888, \"#fdca26\"], [1.0, \"#f0f921\"]], \"type\": \"heatmap\"}], \"heatmapgl\": [{\"colorbar\": {\"outlinewidth\": 0, \"ticks\": \"\"}, \"colorscale\": [[0.0, \"#0d0887\"], [0.1111111111111111, \"#46039f\"], [0.2222222222222222, \"#7201a8\"], [0.3333333333333333, \"#9c179e\"], [0.4444444444444444, \"#bd3786\"], [0.5555555555555556, \"#d8576b\"], [0.6666666666666666, \"#ed7953\"], [0.7777777777777778, \"#fb9f3a\"], [0.8888888888888888, \"#fdca26\"], [1.0, \"#f0f921\"]], \"type\": \"heatmapgl\"}], \"histogram\": [{\"marker\": {\"colorbar\": {\"outlinewidth\": 0, \"ticks\": \"\"}}, \"type\": \"histogram\"}], \"histogram2d\": [{\"colorbar\": {\"outlinewidth\": 0, \"ticks\": \"\"}, \"colorscale\": [[0.0, \"#0d0887\"], [0.1111111111111111, \"#46039f\"], [0.2222222222222222, \"#7201a8\"], [0.3333333333333333, \"#9c179e\"], [0.4444444444444444, \"#bd3786\"], [0.5555555555555556, \"#d8576b\"], [0.6666666666666666, \"#ed7953\"], [0.7777777777777778, \"#fb9f3a\"], [0.8888888888888888, \"#fdca26\"], [1.0, \"#f0f921\"]], \"type\": \"histogram2d\"}], \"histogram2dcontour\": [{\"colorbar\": {\"outlinewidth\": 0, \"ticks\": \"\"}, \"colorscale\": [[0.0, \"#0d0887\"], [0.1111111111111111, \"#46039f\"], [0.2222222222222222, \"#7201a8\"], [0.3333333333333333, \"#9c179e\"], [0.4444444444444444, \"#bd3786\"], [0.5555555555555556, \"#d8576b\"], [0.6666666666666666, \"#ed7953\"], [0.7777777777777778, \"#fb9f3a\"], [0.8888888888888888, \"#fdca26\"], [1.0, \"#f0f921\"]], \"type\": \"histogram2dcontour\"}], \"mesh3d\": [{\"colorbar\": {\"outlinewidth\": 0, \"ticks\": \"\"}, \"type\": \"mesh3d\"}], \"parcoords\": [{\"line\": {\"colorbar\": {\"outlinewidth\": 0, \"ticks\": \"\"}}, \"type\": \"parcoords\"}], \"pie\": [{\"automargin\": true, \"type\": \"pie\"}], \"scatter\": [{\"marker\": {\"colorbar\": {\"outlinewidth\": 0, \"ticks\": \"\"}}, \"type\": \"scatter\"}], \"scatter3d\": [{\"line\": {\"colorbar\": {\"outlinewidth\": 0, \"ticks\": \"\"}}, \"marker\": {\"colorbar\": {\"outlinewidth\": 0, \"ticks\": \"\"}}, \"type\": \"scatter3d\"}], \"scattercarpet\": [{\"marker\": {\"colorbar\": {\"outlinewidth\": 0, \"ticks\": \"\"}}, \"type\": \"scattercarpet\"}], \"scattergeo\": [{\"marker\": {\"colorbar\": {\"outlinewidth\": 0, \"ticks\": \"\"}}, \"type\": \"scattergeo\"}], \"scattergl\": [{\"marker\": {\"colorbar\": {\"outlinewidth\": 0, \"ticks\": \"\"}}, \"type\": \"scattergl\"}], \"scattermapbox\": [{\"marker\": {\"colorbar\": {\"outlinewidth\": 0, \"ticks\": \"\"}}, \"type\": \"scattermapbox\"}], \"scatterpolar\": [{\"marker\": {\"colorbar\": {\"outlinewidth\": 0, \"ticks\": \"\"}}, \"type\": \"scatterpolar\"}], \"scatterpolargl\": [{\"marker\": {\"colorbar\": {\"outlinewidth\": 0, \"ticks\": \"\"}}, \"type\": \"scatterpolargl\"}], \"scatterternary\": [{\"marker\": {\"colorbar\": {\"outlinewidth\": 0, \"ticks\": \"\"}}, \"type\": \"scatterternary\"}], \"surface\": [{\"colorbar\": {\"outlinewidth\": 0, \"ticks\": \"\"}, \"colorscale\": [[0.0, \"#0d0887\"], [0.1111111111111111, \"#46039f\"], [0.2222222222222222, \"#7201a8\"], [0.3333333333333333, \"#9c179e\"], [0.4444444444444444, \"#bd3786\"], [0.5555555555555556, \"#d8576b\"], [0.6666666666666666, \"#ed7953\"], [0.7777777777777778, \"#fb9f3a\"], [0.8888888888888888, \"#fdca26\"], [1.0, \"#f0f921\"]], \"type\": \"surface\"}], \"table\": [{\"cells\": {\"fill\": {\"color\": \"#EBF0F8\"}, \"line\": {\"color\": \"white\"}}, \"header\": {\"fill\": {\"color\": \"#C8D4E3\"}, \"line\": {\"color\": \"white\"}}, \"type\": \"table\"}]}, \"layout\": {\"annotationdefaults\": {\"arrowcolor\": \"#2a3f5f\", \"arrowhead\": 0, \"arrowwidth\": 1}, \"coloraxis\": {\"colorbar\": {\"outlinewidth\": 0, \"ticks\": \"\"}}, \"colorscale\": {\"diverging\": [[0, \"#8e0152\"], [0.1, \"#c51b7d\"], [0.2, \"#de77ae\"], [0.3, \"#f1b6da\"], [0.4, \"#fde0ef\"], [0.5, \"#f7f7f7\"], [0.6, \"#e6f5d0\"], [0.7, \"#b8e186\"], [0.8, \"#7fbc41\"], [0.9, \"#4d9221\"], [1, \"#276419\"]], \"sequential\": [[0.0, \"#0d0887\"], [0.1111111111111111, \"#46039f\"], [0.2222222222222222, \"#7201a8\"], [0.3333333333333333, \"#9c179e\"], [0.4444444444444444, \"#bd3786\"], [0.5555555555555556, \"#d8576b\"], [0.6666666666666666, \"#ed7953\"], [0.7777777777777778, \"#fb9f3a\"], [0.8888888888888888, \"#fdca26\"], [1.0, \"#f0f921\"]], \"sequentialminus\": [[0.0, \"#0d0887\"], [0.1111111111111111, \"#46039f\"], [0.2222222222222222, \"#7201a8\"], [0.3333333333333333, \"#9c179e\"], [0.4444444444444444, \"#bd3786\"], [0.5555555555555556, \"#d8576b\"], [0.6666666666666666, \"#ed7953\"], [0.7777777777777778, \"#fb9f3a\"], [0.8888888888888888, \"#fdca26\"], [1.0, \"#f0f921\"]]}, \"colorway\": [\"#636efa\", \"#EF553B\", \"#00cc96\", \"#ab63fa\", \"#FFA15A\", \"#19d3f3\", \"#FF6692\", \"#B6E880\", \"#FF97FF\", \"#FECB52\"], \"font\": {\"color\": \"#2a3f5f\"}, \"geo\": {\"bgcolor\": \"white\", \"lakecolor\": \"white\", \"landcolor\": \"#E5ECF6\", \"showlakes\": true, \"showland\": true, \"subunitcolor\": \"white\"}, \"hoverlabel\": {\"align\": \"left\"}, \"hovermode\": \"closest\", \"mapbox\": {\"style\": \"light\"}, \"paper_bgcolor\": \"white\", \"plot_bgcolor\": \"#E5ECF6\", \"polar\": {\"angularaxis\": {\"gridcolor\": \"white\", \"linecolor\": \"white\", \"ticks\": \"\"}, \"bgcolor\": \"#E5ECF6\", \"radialaxis\": {\"gridcolor\": \"white\", \"linecolor\": \"white\", \"ticks\": \"\"}}, \"scene\": {\"xaxis\": {\"backgroundcolor\": \"#E5ECF6\", \"gridcolor\": \"white\", \"gridwidth\": 2, \"linecolor\": \"white\", \"showbackground\": true, \"ticks\": \"\", \"zerolinecolor\": \"white\"}, \"yaxis\": {\"backgroundcolor\": \"#E5ECF6\", \"gridcolor\": \"white\", \"gridwidth\": 2, \"linecolor\": \"white\", \"showbackground\": true, \"ticks\": \"\", \"zerolinecolor\": \"white\"}, \"zaxis\": {\"backgroundcolor\": \"#E5ECF6\", \"gridcolor\": \"white\", \"gridwidth\": 2, \"linecolor\": \"white\", \"showbackground\": true, \"ticks\": \"\", \"zerolinecolor\": \"white\"}}, \"shapedefaults\": {\"line\": {\"color\": \"#2a3f5f\"}}, \"ternary\": {\"aaxis\": {\"gridcolor\": \"white\", \"linecolor\": \"white\", \"ticks\": \"\"}, \"baxis\": {\"gridcolor\": \"white\", \"linecolor\": \"white\", \"ticks\": \"\"}, \"bgcolor\": \"#E5ECF6\", \"caxis\": {\"gridcolor\": \"white\", \"linecolor\": \"white\", \"ticks\": \"\"}}, \"title\": {\"x\": 0.05}, \"xaxis\": {\"automargin\": true, \"gridcolor\": \"white\", \"linecolor\": \"white\", \"ticks\": \"\", \"title\": {\"standoff\": 15}, \"zerolinecolor\": \"white\", \"zerolinewidth\": 2}, \"yaxis\": {\"automargin\": true, \"gridcolor\": \"white\", \"linecolor\": \"white\", \"ticks\": \"\", \"title\": {\"standoff\": 15}, \"zerolinecolor\": \"white\", \"zerolinewidth\": 2}}}, \"xaxis\": {\"anchor\": \"y\", \"domain\": [0.0, 1.0], \"range\": [0.0, 600.0], \"title\": {\"text\": \"<i>x</i> (mm)\"}}, \"yaxis\": {\"anchor\": \"x\", \"domain\": [0.0, 1.0], \"scaleanchor\": \"x\", \"scaleratio\": 1, \"title\": {\"text\": \"<i>y</i> (mm)\"}}},\n",
              "                        {\"responsive\": true}\n",
              "                    ).then(function(){\n",
              "                            \n",
              "var gd = document.getElementById('7dbd329a-1ac0-4844-bd0b-1068793c30a1');\n",
              "var x = new MutationObserver(function (mutations, observer) {{\n",
              "        var display = window.getComputedStyle(gd).display;\n",
              "        if (!display || display === 'none') {{\n",
              "            console.log([gd, 'removed!']);\n",
              "            Plotly.purge(gd);\n",
              "            observer.disconnect();\n",
              "        }}\n",
              "}});\n",
              "\n",
              "// Listen for the removal of the full notebook cells\n",
              "var notebookContainer = gd.closest('#notebook-container');\n",
              "if (notebookContainer) {{\n",
              "    x.observe(notebookContainer, {childList: true});\n",
              "}}\n",
              "\n",
              "// Listen for the clearing of the current output cell\n",
              "var outputEl = gd.closest('.output');\n",
              "if (outputEl) {{\n",
              "    x.observe(outputEl, {childList: true});\n",
              "}}\n",
              "\n",
              "                        })\n",
              "                };\n",
              "                \n",
              "            </script>\n",
              "        </div>\n",
              "</body>\n",
              "</html>"
            ]
          },
          "metadata": {
            "tags": []
          }
        }
      ]
    },
    {
      "cell_type": "markdown",
      "metadata": {
        "id": "QRviXKitHqre"
      },
      "source": [
        "## 2.3. High Pass Filter\n",
        "\n",
        "As is clear from the above image, our data possesses a lot of background noise away from where we would expect the tracer's centre to be. The G-means PEPT algorithm takes a relatively straightforward approach to removing this noise, simply setting a threshold pixel value (i.e. line density) below which all data are removed. Specifically, a `fraction` of the maximum pixel value for a given sample of LoRs is chosen.\n",
        "\n",
        "Try varying the `fraction` parameter below to see how this choice affects your data."
      ]
    },
    {
      "cell_type": "code",
      "metadata": {
        "id": "DcnYxQtzHv90"
      },
      "source": [
        "# Set all pixel values smaller than a `fraction` of the maximum `pixels` value to zero\n",
        "fraction = 0.4\n",
        "threshold = fraction * float(pixels.max())\n",
        "\n",
        "pixels[pixels < threshold] = 0."
      ],
      "execution_count": 7,
      "outputs": []
    },
    {
      "cell_type": "code",
      "metadata": {
        "colab": {
          "base_uri": "https://localhost:8080/",
          "height": 542
        },
        "id": "aDWoBuVWIuhj",
        "outputId": "32ef128a-e4b0-412f-e188-b02d01232178"
      },
      "source": [
        "grapher = PlotlyGrapher2D()\n",
        "grapher.add_pixels(pixels)\n",
        "grapher.show()"
      ],
      "execution_count": 8,
      "outputs": [
        {
          "output_type": "display_data",
          "data": {
            "text/html": [
              "<html>\n",
              "<head><meta charset=\"utf-8\" /></head>\n",
              "<body>\n",
              "    <div>\n",
              "            <script src=\"https://cdnjs.cloudflare.com/ajax/libs/mathjax/2.7.5/MathJax.js?config=TeX-AMS-MML_SVG\"></script><script type=\"text/javascript\">if (window.MathJax) {MathJax.Hub.Config({SVG: {font: \"STIX-Web\"}});}</script>\n",
              "                <script type=\"text/javascript\">window.PlotlyConfig = {MathJaxConfig: 'local'};</script>\n",
              "        <script src=\"https://cdn.plot.ly/plotly-latest.min.js\"></script>    \n",
              "            <div id=\"3f4203b5-2490-4c46-af07-ae1464463021\" class=\"plotly-graph-div\" style=\"height:525px; width:100%;\"></div>\n",
              "            <script type=\"text/javascript\">\n",
              "                \n",
              "                    window.PLOTLYENV=window.PLOTLYENV || {};\n",
              "                    \n",
              "                if (document.getElementById(\"3f4203b5-2490-4c46-af07-ae1464463021\")) {\n",
              "                    Plotly.newPlot(\n",
              "                        '3f4203b5-2490-4c46-af07-ae1464463021',\n",
              "                        [{\"colorscale\": [[0.0, \"#000004\"], [0.1111111111111111, \"#180f3d\"], [0.2222222222222222, \"#440f76\"], [0.3333333333333333, \"#721f81\"], [0.4444444444444444, \"#9e2f7f\"], [0.5555555555555556, \"#cd4071\"], [0.6666666666666666, \"#f1605d\"], [0.7777777777777778, \"#fd9668\"], [0.8888888888888888, \"#feca8d\"], [1.0, \"#fcfdbf\"]], \"transpose\": true, \"type\": \"heatmap\", \"x\": [15.0, 45.0, 75.0, 105.0, 135.0, 165.0, 195.0, 225.0, 255.0, 285.0, 315.0, 345.0, 375.0, 405.0, 435.0, 465.0, 495.0, 525.0, 555.0, 585.0], \"xaxis\": \"x\", \"xgap\": 0.0, \"y\": [15.0, 45.0, 75.0, 105.0, 135.0, 165.0, 195.0, 225.0, 255.0, 285.0, 315.0, 345.0, 375.0, 405.0, 435.0, 465.0, 495.0, 525.0, 555.0, 585.0], \"yaxis\": \"y\", \"ygap\": 0.0, \"z\": [[0.0, 0.0, 0.0, 0.0, 0.0, 0.0, 0.0, 0.0, 0.0, 0.0, 0.0, 0.0, 0.0, 0.0, 0.0, 0.0, 0.0, 0.0, 0.0, 0.0], [0.0, 0.0, 0.0, 0.0, 0.0, 0.0, 0.0, 0.0, 0.0, 0.0, 0.0, 0.0, 0.0, 0.0, 0.0, 0.0, 0.0, 0.0, 0.0, 0.0], [0.0, 0.0, 0.0, 0.0, 0.0, 0.0, 0.0, 0.0, 0.0, 0.0, 0.0, 0.0, 0.0, 0.0, 0.0, 0.0, 0.0, 0.0, 0.0, 0.0], [0.0, 0.0, 0.0, 0.0, 0.0, 14.0, 0.0, 0.0, 0.0, 0.0, 0.0, 0.0, 0.0, 0.0, 0.0, 0.0, 0.0, 0.0, 0.0, 0.0], [0.0, 0.0, 0.0, 0.0, 0.0, 13.0, 0.0, 0.0, 0.0, 0.0, 0.0, 0.0, 0.0, 0.0, 0.0, 0.0, 0.0, 0.0, 0.0, 0.0], [0.0, 0.0, 0.0, 0.0, 0.0, 0.0, 13.0, 0.0, 0.0, 0.0, 0.0, 0.0, 0.0, 0.0, 0.0, 0.0, 0.0, 0.0, 0.0, 0.0], [0.0, 0.0, 0.0, 0.0, 0.0, 0.0, 0.0, 13.0, 0.0, 0.0, 0.0, 0.0, 0.0, 0.0, 0.0, 0.0, 0.0, 0.0, 0.0, 0.0], [0.0, 0.0, 0.0, 0.0, 0.0, 0.0, 0.0, 18.0, 0.0, 0.0, 0.0, 0.0, 0.0, 0.0, 0.0, 0.0, 0.0, 0.0, 0.0, 0.0], [0.0, 0.0, 0.0, 0.0, 0.0, 0.0, 0.0, 19.0, 14.0, 0.0, 0.0, 0.0, 0.0, 0.0, 0.0, 0.0, 0.0, 0.0, 0.0, 0.0], [0.0, 0.0, 0.0, 0.0, 0.0, 0.0, 0.0, 19.0, 23.0, 0.0, 0.0, 0.0, 0.0, 0.0, 0.0, 0.0, 0.0, 0.0, 0.0, 0.0], [0.0, 0.0, 0.0, 0.0, 0.0, 0.0, 0.0, 18.0, 31.0, 0.0, 0.0, 0.0, 0.0, 0.0, 0.0, 0.0, 0.0, 0.0, 0.0, 0.0], [0.0, 0.0, 0.0, 0.0, 0.0, 0.0, 0.0, 14.0, 26.0, 0.0, 0.0, 0.0, 0.0, 0.0, 0.0, 0.0, 0.0, 0.0, 0.0, 0.0], [0.0, 0.0, 0.0, 0.0, 0.0, 0.0, 0.0, 15.0, 20.0, 0.0, 0.0, 0.0, 0.0, 0.0, 0.0, 0.0, 0.0, 0.0, 0.0, 0.0], [0.0, 0.0, 0.0, 0.0, 0.0, 0.0, 0.0, 0.0, 16.0, 15.0, 0.0, 0.0, 0.0, 0.0, 0.0, 0.0, 0.0, 0.0, 0.0, 0.0], [0.0, 0.0, 0.0, 0.0, 0.0, 0.0, 0.0, 0.0, 0.0, 14.0, 0.0, 0.0, 0.0, 0.0, 0.0, 0.0, 0.0, 0.0, 0.0, 0.0], [0.0, 0.0, 0.0, 0.0, 0.0, 0.0, 0.0, 0.0, 0.0, 16.0, 0.0, 0.0, 0.0, 0.0, 0.0, 0.0, 0.0, 0.0, 0.0, 0.0], [0.0, 0.0, 0.0, 0.0, 0.0, 0.0, 0.0, 0.0, 0.0, 0.0, 0.0, 0.0, 0.0, 0.0, 0.0, 0.0, 0.0, 0.0, 0.0, 0.0], [0.0, 0.0, 0.0, 0.0, 0.0, 0.0, 0.0, 0.0, 0.0, 0.0, 0.0, 0.0, 0.0, 0.0, 0.0, 0.0, 0.0, 0.0, 0.0, 0.0], [0.0, 0.0, 0.0, 0.0, 0.0, 0.0, 0.0, 0.0, 0.0, 0.0, 0.0, 0.0, 0.0, 0.0, 0.0, 0.0, 0.0, 0.0, 0.0, 0.0], [0.0, 0.0, 0.0, 0.0, 0.0, 0.0, 0.0, 0.0, 0.0, 0.0, 0.0, 0.0, 0.0, 0.0, 0.0, 0.0, 0.0, 0.0, 0.0, 0.0]]}],\n",
              "                        {\"annotations\": [{\"font\": {\"size\": 16}, \"showarrow\": false, \"text\": \"  \", \"x\": 0.5, \"xanchor\": \"center\", \"xref\": \"paper\", \"y\": 1.0, \"yanchor\": \"bottom\", \"yref\": \"paper\"}], \"margin\": {\"b\": 30, \"l\": 0, \"r\": 0, \"t\": 30}, \"showlegend\": false, \"template\": {\"data\": {\"bar\": [{\"error_x\": {\"color\": \"#2a3f5f\"}, \"error_y\": {\"color\": \"#2a3f5f\"}, \"marker\": {\"line\": {\"color\": \"#E5ECF6\", \"width\": 0.5}}, \"type\": \"bar\"}], \"barpolar\": [{\"marker\": {\"line\": {\"color\": \"#E5ECF6\", \"width\": 0.5}}, \"type\": \"barpolar\"}], \"carpet\": [{\"aaxis\": {\"endlinecolor\": \"#2a3f5f\", \"gridcolor\": \"white\", \"linecolor\": \"white\", \"minorgridcolor\": \"white\", \"startlinecolor\": \"#2a3f5f\"}, \"baxis\": {\"endlinecolor\": \"#2a3f5f\", \"gridcolor\": \"white\", \"linecolor\": \"white\", \"minorgridcolor\": \"white\", \"startlinecolor\": \"#2a3f5f\"}, \"type\": \"carpet\"}], \"choropleth\": [{\"colorbar\": {\"outlinewidth\": 0, \"ticks\": \"\"}, \"type\": \"choropleth\"}], \"contour\": [{\"colorbar\": {\"outlinewidth\": 0, \"ticks\": \"\"}, \"colorscale\": [[0.0, \"#0d0887\"], [0.1111111111111111, \"#46039f\"], [0.2222222222222222, \"#7201a8\"], [0.3333333333333333, \"#9c179e\"], [0.4444444444444444, \"#bd3786\"], [0.5555555555555556, \"#d8576b\"], [0.6666666666666666, \"#ed7953\"], [0.7777777777777778, \"#fb9f3a\"], [0.8888888888888888, \"#fdca26\"], [1.0, \"#f0f921\"]], \"type\": \"contour\"}], \"contourcarpet\": [{\"colorbar\": {\"outlinewidth\": 0, \"ticks\": \"\"}, \"type\": \"contourcarpet\"}], \"heatmap\": [{\"colorbar\": {\"outlinewidth\": 0, \"ticks\": \"\"}, \"colorscale\": [[0.0, \"#0d0887\"], [0.1111111111111111, \"#46039f\"], [0.2222222222222222, \"#7201a8\"], [0.3333333333333333, \"#9c179e\"], [0.4444444444444444, \"#bd3786\"], [0.5555555555555556, \"#d8576b\"], [0.6666666666666666, \"#ed7953\"], [0.7777777777777778, \"#fb9f3a\"], [0.8888888888888888, \"#fdca26\"], [1.0, \"#f0f921\"]], \"type\": \"heatmap\"}], \"heatmapgl\": [{\"colorbar\": {\"outlinewidth\": 0, \"ticks\": \"\"}, \"colorscale\": [[0.0, \"#0d0887\"], [0.1111111111111111, \"#46039f\"], [0.2222222222222222, \"#7201a8\"], [0.3333333333333333, \"#9c179e\"], [0.4444444444444444, \"#bd3786\"], [0.5555555555555556, \"#d8576b\"], [0.6666666666666666, \"#ed7953\"], [0.7777777777777778, \"#fb9f3a\"], [0.8888888888888888, \"#fdca26\"], [1.0, \"#f0f921\"]], \"type\": \"heatmapgl\"}], \"histogram\": [{\"marker\": {\"colorbar\": {\"outlinewidth\": 0, \"ticks\": \"\"}}, \"type\": \"histogram\"}], \"histogram2d\": [{\"colorbar\": {\"outlinewidth\": 0, \"ticks\": \"\"}, \"colorscale\": [[0.0, \"#0d0887\"], [0.1111111111111111, \"#46039f\"], [0.2222222222222222, \"#7201a8\"], [0.3333333333333333, \"#9c179e\"], [0.4444444444444444, \"#bd3786\"], [0.5555555555555556, \"#d8576b\"], [0.6666666666666666, \"#ed7953\"], [0.7777777777777778, \"#fb9f3a\"], [0.8888888888888888, \"#fdca26\"], [1.0, \"#f0f921\"]], \"type\": \"histogram2d\"}], \"histogram2dcontour\": [{\"colorbar\": {\"outlinewidth\": 0, \"ticks\": \"\"}, \"colorscale\": [[0.0, \"#0d0887\"], [0.1111111111111111, \"#46039f\"], [0.2222222222222222, \"#7201a8\"], [0.3333333333333333, \"#9c179e\"], [0.4444444444444444, \"#bd3786\"], [0.5555555555555556, \"#d8576b\"], [0.6666666666666666, \"#ed7953\"], [0.7777777777777778, \"#fb9f3a\"], [0.8888888888888888, \"#fdca26\"], [1.0, \"#f0f921\"]], \"type\": \"histogram2dcontour\"}], \"mesh3d\": [{\"colorbar\": {\"outlinewidth\": 0, \"ticks\": \"\"}, \"type\": \"mesh3d\"}], \"parcoords\": [{\"line\": {\"colorbar\": {\"outlinewidth\": 0, \"ticks\": \"\"}}, \"type\": \"parcoords\"}], \"pie\": [{\"automargin\": true, \"type\": \"pie\"}], \"scatter\": [{\"marker\": {\"colorbar\": {\"outlinewidth\": 0, \"ticks\": \"\"}}, \"type\": \"scatter\"}], \"scatter3d\": [{\"line\": {\"colorbar\": {\"outlinewidth\": 0, \"ticks\": \"\"}}, \"marker\": {\"colorbar\": {\"outlinewidth\": 0, \"ticks\": \"\"}}, \"type\": \"scatter3d\"}], \"scattercarpet\": [{\"marker\": {\"colorbar\": {\"outlinewidth\": 0, \"ticks\": \"\"}}, \"type\": \"scattercarpet\"}], \"scattergeo\": [{\"marker\": {\"colorbar\": {\"outlinewidth\": 0, \"ticks\": \"\"}}, \"type\": \"scattergeo\"}], \"scattergl\": [{\"marker\": {\"colorbar\": {\"outlinewidth\": 0, \"ticks\": \"\"}}, \"type\": \"scattergl\"}], \"scattermapbox\": [{\"marker\": {\"colorbar\": {\"outlinewidth\": 0, \"ticks\": \"\"}}, \"type\": \"scattermapbox\"}], \"scatterpolar\": [{\"marker\": {\"colorbar\": {\"outlinewidth\": 0, \"ticks\": \"\"}}, \"type\": \"scatterpolar\"}], \"scatterpolargl\": [{\"marker\": {\"colorbar\": {\"outlinewidth\": 0, \"ticks\": \"\"}}, \"type\": \"scatterpolargl\"}], \"scatterternary\": [{\"marker\": {\"colorbar\": {\"outlinewidth\": 0, \"ticks\": \"\"}}, \"type\": \"scatterternary\"}], \"surface\": [{\"colorbar\": {\"outlinewidth\": 0, \"ticks\": \"\"}, \"colorscale\": [[0.0, \"#0d0887\"], [0.1111111111111111, \"#46039f\"], [0.2222222222222222, \"#7201a8\"], [0.3333333333333333, \"#9c179e\"], [0.4444444444444444, \"#bd3786\"], [0.5555555555555556, \"#d8576b\"], [0.6666666666666666, \"#ed7953\"], [0.7777777777777778, \"#fb9f3a\"], [0.8888888888888888, \"#fdca26\"], [1.0, \"#f0f921\"]], \"type\": \"surface\"}], \"table\": [{\"cells\": {\"fill\": {\"color\": \"#EBF0F8\"}, \"line\": {\"color\": \"white\"}}, \"header\": {\"fill\": {\"color\": \"#C8D4E3\"}, \"line\": {\"color\": \"white\"}}, \"type\": \"table\"}]}, \"layout\": {\"annotationdefaults\": {\"arrowcolor\": \"#2a3f5f\", \"arrowhead\": 0, \"arrowwidth\": 1}, \"coloraxis\": {\"colorbar\": {\"outlinewidth\": 0, \"ticks\": \"\"}}, \"colorscale\": {\"diverging\": [[0, \"#8e0152\"], [0.1, \"#c51b7d\"], [0.2, \"#de77ae\"], [0.3, \"#f1b6da\"], [0.4, \"#fde0ef\"], [0.5, \"#f7f7f7\"], [0.6, \"#e6f5d0\"], [0.7, \"#b8e186\"], [0.8, \"#7fbc41\"], [0.9, \"#4d9221\"], [1, \"#276419\"]], \"sequential\": [[0.0, \"#0d0887\"], [0.1111111111111111, \"#46039f\"], [0.2222222222222222, \"#7201a8\"], [0.3333333333333333, \"#9c179e\"], [0.4444444444444444, \"#bd3786\"], [0.5555555555555556, \"#d8576b\"], [0.6666666666666666, \"#ed7953\"], [0.7777777777777778, \"#fb9f3a\"], [0.8888888888888888, \"#fdca26\"], [1.0, \"#f0f921\"]], \"sequentialminus\": [[0.0, \"#0d0887\"], [0.1111111111111111, \"#46039f\"], [0.2222222222222222, \"#7201a8\"], [0.3333333333333333, \"#9c179e\"], [0.4444444444444444, \"#bd3786\"], [0.5555555555555556, \"#d8576b\"], [0.6666666666666666, \"#ed7953\"], [0.7777777777777778, \"#fb9f3a\"], [0.8888888888888888, \"#fdca26\"], [1.0, \"#f0f921\"]]}, \"colorway\": [\"#636efa\", \"#EF553B\", \"#00cc96\", \"#ab63fa\", \"#FFA15A\", \"#19d3f3\", \"#FF6692\", \"#B6E880\", \"#FF97FF\", \"#FECB52\"], \"font\": {\"color\": \"#2a3f5f\"}, \"geo\": {\"bgcolor\": \"white\", \"lakecolor\": \"white\", \"landcolor\": \"#E5ECF6\", \"showlakes\": true, \"showland\": true, \"subunitcolor\": \"white\"}, \"hoverlabel\": {\"align\": \"left\"}, \"hovermode\": \"closest\", \"mapbox\": {\"style\": \"light\"}, \"paper_bgcolor\": \"white\", \"plot_bgcolor\": \"#E5ECF6\", \"polar\": {\"angularaxis\": {\"gridcolor\": \"white\", \"linecolor\": \"white\", \"ticks\": \"\"}, \"bgcolor\": \"#E5ECF6\", \"radialaxis\": {\"gridcolor\": \"white\", \"linecolor\": \"white\", \"ticks\": \"\"}}, \"scene\": {\"xaxis\": {\"backgroundcolor\": \"#E5ECF6\", \"gridcolor\": \"white\", \"gridwidth\": 2, \"linecolor\": \"white\", \"showbackground\": true, \"ticks\": \"\", \"zerolinecolor\": \"white\"}, \"yaxis\": {\"backgroundcolor\": \"#E5ECF6\", \"gridcolor\": \"white\", \"gridwidth\": 2, \"linecolor\": \"white\", \"showbackground\": true, \"ticks\": \"\", \"zerolinecolor\": \"white\"}, \"zaxis\": {\"backgroundcolor\": \"#E5ECF6\", \"gridcolor\": \"white\", \"gridwidth\": 2, \"linecolor\": \"white\", \"showbackground\": true, \"ticks\": \"\", \"zerolinecolor\": \"white\"}}, \"shapedefaults\": {\"line\": {\"color\": \"#2a3f5f\"}}, \"ternary\": {\"aaxis\": {\"gridcolor\": \"white\", \"linecolor\": \"white\", \"ticks\": \"\"}, \"baxis\": {\"gridcolor\": \"white\", \"linecolor\": \"white\", \"ticks\": \"\"}, \"bgcolor\": \"#E5ECF6\", \"caxis\": {\"gridcolor\": \"white\", \"linecolor\": \"white\", \"ticks\": \"\"}}, \"title\": {\"x\": 0.05}, \"xaxis\": {\"automargin\": true, \"gridcolor\": \"white\", \"linecolor\": \"white\", \"ticks\": \"\", \"title\": {\"standoff\": 15}, \"zerolinecolor\": \"white\", \"zerolinewidth\": 2}, \"yaxis\": {\"automargin\": true, \"gridcolor\": \"white\", \"linecolor\": \"white\", \"ticks\": \"\", \"title\": {\"standoff\": 15}, \"zerolinecolor\": \"white\", \"zerolinewidth\": 2}}}, \"xaxis\": {\"anchor\": \"y\", \"domain\": [0.0, 1.0], \"range\": [15.0, 585.0], \"title\": {\"text\": \"<i>x</i> (mm)\"}}, \"yaxis\": {\"anchor\": \"x\", \"domain\": [0.0, 1.0], \"scaleanchor\": \"x\", \"scaleratio\": 1, \"title\": {\"text\": \"<i>y</i> (mm)\"}}},\n",
              "                        {\"responsive\": true}\n",
              "                    ).then(function(){\n",
              "                            \n",
              "var gd = document.getElementById('3f4203b5-2490-4c46-af07-ae1464463021');\n",
              "var x = new MutationObserver(function (mutations, observer) {{\n",
              "        var display = window.getComputedStyle(gd).display;\n",
              "        if (!display || display === 'none') {{\n",
              "            console.log([gd, 'removed!']);\n",
              "            Plotly.purge(gd);\n",
              "            observer.disconnect();\n",
              "        }}\n",
              "}});\n",
              "\n",
              "// Listen for the removal of the full notebook cells\n",
              "var notebookContainer = gd.closest('#notebook-container');\n",
              "if (notebookContainer) {{\n",
              "    x.observe(notebookContainer, {childList: true});\n",
              "}}\n",
              "\n",
              "// Listen for the clearing of the current output cell\n",
              "var outputEl = gd.closest('.output');\n",
              "if (outputEl) {{\n",
              "    x.observe(outputEl, {childList: true});\n",
              "}}\n",
              "\n",
              "                        })\n",
              "                };\n",
              "                \n",
              "            </script>\n",
              "        </div>\n",
              "</body>\n",
              "</html>"
            ]
          },
          "metadata": {
            "tags": []
          }
        }
      ]
    },
    {
      "cell_type": "markdown",
      "metadata": {
        "id": "2wXKLyRrJNvH"
      },
      "source": [
        "## 2.4. Cluster Voxels / Pixels with G-Means \n",
        "\n",
        "In this step, the \"G-Means\" implementation from the `pyclustering` Python library is used.\n",
        "\n",
        "To cluster the pixels, they must first be written as a data table, such that the columns are the data features (here a pixel centre's Euclidean position) and the rows are the data samples (here the non-zero pixels). To add more weight to pixels with larger values, each data sample is repeated by the number of LoRs passing through."
      ]
    },
    {
      "cell_type": "code",
      "metadata": {
        "colab": {
          "base_uri": "https://localhost:8080/"
        },
        "id": "g7MsDc1pKg3S",
        "outputId": "2d005231-91fb-446c-843d-c591806dd6ae"
      },
      "source": [
        "# Write non-zero pixels as a data table, where the feature columns are the XY pixel positions.\n",
        "origin = np.array([pixels.xlim[0], pixels.ylim[0]])\n",
        "\n",
        "samples_table = []\n",
        "for i in range(pixels.shape[0]):\n",
        "    for j in range(pixels.shape[1]):\n",
        "        # Repeat the number of data points in the `samples_table` by the individual pixel's value\n",
        "        for k in range(int(pixels[i, j])):\n",
        "            position = origin + pixels.pixel_size * ([i, j]) + pixels.pixel_size * 0.5\n",
        "            samples_table.append(position)\n",
        "\n",
        "samples_table = np.array(samples_table)\n",
        "samples_table"
      ],
      "execution_count": 9,
      "outputs": [
        {
          "output_type": "execute_result",
          "data": {
            "text/plain": [
              "array([[105., 165.],\n",
              "       [105., 165.],\n",
              "       [105., 165.],\n",
              "       [105., 165.],\n",
              "       [105., 165.],\n",
              "       [105., 165.],\n",
              "       [105., 165.],\n",
              "       [105., 165.],\n",
              "       [105., 165.],\n",
              "       [105., 165.],\n",
              "       [105., 165.],\n",
              "       [105., 165.],\n",
              "       [105., 165.],\n",
              "       [105., 165.],\n",
              "       [135., 165.],\n",
              "       [135., 165.],\n",
              "       [135., 165.],\n",
              "       [135., 165.],\n",
              "       [135., 165.],\n",
              "       [135., 165.],\n",
              "       [135., 165.],\n",
              "       [135., 165.],\n",
              "       [135., 165.],\n",
              "       [135., 165.],\n",
              "       [135., 165.],\n",
              "       [135., 165.],\n",
              "       [135., 165.],\n",
              "       [165., 195.],\n",
              "       [165., 195.],\n",
              "       [165., 195.],\n",
              "       [165., 195.],\n",
              "       [165., 195.],\n",
              "       [165., 195.],\n",
              "       [165., 195.],\n",
              "       [165., 195.],\n",
              "       [165., 195.],\n",
              "       [165., 195.],\n",
              "       [165., 195.],\n",
              "       [165., 195.],\n",
              "       [165., 195.],\n",
              "       [195., 225.],\n",
              "       [195., 225.],\n",
              "       [195., 225.],\n",
              "       [195., 225.],\n",
              "       [195., 225.],\n",
              "       [195., 225.],\n",
              "       [195., 225.],\n",
              "       [195., 225.],\n",
              "       [195., 225.],\n",
              "       [195., 225.],\n",
              "       [195., 225.],\n",
              "       [195., 225.],\n",
              "       [195., 225.],\n",
              "       [225., 225.],\n",
              "       [225., 225.],\n",
              "       [225., 225.],\n",
              "       [225., 225.],\n",
              "       [225., 225.],\n",
              "       [225., 225.],\n",
              "       [225., 225.],\n",
              "       [225., 225.],\n",
              "       [225., 225.],\n",
              "       [225., 225.],\n",
              "       [225., 225.],\n",
              "       [225., 225.],\n",
              "       [225., 225.],\n",
              "       [225., 225.],\n",
              "       [225., 225.],\n",
              "       [225., 225.],\n",
              "       [225., 225.],\n",
              "       [225., 225.],\n",
              "       [255., 225.],\n",
              "       [255., 225.],\n",
              "       [255., 225.],\n",
              "       [255., 225.],\n",
              "       [255., 225.],\n",
              "       [255., 225.],\n",
              "       [255., 225.],\n",
              "       [255., 225.],\n",
              "       [255., 225.],\n",
              "       [255., 225.],\n",
              "       [255., 225.],\n",
              "       [255., 225.],\n",
              "       [255., 225.],\n",
              "       [255., 225.],\n",
              "       [255., 225.],\n",
              "       [255., 225.],\n",
              "       [255., 225.],\n",
              "       [255., 225.],\n",
              "       [255., 225.],\n",
              "       [255., 255.],\n",
              "       [255., 255.],\n",
              "       [255., 255.],\n",
              "       [255., 255.],\n",
              "       [255., 255.],\n",
              "       [255., 255.],\n",
              "       [255., 255.],\n",
              "       [255., 255.],\n",
              "       [255., 255.],\n",
              "       [255., 255.],\n",
              "       [255., 255.],\n",
              "       [255., 255.],\n",
              "       [255., 255.],\n",
              "       [255., 255.],\n",
              "       [285., 225.],\n",
              "       [285., 225.],\n",
              "       [285., 225.],\n",
              "       [285., 225.],\n",
              "       [285., 225.],\n",
              "       [285., 225.],\n",
              "       [285., 225.],\n",
              "       [285., 225.],\n",
              "       [285., 225.],\n",
              "       [285., 225.],\n",
              "       [285., 225.],\n",
              "       [285., 225.],\n",
              "       [285., 225.],\n",
              "       [285., 225.],\n",
              "       [285., 225.],\n",
              "       [285., 225.],\n",
              "       [285., 225.],\n",
              "       [285., 225.],\n",
              "       [285., 225.],\n",
              "       [285., 255.],\n",
              "       [285., 255.],\n",
              "       [285., 255.],\n",
              "       [285., 255.],\n",
              "       [285., 255.],\n",
              "       [285., 255.],\n",
              "       [285., 255.],\n",
              "       [285., 255.],\n",
              "       [285., 255.],\n",
              "       [285., 255.],\n",
              "       [285., 255.],\n",
              "       [285., 255.],\n",
              "       [285., 255.],\n",
              "       [285., 255.],\n",
              "       [285., 255.],\n",
              "       [285., 255.],\n",
              "       [285., 255.],\n",
              "       [285., 255.],\n",
              "       [285., 255.],\n",
              "       [285., 255.],\n",
              "       [285., 255.],\n",
              "       [285., 255.],\n",
              "       [285., 255.],\n",
              "       [315., 225.],\n",
              "       [315., 225.],\n",
              "       [315., 225.],\n",
              "       [315., 225.],\n",
              "       [315., 225.],\n",
              "       [315., 225.],\n",
              "       [315., 225.],\n",
              "       [315., 225.],\n",
              "       [315., 225.],\n",
              "       [315., 225.],\n",
              "       [315., 225.],\n",
              "       [315., 225.],\n",
              "       [315., 225.],\n",
              "       [315., 225.],\n",
              "       [315., 225.],\n",
              "       [315., 225.],\n",
              "       [315., 225.],\n",
              "       [315., 225.],\n",
              "       [315., 255.],\n",
              "       [315., 255.],\n",
              "       [315., 255.],\n",
              "       [315., 255.],\n",
              "       [315., 255.],\n",
              "       [315., 255.],\n",
              "       [315., 255.],\n",
              "       [315., 255.],\n",
              "       [315., 255.],\n",
              "       [315., 255.],\n",
              "       [315., 255.],\n",
              "       [315., 255.],\n",
              "       [315., 255.],\n",
              "       [315., 255.],\n",
              "       [315., 255.],\n",
              "       [315., 255.],\n",
              "       [315., 255.],\n",
              "       [315., 255.],\n",
              "       [315., 255.],\n",
              "       [315., 255.],\n",
              "       [315., 255.],\n",
              "       [315., 255.],\n",
              "       [315., 255.],\n",
              "       [315., 255.],\n",
              "       [315., 255.],\n",
              "       [315., 255.],\n",
              "       [315., 255.],\n",
              "       [315., 255.],\n",
              "       [315., 255.],\n",
              "       [315., 255.],\n",
              "       [315., 255.],\n",
              "       [345., 225.],\n",
              "       [345., 225.],\n",
              "       [345., 225.],\n",
              "       [345., 225.],\n",
              "       [345., 225.],\n",
              "       [345., 225.],\n",
              "       [345., 225.],\n",
              "       [345., 225.],\n",
              "       [345., 225.],\n",
              "       [345., 225.],\n",
              "       [345., 225.],\n",
              "       [345., 225.],\n",
              "       [345., 225.],\n",
              "       [345., 225.],\n",
              "       [345., 255.],\n",
              "       [345., 255.],\n",
              "       [345., 255.],\n",
              "       [345., 255.],\n",
              "       [345., 255.],\n",
              "       [345., 255.],\n",
              "       [345., 255.],\n",
              "       [345., 255.],\n",
              "       [345., 255.],\n",
              "       [345., 255.],\n",
              "       [345., 255.],\n",
              "       [345., 255.],\n",
              "       [345., 255.],\n",
              "       [345., 255.],\n",
              "       [345., 255.],\n",
              "       [345., 255.],\n",
              "       [345., 255.],\n",
              "       [345., 255.],\n",
              "       [345., 255.],\n",
              "       [345., 255.],\n",
              "       [345., 255.],\n",
              "       [345., 255.],\n",
              "       [345., 255.],\n",
              "       [345., 255.],\n",
              "       [345., 255.],\n",
              "       [345., 255.],\n",
              "       [375., 225.],\n",
              "       [375., 225.],\n",
              "       [375., 225.],\n",
              "       [375., 225.],\n",
              "       [375., 225.],\n",
              "       [375., 225.],\n",
              "       [375., 225.],\n",
              "       [375., 225.],\n",
              "       [375., 225.],\n",
              "       [375., 225.],\n",
              "       [375., 225.],\n",
              "       [375., 225.],\n",
              "       [375., 225.],\n",
              "       [375., 225.],\n",
              "       [375., 225.],\n",
              "       [375., 255.],\n",
              "       [375., 255.],\n",
              "       [375., 255.],\n",
              "       [375., 255.],\n",
              "       [375., 255.],\n",
              "       [375., 255.],\n",
              "       [375., 255.],\n",
              "       [375., 255.],\n",
              "       [375., 255.],\n",
              "       [375., 255.],\n",
              "       [375., 255.],\n",
              "       [375., 255.],\n",
              "       [375., 255.],\n",
              "       [375., 255.],\n",
              "       [375., 255.],\n",
              "       [375., 255.],\n",
              "       [375., 255.],\n",
              "       [375., 255.],\n",
              "       [375., 255.],\n",
              "       [375., 255.],\n",
              "       [405., 255.],\n",
              "       [405., 255.],\n",
              "       [405., 255.],\n",
              "       [405., 255.],\n",
              "       [405., 255.],\n",
              "       [405., 255.],\n",
              "       [405., 255.],\n",
              "       [405., 255.],\n",
              "       [405., 255.],\n",
              "       [405., 255.],\n",
              "       [405., 255.],\n",
              "       [405., 255.],\n",
              "       [405., 255.],\n",
              "       [405., 255.],\n",
              "       [405., 255.],\n",
              "       [405., 255.],\n",
              "       [405., 285.],\n",
              "       [405., 285.],\n",
              "       [405., 285.],\n",
              "       [405., 285.],\n",
              "       [405., 285.],\n",
              "       [405., 285.],\n",
              "       [405., 285.],\n",
              "       [405., 285.],\n",
              "       [405., 285.],\n",
              "       [405., 285.],\n",
              "       [405., 285.],\n",
              "       [405., 285.],\n",
              "       [405., 285.],\n",
              "       [405., 285.],\n",
              "       [405., 285.],\n",
              "       [435., 285.],\n",
              "       [435., 285.],\n",
              "       [435., 285.],\n",
              "       [435., 285.],\n",
              "       [435., 285.],\n",
              "       [435., 285.],\n",
              "       [435., 285.],\n",
              "       [435., 285.],\n",
              "       [435., 285.],\n",
              "       [435., 285.],\n",
              "       [435., 285.],\n",
              "       [435., 285.],\n",
              "       [435., 285.],\n",
              "       [435., 285.],\n",
              "       [465., 285.],\n",
              "       [465., 285.],\n",
              "       [465., 285.],\n",
              "       [465., 285.],\n",
              "       [465., 285.],\n",
              "       [465., 285.],\n",
              "       [465., 285.],\n",
              "       [465., 285.],\n",
              "       [465., 285.],\n",
              "       [465., 285.],\n",
              "       [465., 285.],\n",
              "       [465., 285.],\n",
              "       [465., 285.],\n",
              "       [465., 285.],\n",
              "       [465., 285.],\n",
              "       [465., 285.]])"
            ]
          },
          "metadata": {
            "tags": []
          },
          "execution_count": 9
        }
      ]
    },
    {
      "cell_type": "markdown",
      "metadata": {
        "id": "-OqKUhlXzzGp"
      },
      "source": [
        "### 2.4.1 Merging cluster centres\n",
        "\n",
        "By default, with data presented in the manner used for this PEPT algorithm, the G-means algorithm will return a cluster _in every voxel_!\n",
        "\n",
        "As such, an extra step must be added to merge the centres of clusters. Specifically, any centres less than 2 pixels apart are merged into a single cluster."
      ]
    },
    {
      "cell_type": "code",
      "metadata": {
        "colab": {
          "base_uri": "https://localhost:8080/"
        },
        "id": "9fPlgICZttLp",
        "outputId": "8c43afe2-d450-4496-f21f-a83498bea227"
      },
      "source": [
        "# Run G-Means to cluster data into Gaussian partitions\n",
        "from pyclustering.cluster.gmeans import gmeans\n",
        "from scipy.cluster.hierarchy import linkage, fcluster\n",
        "\n",
        "gmeans_instance = gmeans(samples_table, repeat = 20).process()\n",
        "\n",
        "# Extract clustering results: clusters and their centers\n",
        "clusters = gmeans_instance.get_clusters()\n",
        "centres = gmeans_instance.get_centers()\n",
        "centres = np.array([np.array(c) for c in centres])\n",
        "\n",
        "# Merge centres that are less than 2 pixel sizes apart\n",
        "max_distance = 2 * np.linalg.norm(pixels.pixel_size)\n",
        "centres_merged_labels = fcluster(linkage(centres), t = max_distance, criterion='distance')\n",
        "\n",
        "centres_merged = []\n",
        "for label in range(1, centres_merged_labels.max() + 1):\n",
        "    centre = centres[centres_merged_labels == label].mean(axis = 0)\n",
        "    centres_merged.append(centre)\n",
        "\n",
        "centres_merged = np.array(centres_merged)\n",
        "\n",
        "# Insert the tracer positions' timestamp at column 0\n",
        "centres_merged = np.insert(centres_merged, 0, lors[:, 0].mean(), axis = 1)\n",
        "samples_time = np.insert(samples_table, 0, lors[:, 0].mean(), axis = 1)\n",
        "\n",
        "centres_merged"
      ],
      "execution_count": 10,
      "outputs": [
        {
          "output_type": "execute_result",
          "data": {
            "text/plain": [
              "array([[  0.938     , 299.21052632, 236.05263158]])"
            ]
          },
          "metadata": {
            "tags": []
          },
          "execution_count": 10
        }
      ]
    },
    {
      "cell_type": "code",
      "metadata": {
        "colab": {
          "base_uri": "https://localhost:8080/",
          "height": 542
        },
        "id": "lt707wd1NMhQ",
        "outputId": "ab43ae29-3c8e-429e-f1ef-a3f2ac42657d"
      },
      "source": [
        "grapher = PlotlyGrapher2D()\n",
        "\n",
        "grapher.add_pixels(pixels)\n",
        "for cluster_indices in clusters:\n",
        "    grapher.add_points(samples_time[cluster_indices])\n",
        "\n",
        "grapher.add_points(centres_merged, color = \"red\", size = 15)\n",
        "\n",
        "grapher.show()"
      ],
      "execution_count": 11,
      "outputs": [
        {
          "output_type": "display_data",
          "data": {
            "text/html": [
              "<html>\n",
              "<head><meta charset=\"utf-8\" /></head>\n",
              "<body>\n",
              "    <div>\n",
              "            <script src=\"https://cdnjs.cloudflare.com/ajax/libs/mathjax/2.7.5/MathJax.js?config=TeX-AMS-MML_SVG\"></script><script type=\"text/javascript\">if (window.MathJax) {MathJax.Hub.Config({SVG: {font: \"STIX-Web\"}});}</script>\n",
              "                <script type=\"text/javascript\">window.PlotlyConfig = {MathJaxConfig: 'local'};</script>\n",
              "        <script src=\"https://cdn.plot.ly/plotly-latest.min.js\"></script>    \n",
              "            <div id=\"a0920cad-7f41-4c94-9aaa-4c49aae9c2f7\" class=\"plotly-graph-div\" style=\"height:525px; width:100%;\"></div>\n",
              "            <script type=\"text/javascript\">\n",
              "                \n",
              "                    window.PLOTLYENV=window.PLOTLYENV || {};\n",
              "                    \n",
              "                if (document.getElementById(\"a0920cad-7f41-4c94-9aaa-4c49aae9c2f7\")) {\n",
              "                    Plotly.newPlot(\n",
              "                        'a0920cad-7f41-4c94-9aaa-4c49aae9c2f7',\n",
              "                        [{\"colorscale\": [[0.0, \"#000004\"], [0.1111111111111111, \"#180f3d\"], [0.2222222222222222, \"#440f76\"], [0.3333333333333333, \"#721f81\"], [0.4444444444444444, \"#9e2f7f\"], [0.5555555555555556, \"#cd4071\"], [0.6666666666666666, \"#f1605d\"], [0.7777777777777778, \"#fd9668\"], [0.8888888888888888, \"#feca8d\"], [1.0, \"#fcfdbf\"]], \"transpose\": true, \"type\": \"heatmap\", \"x\": [15.0, 45.0, 75.0, 105.0, 135.0, 165.0, 195.0, 225.0, 255.0, 285.0, 315.0, 345.0, 375.0, 405.0, 435.0, 465.0, 495.0, 525.0, 555.0, 585.0], \"xaxis\": \"x\", \"xgap\": 0.0, \"y\": [15.0, 45.0, 75.0, 105.0, 135.0, 165.0, 195.0, 225.0, 255.0, 285.0, 315.0, 345.0, 375.0, 405.0, 435.0, 465.0, 495.0, 525.0, 555.0, 585.0], \"yaxis\": \"y\", \"ygap\": 0.0, \"z\": [[0.0, 0.0, 0.0, 0.0, 0.0, 0.0, 0.0, 0.0, 0.0, 0.0, 0.0, 0.0, 0.0, 0.0, 0.0, 0.0, 0.0, 0.0, 0.0, 0.0], [0.0, 0.0, 0.0, 0.0, 0.0, 0.0, 0.0, 0.0, 0.0, 0.0, 0.0, 0.0, 0.0, 0.0, 0.0, 0.0, 0.0, 0.0, 0.0, 0.0], [0.0, 0.0, 0.0, 0.0, 0.0, 0.0, 0.0, 0.0, 0.0, 0.0, 0.0, 0.0, 0.0, 0.0, 0.0, 0.0, 0.0, 0.0, 0.0, 0.0], [0.0, 0.0, 0.0, 0.0, 0.0, 14.0, 0.0, 0.0, 0.0, 0.0, 0.0, 0.0, 0.0, 0.0, 0.0, 0.0, 0.0, 0.0, 0.0, 0.0], [0.0, 0.0, 0.0, 0.0, 0.0, 13.0, 0.0, 0.0, 0.0, 0.0, 0.0, 0.0, 0.0, 0.0, 0.0, 0.0, 0.0, 0.0, 0.0, 0.0], [0.0, 0.0, 0.0, 0.0, 0.0, 0.0, 13.0, 0.0, 0.0, 0.0, 0.0, 0.0, 0.0, 0.0, 0.0, 0.0, 0.0, 0.0, 0.0, 0.0], [0.0, 0.0, 0.0, 0.0, 0.0, 0.0, 0.0, 13.0, 0.0, 0.0, 0.0, 0.0, 0.0, 0.0, 0.0, 0.0, 0.0, 0.0, 0.0, 0.0], [0.0, 0.0, 0.0, 0.0, 0.0, 0.0, 0.0, 18.0, 0.0, 0.0, 0.0, 0.0, 0.0, 0.0, 0.0, 0.0, 0.0, 0.0, 0.0, 0.0], [0.0, 0.0, 0.0, 0.0, 0.0, 0.0, 0.0, 19.0, 14.0, 0.0, 0.0, 0.0, 0.0, 0.0, 0.0, 0.0, 0.0, 0.0, 0.0, 0.0], [0.0, 0.0, 0.0, 0.0, 0.0, 0.0, 0.0, 19.0, 23.0, 0.0, 0.0, 0.0, 0.0, 0.0, 0.0, 0.0, 0.0, 0.0, 0.0, 0.0], [0.0, 0.0, 0.0, 0.0, 0.0, 0.0, 0.0, 18.0, 31.0, 0.0, 0.0, 0.0, 0.0, 0.0, 0.0, 0.0, 0.0, 0.0, 0.0, 0.0], [0.0, 0.0, 0.0, 0.0, 0.0, 0.0, 0.0, 14.0, 26.0, 0.0, 0.0, 0.0, 0.0, 0.0, 0.0, 0.0, 0.0, 0.0, 0.0, 0.0], [0.0, 0.0, 0.0, 0.0, 0.0, 0.0, 0.0, 15.0, 20.0, 0.0, 0.0, 0.0, 0.0, 0.0, 0.0, 0.0, 0.0, 0.0, 0.0, 0.0], [0.0, 0.0, 0.0, 0.0, 0.0, 0.0, 0.0, 0.0, 16.0, 15.0, 0.0, 0.0, 0.0, 0.0, 0.0, 0.0, 0.0, 0.0, 0.0, 0.0], [0.0, 0.0, 0.0, 0.0, 0.0, 0.0, 0.0, 0.0, 0.0, 14.0, 0.0, 0.0, 0.0, 0.0, 0.0, 0.0, 0.0, 0.0, 0.0, 0.0], [0.0, 0.0, 0.0, 0.0, 0.0, 0.0, 0.0, 0.0, 0.0, 16.0, 0.0, 0.0, 0.0, 0.0, 0.0, 0.0, 0.0, 0.0, 0.0, 0.0], [0.0, 0.0, 0.0, 0.0, 0.0, 0.0, 0.0, 0.0, 0.0, 0.0, 0.0, 0.0, 0.0, 0.0, 0.0, 0.0, 0.0, 0.0, 0.0, 0.0], [0.0, 0.0, 0.0, 0.0, 0.0, 0.0, 0.0, 0.0, 0.0, 0.0, 0.0, 0.0, 0.0, 0.0, 0.0, 0.0, 0.0, 0.0, 0.0, 0.0], [0.0, 0.0, 0.0, 0.0, 0.0, 0.0, 0.0, 0.0, 0.0, 0.0, 0.0, 0.0, 0.0, 0.0, 0.0, 0.0, 0.0, 0.0, 0.0, 0.0], [0.0, 0.0, 0.0, 0.0, 0.0, 0.0, 0.0, 0.0, 0.0, 0.0, 0.0, 0.0, 0.0, 0.0, 0.0, 0.0, 0.0, 0.0, 0.0, 0.0]]}, {\"marker\": {\"color\": [225.0, 225.0, 225.0, 225.0, 225.0, 225.0, 225.0, 225.0, 225.0, 225.0, 225.0, 225.0, 225.0, 225.0, 225.0], \"colorscale\": [[0.0, \"#000004\"], [0.1111111111111111, \"#180f3d\"], [0.2222222222222222, \"#440f76\"], [0.3333333333333333, \"#721f81\"], [0.4444444444444444, \"#9e2f7f\"], [0.5555555555555556, \"#cd4071\"], [0.6666666666666666, \"#f1605d\"], [0.7777777777777778, \"#fd9668\"], [0.8888888888888888, \"#feca8d\"], [1.0, \"#fcfdbf\"]], \"opacity\": 0.8, \"size\": 6.0}, \"mode\": \"markers\", \"type\": \"scatter\", \"x\": [375.0, 375.0, 375.0, 375.0, 375.0, 375.0, 375.0, 375.0, 375.0, 375.0, 375.0, 375.0, 375.0, 375.0, 375.0], \"xaxis\": \"x\", \"y\": [225.0, 225.0, 225.0, 225.0, 225.0, 225.0, 225.0, 225.0, 225.0, 225.0, 225.0, 225.0, 225.0, 225.0, 225.0], \"yaxis\": \"y\"}, {\"marker\": {\"color\": [255.0, 255.0, 255.0, 255.0, 255.0, 255.0, 255.0, 255.0, 255.0, 255.0, 255.0, 255.0, 255.0, 255.0, 255.0, 255.0, 255.0, 255.0, 255.0, 255.0], \"colorscale\": [[0.0, \"#000004\"], [0.1111111111111111, \"#180f3d\"], [0.2222222222222222, \"#440f76\"], [0.3333333333333333, \"#721f81\"], [0.4444444444444444, \"#9e2f7f\"], [0.5555555555555556, \"#cd4071\"], [0.6666666666666666, \"#f1605d\"], [0.7777777777777778, \"#fd9668\"], [0.8888888888888888, \"#feca8d\"], [1.0, \"#fcfdbf\"]], \"opacity\": 0.8, \"size\": 6.0}, \"mode\": \"markers\", \"type\": \"scatter\", \"x\": [375.0, 375.0, 375.0, 375.0, 375.0, 375.0, 375.0, 375.0, 375.0, 375.0, 375.0, 375.0, 375.0, 375.0, 375.0, 375.0, 375.0, 375.0, 375.0, 375.0], \"xaxis\": \"x\", \"y\": [255.0, 255.0, 255.0, 255.0, 255.0, 255.0, 255.0, 255.0, 255.0, 255.0, 255.0, 255.0, 255.0, 255.0, 255.0, 255.0, 255.0, 255.0, 255.0, 255.0], \"yaxis\": \"y\"}, {\"marker\": {\"color\": [255.0, 255.0, 255.0, 255.0, 255.0, 255.0, 255.0, 255.0, 255.0, 255.0, 255.0, 255.0, 255.0, 255.0, 255.0, 255.0], \"colorscale\": [[0.0, \"#000004\"], [0.1111111111111111, \"#180f3d\"], [0.2222222222222222, \"#440f76\"], [0.3333333333333333, \"#721f81\"], [0.4444444444444444, \"#9e2f7f\"], [0.5555555555555556, \"#cd4071\"], [0.6666666666666666, \"#f1605d\"], [0.7777777777777778, \"#fd9668\"], [0.8888888888888888, \"#feca8d\"], [1.0, \"#fcfdbf\"]], \"opacity\": 0.8, \"size\": 6.0}, \"mode\": \"markers\", \"type\": \"scatter\", \"x\": [405.0, 405.0, 405.0, 405.0, 405.0, 405.0, 405.0, 405.0, 405.0, 405.0, 405.0, 405.0, 405.0, 405.0, 405.0, 405.0], \"xaxis\": \"x\", \"y\": [255.0, 255.0, 255.0, 255.0, 255.0, 255.0, 255.0, 255.0, 255.0, 255.0, 255.0, 255.0, 255.0, 255.0, 255.0, 255.0], \"yaxis\": \"y\"}, {\"marker\": {\"color\": [285.0, 285.0, 285.0, 285.0, 285.0, 285.0, 285.0, 285.0, 285.0, 285.0, 285.0, 285.0, 285.0, 285.0], \"colorscale\": [[0.0, \"#000004\"], [0.1111111111111111, \"#180f3d\"], [0.2222222222222222, \"#440f76\"], [0.3333333333333333, \"#721f81\"], [0.4444444444444444, \"#9e2f7f\"], [0.5555555555555556, \"#cd4071\"], [0.6666666666666666, \"#f1605d\"], [0.7777777777777778, \"#fd9668\"], [0.8888888888888888, \"#feca8d\"], [1.0, \"#fcfdbf\"]], \"opacity\": 0.8, \"size\": 6.0}, \"mode\": \"markers\", \"type\": \"scatter\", \"x\": [435.0, 435.0, 435.0, 435.0, 435.0, 435.0, 435.0, 435.0, 435.0, 435.0, 435.0, 435.0, 435.0, 435.0], \"xaxis\": \"x\", \"y\": [285.0, 285.0, 285.0, 285.0, 285.0, 285.0, 285.0, 285.0, 285.0, 285.0, 285.0, 285.0, 285.0, 285.0], \"yaxis\": \"y\"}, {\"marker\": {\"color\": [285.0, 285.0, 285.0, 285.0, 285.0, 285.0, 285.0, 285.0, 285.0, 285.0, 285.0, 285.0, 285.0, 285.0, 285.0], \"colorscale\": [[0.0, \"#000004\"], [0.1111111111111111, \"#180f3d\"], [0.2222222222222222, \"#440f76\"], [0.3333333333333333, \"#721f81\"], [0.4444444444444444, \"#9e2f7f\"], [0.5555555555555556, \"#cd4071\"], [0.6666666666666666, \"#f1605d\"], [0.7777777777777778, \"#fd9668\"], [0.8888888888888888, \"#feca8d\"], [1.0, \"#fcfdbf\"]], \"opacity\": 0.8, \"size\": 6.0}, \"mode\": \"markers\", \"type\": \"scatter\", \"x\": [405.0, 405.0, 405.0, 405.0, 405.0, 405.0, 405.0, 405.0, 405.0, 405.0, 405.0, 405.0, 405.0, 405.0, 405.0], \"xaxis\": \"x\", \"y\": [285.0, 285.0, 285.0, 285.0, 285.0, 285.0, 285.0, 285.0, 285.0, 285.0, 285.0, 285.0, 285.0, 285.0, 285.0], \"yaxis\": \"y\"}, {\"marker\": {\"color\": [285.0, 285.0, 285.0, 285.0, 285.0, 285.0, 285.0, 285.0, 285.0, 285.0, 285.0, 285.0, 285.0, 285.0, 285.0, 285.0], \"colorscale\": [[0.0, \"#000004\"], [0.1111111111111111, \"#180f3d\"], [0.2222222222222222, \"#440f76\"], [0.3333333333333333, \"#721f81\"], [0.4444444444444444, \"#9e2f7f\"], [0.5555555555555556, \"#cd4071\"], [0.6666666666666666, \"#f1605d\"], [0.7777777777777778, \"#fd9668\"], [0.8888888888888888, \"#feca8d\"], [1.0, \"#fcfdbf\"]], \"opacity\": 0.8, \"size\": 6.0}, \"mode\": \"markers\", \"type\": \"scatter\", \"x\": [465.0, 465.0, 465.0, 465.0, 465.0, 465.0, 465.0, 465.0, 465.0, 465.0, 465.0, 465.0, 465.0, 465.0, 465.0, 465.0], \"xaxis\": \"x\", \"y\": [285.0, 285.0, 285.0, 285.0, 285.0, 285.0, 285.0, 285.0, 285.0, 285.0, 285.0, 285.0, 285.0, 285.0, 285.0, 285.0], \"yaxis\": \"y\"}, {\"marker\": {\"color\": [255.0, 255.0, 255.0, 255.0, 255.0, 255.0, 255.0, 255.0, 255.0, 255.0, 255.0, 255.0, 255.0, 255.0, 255.0, 255.0, 255.0, 255.0, 255.0, 255.0, 255.0, 255.0, 255.0, 255.0, 255.0, 255.0, 255.0, 255.0, 255.0, 255.0, 255.0], \"colorscale\": [[0.0, \"#000004\"], [0.1111111111111111, \"#180f3d\"], [0.2222222222222222, \"#440f76\"], [0.3333333333333333, \"#721f81\"], [0.4444444444444444, \"#9e2f7f\"], [0.5555555555555556, \"#cd4071\"], [0.6666666666666666, \"#f1605d\"], [0.7777777777777778, \"#fd9668\"], [0.8888888888888888, \"#feca8d\"], [1.0, \"#fcfdbf\"]], \"opacity\": 0.8, \"size\": 6.0}, \"mode\": \"markers\", \"type\": \"scatter\", \"x\": [315.0, 315.0, 315.0, 315.0, 315.0, 315.0, 315.0, 315.0, 315.0, 315.0, 315.0, 315.0, 315.0, 315.0, 315.0, 315.0, 315.0, 315.0, 315.0, 315.0, 315.0, 315.0, 315.0, 315.0, 315.0, 315.0, 315.0, 315.0, 315.0, 315.0, 315.0], \"xaxis\": \"x\", \"y\": [255.0, 255.0, 255.0, 255.0, 255.0, 255.0, 255.0, 255.0, 255.0, 255.0, 255.0, 255.0, 255.0, 255.0, 255.0, 255.0, 255.0, 255.0, 255.0, 255.0, 255.0, 255.0, 255.0, 255.0, 255.0, 255.0, 255.0, 255.0, 255.0, 255.0, 255.0], \"yaxis\": \"y\"}, {\"marker\": {\"color\": [255.0, 255.0, 255.0, 255.0, 255.0, 255.0, 255.0, 255.0, 255.0, 255.0, 255.0, 255.0, 255.0, 255.0, 255.0, 255.0, 255.0, 255.0, 255.0, 255.0, 255.0, 255.0, 255.0, 255.0, 255.0, 255.0], \"colorscale\": [[0.0, \"#000004\"], [0.1111111111111111, \"#180f3d\"], [0.2222222222222222, \"#440f76\"], [0.3333333333333333, \"#721f81\"], [0.4444444444444444, \"#9e2f7f\"], [0.5555555555555556, \"#cd4071\"], [0.6666666666666666, \"#f1605d\"], [0.7777777777777778, \"#fd9668\"], [0.8888888888888888, \"#feca8d\"], [1.0, \"#fcfdbf\"]], \"opacity\": 0.8, \"size\": 6.0}, \"mode\": \"markers\", \"type\": \"scatter\", \"x\": [345.0, 345.0, 345.0, 345.0, 345.0, 345.0, 345.0, 345.0, 345.0, 345.0, 345.0, 345.0, 345.0, 345.0, 345.0, 345.0, 345.0, 345.0, 345.0, 345.0, 345.0, 345.0, 345.0, 345.0, 345.0, 345.0], \"xaxis\": \"x\", \"y\": [255.0, 255.0, 255.0, 255.0, 255.0, 255.0, 255.0, 255.0, 255.0, 255.0, 255.0, 255.0, 255.0, 255.0, 255.0, 255.0, 255.0, 255.0, 255.0, 255.0, 255.0, 255.0, 255.0, 255.0, 255.0, 255.0], \"yaxis\": \"y\"}, {\"marker\": {\"color\": [225.0, 225.0, 225.0, 225.0, 225.0, 225.0, 225.0, 225.0, 225.0, 225.0, 225.0, 225.0, 225.0, 225.0, 225.0, 225.0, 225.0, 225.0], \"colorscale\": [[0.0, \"#000004\"], [0.1111111111111111, \"#180f3d\"], [0.2222222222222222, \"#440f76\"], [0.3333333333333333, \"#721f81\"], [0.4444444444444444, \"#9e2f7f\"], [0.5555555555555556, \"#cd4071\"], [0.6666666666666666, \"#f1605d\"], [0.7777777777777778, \"#fd9668\"], [0.8888888888888888, \"#feca8d\"], [1.0, \"#fcfdbf\"]], \"opacity\": 0.8, \"size\": 6.0}, \"mode\": \"markers\", \"type\": \"scatter\", \"x\": [315.0, 315.0, 315.0, 315.0, 315.0, 315.0, 315.0, 315.0, 315.0, 315.0, 315.0, 315.0, 315.0, 315.0, 315.0, 315.0, 315.0, 315.0], \"xaxis\": \"x\", \"y\": [225.0, 225.0, 225.0, 225.0, 225.0, 225.0, 225.0, 225.0, 225.0, 225.0, 225.0, 225.0, 225.0, 225.0, 225.0, 225.0, 225.0, 225.0], \"yaxis\": \"y\"}, {\"marker\": {\"color\": [225.0, 225.0, 225.0, 225.0, 225.0, 225.0, 225.0, 225.0, 225.0, 225.0, 225.0, 225.0, 225.0, 225.0], \"colorscale\": [[0.0, \"#000004\"], [0.1111111111111111, \"#180f3d\"], [0.2222222222222222, \"#440f76\"], [0.3333333333333333, \"#721f81\"], [0.4444444444444444, \"#9e2f7f\"], [0.5555555555555556, \"#cd4071\"], [0.6666666666666666, \"#f1605d\"], [0.7777777777777778, \"#fd9668\"], [0.8888888888888888, \"#feca8d\"], [1.0, \"#fcfdbf\"]], \"opacity\": 0.8, \"size\": 6.0}, \"mode\": \"markers\", \"type\": \"scatter\", \"x\": [345.0, 345.0, 345.0, 345.0, 345.0, 345.0, 345.0, 345.0, 345.0, 345.0, 345.0, 345.0, 345.0, 345.0], \"xaxis\": \"x\", \"y\": [225.0, 225.0, 225.0, 225.0, 225.0, 225.0, 225.0, 225.0, 225.0, 225.0, 225.0, 225.0, 225.0, 225.0], \"yaxis\": \"y\"}, {\"marker\": {\"color\": [255.0, 255.0, 255.0, 255.0, 255.0, 255.0, 255.0, 255.0, 255.0, 255.0, 255.0, 255.0, 255.0, 255.0, 255.0, 255.0, 255.0, 255.0, 255.0, 255.0, 255.0, 255.0, 255.0], \"colorscale\": [[0.0, \"#000004\"], [0.1111111111111111, \"#180f3d\"], [0.2222222222222222, \"#440f76\"], [0.3333333333333333, \"#721f81\"], [0.4444444444444444, \"#9e2f7f\"], [0.5555555555555556, \"#cd4071\"], [0.6666666666666666, \"#f1605d\"], [0.7777777777777778, \"#fd9668\"], [0.8888888888888888, \"#feca8d\"], [1.0, \"#fcfdbf\"]], \"opacity\": 0.8, \"size\": 6.0}, \"mode\": \"markers\", \"type\": \"scatter\", \"x\": [285.0, 285.0, 285.0, 285.0, 285.0, 285.0, 285.0, 285.0, 285.0, 285.0, 285.0, 285.0, 285.0, 285.0, 285.0, 285.0, 285.0, 285.0, 285.0, 285.0, 285.0, 285.0, 285.0], \"xaxis\": \"x\", \"y\": [255.0, 255.0, 255.0, 255.0, 255.0, 255.0, 255.0, 255.0, 255.0, 255.0, 255.0, 255.0, 255.0, 255.0, 255.0, 255.0, 255.0, 255.0, 255.0, 255.0, 255.0, 255.0, 255.0], \"yaxis\": \"y\"}, {\"marker\": {\"color\": [225.0, 225.0, 225.0, 225.0, 225.0, 225.0, 225.0, 225.0, 225.0, 225.0, 225.0, 225.0, 225.0, 225.0, 225.0, 225.0, 225.0, 225.0, 225.0], \"colorscale\": [[0.0, \"#000004\"], [0.1111111111111111, \"#180f3d\"], [0.2222222222222222, \"#440f76\"], [0.3333333333333333, \"#721f81\"], [0.4444444444444444, \"#9e2f7f\"], [0.5555555555555556, \"#cd4071\"], [0.6666666666666666, \"#f1605d\"], [0.7777777777777778, \"#fd9668\"], [0.8888888888888888, \"#feca8d\"], [1.0, \"#fcfdbf\"]], \"opacity\": 0.8, \"size\": 6.0}, \"mode\": \"markers\", \"type\": \"scatter\", \"x\": [285.0, 285.0, 285.0, 285.0, 285.0, 285.0, 285.0, 285.0, 285.0, 285.0, 285.0, 285.0, 285.0, 285.0, 285.0, 285.0, 285.0, 285.0, 285.0], \"xaxis\": \"x\", \"y\": [225.0, 225.0, 225.0, 225.0, 225.0, 225.0, 225.0, 225.0, 225.0, 225.0, 225.0, 225.0, 225.0, 225.0, 225.0, 225.0, 225.0, 225.0, 225.0], \"yaxis\": \"y\"}, {\"marker\": {\"color\": [255.0, 255.0, 255.0, 255.0, 255.0, 255.0, 255.0, 255.0, 255.0, 255.0, 255.0, 255.0, 255.0, 255.0], \"colorscale\": [[0.0, \"#000004\"], [0.1111111111111111, \"#180f3d\"], [0.2222222222222222, \"#440f76\"], [0.3333333333333333, \"#721f81\"], [0.4444444444444444, \"#9e2f7f\"], [0.5555555555555556, \"#cd4071\"], [0.6666666666666666, \"#f1605d\"], [0.7777777777777778, \"#fd9668\"], [0.8888888888888888, \"#feca8d\"], [1.0, \"#fcfdbf\"]], \"opacity\": 0.8, \"size\": 6.0}, \"mode\": \"markers\", \"type\": \"scatter\", \"x\": [255.0, 255.0, 255.0, 255.0, 255.0, 255.0, 255.0, 255.0, 255.0, 255.0, 255.0, 255.0, 255.0, 255.0], \"xaxis\": \"x\", \"y\": [255.0, 255.0, 255.0, 255.0, 255.0, 255.0, 255.0, 255.0, 255.0, 255.0, 255.0, 255.0, 255.0, 255.0], \"yaxis\": \"y\"}, {\"marker\": {\"color\": [225.0, 225.0, 225.0, 225.0, 225.0, 225.0, 225.0, 225.0, 225.0, 225.0, 225.0, 225.0, 225.0, 225.0, 225.0, 225.0, 225.0, 225.0, 225.0], \"colorscale\": [[0.0, \"#000004\"], [0.1111111111111111, \"#180f3d\"], [0.2222222222222222, \"#440f76\"], [0.3333333333333333, \"#721f81\"], [0.4444444444444444, \"#9e2f7f\"], [0.5555555555555556, \"#cd4071\"], [0.6666666666666666, \"#f1605d\"], [0.7777777777777778, \"#fd9668\"], [0.8888888888888888, \"#feca8d\"], [1.0, \"#fcfdbf\"]], \"opacity\": 0.8, \"size\": 6.0}, \"mode\": \"markers\", \"type\": \"scatter\", \"x\": [255.0, 255.0, 255.0, 255.0, 255.0, 255.0, 255.0, 255.0, 255.0, 255.0, 255.0, 255.0, 255.0, 255.0, 255.0, 255.0, 255.0, 255.0, 255.0], \"xaxis\": \"x\", \"y\": [225.0, 225.0, 225.0, 225.0, 225.0, 225.0, 225.0, 225.0, 225.0, 225.0, 225.0, 225.0, 225.0, 225.0, 225.0, 225.0, 225.0, 225.0, 225.0], \"yaxis\": \"y\"}, {\"marker\": {\"color\": [225.0, 225.0, 225.0, 225.0, 225.0, 225.0, 225.0, 225.0, 225.0, 225.0, 225.0, 225.0, 225.0], \"colorscale\": [[0.0, \"#000004\"], [0.1111111111111111, \"#180f3d\"], [0.2222222222222222, \"#440f76\"], [0.3333333333333333, \"#721f81\"], [0.4444444444444444, \"#9e2f7f\"], [0.5555555555555556, \"#cd4071\"], [0.6666666666666666, \"#f1605d\"], [0.7777777777777778, \"#fd9668\"], [0.8888888888888888, \"#feca8d\"], [1.0, \"#fcfdbf\"]], \"opacity\": 0.8, \"size\": 6.0}, \"mode\": \"markers\", \"type\": \"scatter\", \"x\": [195.0, 195.0, 195.0, 195.0, 195.0, 195.0, 195.0, 195.0, 195.0, 195.0, 195.0, 195.0, 195.0], \"xaxis\": \"x\", \"y\": [225.0, 225.0, 225.0, 225.0, 225.0, 225.0, 225.0, 225.0, 225.0, 225.0, 225.0, 225.0, 225.0], \"yaxis\": \"y\"}, {\"marker\": {\"color\": [225.0, 225.0, 225.0, 225.0, 225.0, 225.0, 225.0, 225.0, 225.0, 225.0, 225.0, 225.0, 225.0, 225.0, 225.0, 225.0, 225.0, 225.0], \"colorscale\": [[0.0, \"#000004\"], [0.1111111111111111, \"#180f3d\"], [0.2222222222222222, \"#440f76\"], [0.3333333333333333, \"#721f81\"], [0.4444444444444444, \"#9e2f7f\"], [0.5555555555555556, \"#cd4071\"], [0.6666666666666666, \"#f1605d\"], [0.7777777777777778, \"#fd9668\"], [0.8888888888888888, \"#feca8d\"], [1.0, \"#fcfdbf\"]], \"opacity\": 0.8, \"size\": 6.0}, \"mode\": \"markers\", \"type\": \"scatter\", \"x\": [225.0, 225.0, 225.0, 225.0, 225.0, 225.0, 225.0, 225.0, 225.0, 225.0, 225.0, 225.0, 225.0, 225.0, 225.0, 225.0, 225.0, 225.0], \"xaxis\": \"x\", \"y\": [225.0, 225.0, 225.0, 225.0, 225.0, 225.0, 225.0, 225.0, 225.0, 225.0, 225.0, 225.0, 225.0, 225.0, 225.0, 225.0, 225.0, 225.0], \"yaxis\": \"y\"}, {\"marker\": {\"color\": [195.0, 195.0, 195.0, 195.0, 195.0, 195.0, 195.0, 195.0, 195.0, 195.0, 195.0, 195.0, 195.0], \"colorscale\": [[0.0, \"#000004\"], [0.1111111111111111, \"#180f3d\"], [0.2222222222222222, \"#440f76\"], [0.3333333333333333, \"#721f81\"], [0.4444444444444444, \"#9e2f7f\"], [0.5555555555555556, \"#cd4071\"], [0.6666666666666666, \"#f1605d\"], [0.7777777777777778, \"#fd9668\"], [0.8888888888888888, \"#feca8d\"], [1.0, \"#fcfdbf\"]], \"opacity\": 0.8, \"size\": 6.0}, \"mode\": \"markers\", \"type\": \"scatter\", \"x\": [165.0, 165.0, 165.0, 165.0, 165.0, 165.0, 165.0, 165.0, 165.0, 165.0, 165.0, 165.0, 165.0], \"xaxis\": \"x\", \"y\": [195.0, 195.0, 195.0, 195.0, 195.0, 195.0, 195.0, 195.0, 195.0, 195.0, 195.0, 195.0, 195.0], \"yaxis\": \"y\"}, {\"marker\": {\"color\": [165.0, 165.0, 165.0, 165.0, 165.0, 165.0, 165.0, 165.0, 165.0, 165.0, 165.0, 165.0, 165.0, 165.0], \"colorscale\": [[0.0, \"#000004\"], [0.1111111111111111, \"#180f3d\"], [0.2222222222222222, \"#440f76\"], [0.3333333333333333, \"#721f81\"], [0.4444444444444444, \"#9e2f7f\"], [0.5555555555555556, \"#cd4071\"], [0.6666666666666666, \"#f1605d\"], [0.7777777777777778, \"#fd9668\"], [0.8888888888888888, \"#feca8d\"], [1.0, \"#fcfdbf\"]], \"opacity\": 0.8, \"size\": 6.0}, \"mode\": \"markers\", \"type\": \"scatter\", \"x\": [105.0, 105.0, 105.0, 105.0, 105.0, 105.0, 105.0, 105.0, 105.0, 105.0, 105.0, 105.0, 105.0, 105.0], \"xaxis\": \"x\", \"y\": [165.0, 165.0, 165.0, 165.0, 165.0, 165.0, 165.0, 165.0, 165.0, 165.0, 165.0, 165.0, 165.0, 165.0], \"yaxis\": \"y\"}, {\"marker\": {\"color\": [165.0, 165.0, 165.0, 165.0, 165.0, 165.0, 165.0, 165.0, 165.0, 165.0, 165.0, 165.0, 165.0], \"colorscale\": [[0.0, \"#000004\"], [0.1111111111111111, \"#180f3d\"], [0.2222222222222222, \"#440f76\"], [0.3333333333333333, \"#721f81\"], [0.4444444444444444, \"#9e2f7f\"], [0.5555555555555556, \"#cd4071\"], [0.6666666666666666, \"#f1605d\"], [0.7777777777777778, \"#fd9668\"], [0.8888888888888888, \"#feca8d\"], [1.0, \"#fcfdbf\"]], \"opacity\": 0.8, \"size\": 6.0}, \"mode\": \"markers\", \"type\": \"scatter\", \"x\": [135.0, 135.0, 135.0, 135.0, 135.0, 135.0, 135.0, 135.0, 135.0, 135.0, 135.0, 135.0, 135.0], \"xaxis\": \"x\", \"y\": [165.0, 165.0, 165.0, 165.0, 165.0, 165.0, 165.0, 165.0, 165.0, 165.0, 165.0, 165.0, 165.0], \"yaxis\": \"y\"}, {\"marker\": {\"color\": \"red\", \"opacity\": 0.8, \"size\": 15}, \"mode\": \"markers\", \"type\": \"scatter\", \"x\": [299.2105263157895], \"xaxis\": \"x\", \"y\": [236.05263157894737], \"yaxis\": \"y\"}],\n",
              "                        {\"annotations\": [{\"font\": {\"size\": 16}, \"showarrow\": false, \"text\": \"  \", \"x\": 0.5, \"xanchor\": \"center\", \"xref\": \"paper\", \"y\": 1.0, \"yanchor\": \"bottom\", \"yref\": \"paper\"}], \"margin\": {\"b\": 30, \"l\": 0, \"r\": 0, \"t\": 30}, \"showlegend\": false, \"template\": {\"data\": {\"bar\": [{\"error_x\": {\"color\": \"#2a3f5f\"}, \"error_y\": {\"color\": \"#2a3f5f\"}, \"marker\": {\"line\": {\"color\": \"#E5ECF6\", \"width\": 0.5}}, \"type\": \"bar\"}], \"barpolar\": [{\"marker\": {\"line\": {\"color\": \"#E5ECF6\", \"width\": 0.5}}, \"type\": \"barpolar\"}], \"carpet\": [{\"aaxis\": {\"endlinecolor\": \"#2a3f5f\", \"gridcolor\": \"white\", \"linecolor\": \"white\", \"minorgridcolor\": \"white\", \"startlinecolor\": \"#2a3f5f\"}, \"baxis\": {\"endlinecolor\": \"#2a3f5f\", \"gridcolor\": \"white\", \"linecolor\": \"white\", \"minorgridcolor\": \"white\", \"startlinecolor\": \"#2a3f5f\"}, \"type\": \"carpet\"}], \"choropleth\": [{\"colorbar\": {\"outlinewidth\": 0, \"ticks\": \"\"}, \"type\": \"choropleth\"}], \"contour\": [{\"colorbar\": {\"outlinewidth\": 0, \"ticks\": \"\"}, \"colorscale\": [[0.0, \"#0d0887\"], [0.1111111111111111, \"#46039f\"], [0.2222222222222222, \"#7201a8\"], [0.3333333333333333, \"#9c179e\"], [0.4444444444444444, \"#bd3786\"], [0.5555555555555556, \"#d8576b\"], [0.6666666666666666, \"#ed7953\"], [0.7777777777777778, \"#fb9f3a\"], [0.8888888888888888, \"#fdca26\"], [1.0, \"#f0f921\"]], \"type\": \"contour\"}], \"contourcarpet\": [{\"colorbar\": {\"outlinewidth\": 0, \"ticks\": \"\"}, \"type\": \"contourcarpet\"}], \"heatmap\": [{\"colorbar\": {\"outlinewidth\": 0, \"ticks\": \"\"}, \"colorscale\": [[0.0, \"#0d0887\"], [0.1111111111111111, \"#46039f\"], [0.2222222222222222, \"#7201a8\"], [0.3333333333333333, \"#9c179e\"], [0.4444444444444444, \"#bd3786\"], [0.5555555555555556, \"#d8576b\"], [0.6666666666666666, \"#ed7953\"], [0.7777777777777778, \"#fb9f3a\"], [0.8888888888888888, \"#fdca26\"], [1.0, \"#f0f921\"]], \"type\": \"heatmap\"}], \"heatmapgl\": [{\"colorbar\": {\"outlinewidth\": 0, \"ticks\": \"\"}, \"colorscale\": [[0.0, \"#0d0887\"], [0.1111111111111111, \"#46039f\"], [0.2222222222222222, \"#7201a8\"], [0.3333333333333333, \"#9c179e\"], [0.4444444444444444, \"#bd3786\"], [0.5555555555555556, \"#d8576b\"], [0.6666666666666666, \"#ed7953\"], [0.7777777777777778, \"#fb9f3a\"], [0.8888888888888888, \"#fdca26\"], [1.0, \"#f0f921\"]], \"type\": \"heatmapgl\"}], \"histogram\": [{\"marker\": {\"colorbar\": {\"outlinewidth\": 0, \"ticks\": \"\"}}, \"type\": \"histogram\"}], \"histogram2d\": [{\"colorbar\": {\"outlinewidth\": 0, \"ticks\": \"\"}, \"colorscale\": [[0.0, \"#0d0887\"], [0.1111111111111111, \"#46039f\"], [0.2222222222222222, \"#7201a8\"], [0.3333333333333333, \"#9c179e\"], [0.4444444444444444, \"#bd3786\"], [0.5555555555555556, \"#d8576b\"], [0.6666666666666666, \"#ed7953\"], [0.7777777777777778, \"#fb9f3a\"], [0.8888888888888888, \"#fdca26\"], [1.0, \"#f0f921\"]], \"type\": \"histogram2d\"}], \"histogram2dcontour\": [{\"colorbar\": {\"outlinewidth\": 0, \"ticks\": \"\"}, \"colorscale\": [[0.0, \"#0d0887\"], [0.1111111111111111, \"#46039f\"], [0.2222222222222222, \"#7201a8\"], [0.3333333333333333, \"#9c179e\"], [0.4444444444444444, \"#bd3786\"], [0.5555555555555556, \"#d8576b\"], [0.6666666666666666, \"#ed7953\"], [0.7777777777777778, \"#fb9f3a\"], [0.8888888888888888, \"#fdca26\"], [1.0, \"#f0f921\"]], \"type\": \"histogram2dcontour\"}], \"mesh3d\": [{\"colorbar\": {\"outlinewidth\": 0, \"ticks\": \"\"}, \"type\": \"mesh3d\"}], \"parcoords\": [{\"line\": {\"colorbar\": {\"outlinewidth\": 0, \"ticks\": \"\"}}, \"type\": \"parcoords\"}], \"pie\": [{\"automargin\": true, \"type\": \"pie\"}], \"scatter\": [{\"marker\": {\"colorbar\": {\"outlinewidth\": 0, \"ticks\": \"\"}}, \"type\": \"scatter\"}], \"scatter3d\": [{\"line\": {\"colorbar\": {\"outlinewidth\": 0, \"ticks\": \"\"}}, \"marker\": {\"colorbar\": {\"outlinewidth\": 0, \"ticks\": \"\"}}, \"type\": \"scatter3d\"}], \"scattercarpet\": [{\"marker\": {\"colorbar\": {\"outlinewidth\": 0, \"ticks\": \"\"}}, \"type\": \"scattercarpet\"}], \"scattergeo\": [{\"marker\": {\"colorbar\": {\"outlinewidth\": 0, \"ticks\": \"\"}}, \"type\": \"scattergeo\"}], \"scattergl\": [{\"marker\": {\"colorbar\": {\"outlinewidth\": 0, \"ticks\": \"\"}}, \"type\": \"scattergl\"}], \"scattermapbox\": [{\"marker\": {\"colorbar\": {\"outlinewidth\": 0, \"ticks\": \"\"}}, \"type\": \"scattermapbox\"}], \"scatterpolar\": [{\"marker\": {\"colorbar\": {\"outlinewidth\": 0, \"ticks\": \"\"}}, \"type\": \"scatterpolar\"}], \"scatterpolargl\": [{\"marker\": {\"colorbar\": {\"outlinewidth\": 0, \"ticks\": \"\"}}, \"type\": \"scatterpolargl\"}], \"scatterternary\": [{\"marker\": {\"colorbar\": {\"outlinewidth\": 0, \"ticks\": \"\"}}, \"type\": \"scatterternary\"}], \"surface\": [{\"colorbar\": {\"outlinewidth\": 0, \"ticks\": \"\"}, \"colorscale\": [[0.0, \"#0d0887\"], [0.1111111111111111, \"#46039f\"], [0.2222222222222222, \"#7201a8\"], [0.3333333333333333, \"#9c179e\"], [0.4444444444444444, \"#bd3786\"], [0.5555555555555556, \"#d8576b\"], [0.6666666666666666, \"#ed7953\"], [0.7777777777777778, \"#fb9f3a\"], [0.8888888888888888, \"#fdca26\"], [1.0, \"#f0f921\"]], \"type\": \"surface\"}], \"table\": [{\"cells\": {\"fill\": {\"color\": \"#EBF0F8\"}, \"line\": {\"color\": \"white\"}}, \"header\": {\"fill\": {\"color\": \"#C8D4E3\"}, \"line\": {\"color\": \"white\"}}, \"type\": \"table\"}]}, \"layout\": {\"annotationdefaults\": {\"arrowcolor\": \"#2a3f5f\", \"arrowhead\": 0, \"arrowwidth\": 1}, \"coloraxis\": {\"colorbar\": {\"outlinewidth\": 0, \"ticks\": \"\"}}, \"colorscale\": {\"diverging\": [[0, \"#8e0152\"], [0.1, \"#c51b7d\"], [0.2, \"#de77ae\"], [0.3, \"#f1b6da\"], [0.4, \"#fde0ef\"], [0.5, \"#f7f7f7\"], [0.6, \"#e6f5d0\"], [0.7, \"#b8e186\"], [0.8, \"#7fbc41\"], [0.9, \"#4d9221\"], [1, \"#276419\"]], \"sequential\": [[0.0, \"#0d0887\"], [0.1111111111111111, \"#46039f\"], [0.2222222222222222, \"#7201a8\"], [0.3333333333333333, \"#9c179e\"], [0.4444444444444444, \"#bd3786\"], [0.5555555555555556, \"#d8576b\"], [0.6666666666666666, \"#ed7953\"], [0.7777777777777778, \"#fb9f3a\"], [0.8888888888888888, \"#fdca26\"], [1.0, \"#f0f921\"]], \"sequentialminus\": [[0.0, \"#0d0887\"], [0.1111111111111111, \"#46039f\"], [0.2222222222222222, \"#7201a8\"], [0.3333333333333333, \"#9c179e\"], [0.4444444444444444, \"#bd3786\"], [0.5555555555555556, \"#d8576b\"], [0.6666666666666666, \"#ed7953\"], [0.7777777777777778, \"#fb9f3a\"], [0.8888888888888888, \"#fdca26\"], [1.0, \"#f0f921\"]]}, \"colorway\": [\"#636efa\", \"#EF553B\", \"#00cc96\", \"#ab63fa\", \"#FFA15A\", \"#19d3f3\", \"#FF6692\", \"#B6E880\", \"#FF97FF\", \"#FECB52\"], \"font\": {\"color\": \"#2a3f5f\"}, \"geo\": {\"bgcolor\": \"white\", \"lakecolor\": \"white\", \"landcolor\": \"#E5ECF6\", \"showlakes\": true, \"showland\": true, \"subunitcolor\": \"white\"}, \"hoverlabel\": {\"align\": \"left\"}, \"hovermode\": \"closest\", \"mapbox\": {\"style\": \"light\"}, \"paper_bgcolor\": \"white\", \"plot_bgcolor\": \"#E5ECF6\", \"polar\": {\"angularaxis\": {\"gridcolor\": \"white\", \"linecolor\": \"white\", \"ticks\": \"\"}, \"bgcolor\": \"#E5ECF6\", \"radialaxis\": {\"gridcolor\": \"white\", \"linecolor\": \"white\", \"ticks\": \"\"}}, \"scene\": {\"xaxis\": {\"backgroundcolor\": \"#E5ECF6\", \"gridcolor\": \"white\", \"gridwidth\": 2, \"linecolor\": \"white\", \"showbackground\": true, \"ticks\": \"\", \"zerolinecolor\": \"white\"}, \"yaxis\": {\"backgroundcolor\": \"#E5ECF6\", \"gridcolor\": \"white\", \"gridwidth\": 2, \"linecolor\": \"white\", \"showbackground\": true, \"ticks\": \"\", \"zerolinecolor\": \"white\"}, \"zaxis\": {\"backgroundcolor\": \"#E5ECF6\", \"gridcolor\": \"white\", \"gridwidth\": 2, \"linecolor\": \"white\", \"showbackground\": true, \"ticks\": \"\", \"zerolinecolor\": \"white\"}}, \"shapedefaults\": {\"line\": {\"color\": \"#2a3f5f\"}}, \"ternary\": {\"aaxis\": {\"gridcolor\": \"white\", \"linecolor\": \"white\", \"ticks\": \"\"}, \"baxis\": {\"gridcolor\": \"white\", \"linecolor\": \"white\", \"ticks\": \"\"}, \"bgcolor\": \"#E5ECF6\", \"caxis\": {\"gridcolor\": \"white\", \"linecolor\": \"white\", \"ticks\": \"\"}}, \"title\": {\"x\": 0.05}, \"xaxis\": {\"automargin\": true, \"gridcolor\": \"white\", \"linecolor\": \"white\", \"ticks\": \"\", \"title\": {\"standoff\": 15}, \"zerolinecolor\": \"white\", \"zerolinewidth\": 2}, \"yaxis\": {\"automargin\": true, \"gridcolor\": \"white\", \"linecolor\": \"white\", \"ticks\": \"\", \"title\": {\"standoff\": 15}, \"zerolinecolor\": \"white\", \"zerolinewidth\": 2}}}, \"xaxis\": {\"anchor\": \"y\", \"domain\": [0.0, 1.0], \"range\": [15.0, 585.0], \"title\": {\"text\": \"<i>x</i> (mm)\"}}, \"yaxis\": {\"anchor\": \"x\", \"domain\": [0.0, 1.0], \"scaleanchor\": \"x\", \"scaleratio\": 1, \"title\": {\"text\": \"<i>y</i> (mm)\"}}},\n",
              "                        {\"responsive\": true}\n",
              "                    ).then(function(){\n",
              "                            \n",
              "var gd = document.getElementById('a0920cad-7f41-4c94-9aaa-4c49aae9c2f7');\n",
              "var x = new MutationObserver(function (mutations, observer) {{\n",
              "        var display = window.getComputedStyle(gd).display;\n",
              "        if (!display || display === 'none') {{\n",
              "            console.log([gd, 'removed!']);\n",
              "            Plotly.purge(gd);\n",
              "            observer.disconnect();\n",
              "        }}\n",
              "}});\n",
              "\n",
              "// Listen for the removal of the full notebook cells\n",
              "var notebookContainer = gd.closest('#notebook-container');\n",
              "if (notebookContainer) {{\n",
              "    x.observe(notebookContainer, {childList: true});\n",
              "}}\n",
              "\n",
              "// Listen for the clearing of the current output cell\n",
              "var outputEl = gd.closest('.output');\n",
              "if (outputEl) {{\n",
              "    x.observe(outputEl, {childList: true});\n",
              "}}\n",
              "\n",
              "                        })\n",
              "                };\n",
              "                \n",
              "            </script>\n",
              "        </div>\n",
              "</body>\n",
              "</html>"
            ]
          },
          "metadata": {
            "tags": []
          }
        }
      ]
    },
    {
      "cell_type": "markdown",
      "metadata": {
        "id": "_nuR9SiQvc8o"
      },
      "source": [
        "# 3. Complete G-Means Code"
      ]
    },
    {
      "cell_type": "code",
      "metadata": {
        "colab": {
          "base_uri": "https://localhost:8080/"
        },
        "id": "IBql9Lr_vor5",
        "outputId": "845425cb-225d-4378-d314-a2e7fd01c147"
      },
      "source": [
        "# Read in a sample of experimental PEPT data from an online repository into a NumPy array\n",
        "import numpy as np\n",
        "import pept\n",
        "\n",
        "# Skip the file header's first 15 lines, then read in 50 LoRs\n",
        "lors_raw = pept.utilities.read_csv(\n",
        "    \"https://raw.githubusercontent.com/uob-positron-imaging-centre/example_data/master/sample_1p_fluidised_bed.csv\",\n",
        "    skiprows = 15,\n",
        "    nrows = 80_000,\n",
        ")\n",
        "\n",
        "# Insert columns for the z-coordinates\n",
        "head_separation = 600\n",
        "\n",
        "lors_raw = np.insert(lors_raw, 3, 0, axis = 1)\n",
        "lors_raw = np.insert(lors_raw, 6, head_separation, axis = 1)\n",
        "\n",
        "# Project the 3D lines onto the YZ plane for ease of analysis - i.e. select only columns\n",
        "# [time, y1, z1, y2, z2] and flip columns to get [time, x1, y1, x2, y2]\n",
        "lors = np.array(lors_raw[:, [0, 3, 2, 6, 5]])\n",
        "\n",
        "# Print the line of response (LoR) data\n",
        "lors"
      ],
      "execution_count": 12,
      "outputs": [
        {
          "output_type": "execute_result",
          "data": {
            "text/plain": [
              "array([[0.0000e+00, 0.0000e+00, 1.6870e+02, 6.0000e+02, 1.4280e+02],\n",
              "       [1.0000e-01, 0.0000e+00, 1.6760e+02, 6.0000e+02, 3.1390e+02],\n",
              "       [1.0000e-01, 0.0000e+00, 4.1000e+02, 6.0000e+02, 2.4010e+02],\n",
              "       ...,\n",
              "       [2.6443e+03, 0.0000e+00, 2.2480e+02, 6.0000e+02, 3.4280e+02],\n",
              "       [2.6444e+03, 0.0000e+00, 1.3690e+02, 6.0000e+02, 1.4750e+02],\n",
              "       [2.6444e+03, 0.0000e+00, 5.4220e+02, 6.0000e+02, 5.5280e+02]])"
            ]
          },
          "metadata": {
            "tags": []
          },
          "execution_count": 12
        }
      ]
    },
    {
      "cell_type": "code",
      "metadata": {
        "colab": {
          "base_uri": "https://localhost:8080/"
        },
        "id": "-3blQQ1bwscO",
        "outputId": "02d12ab6-d198-48db-f7d3-9237d85a6a7b"
      },
      "source": [
        "# Use the G-Means algorithm to track moving tracer\n",
        "from pyclustering.cluster.gmeans import gmeans\n",
        "from scipy.cluster.hierarchy import linkage, fcluster\n",
        "\n",
        "# User-definable G-Means settings\n",
        "fraction = 0.5              # Set all pixels lower than `fraction` of maximum pixel value to zero\n",
        "resolution = (100, 100)     # Number of pixels in each dimension\n",
        "sample_size = 100           # Number of LoRs in a sample\n",
        "\n",
        "sample_start = 0\n",
        "positions = []\n",
        "\n",
        "while sample_start + sample_size < len(lors):\n",
        "    sample = lors[sample_start:sample_start + sample_size]\n",
        "\n",
        "    # Pixellise sample of LoRs\n",
        "    pixels = pept.Pixels.from_lines(sample, resolution, verbose = False)\n",
        "\n",
        "    # Set all pixel values smaller than a `fraction` of the maximum `pixels` value to zero\n",
        "    threshold = fraction * float(pixels.max())\n",
        "    pixels[pixels < threshold] = 0.\n",
        "\n",
        "    # Write non-zero pixels as a data table, where the feature columns are the XY pixel positions.\n",
        "    origin = np.array([pixels.xlim[0], pixels.ylim[0]])\n",
        "\n",
        "    samples_table = []\n",
        "    for i in range(pixels.shape[0]):\n",
        "        for j in range(pixels.shape[1]):\n",
        "            # Repeat the number of data points in the `samples_table` by the pixel's value\n",
        "            for k in range(int(pixels[i, j])):\n",
        "                position = origin + pixels.pixel_size * ([i, j]) + pixels.pixel_size * 0.5\n",
        "                samples_table.append(position)\n",
        "\n",
        "    samples_table = np.array(samples_table)\n",
        "\n",
        "    # Run G-Means to cluster data into Gaussian partitions\n",
        "    gmeans_instance = gmeans(samples_table, repeat = 10).process()\n",
        "\n",
        "    # Extract clustering results: clusters and their centers\n",
        "    clusters = gmeans_instance.get_clusters()\n",
        "    centres = gmeans_instance.get_centers()\n",
        "    centres = np.array([np.array(c) for c in centres])\n",
        "\n",
        "    # Merge centres that are less than 2 pixel sizes apart\n",
        "    max_distance = 2 * np.linalg.norm(pixels.pixel_size)\n",
        "    centres_merged_labels = fcluster(linkage(centres), t = max_distance, criterion='distance')\n",
        "\n",
        "    centres_merged = []\n",
        "    for label in range(1, centres_merged_labels.max() + 1):\n",
        "        centre = centres[centres_merged_labels == label].mean(axis = 0)\n",
        "        centres_merged.append(centre)\n",
        "\n",
        "    centres_merged = np.array(centres_merged)\n",
        "\n",
        "    # Insert the tracer positions' timestamp at column 0\n",
        "    centres_merged = np.insert(centres_merged, 0, sample[:, 0].mean(), axis = 1)\n",
        "    samples_time = np.insert(samples_table, 0, sample[:, 0].mean(), axis = 1)\n",
        "\n",
        "    # Collect potitions found\n",
        "    positions.extend(centres_merged)\n",
        "\n",
        "    sample_start += sample_size\n",
        "\n",
        "positions = np.array(positions)\n",
        "positions"
      ],
      "execution_count": 13,
      "outputs": [
        {
          "output_type": "execute_result",
          "data": {
            "text/plain": [
              "array([[1.93100000e+00, 3.21545455e+02, 2.46272727e+02],\n",
              "       [5.87800000e+00, 3.10000000e+02, 2.47333333e+02],\n",
              "       [9.96600000e+00, 3.18000000e+02, 2.43000000e+02],\n",
              "       ...,\n",
              "       [2.63312800e+03, 3.05117647e+02, 2.94176471e+02],\n",
              "       [2.63674900e+03, 3.06000000e+02, 2.94000000e+02],\n",
              "       [2.63997100e+03, 3.07666667e+02, 2.93666667e+02]])"
            ]
          },
          "metadata": {
            "tags": []
          },
          "execution_count": 13
        }
      ]
    },
    {
      "cell_type": "code",
      "metadata": {
        "colab": {
          "base_uri": "https://localhost:8080/",
          "height": 542
        },
        "id": "VufIgIXsx0Xy",
        "outputId": "2d6aa349-78c6-4b14-a534-bf4c284c689f"
      },
      "source": [
        "from pept.visualisation import PlotlyGrapher2D\n",
        "\n",
        "grapher = PlotlyGrapher2D(\n",
        "    cols = 3,\n",
        "    subplot_titles = [\"First 400 LoRs\", \"High Pass Filtered Pixels\", \"Positions Found\"],\n",
        ")\n",
        "\n",
        "grapher.add_lines(lors[:400])\n",
        "grapher.add_pixels(pixels, col = 2)\n",
        "grapher.add_points(positions, col = 3)\n",
        "\n",
        "grapher.show()"
      ],
      "execution_count": 14,
      "outputs": [
        {
          "output_type": "display_data",
          "data": {
            "text/html": [
              "<html>\n",
              "<head><meta charset=\"utf-8\" /></head>\n",
              "<body>\n",
              "    <div>\n",
              "            <script src=\"https://cdnjs.cloudflare.com/ajax/libs/mathjax/2.7.5/MathJax.js?config=TeX-AMS-MML_SVG\"></script><script type=\"text/javascript\">if (window.MathJax) {MathJax.Hub.Config({SVG: {font: \"STIX-Web\"}});}</script>\n",
              "                <script type=\"text/javascript\">window.PlotlyConfig = {MathJaxConfig: 'local'};</script>\n",
              "        <script src=\"https://cdn.plot.ly/plotly-latest.min.js\"></script>    \n",
              "            <div id=\"3f23325b-eef8-44af-94c6-e88651789b83\" class=\"plotly-graph-div\" style=\"height:525px; width:100%;\"></div>\n",
              "            <script type=\"text/javascript\">\n",
              "                \n",
              "                    window.PLOTLYENV=window.PLOTLYENV || {};\n",
              "                    \n",
              "                if (document.getElementById(\"3f23325b-eef8-44af-94c6-e88651789b83\")) {\n",
              "                    Plotly.newPlot(\n",
              "                        '3f23325b-eef8-44af-94c6-e88651789b83',\n",
              "                        [{\"line\": {\"width\": 2.0}, \"mode\": \"lines\", \"opacity\": 0.6, \"type\": \"scatter\", \"x\": [0.0, 600.0, null, 0.0, 600.0, null, 0.0, 600.0, null, 0.0, 600.0, null, 0.0, 600.0, null, 0.0, 600.0, null, 0.0, 600.0, null, 0.0, 600.0, null, 0.0, 600.0, null, 0.0, 600.0, null, 0.0, 600.0, null, 0.0, 600.0, null, 0.0, 600.0, null, 0.0, 600.0, null, 0.0, 600.0, null, 0.0, 600.0, null, 0.0, 600.0, null, 0.0, 600.0, null, 0.0, 600.0, null, 0.0, 600.0, null, 0.0, 600.0, null, 0.0, 600.0, null, 0.0, 600.0, null, 0.0, 600.0, null, 0.0, 600.0, null, 0.0, 600.0, null, 0.0, 600.0, null, 0.0, 600.0, null, 0.0, 600.0, null, 0.0, 600.0, null, 0.0, 600.0, null, 0.0, 600.0, null, 0.0, 600.0, null, 0.0, 600.0, null, 0.0, 600.0, null, 0.0, 600.0, null, 0.0, 600.0, null, 0.0, 600.0, null, 0.0, 600.0, null, 0.0, 600.0, null, 0.0, 600.0, null, 0.0, 600.0, null, 0.0, 600.0, null, 0.0, 600.0, null, 0.0, 600.0, null, 0.0, 600.0, null, 0.0, 600.0, null, 0.0, 600.0, null, 0.0, 600.0, null, 0.0, 600.0, null, 0.0, 600.0, null, 0.0, 600.0, null, 0.0, 600.0, null, 0.0, 600.0, null, 0.0, 600.0, null, 0.0, 600.0, null, 0.0, 600.0, null, 0.0, 600.0, null, 0.0, 600.0, null, 0.0, 600.0, null, 0.0, 600.0, null, 0.0, 600.0, null, 0.0, 600.0, null, 0.0, 600.0, null, 0.0, 600.0, null, 0.0, 600.0, null, 0.0, 600.0, null, 0.0, 600.0, null, 0.0, 600.0, null, 0.0, 600.0, null, 0.0, 600.0, null, 0.0, 600.0, null, 0.0, 600.0, null, 0.0, 600.0, null, 0.0, 600.0, null, 0.0, 600.0, null, 0.0, 600.0, null, 0.0, 600.0, null, 0.0, 600.0, null, 0.0, 600.0, null, 0.0, 600.0, null, 0.0, 600.0, null, 0.0, 600.0, null, 0.0, 600.0, null, 0.0, 600.0, null, 0.0, 600.0, null, 0.0, 600.0, null, 0.0, 600.0, null, 0.0, 600.0, null, 0.0, 600.0, null, 0.0, 600.0, null, 0.0, 600.0, null, 0.0, 600.0, null, 0.0, 600.0, null, 0.0, 600.0, null, 0.0, 600.0, null, 0.0, 600.0, null, 0.0, 600.0, null, 0.0, 600.0, null, 0.0, 600.0, null, 0.0, 600.0, null, 0.0, 600.0, null, 0.0, 600.0, null, 0.0, 600.0, null, 0.0, 600.0, null, 0.0, 600.0, null, 0.0, 600.0, null, 0.0, 600.0, null, 0.0, 600.0, null, 0.0, 600.0, null, 0.0, 600.0, null, 0.0, 600.0, null, 0.0, 600.0, null, 0.0, 600.0, null, 0.0, 600.0, null, 0.0, 600.0, null, 0.0, 600.0, null, 0.0, 600.0, null, 0.0, 600.0, null, 0.0, 600.0, null, 0.0, 600.0, null, 0.0, 600.0, null, 0.0, 600.0, null, 0.0, 600.0, null, 0.0, 600.0, null, 0.0, 600.0, null, 0.0, 600.0, null, 0.0, 600.0, null, 0.0, 600.0, null, 0.0, 600.0, null, 0.0, 600.0, null, 0.0, 600.0, null, 0.0, 600.0, null, 0.0, 600.0, null, 0.0, 600.0, null, 0.0, 600.0, null, 0.0, 600.0, null, 0.0, 600.0, null, 0.0, 600.0, null, 0.0, 600.0, null, 0.0, 600.0, null, 0.0, 600.0, null, 0.0, 600.0, null, 0.0, 600.0, null, 0.0, 600.0, null, 0.0, 600.0, null, 0.0, 600.0, null, 0.0, 600.0, null, 0.0, 600.0, null, 0.0, 600.0, null, 0.0, 600.0, null, 0.0, 600.0, null, 0.0, 600.0, null, 0.0, 600.0, null, 0.0, 600.0, null, 0.0, 600.0, null, 0.0, 600.0, null, 0.0, 600.0, null, 0.0, 600.0, null, 0.0, 600.0, null, 0.0, 600.0, null, 0.0, 600.0, null, 0.0, 600.0, null, 0.0, 600.0, null, 0.0, 600.0, null, 0.0, 600.0, null, 0.0, 600.0, null, 0.0, 600.0, null, 0.0, 600.0, null, 0.0, 600.0, null, 0.0, 600.0, null, 0.0, 600.0, null, 0.0, 600.0, null, 0.0, 600.0, null, 0.0, 600.0, null, 0.0, 600.0, null, 0.0, 600.0, null, 0.0, 600.0, null, 0.0, 600.0, null, 0.0, 600.0, null, 0.0, 600.0, null, 0.0, 600.0, null, 0.0, 600.0, null, 0.0, 600.0, null, 0.0, 600.0, null, 0.0, 600.0, null, 0.0, 600.0, null, 0.0, 600.0, null, 0.0, 600.0, null, 0.0, 600.0, null, 0.0, 600.0, null, 0.0, 600.0, null, 0.0, 600.0, null, 0.0, 600.0, null, 0.0, 600.0, null, 0.0, 600.0, null, 0.0, 600.0, null, 0.0, 600.0, null, 0.0, 600.0, null, 0.0, 600.0, null, 0.0, 600.0, null, 0.0, 600.0, null, 0.0, 600.0, null, 0.0, 600.0, null, 0.0, 600.0, null, 0.0, 600.0, null, 0.0, 600.0, null, 0.0, 600.0, null, 0.0, 600.0, null, 0.0, 600.0, null, 0.0, 600.0, null, 0.0, 600.0, null, 0.0, 600.0, null, 0.0, 600.0, null, 0.0, 600.0, null, 0.0, 600.0, null, 0.0, 600.0, null, 0.0, 600.0, null, 0.0, 600.0, null, 0.0, 600.0, null, 0.0, 600.0, null, 0.0, 600.0, null, 0.0, 600.0, null, 0.0, 600.0, null, 0.0, 600.0, null, 0.0, 600.0, null, 0.0, 600.0, null, 0.0, 600.0, null, 0.0, 600.0, null, 0.0, 600.0, null, 0.0, 600.0, null, 0.0, 600.0, null, 0.0, 600.0, null, 0.0, 600.0, null, 0.0, 600.0, null, 0.0, 600.0, null, 0.0, 600.0, null, 0.0, 600.0, null, 0.0, 600.0, null, 0.0, 600.0, null, 0.0, 600.0, null, 0.0, 600.0, null, 0.0, 600.0, null, 0.0, 600.0, null, 0.0, 600.0, null, 0.0, 600.0, null, 0.0, 600.0, null, 0.0, 600.0, null, 0.0, 600.0, null, 0.0, 600.0, null, 0.0, 600.0, null, 0.0, 600.0, null, 0.0, 600.0, null, 0.0, 600.0, null, 0.0, 600.0, null, 0.0, 600.0, null, 0.0, 600.0, null, 0.0, 600.0, null, 0.0, 600.0, null, 0.0, 600.0, null, 0.0, 600.0, null, 0.0, 600.0, null, 0.0, 600.0, null, 0.0, 600.0, null, 0.0, 600.0, null, 0.0, 600.0, null, 0.0, 600.0, null, 0.0, 600.0, null, 0.0, 600.0, null, 0.0, 600.0, null, 0.0, 600.0, null, 0.0, 600.0, null, 0.0, 600.0, null, 0.0, 600.0, null, 0.0, 600.0, null, 0.0, 600.0, null, 0.0, 600.0, null, 0.0, 600.0, null, 0.0, 600.0, null, 0.0, 600.0, null, 0.0, 600.0, null, 0.0, 600.0, null, 0.0, 600.0, null, 0.0, 600.0, null, 0.0, 600.0, null, 0.0, 600.0, null, 0.0, 600.0, null, 0.0, 600.0, null, 0.0, 600.0, null, 0.0, 600.0, null, 0.0, 600.0, null, 0.0, 600.0, null, 0.0, 600.0, null, 0.0, 600.0, null, 0.0, 600.0, null, 0.0, 600.0, null, 0.0, 600.0, null, 0.0, 600.0, null, 0.0, 600.0, null, 0.0, 600.0, null, 0.0, 600.0, null, 0.0, 600.0, null, 0.0, 600.0, null, 0.0, 600.0, null, 0.0, 600.0, null, 0.0, 600.0, null, 0.0, 600.0, null, 0.0, 600.0, null, 0.0, 600.0, null, 0.0, 600.0, null, 0.0, 600.0, null, 0.0, 600.0, null, 0.0, 600.0, null, 0.0, 600.0, null, 0.0, 600.0, null, 0.0, 600.0, null, 0.0, 600.0, null, 0.0, 600.0, null, 0.0, 600.0, null, 0.0, 600.0, null, 0.0, 600.0, null, 0.0, 600.0, null, 0.0, 600.0, null, 0.0, 600.0, null, 0.0, 600.0, null, 0.0, 600.0, null, 0.0, 600.0, null, 0.0, 600.0, null, 0.0, 600.0, null, 0.0, 600.0, null, 0.0, 600.0, null, 0.0, 600.0, null, 0.0, 600.0, null, 0.0, 600.0, null, 0.0, 600.0, null, 0.0, 600.0, null, 0.0, 600.0, null, 0.0, 600.0, null, 0.0, 600.0, null, 0.0, 600.0, null, 0.0, 600.0, null, 0.0, 600.0, null, 0.0, 600.0, null, 0.0, 600.0, null, 0.0, 600.0, null, 0.0, 600.0, null, 0.0, 600.0, null, 0.0, 600.0, null, 0.0, 600.0, null, 0.0, 600.0, null, 0.0, 600.0, null, 0.0, 600.0, null, 0.0, 600.0, null, 0.0, 600.0, null, 0.0, 600.0, null, 0.0, 600.0, null, 0.0, 600.0, null, 0.0, 600.0, null, 0.0, 600.0, null, 0.0, 600.0, null, 0.0, 600.0, null, 0.0, 600.0, null, 0.0, 600.0, null, 0.0, 600.0, null, 0.0, 600.0, null, 0.0, 600.0, null, 0.0, 600.0, null, 0.0, 600.0, null, 0.0, 600.0, null, 0.0, 600.0, null, 0.0, 600.0, null, 0.0, 600.0, null, 0.0, 600.0, null, 0.0, 600.0, null, 0.0, 600.0, null, 0.0, 600.0, null, 0.0, 600.0, null, 0.0, 600.0, null, 0.0, 600.0, null, 0.0, 600.0, null, 0.0, 600.0, null, 0.0, 600.0, null, 0.0, 600.0, null, 0.0, 600.0, null, 0.0, 600.0, null, 0.0, 600.0, null, 0.0, 600.0, null, 0.0, 600.0, null, 0.0, 600.0, null, 0.0, 600.0, null, 0.0, 600.0, null, 0.0, 600.0, null, 0.0, 600.0, null, 0.0, 600.0, null, 0.0, 600.0, null, 0.0, 600.0, null, 0.0, 600.0, null, 0.0, 600.0, null, 0.0, 600.0, null, 0.0, 600.0, null], \"xaxis\": \"x\", \"y\": [168.7, 142.8, null, 167.6, 313.9, null, 410.0, 240.1, null, 296.2, 452.5, null, 115.1, 353.4, null, 132.2, 266.1, null, 373.5, 131.0, null, 111.5, 353.4, null, 209.4, 280.8, null, 274.9, 306.2, null, 238.9, 168.1, null, 428.3, 70.2, null, 133.3, 349.9, null, 305.0, 103.2, null, 92.0, 392.9, null, 185.9, 302.7, null, 185.3, 285.0, null, 245.4, 257.2, null, 112.7, 394.1, null, 171.1, 302.7, null, 390.6, 254.9, null, 47.2, 413.6, null, 341.0, 132.8, null, 126.3, 345.1, null, 434.8, 72.0, null, 335.1, 215.4, null, 276.7, 195.3, null, 189.4, 295.6, null, 305.0, 185.9, null, 430.1, 135.7, null, 446.6, 64.3, null, 174.1, 71.4, null, 194.1, 120.4, null, 116.2, 351.0, null, 230.1, 253.7, null, 276.7, 220.1, null, 296.2, 194.1, null, 50.2, 376.4, null, 300.3, 197.6, null, 103.2, 136.9, null, 404.7, 96.8, null, 439.5, 65.5, null, 259.0, 290.3, null, 167.6, 227.7, null, 282.6, 208.9, null, 227.7, 430.1, null, 277.3, 395.3, null, 165.8, 310.3, null, 154.6, 322.7, null, 76.1, 506.2, null, 177.0, 378.8, null, 333.9, 145.1, null, 336.3, 159.3, null, 328.6, 174.1, null, 302.7, 368.2, null, 437.2, 72.0, null, 221.2, 557.0, null, 406.5, 90.3, null, 240.1, 251.9, null, 77.3, 306.8, null, 247.2, 255.5, null, 126.8, 358.7, null, 119.8, 349.3, null, 456.1, 316.8, null, 362.3, 73.8, null, 440.1, 80.8, null, 86.1, 382.9, null, 69.6, 342.8, null, 503.9, 266.7, null, 424.8, 252.5, null, 195.3, 286.1, null, 152.2, 322.7, null, 209.4, 194.1, null, 246.6, 251.3, null, 93.2, 371.7, null, 313.9, 223.6, null, 171.7, 296.8, null, 207.1, 285.6, null, 247.8, 130.4, null, 388.2, 159.9, null, 317.4, 172.9, null, 273.2, 197.1, null, 457.8, 62.0, null, 413.6, 439.0, null, 262.0, 149.3, null, 263.7, 383.5, null, 260.8, 360.5, null, 380.0, 107.4, null, 125.7, 497.4, null, 440.7, 72.0, null, 322.1, 182.3, null, 165.8, 307.4, null, 279.7, 222.4, null, 283.2, 452.5, null, 172.9, 290.9, null, 363.4, 146.9, null, 237.8, 151.6, null, 173.5, 306.8, null, 200.6, 300.3, null, 112.1, 395.9, null, 57.8, 405.9, null, 410.0, 92.0, null, 499.1, 295.0, null, 275.5, 262.5, null, 279.7, 248.4, null, 98.5, 311.5, null, 44.8, 269.6, null, 98.5, 292.0, null, 450.8, 49.0, null, 91.4, 368.8, null, 105.6, 369.9, null, 172.3, 367.6, null, 144.6, 357.0, null, 453.7, 215.9, null, 250.8, 244.9, null, 396.5, 92.0, null, 400.0, 91.4, null, 441.3, 306.8, null, 436.0, 50.2, null, 348.7, 162.8, null, 390.0, 115.1, null, 342.2, 160.5, null, 341.0, 150.4, null, 181.1, 303.3, null, 369.3, 123.9, null, 254.3, 234.8, null, 146.9, 384.1, null, 381.1, 139.8, null, 210.0, 50.2, null, 348.7, 149.9, null, 54.3, 113.9, null, 148.7, 338.7, null, 251.3, 387.0, null, 158.1, 206.5, null, 146.3, 446.0, null, 293.8, 179.9, null, 283.8, 210.0, null, 249.0, 238.4, null, 417.1, 89.1, null, 343.4, 121.5, null, 374.6, 134.5, null, 391.2, 111.5, null, 306.2, 174.6, null, 83.8, 357.5, null, 338.7, 165.2, null, 402.4, 112.7, null, 141.6, 338.7, null, 368.8, 207.1, null, 96.2, 191.8, null, 454.3, 57.2, null, 158.1, 322.1, null, 376.4, 116.8, null, 222.4, 263.7, null, 273.8, 299.1, null, 397.7, 270.2, null, 367.0, 150.4, null, 465.5, 60.2, null, 331.6, 420.1, null, 185.3, 295.6, null, 258.4, 299.7, null, 73.8, 398.8, null, 263.7, 226.6, null, 125.7, 298.5, null, 59.0, 337.5, null, 440.7, 72.6, null, 308.0, 179.9, null, 290.3, 206.5, null, 398.8, 87.3, null, 207.1, 240.7, null, 194.7, 337.5, null, 227.7, 265.5, null, 270.8, 99.1, null, 530.4, 289.1, null, 557.0, 486.8, null, 517.4, 148.7, null, 511.5, 165.2, null, 273.2, 330.4, null, 206.5, 263.1, null, 163.4, 314.5, null, 182.9, 299.1, null, 340.4, 171.7, null, 135.7, 335.7, null, 273.2, 228.9, null, 267.3, 231.3, null, 181.7, 303.9, null, 228.9, 257.8, null, 439.5, 64.9, null, 96.8, 404.7, null, 360.5, 145.7, null, 146.9, 218.9, null, 187.0, 298.0, null, 385.3, 102.7, null, 450.8, 54.3, null, 177.6, 309.8, null, 392.9, 113.9, null, 192.3, 233.1, null, 378.8, 405.3, null, 300.9, 187.0, null, 517.4, 210.0, null, 165.8, 202.4, null, 66.7, 401.8, null, 374.6, 201.8, null, 309.8, 256.6, null, 213.0, 270.2, null, 425.4, 71.4, null, 44.8, 422.4, null, 324.5, 169.3, null, 148.1, 369.3, null, 177.0, 480.9, null, 99.7, 296.2, null, 90.9, 370.5, null, 388.2, 282.6, null, 55.5, 402.4, null, 232.5, 362.3, null, 120.4, 351.6, null, 249.0, 237.2, null, 416.5, 99.1, null, 423.0, 67.3, null, 352.8, 151.6, null, 558.7, 295.6, null, 172.9, 361.7, null, 251.9, 231.9, null, 322.1, 148.1, null, 368.2, 142.2, null, 54.3, 397.7, null, 143.4, 443.1, null, 390.0, 110.3, null, 57.2, 417.1, null, 265.5, 328.0, null, 377.6, 191.2, null, 190.6, 291.5, null, 79.1, 365.2, null, 378.2, 198.2, null, 266.1, 226.6, null, 171.7, 305.0, null, 454.3, 56.0, null, 82.0, 274.9, null, 277.3, 212.4, null, 332.2, 288.5, null, 153.4, 238.9, null, 256.1, 418.3, null, 259.0, 228.3, null, 174.6, 554.6, null, 99.7, 290.9, null, 506.8, 184.7, null, 110.3, 88.5, null, 219.5, 264.9, null, 318.0, 174.6, null, 381.1, 253.7, null, 365.8, 251.3, null, 354.0, 336.3, null, 374.6, 128.6, null, 253.1, 236.6, null, 44.8, 284.4, null, 286.7, 405.9, null, 233.1, 172.3, null, 272.6, 513.9, null, 155.8, 398.8, null, 140.4, 319.8, null, 369.3, 134.5, null, 306.8, 324.5, null, 56.6, 309.8, null, 230.7, 341.0, null, 72.6, 319.8, null, 441.9, 233.6, null, 307.4, 180.5, null, 293.8, 198.2, null, 311.5, 175.2, null, 449.6, 56.0, null, 65.5, 408.3, null, 106.2, 547.5, null, 273.8, 218.3, null, 323.9, 484.4, null, 177.0, 300.9, null, 419.5, 81.4, null, 369.3, 113.9, null, 348.1, 495.6, null, 441.3, 64.3, null, 88.5, 351.6, null, 184.7, 296.2, null, 100.9, 238.4, null, 428.3, 75.5, null, 285.6, 440.7, null, 254.3, 234.2, null, 430.7, 371.1, null, 198.2, 282.6, null, 496.8, 224.2, null, 469.6, 243.1, null, 371.7, 132.8, null, 223.6, 265.5, null, 372.3, 464.3, null, 512.7, 548.1, null, 244.3, 226.6, null, 211.8, 231.3, null, 237.2, 145.7, null, 361.1, 150.4, null, 424.8, 75.5, null, 57.2, 458.4, null, 173.5, 306.2, null, 400.0, 100.3, null, 346.3, 153.4, null, 213.0, 270.8, null, 359.3, 136.3, null, 103.8, 344.6, null, 164.0, 311.5, null, 344.6, 493.8, null, 265.5, 231.9, null, 134.5, 356.4, null, 305.6, 182.9, null, 361.7, 133.9, null, 367.6, 123.3, null, 166.4, 299.7, null, 146.3, 324.5, null, 227.1, 516.8, null, 208.3, 270.2, null, 247.2, 187.0, null, 221.8, 191.2, null, 316.2, 181.7, null, 400.0, 109.7, null, 175.8, 297.4, null, 140.4, 413.0, null, 182.9, 304.4, null, 268.5, 272.6, null, 460.8, 49.0, null, 395.9, 110.3, null, 335.1, 171.7, null, 366.4, 279.1, null, 105.0, 346.9, null, 309.8, 336.3, null, 54.3, 323.3, null, 247.8, 112.7, null, 418.3, 97.9, null, 162.8, 326.3, null, 354.0, 90.3, null, 301.5, 172.9, null, 221.2, 262.0, null, 105.0, 513.9, null, 317.4, 248.4, null, 323.9, 194.7, null, 391.2, 115.6, null, 185.3, 288.5, null, 55.5, 407.7, null, 200.6, 116.8, null, 59.0, 318.6, null, 387.6, 106.8, null, 389.4, 135.7, null, 311.5, 221.8, null, 276.1, 220.7, null, 445.5, 365.2, null, 95.0, 236.0, null, 238.4, 261.4, null, 397.7, 284.4, null, 216.5, 271.4, null, 184.7, 280.8, null, 388.8, 366.4, null, 286.7, 264.3, null, 332.2, 165.8, null, 73.2, 381.7, null, 203.6, 277.9, null, 385.3, 115.6, null, 198.2, 479.1, null, 227.1, 417.1, null, 171.7, 298.0, null, 91.4, 377.6, null, 228.9, 259.0, null, 338.1, 176.4, null, 128.0, 517.4, null, 394.1, 167.6, null, 395.9, 85.6, null, 272.0, 223.6, null, 212.4, 118.6, null, 405.9, 151.6, null, 444.9, 262.5, null, 119.2, 257.8, null, 208.9, 392.4, null, 257.8, 279.1, null, 57.8, 255.5, null, 326.9, 319.2, null, 217.7, 422.4, null, 222.4, 271.4, null, 108.6, 380.0, null, 435.4, 71.4, null, 306.8, 190.0, null, 279.7, 257.8, null, 195.3, 289.1, null, 188.2, 293.2, null, 86.1, 382.3, null, 105.0, 379.4, null, 186.4, 294.4, null, 241.3, 466.1, null, 277.9, 221.2, null, 346.3, 231.9, null, 234.8, 249.6, null, 214.2, 274.4, null, 100.9, 184.1, null, 250.2, 234.8, null, 167.6, 106.2, null, 156.4, 329.8, null, 133.9, 342.2, null, 146.3, 513.3, null], \"yaxis\": \"y\"}, {\"colorscale\": [[0.0, \"#000004\"], [0.1111111111111111, \"#180f3d\"], [0.2222222222222222, \"#440f76\"], [0.3333333333333333, \"#721f81\"], [0.4444444444444444, \"#9e2f7f\"], [0.5555555555555556, \"#cd4071\"], [0.6666666666666666, \"#f1605d\"], [0.7777777777777778, \"#fd9668\"], [0.8888888888888888, \"#feca8d\"], [1.0, \"#fcfdbf\"]], \"transpose\": true, \"type\": \"heatmap\", \"x\": [3.0, 9.0, 15.0, 21.0, 27.0, 33.0, 39.0, 45.0, 51.0, 57.0, 63.0, 69.0, 75.0, 81.0, 87.0, 93.0, 99.0, 105.0, 111.0, 117.0, 123.0, 129.0, 135.0, 141.0, 147.0, 153.0, 159.0, 165.0, 171.0, 177.0, 183.0, 189.0, 195.0, 201.0, 207.0, 213.0, 219.0, 225.0, 231.0, 237.0, 243.0, 249.0, 255.0, 261.0, 267.0, 273.0, 279.0, 285.0, 291.0, 297.0, 303.0, 309.0, 315.0, 321.0, 327.0, 333.0, 339.0, 345.0, 351.0, 357.0, 363.0, 369.0, 375.0, 381.0, 387.0, 393.0, 399.0, 405.0, 411.0, 417.0, 423.0, 429.0, 435.0, 441.0, 447.0, 453.0, 459.0, 465.0, 471.0, 477.0, 483.0, 489.0, 495.0, 501.0, 507.0, 513.0, 519.0, 525.0, 531.0, 537.0, 543.0, 549.0, 555.0, 561.0, 567.0, 573.0, 579.0, 585.0, 591.0, 597.0], \"xaxis\": \"x2\", \"xgap\": 0.0, \"y\": [3.0, 9.0, 15.0, 21.0, 27.0, 33.0, 39.0, 45.0, 51.0, 57.0, 63.0, 69.0, 75.0, 81.0, 87.0, 93.0, 99.0, 105.0, 111.0, 117.0, 123.0, 129.0, 135.0, 141.0, 147.0, 153.0, 159.0, 165.0, 171.0, 177.0, 183.0, 189.0, 195.0, 201.0, 207.0, 213.0, 219.0, 225.0, 231.0, 237.0, 243.0, 249.0, 255.0, 261.0, 267.0, 273.0, 279.0, 285.0, 291.0, 297.0, 303.0, 309.0, 315.0, 321.0, 327.0, 333.0, 339.0, 345.0, 351.0, 357.0, 363.0, 369.0, 375.0, 381.0, 387.0, 393.0, 399.0, 405.0, 411.0, 417.0, 423.0, 429.0, 435.0, 441.0, 447.0, 453.0, 459.0, 465.0, 471.0, 477.0, 483.0, 489.0, 495.0, 501.0, 507.0, 513.0, 519.0, 525.0, 531.0, 537.0, 543.0, 549.0, 555.0, 561.0, 567.0, 573.0, 579.0, 585.0, 591.0, 597.0], \"yaxis\": \"y2\", \"ygap\": 0.0, \"z\": [[0.0, 0.0, 0.0, 0.0, 0.0, 0.0, 0.0, 0.0, 0.0, 0.0, 0.0, 0.0, 0.0, 0.0, 0.0, 0.0, 0.0, 0.0, 0.0, 0.0, 0.0, 0.0, 0.0, 0.0, 0.0, 0.0, 0.0, 0.0, 0.0, 0.0, 0.0, 0.0, 0.0, 0.0, 0.0, 0.0, 0.0, 0.0, 0.0, 0.0, 0.0, 0.0, 0.0, 0.0, 0.0, 0.0, 0.0, 0.0, 0.0, 0.0, 0.0, 0.0, 0.0, 0.0, 0.0, 0.0, 0.0, 0.0, 0.0, 0.0, 0.0, 0.0, 0.0, 0.0, 0.0, 0.0, 0.0, 0.0, 0.0, 0.0, 0.0, 0.0, 0.0, 0.0, 0.0, 0.0, 0.0, 0.0, 0.0, 0.0, 0.0, 0.0, 0.0, 0.0, 0.0, 0.0, 0.0, 0.0, 0.0, 0.0, 0.0, 0.0, 0.0, 0.0, 0.0, 0.0, 0.0, 0.0, 0.0, 0.0], [0.0, 0.0, 0.0, 0.0, 0.0, 0.0, 0.0, 0.0, 0.0, 0.0, 0.0, 0.0, 0.0, 0.0, 0.0, 0.0, 0.0, 0.0, 0.0, 0.0, 0.0, 0.0, 0.0, 0.0, 0.0, 0.0, 0.0, 0.0, 0.0, 0.0, 0.0, 0.0, 0.0, 0.0, 0.0, 0.0, 0.0, 0.0, 0.0, 0.0, 0.0, 0.0, 0.0, 0.0, 0.0, 0.0, 0.0, 0.0, 0.0, 0.0, 0.0, 0.0, 0.0, 0.0, 0.0, 0.0, 0.0, 0.0, 0.0, 0.0, 0.0, 0.0, 0.0, 0.0, 0.0, 0.0, 0.0, 0.0, 0.0, 0.0, 0.0, 0.0, 0.0, 0.0, 0.0, 0.0, 0.0, 0.0, 0.0, 0.0, 0.0, 0.0, 0.0, 0.0, 0.0, 0.0, 0.0, 0.0, 0.0, 0.0, 0.0, 0.0, 0.0, 0.0, 0.0, 0.0, 0.0, 0.0, 0.0, 0.0], [0.0, 0.0, 0.0, 0.0, 0.0, 0.0, 0.0, 0.0, 0.0, 0.0, 0.0, 0.0, 0.0, 0.0, 0.0, 0.0, 0.0, 0.0, 0.0, 0.0, 0.0, 0.0, 0.0, 0.0, 0.0, 0.0, 0.0, 0.0, 0.0, 0.0, 0.0, 0.0, 0.0, 0.0, 0.0, 0.0, 0.0, 0.0, 0.0, 0.0, 0.0, 0.0, 0.0, 0.0, 0.0, 0.0, 0.0, 0.0, 0.0, 0.0, 0.0, 0.0, 0.0, 0.0, 0.0, 0.0, 0.0, 0.0, 0.0, 0.0, 0.0, 0.0, 0.0, 0.0, 0.0, 0.0, 0.0, 0.0, 0.0, 0.0, 0.0, 0.0, 0.0, 0.0, 0.0, 0.0, 0.0, 0.0, 0.0, 0.0, 0.0, 0.0, 0.0, 0.0, 0.0, 0.0, 0.0, 0.0, 0.0, 0.0, 0.0, 0.0, 0.0, 0.0, 0.0, 0.0, 0.0, 0.0, 0.0, 0.0], [0.0, 0.0, 0.0, 0.0, 0.0, 0.0, 0.0, 0.0, 0.0, 0.0, 0.0, 0.0, 0.0, 0.0, 0.0, 0.0, 0.0, 0.0, 0.0, 0.0, 0.0, 0.0, 0.0, 0.0, 0.0, 0.0, 0.0, 0.0, 0.0, 0.0, 0.0, 0.0, 0.0, 0.0, 0.0, 0.0, 0.0, 0.0, 0.0, 0.0, 0.0, 0.0, 0.0, 0.0, 0.0, 0.0, 0.0, 0.0, 0.0, 0.0, 0.0, 0.0, 0.0, 0.0, 0.0, 0.0, 0.0, 0.0, 0.0, 0.0, 0.0, 0.0, 0.0, 0.0, 0.0, 0.0, 0.0, 0.0, 0.0, 0.0, 0.0, 0.0, 0.0, 0.0, 0.0, 0.0, 0.0, 0.0, 0.0, 0.0, 0.0, 0.0, 0.0, 0.0, 0.0, 0.0, 0.0, 0.0, 0.0, 0.0, 0.0, 0.0, 0.0, 0.0, 0.0, 0.0, 0.0, 0.0, 0.0, 0.0], [0.0, 0.0, 0.0, 0.0, 0.0, 0.0, 0.0, 0.0, 0.0, 0.0, 0.0, 0.0, 0.0, 0.0, 0.0, 0.0, 0.0, 0.0, 0.0, 0.0, 0.0, 0.0, 0.0, 0.0, 0.0, 0.0, 0.0, 0.0, 0.0, 0.0, 0.0, 0.0, 0.0, 0.0, 0.0, 0.0, 0.0, 0.0, 0.0, 0.0, 0.0, 0.0, 0.0, 0.0, 0.0, 0.0, 0.0, 0.0, 0.0, 0.0, 0.0, 0.0, 0.0, 0.0, 0.0, 0.0, 0.0, 0.0, 0.0, 0.0, 0.0, 0.0, 0.0, 0.0, 0.0, 0.0, 0.0, 0.0, 0.0, 0.0, 0.0, 0.0, 0.0, 0.0, 0.0, 0.0, 0.0, 0.0, 0.0, 0.0, 0.0, 0.0, 0.0, 0.0, 0.0, 0.0, 0.0, 0.0, 0.0, 0.0, 0.0, 0.0, 0.0, 0.0, 0.0, 0.0, 0.0, 0.0, 0.0, 0.0], [0.0, 0.0, 0.0, 0.0, 0.0, 0.0, 0.0, 0.0, 0.0, 0.0, 0.0, 0.0, 0.0, 0.0, 0.0, 0.0, 0.0, 0.0, 0.0, 0.0, 0.0, 0.0, 0.0, 0.0, 0.0, 0.0, 0.0, 0.0, 0.0, 0.0, 0.0, 0.0, 0.0, 0.0, 0.0, 0.0, 0.0, 0.0, 0.0, 0.0, 0.0, 0.0, 0.0, 0.0, 0.0, 0.0, 0.0, 0.0, 0.0, 0.0, 0.0, 0.0, 0.0, 0.0, 0.0, 0.0, 0.0, 0.0, 0.0, 0.0, 0.0, 0.0, 0.0, 0.0, 0.0, 0.0, 0.0, 0.0, 0.0, 0.0, 0.0, 0.0, 0.0, 0.0, 0.0, 0.0, 0.0, 0.0, 0.0, 0.0, 0.0, 0.0, 0.0, 0.0, 0.0, 0.0, 0.0, 0.0, 0.0, 0.0, 0.0, 0.0, 0.0, 0.0, 0.0, 0.0, 0.0, 0.0, 0.0, 0.0], [0.0, 0.0, 0.0, 0.0, 0.0, 0.0, 0.0, 0.0, 0.0, 0.0, 0.0, 0.0, 0.0, 0.0, 0.0, 0.0, 0.0, 0.0, 0.0, 0.0, 0.0, 0.0, 0.0, 0.0, 0.0, 0.0, 0.0, 0.0, 0.0, 0.0, 0.0, 0.0, 0.0, 0.0, 0.0, 0.0, 0.0, 0.0, 0.0, 0.0, 0.0, 0.0, 0.0, 0.0, 0.0, 0.0, 0.0, 0.0, 0.0, 0.0, 0.0, 0.0, 0.0, 0.0, 0.0, 0.0, 0.0, 0.0, 0.0, 0.0, 0.0, 0.0, 0.0, 0.0, 0.0, 0.0, 0.0, 0.0, 0.0, 0.0, 0.0, 0.0, 0.0, 0.0, 0.0, 0.0, 0.0, 0.0, 0.0, 0.0, 0.0, 0.0, 0.0, 0.0, 0.0, 0.0, 0.0, 0.0, 0.0, 0.0, 0.0, 0.0, 0.0, 0.0, 0.0, 0.0, 0.0, 0.0, 0.0, 0.0], [0.0, 0.0, 0.0, 0.0, 0.0, 0.0, 0.0, 0.0, 0.0, 0.0, 0.0, 0.0, 0.0, 0.0, 0.0, 0.0, 0.0, 0.0, 0.0, 0.0, 0.0, 0.0, 0.0, 0.0, 0.0, 0.0, 0.0, 0.0, 0.0, 0.0, 0.0, 0.0, 0.0, 0.0, 0.0, 0.0, 0.0, 0.0, 0.0, 0.0, 0.0, 0.0, 0.0, 0.0, 0.0, 0.0, 0.0, 0.0, 0.0, 0.0, 0.0, 0.0, 0.0, 0.0, 0.0, 0.0, 0.0, 0.0, 0.0, 0.0, 0.0, 0.0, 0.0, 0.0, 0.0, 0.0, 0.0, 0.0, 0.0, 0.0, 0.0, 0.0, 0.0, 0.0, 0.0, 0.0, 0.0, 0.0, 0.0, 0.0, 0.0, 0.0, 0.0, 0.0, 0.0, 0.0, 0.0, 0.0, 0.0, 0.0, 0.0, 0.0, 0.0, 0.0, 0.0, 0.0, 0.0, 0.0, 0.0, 0.0], [0.0, 0.0, 0.0, 0.0, 0.0, 0.0, 0.0, 0.0, 0.0, 0.0, 0.0, 0.0, 0.0, 0.0, 0.0, 0.0, 0.0, 0.0, 0.0, 0.0, 0.0, 0.0, 0.0, 0.0, 0.0, 0.0, 0.0, 0.0, 0.0, 0.0, 0.0, 0.0, 0.0, 0.0, 0.0, 0.0, 0.0, 0.0, 0.0, 0.0, 0.0, 0.0, 0.0, 0.0, 0.0, 0.0, 0.0, 0.0, 0.0, 0.0, 0.0, 0.0, 0.0, 0.0, 0.0, 0.0, 0.0, 0.0, 0.0, 0.0, 0.0, 0.0, 0.0, 0.0, 0.0, 0.0, 0.0, 0.0, 0.0, 0.0, 0.0, 0.0, 0.0, 0.0, 0.0, 0.0, 0.0, 0.0, 0.0, 0.0, 0.0, 0.0, 0.0, 0.0, 0.0, 0.0, 0.0, 0.0, 0.0, 0.0, 0.0, 0.0, 0.0, 0.0, 0.0, 0.0, 0.0, 0.0, 0.0, 0.0], [0.0, 0.0, 0.0, 0.0, 0.0, 0.0, 0.0, 0.0, 0.0, 0.0, 0.0, 0.0, 0.0, 0.0, 0.0, 0.0, 0.0, 0.0, 0.0, 0.0, 0.0, 0.0, 0.0, 0.0, 0.0, 0.0, 0.0, 0.0, 0.0, 0.0, 0.0, 0.0, 0.0, 0.0, 0.0, 0.0, 0.0, 0.0, 0.0, 0.0, 0.0, 0.0, 0.0, 0.0, 0.0, 0.0, 0.0, 0.0, 0.0, 0.0, 0.0, 0.0, 0.0, 0.0, 0.0, 0.0, 0.0, 0.0, 0.0, 0.0, 0.0, 0.0, 0.0, 0.0, 0.0, 0.0, 0.0, 0.0, 0.0, 0.0, 0.0, 0.0, 0.0, 0.0, 0.0, 0.0, 0.0, 0.0, 0.0, 0.0, 0.0, 0.0, 0.0, 0.0, 0.0, 0.0, 0.0, 0.0, 0.0, 0.0, 0.0, 0.0, 0.0, 0.0, 0.0, 0.0, 0.0, 0.0, 0.0, 0.0], [0.0, 0.0, 0.0, 0.0, 0.0, 0.0, 0.0, 0.0, 0.0, 0.0, 0.0, 0.0, 0.0, 0.0, 0.0, 0.0, 0.0, 0.0, 0.0, 0.0, 0.0, 0.0, 0.0, 0.0, 0.0, 0.0, 0.0, 0.0, 0.0, 0.0, 0.0, 0.0, 0.0, 0.0, 0.0, 0.0, 0.0, 0.0, 0.0, 0.0, 0.0, 0.0, 0.0, 0.0, 0.0, 0.0, 0.0, 0.0, 0.0, 0.0, 0.0, 0.0, 0.0, 0.0, 0.0, 0.0, 0.0, 0.0, 0.0, 0.0, 0.0, 0.0, 0.0, 0.0, 0.0, 0.0, 0.0, 0.0, 0.0, 0.0, 0.0, 0.0, 0.0, 0.0, 0.0, 0.0, 0.0, 0.0, 0.0, 0.0, 0.0, 0.0, 0.0, 0.0, 0.0, 0.0, 0.0, 0.0, 0.0, 0.0, 0.0, 0.0, 0.0, 0.0, 0.0, 0.0, 0.0, 0.0, 0.0, 0.0], [0.0, 0.0, 0.0, 0.0, 0.0, 0.0, 0.0, 0.0, 0.0, 0.0, 0.0, 0.0, 0.0, 0.0, 0.0, 0.0, 0.0, 0.0, 0.0, 0.0, 0.0, 0.0, 0.0, 0.0, 0.0, 0.0, 0.0, 0.0, 0.0, 0.0, 0.0, 0.0, 0.0, 0.0, 0.0, 0.0, 0.0, 0.0, 0.0, 0.0, 0.0, 0.0, 0.0, 0.0, 0.0, 0.0, 0.0, 0.0, 0.0, 0.0, 0.0, 0.0, 0.0, 0.0, 0.0, 0.0, 0.0, 0.0, 0.0, 0.0, 0.0, 0.0, 0.0, 0.0, 0.0, 0.0, 0.0, 0.0, 0.0, 0.0, 0.0, 0.0, 0.0, 0.0, 0.0, 0.0, 0.0, 0.0, 0.0, 0.0, 0.0, 0.0, 0.0, 0.0, 0.0, 0.0, 0.0, 0.0, 0.0, 0.0, 0.0, 0.0, 0.0, 0.0, 0.0, 0.0, 0.0, 0.0, 0.0, 0.0], [0.0, 0.0, 0.0, 0.0, 0.0, 0.0, 0.0, 0.0, 0.0, 0.0, 0.0, 0.0, 0.0, 0.0, 0.0, 0.0, 0.0, 0.0, 0.0, 0.0, 0.0, 0.0, 0.0, 0.0, 0.0, 0.0, 0.0, 0.0, 0.0, 0.0, 0.0, 0.0, 0.0, 0.0, 0.0, 0.0, 0.0, 0.0, 0.0, 0.0, 0.0, 0.0, 0.0, 0.0, 0.0, 0.0, 0.0, 0.0, 0.0, 0.0, 0.0, 0.0, 0.0, 0.0, 0.0, 0.0, 0.0, 0.0, 0.0, 0.0, 0.0, 0.0, 0.0, 0.0, 0.0, 0.0, 0.0, 0.0, 0.0, 0.0, 0.0, 0.0, 0.0, 0.0, 0.0, 0.0, 0.0, 0.0, 0.0, 0.0, 0.0, 0.0, 0.0, 0.0, 0.0, 0.0, 0.0, 0.0, 0.0, 0.0, 0.0, 0.0, 0.0, 0.0, 0.0, 0.0, 0.0, 0.0, 0.0, 0.0], [0.0, 0.0, 0.0, 0.0, 0.0, 0.0, 0.0, 0.0, 0.0, 0.0, 0.0, 0.0, 0.0, 0.0, 0.0, 0.0, 0.0, 0.0, 0.0, 0.0, 0.0, 0.0, 0.0, 0.0, 0.0, 0.0, 0.0, 0.0, 0.0, 0.0, 0.0, 0.0, 0.0, 0.0, 0.0, 0.0, 0.0, 0.0, 0.0, 0.0, 0.0, 0.0, 0.0, 0.0, 0.0, 0.0, 0.0, 0.0, 0.0, 0.0, 0.0, 0.0, 0.0, 0.0, 0.0, 0.0, 0.0, 0.0, 0.0, 0.0, 0.0, 0.0, 0.0, 0.0, 0.0, 0.0, 0.0, 0.0, 0.0, 0.0, 0.0, 0.0, 0.0, 0.0, 0.0, 0.0, 0.0, 0.0, 0.0, 0.0, 0.0, 0.0, 0.0, 0.0, 0.0, 0.0, 0.0, 0.0, 0.0, 0.0, 0.0, 0.0, 0.0, 0.0, 0.0, 0.0, 0.0, 0.0, 0.0, 0.0], [0.0, 0.0, 0.0, 0.0, 0.0, 0.0, 0.0, 0.0, 0.0, 0.0, 0.0, 0.0, 0.0, 0.0, 0.0, 0.0, 0.0, 0.0, 0.0, 0.0, 0.0, 0.0, 0.0, 0.0, 0.0, 0.0, 0.0, 0.0, 0.0, 0.0, 0.0, 0.0, 0.0, 0.0, 0.0, 0.0, 0.0, 0.0, 0.0, 0.0, 0.0, 0.0, 0.0, 0.0, 0.0, 0.0, 0.0, 0.0, 0.0, 0.0, 0.0, 0.0, 0.0, 0.0, 0.0, 0.0, 0.0, 0.0, 0.0, 0.0, 0.0, 0.0, 0.0, 0.0, 0.0, 0.0, 0.0, 0.0, 0.0, 0.0, 0.0, 0.0, 0.0, 0.0, 0.0, 0.0, 0.0, 0.0, 0.0, 0.0, 0.0, 0.0, 0.0, 0.0, 0.0, 0.0, 0.0, 0.0, 0.0, 0.0, 0.0, 0.0, 0.0, 0.0, 0.0, 0.0, 0.0, 0.0, 0.0, 0.0], [0.0, 0.0, 0.0, 0.0, 0.0, 0.0, 0.0, 0.0, 0.0, 0.0, 0.0, 0.0, 0.0, 0.0, 0.0, 0.0, 0.0, 0.0, 0.0, 0.0, 0.0, 0.0, 0.0, 0.0, 0.0, 0.0, 0.0, 0.0, 0.0, 0.0, 0.0, 0.0, 0.0, 0.0, 0.0, 0.0, 0.0, 0.0, 0.0, 0.0, 0.0, 0.0, 0.0, 0.0, 0.0, 0.0, 0.0, 0.0, 0.0, 0.0, 0.0, 0.0, 0.0, 0.0, 0.0, 0.0, 0.0, 0.0, 0.0, 0.0, 0.0, 0.0, 0.0, 0.0, 0.0, 0.0, 0.0, 0.0, 0.0, 0.0, 0.0, 0.0, 0.0, 0.0, 0.0, 0.0, 0.0, 0.0, 0.0, 0.0, 0.0, 0.0, 0.0, 0.0, 0.0, 0.0, 0.0, 0.0, 0.0, 0.0, 0.0, 0.0, 0.0, 0.0, 0.0, 0.0, 0.0, 0.0, 0.0, 0.0], [0.0, 0.0, 0.0, 0.0, 0.0, 0.0, 0.0, 0.0, 0.0, 0.0, 0.0, 0.0, 0.0, 0.0, 0.0, 0.0, 0.0, 0.0, 0.0, 0.0, 0.0, 0.0, 0.0, 0.0, 0.0, 0.0, 0.0, 0.0, 0.0, 0.0, 0.0, 0.0, 0.0, 0.0, 0.0, 0.0, 0.0, 0.0, 0.0, 0.0, 0.0, 0.0, 0.0, 0.0, 0.0, 0.0, 0.0, 0.0, 0.0, 0.0, 0.0, 0.0, 0.0, 0.0, 0.0, 0.0, 0.0, 0.0, 0.0, 0.0, 0.0, 0.0, 0.0, 0.0, 0.0, 0.0, 0.0, 0.0, 0.0, 0.0, 0.0, 0.0, 0.0, 0.0, 0.0, 0.0, 0.0, 0.0, 0.0, 0.0, 0.0, 0.0, 0.0, 0.0, 0.0, 0.0, 0.0, 0.0, 0.0, 0.0, 0.0, 0.0, 0.0, 0.0, 0.0, 0.0, 0.0, 0.0, 0.0, 0.0], [0.0, 0.0, 0.0, 0.0, 0.0, 0.0, 0.0, 0.0, 0.0, 0.0, 0.0, 0.0, 0.0, 0.0, 0.0, 0.0, 0.0, 0.0, 0.0, 0.0, 0.0, 0.0, 0.0, 0.0, 0.0, 0.0, 0.0, 0.0, 0.0, 0.0, 0.0, 0.0, 0.0, 0.0, 0.0, 0.0, 0.0, 0.0, 0.0, 0.0, 0.0, 0.0, 0.0, 0.0, 0.0, 0.0, 0.0, 0.0, 0.0, 0.0, 0.0, 0.0, 0.0, 0.0, 0.0, 0.0, 0.0, 0.0, 0.0, 0.0, 0.0, 0.0, 0.0, 0.0, 0.0, 0.0, 0.0, 0.0, 0.0, 0.0, 0.0, 0.0, 0.0, 0.0, 0.0, 0.0, 0.0, 0.0, 0.0, 0.0, 0.0, 0.0, 0.0, 0.0, 0.0, 0.0, 0.0, 0.0, 0.0, 0.0, 0.0, 0.0, 0.0, 0.0, 0.0, 0.0, 0.0, 0.0, 0.0, 0.0], [0.0, 0.0, 0.0, 0.0, 0.0, 0.0, 0.0, 0.0, 0.0, 0.0, 0.0, 0.0, 0.0, 0.0, 0.0, 0.0, 0.0, 0.0, 0.0, 0.0, 0.0, 0.0, 0.0, 0.0, 0.0, 0.0, 0.0, 0.0, 0.0, 0.0, 0.0, 0.0, 0.0, 0.0, 0.0, 0.0, 0.0, 0.0, 0.0, 0.0, 0.0, 0.0, 0.0, 0.0, 0.0, 0.0, 0.0, 0.0, 0.0, 0.0, 0.0, 0.0, 0.0, 0.0, 0.0, 0.0, 0.0, 0.0, 0.0, 0.0, 0.0, 0.0, 0.0, 0.0, 0.0, 0.0, 0.0, 0.0, 0.0, 0.0, 0.0, 0.0, 0.0, 0.0, 0.0, 0.0, 0.0, 0.0, 0.0, 0.0, 0.0, 0.0, 0.0, 0.0, 0.0, 0.0, 0.0, 0.0, 0.0, 0.0, 0.0, 0.0, 0.0, 0.0, 0.0, 0.0, 0.0, 0.0, 0.0, 0.0], [0.0, 0.0, 0.0, 0.0, 0.0, 0.0, 0.0, 0.0, 0.0, 0.0, 0.0, 0.0, 0.0, 0.0, 0.0, 0.0, 0.0, 0.0, 0.0, 0.0, 0.0, 0.0, 0.0, 0.0, 0.0, 0.0, 0.0, 0.0, 0.0, 0.0, 0.0, 0.0, 0.0, 0.0, 0.0, 0.0, 0.0, 0.0, 0.0, 0.0, 0.0, 0.0, 0.0, 0.0, 0.0, 0.0, 0.0, 0.0, 0.0, 0.0, 0.0, 0.0, 0.0, 0.0, 0.0, 0.0, 0.0, 0.0, 0.0, 0.0, 0.0, 0.0, 0.0, 0.0, 0.0, 0.0, 0.0, 0.0, 0.0, 0.0, 0.0, 0.0, 0.0, 0.0, 0.0, 0.0, 0.0, 0.0, 0.0, 0.0, 0.0, 0.0, 0.0, 0.0, 0.0, 0.0, 0.0, 0.0, 0.0, 0.0, 0.0, 0.0, 0.0, 0.0, 0.0, 0.0, 0.0, 0.0, 0.0, 0.0], [0.0, 0.0, 0.0, 0.0, 0.0, 0.0, 0.0, 0.0, 0.0, 0.0, 0.0, 0.0, 0.0, 0.0, 0.0, 0.0, 0.0, 0.0, 0.0, 0.0, 0.0, 0.0, 0.0, 0.0, 0.0, 0.0, 0.0, 0.0, 0.0, 0.0, 0.0, 0.0, 0.0, 0.0, 0.0, 0.0, 0.0, 0.0, 0.0, 0.0, 0.0, 0.0, 0.0, 0.0, 0.0, 0.0, 0.0, 0.0, 0.0, 0.0, 0.0, 0.0, 0.0, 0.0, 0.0, 0.0, 0.0, 0.0, 0.0, 0.0, 0.0, 0.0, 0.0, 0.0, 0.0, 0.0, 0.0, 0.0, 0.0, 0.0, 0.0, 0.0, 0.0, 0.0, 0.0, 0.0, 0.0, 0.0, 0.0, 0.0, 0.0, 0.0, 0.0, 0.0, 0.0, 0.0, 0.0, 0.0, 0.0, 0.0, 0.0, 0.0, 0.0, 0.0, 0.0, 0.0, 0.0, 0.0, 0.0, 0.0], [0.0, 0.0, 0.0, 0.0, 0.0, 0.0, 0.0, 0.0, 0.0, 0.0, 0.0, 0.0, 0.0, 0.0, 0.0, 0.0, 0.0, 0.0, 0.0, 0.0, 0.0, 0.0, 0.0, 0.0, 0.0, 0.0, 0.0, 0.0, 0.0, 0.0, 0.0, 0.0, 0.0, 0.0, 0.0, 0.0, 0.0, 0.0, 0.0, 0.0, 0.0, 0.0, 0.0, 0.0, 0.0, 0.0, 0.0, 0.0, 0.0, 0.0, 0.0, 0.0, 0.0, 0.0, 0.0, 0.0, 0.0, 0.0, 0.0, 0.0, 0.0, 0.0, 0.0, 0.0, 0.0, 0.0, 0.0, 0.0, 0.0, 0.0, 0.0, 0.0, 0.0, 0.0, 0.0, 0.0, 0.0, 0.0, 0.0, 0.0, 0.0, 0.0, 0.0, 0.0, 0.0, 0.0, 0.0, 0.0, 0.0, 0.0, 0.0, 0.0, 0.0, 0.0, 0.0, 0.0, 0.0, 0.0, 0.0, 0.0], [0.0, 0.0, 0.0, 0.0, 0.0, 0.0, 0.0, 0.0, 0.0, 0.0, 0.0, 0.0, 0.0, 0.0, 0.0, 0.0, 0.0, 0.0, 0.0, 0.0, 0.0, 0.0, 0.0, 0.0, 0.0, 0.0, 0.0, 0.0, 0.0, 0.0, 0.0, 0.0, 0.0, 0.0, 0.0, 0.0, 0.0, 0.0, 0.0, 0.0, 0.0, 0.0, 0.0, 0.0, 0.0, 0.0, 0.0, 0.0, 0.0, 0.0, 0.0, 0.0, 0.0, 0.0, 0.0, 0.0, 0.0, 0.0, 0.0, 0.0, 0.0, 0.0, 0.0, 0.0, 0.0, 0.0, 0.0, 0.0, 0.0, 0.0, 0.0, 0.0, 0.0, 0.0, 0.0, 0.0, 0.0, 0.0, 0.0, 0.0, 0.0, 0.0, 0.0, 0.0, 0.0, 0.0, 0.0, 0.0, 0.0, 0.0, 0.0, 0.0, 0.0, 0.0, 0.0, 0.0, 0.0, 0.0, 0.0, 0.0], [0.0, 0.0, 0.0, 0.0, 0.0, 0.0, 0.0, 0.0, 0.0, 0.0, 0.0, 0.0, 0.0, 0.0, 0.0, 0.0, 0.0, 0.0, 0.0, 0.0, 0.0, 0.0, 0.0, 0.0, 0.0, 0.0, 0.0, 0.0, 0.0, 0.0, 0.0, 0.0, 0.0, 0.0, 0.0, 0.0, 0.0, 0.0, 0.0, 0.0, 0.0, 0.0, 0.0, 0.0, 0.0, 0.0, 0.0, 0.0, 0.0, 0.0, 0.0, 0.0, 0.0, 0.0, 0.0, 0.0, 0.0, 0.0, 0.0, 0.0, 0.0, 0.0, 0.0, 0.0, 0.0, 0.0, 0.0, 0.0, 0.0, 0.0, 0.0, 0.0, 0.0, 0.0, 0.0, 0.0, 0.0, 0.0, 0.0, 0.0, 0.0, 0.0, 0.0, 0.0, 0.0, 0.0, 0.0, 0.0, 0.0, 0.0, 0.0, 0.0, 0.0, 0.0, 0.0, 0.0, 0.0, 0.0, 0.0, 0.0], [0.0, 0.0, 0.0, 0.0, 0.0, 0.0, 0.0, 0.0, 0.0, 0.0, 0.0, 0.0, 0.0, 0.0, 0.0, 0.0, 0.0, 0.0, 0.0, 0.0, 0.0, 0.0, 0.0, 0.0, 0.0, 0.0, 0.0, 0.0, 0.0, 0.0, 0.0, 0.0, 0.0, 0.0, 0.0, 0.0, 0.0, 0.0, 0.0, 0.0, 0.0, 0.0, 0.0, 0.0, 0.0, 0.0, 0.0, 0.0, 0.0, 0.0, 0.0, 0.0, 0.0, 0.0, 0.0, 0.0, 0.0, 0.0, 0.0, 0.0, 0.0, 0.0, 0.0, 0.0, 0.0, 0.0, 0.0, 0.0, 0.0, 0.0, 0.0, 0.0, 0.0, 0.0, 0.0, 0.0, 0.0, 0.0, 0.0, 0.0, 0.0, 0.0, 0.0, 0.0, 0.0, 0.0, 0.0, 0.0, 0.0, 0.0, 0.0, 0.0, 0.0, 0.0, 0.0, 0.0, 0.0, 0.0, 0.0, 0.0], [0.0, 0.0, 0.0, 0.0, 0.0, 0.0, 0.0, 0.0, 0.0, 0.0, 0.0, 0.0, 0.0, 0.0, 0.0, 0.0, 0.0, 0.0, 0.0, 0.0, 0.0, 0.0, 0.0, 0.0, 0.0, 0.0, 0.0, 0.0, 0.0, 0.0, 0.0, 0.0, 0.0, 0.0, 0.0, 0.0, 0.0, 0.0, 0.0, 0.0, 0.0, 0.0, 0.0, 0.0, 0.0, 0.0, 0.0, 0.0, 0.0, 0.0, 0.0, 0.0, 0.0, 0.0, 0.0, 0.0, 0.0, 0.0, 0.0, 0.0, 0.0, 0.0, 0.0, 0.0, 0.0, 0.0, 0.0, 0.0, 0.0, 0.0, 0.0, 0.0, 0.0, 0.0, 0.0, 0.0, 0.0, 0.0, 0.0, 0.0, 0.0, 0.0, 0.0, 0.0, 0.0, 0.0, 0.0, 0.0, 0.0, 0.0, 0.0, 0.0, 0.0, 0.0, 0.0, 0.0, 0.0, 0.0, 0.0, 0.0], [0.0, 0.0, 0.0, 0.0, 0.0, 0.0, 0.0, 0.0, 0.0, 0.0, 0.0, 0.0, 0.0, 0.0, 0.0, 0.0, 0.0, 0.0, 0.0, 0.0, 0.0, 0.0, 0.0, 0.0, 0.0, 0.0, 0.0, 0.0, 0.0, 0.0, 0.0, 0.0, 0.0, 0.0, 0.0, 0.0, 0.0, 0.0, 0.0, 0.0, 0.0, 0.0, 0.0, 0.0, 0.0, 0.0, 0.0, 0.0, 0.0, 0.0, 0.0, 0.0, 0.0, 0.0, 0.0, 0.0, 0.0, 0.0, 0.0, 0.0, 0.0, 0.0, 0.0, 0.0, 0.0, 0.0, 0.0, 0.0, 0.0, 0.0, 0.0, 0.0, 0.0, 0.0, 0.0, 0.0, 0.0, 0.0, 0.0, 0.0, 0.0, 0.0, 0.0, 0.0, 0.0, 0.0, 0.0, 0.0, 0.0, 0.0, 0.0, 0.0, 0.0, 0.0, 0.0, 0.0, 0.0, 0.0, 0.0, 0.0], [0.0, 0.0, 0.0, 0.0, 0.0, 0.0, 0.0, 0.0, 0.0, 0.0, 0.0, 0.0, 0.0, 0.0, 0.0, 0.0, 0.0, 0.0, 0.0, 0.0, 0.0, 0.0, 0.0, 0.0, 0.0, 0.0, 0.0, 0.0, 0.0, 0.0, 0.0, 0.0, 0.0, 0.0, 0.0, 0.0, 0.0, 0.0, 0.0, 0.0, 0.0, 0.0, 0.0, 0.0, 0.0, 0.0, 0.0, 0.0, 0.0, 0.0, 0.0, 0.0, 0.0, 0.0, 0.0, 0.0, 0.0, 0.0, 0.0, 0.0, 0.0, 0.0, 0.0, 0.0, 0.0, 0.0, 0.0, 0.0, 0.0, 0.0, 0.0, 0.0, 0.0, 0.0, 0.0, 0.0, 0.0, 0.0, 0.0, 0.0, 0.0, 0.0, 0.0, 0.0, 0.0, 0.0, 0.0, 0.0, 0.0, 0.0, 0.0, 0.0, 0.0, 0.0, 0.0, 0.0, 0.0, 0.0, 0.0, 0.0], [0.0, 0.0, 0.0, 0.0, 0.0, 0.0, 0.0, 0.0, 0.0, 0.0, 0.0, 0.0, 0.0, 0.0, 0.0, 0.0, 0.0, 0.0, 0.0, 0.0, 0.0, 0.0, 0.0, 0.0, 0.0, 0.0, 0.0, 0.0, 0.0, 0.0, 0.0, 0.0, 0.0, 0.0, 0.0, 0.0, 0.0, 0.0, 0.0, 0.0, 0.0, 0.0, 0.0, 0.0, 0.0, 0.0, 0.0, 0.0, 0.0, 0.0, 0.0, 0.0, 0.0, 0.0, 0.0, 0.0, 0.0, 0.0, 0.0, 0.0, 0.0, 0.0, 0.0, 0.0, 0.0, 0.0, 0.0, 0.0, 0.0, 0.0, 0.0, 0.0, 0.0, 0.0, 0.0, 0.0, 0.0, 0.0, 0.0, 0.0, 0.0, 0.0, 0.0, 0.0, 0.0, 0.0, 0.0, 0.0, 0.0, 0.0, 0.0, 0.0, 0.0, 0.0, 0.0, 0.0, 0.0, 0.0, 0.0, 0.0], [0.0, 0.0, 0.0, 0.0, 0.0, 0.0, 0.0, 0.0, 0.0, 0.0, 0.0, 0.0, 0.0, 0.0, 0.0, 0.0, 0.0, 0.0, 0.0, 0.0, 0.0, 0.0, 0.0, 0.0, 0.0, 0.0, 0.0, 0.0, 0.0, 0.0, 0.0, 0.0, 0.0, 0.0, 0.0, 0.0, 0.0, 0.0, 0.0, 0.0, 0.0, 0.0, 0.0, 0.0, 0.0, 0.0, 0.0, 0.0, 0.0, 0.0, 0.0, 0.0, 0.0, 0.0, 0.0, 0.0, 0.0, 0.0, 0.0, 0.0, 0.0, 0.0, 0.0, 0.0, 0.0, 0.0, 0.0, 0.0, 0.0, 0.0, 0.0, 0.0, 0.0, 0.0, 0.0, 0.0, 0.0, 0.0, 0.0, 0.0, 0.0, 0.0, 0.0, 0.0, 0.0, 0.0, 0.0, 0.0, 0.0, 0.0, 0.0, 0.0, 0.0, 0.0, 0.0, 0.0, 0.0, 0.0, 0.0, 0.0], [0.0, 0.0, 0.0, 0.0, 0.0, 0.0, 0.0, 0.0, 0.0, 0.0, 0.0, 0.0, 0.0, 0.0, 0.0, 0.0, 0.0, 0.0, 0.0, 0.0, 0.0, 0.0, 0.0, 0.0, 0.0, 0.0, 0.0, 0.0, 0.0, 0.0, 0.0, 0.0, 0.0, 0.0, 0.0, 0.0, 0.0, 0.0, 0.0, 0.0, 0.0, 0.0, 0.0, 0.0, 0.0, 0.0, 0.0, 0.0, 0.0, 0.0, 0.0, 0.0, 0.0, 0.0, 0.0, 0.0, 0.0, 0.0, 0.0, 0.0, 0.0, 0.0, 0.0, 0.0, 0.0, 0.0, 0.0, 0.0, 0.0, 0.0, 0.0, 0.0, 0.0, 0.0, 0.0, 0.0, 0.0, 0.0, 0.0, 0.0, 0.0, 0.0, 0.0, 0.0, 0.0, 0.0, 0.0, 0.0, 0.0, 0.0, 0.0, 0.0, 0.0, 0.0, 0.0, 0.0, 0.0, 0.0, 0.0, 0.0], [0.0, 0.0, 0.0, 0.0, 0.0, 0.0, 0.0, 0.0, 0.0, 0.0, 0.0, 0.0, 0.0, 0.0, 0.0, 0.0, 0.0, 0.0, 0.0, 0.0, 0.0, 0.0, 0.0, 0.0, 0.0, 0.0, 0.0, 0.0, 0.0, 0.0, 0.0, 0.0, 0.0, 0.0, 0.0, 0.0, 0.0, 0.0, 0.0, 0.0, 0.0, 0.0, 0.0, 0.0, 0.0, 0.0, 0.0, 0.0, 0.0, 0.0, 0.0, 0.0, 0.0, 0.0, 0.0, 0.0, 0.0, 0.0, 0.0, 0.0, 0.0, 0.0, 0.0, 0.0, 0.0, 0.0, 0.0, 0.0, 0.0, 0.0, 0.0, 0.0, 0.0, 0.0, 0.0, 0.0, 0.0, 0.0, 0.0, 0.0, 0.0, 0.0, 0.0, 0.0, 0.0, 0.0, 0.0, 0.0, 0.0, 0.0, 0.0, 0.0, 0.0, 0.0, 0.0, 0.0, 0.0, 0.0, 0.0, 0.0], [0.0, 0.0, 0.0, 0.0, 0.0, 0.0, 0.0, 0.0, 0.0, 0.0, 0.0, 0.0, 0.0, 0.0, 0.0, 0.0, 0.0, 0.0, 0.0, 0.0, 0.0, 0.0, 0.0, 0.0, 0.0, 0.0, 0.0, 0.0, 0.0, 0.0, 0.0, 0.0, 0.0, 0.0, 0.0, 0.0, 0.0, 0.0, 0.0, 0.0, 0.0, 0.0, 0.0, 0.0, 0.0, 0.0, 0.0, 0.0, 0.0, 0.0, 0.0, 0.0, 0.0, 0.0, 0.0, 0.0, 0.0, 0.0, 0.0, 0.0, 0.0, 0.0, 0.0, 0.0, 0.0, 0.0, 0.0, 0.0, 0.0, 0.0, 0.0, 0.0, 0.0, 0.0, 0.0, 0.0, 0.0, 0.0, 0.0, 0.0, 0.0, 0.0, 0.0, 0.0, 0.0, 0.0, 0.0, 0.0, 0.0, 0.0, 0.0, 0.0, 0.0, 0.0, 0.0, 0.0, 0.0, 0.0, 0.0, 0.0], [0.0, 0.0, 0.0, 0.0, 0.0, 0.0, 0.0, 0.0, 0.0, 0.0, 0.0, 0.0, 0.0, 0.0, 0.0, 0.0, 0.0, 0.0, 0.0, 0.0, 0.0, 0.0, 0.0, 0.0, 0.0, 0.0, 0.0, 0.0, 0.0, 0.0, 0.0, 0.0, 0.0, 0.0, 0.0, 0.0, 0.0, 0.0, 0.0, 0.0, 0.0, 0.0, 0.0, 0.0, 0.0, 0.0, 0.0, 0.0, 0.0, 0.0, 0.0, 0.0, 0.0, 0.0, 0.0, 0.0, 0.0, 0.0, 0.0, 0.0, 0.0, 0.0, 0.0, 0.0, 0.0, 0.0, 0.0, 0.0, 0.0, 0.0, 0.0, 0.0, 0.0, 0.0, 0.0, 0.0, 0.0, 0.0, 0.0, 0.0, 0.0, 0.0, 0.0, 0.0, 0.0, 0.0, 0.0, 0.0, 0.0, 0.0, 0.0, 0.0, 0.0, 0.0, 0.0, 0.0, 0.0, 0.0, 0.0, 0.0], [0.0, 0.0, 0.0, 0.0, 0.0, 0.0, 0.0, 0.0, 0.0, 0.0, 0.0, 0.0, 0.0, 0.0, 0.0, 0.0, 0.0, 0.0, 0.0, 0.0, 0.0, 0.0, 0.0, 0.0, 0.0, 0.0, 0.0, 0.0, 0.0, 0.0, 0.0, 0.0, 0.0, 0.0, 0.0, 0.0, 0.0, 0.0, 0.0, 0.0, 0.0, 0.0, 0.0, 0.0, 0.0, 0.0, 0.0, 0.0, 0.0, 0.0, 0.0, 0.0, 0.0, 0.0, 0.0, 0.0, 0.0, 0.0, 0.0, 0.0, 0.0, 0.0, 0.0, 0.0, 0.0, 0.0, 0.0, 0.0, 0.0, 0.0, 0.0, 0.0, 0.0, 0.0, 0.0, 0.0, 0.0, 0.0, 0.0, 0.0, 0.0, 0.0, 0.0, 0.0, 0.0, 0.0, 0.0, 0.0, 0.0, 0.0, 0.0, 0.0, 0.0, 0.0, 0.0, 0.0, 0.0, 0.0, 0.0, 0.0], [0.0, 0.0, 0.0, 0.0, 0.0, 0.0, 0.0, 0.0, 0.0, 0.0, 0.0, 0.0, 0.0, 0.0, 0.0, 0.0, 0.0, 0.0, 0.0, 0.0, 0.0, 0.0, 0.0, 0.0, 0.0, 0.0, 0.0, 0.0, 0.0, 0.0, 0.0, 0.0, 0.0, 0.0, 0.0, 0.0, 0.0, 0.0, 0.0, 0.0, 0.0, 0.0, 0.0, 0.0, 0.0, 0.0, 0.0, 0.0, 0.0, 0.0, 0.0, 0.0, 0.0, 0.0, 0.0, 0.0, 0.0, 0.0, 0.0, 0.0, 0.0, 0.0, 0.0, 0.0, 0.0, 0.0, 0.0, 0.0, 0.0, 0.0, 0.0, 0.0, 0.0, 0.0, 0.0, 0.0, 0.0, 0.0, 0.0, 0.0, 0.0, 0.0, 0.0, 0.0, 0.0, 0.0, 0.0, 0.0, 0.0, 0.0, 0.0, 0.0, 0.0, 0.0, 0.0, 0.0, 0.0, 0.0, 0.0, 0.0], [0.0, 0.0, 0.0, 0.0, 0.0, 0.0, 0.0, 0.0, 0.0, 0.0, 0.0, 0.0, 0.0, 0.0, 0.0, 0.0, 0.0, 0.0, 0.0, 0.0, 0.0, 0.0, 0.0, 0.0, 0.0, 0.0, 0.0, 0.0, 0.0, 0.0, 0.0, 0.0, 0.0, 0.0, 0.0, 0.0, 0.0, 0.0, 0.0, 0.0, 0.0, 0.0, 0.0, 0.0, 0.0, 0.0, 0.0, 0.0, 0.0, 0.0, 0.0, 0.0, 0.0, 0.0, 0.0, 0.0, 0.0, 0.0, 0.0, 0.0, 0.0, 0.0, 0.0, 0.0, 0.0, 0.0, 0.0, 0.0, 0.0, 0.0, 0.0, 0.0, 0.0, 0.0, 0.0, 0.0, 0.0, 0.0, 0.0, 0.0, 0.0, 0.0, 0.0, 0.0, 0.0, 0.0, 0.0, 0.0, 0.0, 0.0, 0.0, 0.0, 0.0, 0.0, 0.0, 0.0, 0.0, 0.0, 0.0, 0.0], [0.0, 0.0, 0.0, 0.0, 0.0, 0.0, 0.0, 0.0, 0.0, 0.0, 0.0, 0.0, 0.0, 0.0, 0.0, 0.0, 0.0, 0.0, 0.0, 0.0, 0.0, 0.0, 0.0, 0.0, 0.0, 0.0, 0.0, 0.0, 0.0, 0.0, 0.0, 0.0, 0.0, 0.0, 0.0, 0.0, 0.0, 0.0, 0.0, 0.0, 0.0, 0.0, 0.0, 0.0, 0.0, 0.0, 0.0, 0.0, 0.0, 0.0, 0.0, 0.0, 0.0, 0.0, 0.0, 0.0, 0.0, 0.0, 0.0, 0.0, 0.0, 0.0, 0.0, 0.0, 0.0, 0.0, 0.0, 0.0, 0.0, 0.0, 0.0, 0.0, 0.0, 0.0, 0.0, 0.0, 0.0, 0.0, 0.0, 0.0, 0.0, 0.0, 0.0, 0.0, 0.0, 0.0, 0.0, 0.0, 0.0, 0.0, 0.0, 0.0, 0.0, 0.0, 0.0, 0.0, 0.0, 0.0, 0.0, 0.0], [0.0, 0.0, 0.0, 0.0, 0.0, 0.0, 0.0, 0.0, 0.0, 0.0, 0.0, 0.0, 0.0, 0.0, 0.0, 0.0, 0.0, 0.0, 0.0, 0.0, 0.0, 0.0, 0.0, 0.0, 0.0, 0.0, 0.0, 0.0, 0.0, 0.0, 0.0, 0.0, 0.0, 0.0, 0.0, 0.0, 0.0, 0.0, 0.0, 0.0, 0.0, 0.0, 0.0, 0.0, 0.0, 0.0, 0.0, 0.0, 0.0, 0.0, 0.0, 0.0, 0.0, 0.0, 0.0, 0.0, 0.0, 0.0, 0.0, 0.0, 0.0, 0.0, 0.0, 0.0, 0.0, 0.0, 0.0, 0.0, 0.0, 0.0, 0.0, 0.0, 0.0, 0.0, 0.0, 0.0, 0.0, 0.0, 0.0, 0.0, 0.0, 0.0, 0.0, 0.0, 0.0, 0.0, 0.0, 0.0, 0.0, 0.0, 0.0, 0.0, 0.0, 0.0, 0.0, 0.0, 0.0, 0.0, 0.0, 0.0], [0.0, 0.0, 0.0, 0.0, 0.0, 0.0, 0.0, 0.0, 0.0, 0.0, 0.0, 0.0, 0.0, 0.0, 0.0, 0.0, 0.0, 0.0, 0.0, 0.0, 0.0, 0.0, 0.0, 0.0, 0.0, 0.0, 0.0, 0.0, 0.0, 0.0, 0.0, 0.0, 0.0, 0.0, 0.0, 0.0, 0.0, 0.0, 0.0, 0.0, 0.0, 0.0, 0.0, 0.0, 0.0, 0.0, 0.0, 0.0, 0.0, 0.0, 0.0, 0.0, 0.0, 0.0, 0.0, 0.0, 0.0, 0.0, 0.0, 0.0, 0.0, 0.0, 0.0, 0.0, 0.0, 0.0, 0.0, 0.0, 0.0, 0.0, 0.0, 0.0, 0.0, 0.0, 0.0, 0.0, 0.0, 0.0, 0.0, 0.0, 0.0, 0.0, 0.0, 0.0, 0.0, 0.0, 0.0, 0.0, 0.0, 0.0, 0.0, 0.0, 0.0, 0.0, 0.0, 0.0, 0.0, 0.0, 0.0, 0.0], [0.0, 0.0, 0.0, 0.0, 0.0, 0.0, 0.0, 0.0, 0.0, 0.0, 0.0, 0.0, 0.0, 0.0, 0.0, 0.0, 0.0, 0.0, 0.0, 0.0, 0.0, 0.0, 0.0, 0.0, 0.0, 0.0, 0.0, 0.0, 0.0, 0.0, 0.0, 0.0, 0.0, 0.0, 0.0, 0.0, 0.0, 0.0, 0.0, 0.0, 0.0, 0.0, 0.0, 0.0, 0.0, 0.0, 0.0, 0.0, 0.0, 0.0, 0.0, 0.0, 0.0, 0.0, 0.0, 0.0, 0.0, 0.0, 0.0, 0.0, 0.0, 0.0, 0.0, 0.0, 0.0, 0.0, 0.0, 0.0, 0.0, 0.0, 0.0, 0.0, 0.0, 0.0, 0.0, 0.0, 0.0, 0.0, 0.0, 0.0, 0.0, 0.0, 0.0, 0.0, 0.0, 0.0, 0.0, 0.0, 0.0, 0.0, 0.0, 0.0, 0.0, 0.0, 0.0, 0.0, 0.0, 0.0, 0.0, 0.0], [0.0, 0.0, 0.0, 0.0, 0.0, 0.0, 0.0, 0.0, 0.0, 0.0, 0.0, 0.0, 0.0, 0.0, 0.0, 0.0, 0.0, 0.0, 0.0, 0.0, 0.0, 0.0, 0.0, 0.0, 0.0, 0.0, 0.0, 0.0, 0.0, 0.0, 0.0, 0.0, 0.0, 0.0, 0.0, 0.0, 0.0, 0.0, 0.0, 0.0, 0.0, 0.0, 0.0, 0.0, 0.0, 0.0, 0.0, 0.0, 0.0, 0.0, 0.0, 0.0, 0.0, 0.0, 0.0, 0.0, 0.0, 0.0, 0.0, 0.0, 0.0, 0.0, 0.0, 0.0, 0.0, 0.0, 0.0, 0.0, 0.0, 0.0, 0.0, 0.0, 0.0, 0.0, 0.0, 0.0, 0.0, 0.0, 0.0, 0.0, 0.0, 0.0, 0.0, 0.0, 0.0, 0.0, 0.0, 0.0, 0.0, 0.0, 0.0, 0.0, 0.0, 0.0, 0.0, 0.0, 0.0, 0.0, 0.0, 0.0], [0.0, 0.0, 0.0, 0.0, 0.0, 0.0, 0.0, 0.0, 0.0, 0.0, 0.0, 0.0, 0.0, 0.0, 0.0, 0.0, 0.0, 0.0, 0.0, 0.0, 0.0, 0.0, 0.0, 0.0, 0.0, 0.0, 0.0, 0.0, 0.0, 0.0, 0.0, 0.0, 0.0, 0.0, 0.0, 0.0, 0.0, 0.0, 0.0, 0.0, 0.0, 0.0, 0.0, 0.0, 0.0, 0.0, 0.0, 0.0, 0.0, 0.0, 0.0, 0.0, 0.0, 0.0, 0.0, 0.0, 0.0, 0.0, 0.0, 0.0, 0.0, 0.0, 0.0, 0.0, 0.0, 0.0, 0.0, 0.0, 0.0, 0.0, 0.0, 0.0, 0.0, 0.0, 0.0, 0.0, 0.0, 0.0, 0.0, 0.0, 0.0, 0.0, 0.0, 0.0, 0.0, 0.0, 0.0, 0.0, 0.0, 0.0, 0.0, 0.0, 0.0, 0.0, 0.0, 0.0, 0.0, 0.0, 0.0, 0.0], [0.0, 0.0, 0.0, 0.0, 0.0, 0.0, 0.0, 0.0, 0.0, 0.0, 0.0, 0.0, 0.0, 0.0, 0.0, 0.0, 0.0, 0.0, 0.0, 0.0, 0.0, 0.0, 0.0, 0.0, 0.0, 0.0, 0.0, 0.0, 0.0, 0.0, 0.0, 0.0, 0.0, 0.0, 0.0, 0.0, 0.0, 0.0, 0.0, 0.0, 0.0, 0.0, 0.0, 0.0, 0.0, 0.0, 0.0, 0.0, 0.0, 0.0, 0.0, 0.0, 0.0, 0.0, 0.0, 0.0, 0.0, 0.0, 0.0, 0.0, 0.0, 0.0, 0.0, 0.0, 0.0, 0.0, 0.0, 0.0, 0.0, 0.0, 0.0, 0.0, 0.0, 0.0, 0.0, 0.0, 0.0, 0.0, 0.0, 0.0, 0.0, 0.0, 0.0, 0.0, 0.0, 0.0, 0.0, 0.0, 0.0, 0.0, 0.0, 0.0, 0.0, 0.0, 0.0, 0.0, 0.0, 0.0, 0.0, 0.0], [0.0, 0.0, 0.0, 0.0, 0.0, 0.0, 0.0, 0.0, 0.0, 0.0, 0.0, 0.0, 0.0, 0.0, 0.0, 0.0, 0.0, 0.0, 0.0, 0.0, 0.0, 0.0, 0.0, 0.0, 0.0, 0.0, 0.0, 0.0, 0.0, 0.0, 0.0, 0.0, 0.0, 0.0, 0.0, 0.0, 0.0, 0.0, 0.0, 0.0, 0.0, 0.0, 0.0, 0.0, 0.0, 0.0, 0.0, 0.0, 0.0, 0.0, 0.0, 0.0, 0.0, 0.0, 0.0, 0.0, 0.0, 0.0, 0.0, 0.0, 0.0, 0.0, 0.0, 0.0, 0.0, 0.0, 0.0, 0.0, 0.0, 0.0, 0.0, 0.0, 0.0, 0.0, 0.0, 0.0, 0.0, 0.0, 0.0, 0.0, 0.0, 0.0, 0.0, 0.0, 0.0, 0.0, 0.0, 0.0, 0.0, 0.0, 0.0, 0.0, 0.0, 0.0, 0.0, 0.0, 0.0, 0.0, 0.0, 0.0], [0.0, 0.0, 0.0, 0.0, 0.0, 0.0, 0.0, 0.0, 0.0, 0.0, 0.0, 0.0, 0.0, 0.0, 0.0, 0.0, 0.0, 0.0, 0.0, 0.0, 0.0, 0.0, 0.0, 0.0, 0.0, 0.0, 0.0, 0.0, 0.0, 0.0, 0.0, 0.0, 0.0, 0.0, 0.0, 0.0, 0.0, 0.0, 0.0, 0.0, 0.0, 0.0, 0.0, 0.0, 0.0, 0.0, 0.0, 0.0, 0.0, 0.0, 0.0, 0.0, 0.0, 0.0, 0.0, 0.0, 0.0, 0.0, 0.0, 0.0, 0.0, 0.0, 0.0, 0.0, 0.0, 0.0, 0.0, 0.0, 0.0, 0.0, 0.0, 0.0, 0.0, 0.0, 0.0, 0.0, 0.0, 0.0, 0.0, 0.0, 0.0, 0.0, 0.0, 0.0, 0.0, 0.0, 0.0, 0.0, 0.0, 0.0, 0.0, 0.0, 0.0, 0.0, 0.0, 0.0, 0.0, 0.0, 0.0, 0.0], [0.0, 0.0, 0.0, 0.0, 0.0, 0.0, 0.0, 0.0, 0.0, 0.0, 0.0, 0.0, 0.0, 0.0, 0.0, 0.0, 0.0, 0.0, 0.0, 0.0, 0.0, 0.0, 0.0, 0.0, 0.0, 0.0, 0.0, 0.0, 0.0, 0.0, 0.0, 0.0, 0.0, 0.0, 0.0, 0.0, 0.0, 0.0, 0.0, 0.0, 0.0, 0.0, 0.0, 0.0, 0.0, 0.0, 0.0, 0.0, 0.0, 0.0, 0.0, 0.0, 0.0, 0.0, 0.0, 0.0, 0.0, 0.0, 0.0, 0.0, 0.0, 0.0, 0.0, 0.0, 0.0, 0.0, 0.0, 0.0, 0.0, 0.0, 0.0, 0.0, 0.0, 0.0, 0.0, 0.0, 0.0, 0.0, 0.0, 0.0, 0.0, 0.0, 0.0, 0.0, 0.0, 0.0, 0.0, 0.0, 0.0, 0.0, 0.0, 0.0, 0.0, 0.0, 0.0, 0.0, 0.0, 0.0, 0.0, 0.0], [0.0, 0.0, 0.0, 0.0, 0.0, 0.0, 0.0, 0.0, 0.0, 0.0, 0.0, 0.0, 0.0, 0.0, 0.0, 0.0, 0.0, 0.0, 0.0, 0.0, 0.0, 0.0, 0.0, 0.0, 0.0, 0.0, 0.0, 0.0, 0.0, 0.0, 0.0, 0.0, 0.0, 0.0, 0.0, 0.0, 0.0, 0.0, 0.0, 0.0, 0.0, 0.0, 0.0, 0.0, 0.0, 0.0, 0.0, 0.0, 0.0, 0.0, 0.0, 0.0, 0.0, 0.0, 0.0, 0.0, 0.0, 0.0, 0.0, 0.0, 0.0, 0.0, 0.0, 0.0, 0.0, 0.0, 0.0, 0.0, 0.0, 0.0, 0.0, 0.0, 0.0, 0.0, 0.0, 0.0, 0.0, 0.0, 0.0, 0.0, 0.0, 0.0, 0.0, 0.0, 0.0, 0.0, 0.0, 0.0, 0.0, 0.0, 0.0, 0.0, 0.0, 0.0, 0.0, 0.0, 0.0, 0.0, 0.0, 0.0], [0.0, 0.0, 0.0, 0.0, 0.0, 0.0, 0.0, 0.0, 0.0, 0.0, 0.0, 0.0, 0.0, 0.0, 0.0, 0.0, 0.0, 0.0, 0.0, 0.0, 0.0, 0.0, 0.0, 0.0, 0.0, 0.0, 0.0, 0.0, 0.0, 0.0, 0.0, 0.0, 0.0, 0.0, 0.0, 0.0, 0.0, 0.0, 0.0, 0.0, 0.0, 0.0, 0.0, 0.0, 0.0, 0.0, 0.0, 0.0, 0.0, 0.0, 0.0, 0.0, 0.0, 0.0, 0.0, 0.0, 0.0, 0.0, 0.0, 0.0, 0.0, 0.0, 0.0, 0.0, 0.0, 0.0, 0.0, 0.0, 0.0, 0.0, 0.0, 0.0, 0.0, 0.0, 0.0, 0.0, 0.0, 0.0, 0.0, 0.0, 0.0, 0.0, 0.0, 0.0, 0.0, 0.0, 0.0, 0.0, 0.0, 0.0, 0.0, 0.0, 0.0, 0.0, 0.0, 0.0, 0.0, 0.0, 0.0, 0.0], [0.0, 0.0, 0.0, 0.0, 0.0, 0.0, 0.0, 0.0, 0.0, 0.0, 0.0, 0.0, 0.0, 0.0, 0.0, 0.0, 0.0, 0.0, 0.0, 0.0, 0.0, 0.0, 0.0, 0.0, 0.0, 0.0, 0.0, 0.0, 0.0, 0.0, 0.0, 0.0, 0.0, 0.0, 0.0, 0.0, 0.0, 0.0, 0.0, 0.0, 0.0, 0.0, 0.0, 0.0, 0.0, 0.0, 0.0, 0.0, 30.0, 25.0, 0.0, 0.0, 0.0, 0.0, 0.0, 0.0, 0.0, 0.0, 0.0, 0.0, 0.0, 0.0, 0.0, 0.0, 0.0, 0.0, 0.0, 0.0, 0.0, 0.0, 0.0, 0.0, 0.0, 0.0, 0.0, 0.0, 0.0, 0.0, 0.0, 0.0, 0.0, 0.0, 0.0, 0.0, 0.0, 0.0, 0.0, 0.0, 0.0, 0.0, 0.0, 0.0, 0.0, 0.0, 0.0, 0.0, 0.0, 0.0, 0.0, 0.0], [0.0, 0.0, 0.0, 0.0, 0.0, 0.0, 0.0, 0.0, 0.0, 0.0, 0.0, 0.0, 0.0, 0.0, 0.0, 0.0, 0.0, 0.0, 0.0, 0.0, 0.0, 0.0, 0.0, 0.0, 0.0, 0.0, 0.0, 0.0, 0.0, 0.0, 0.0, 0.0, 0.0, 0.0, 0.0, 0.0, 0.0, 0.0, 0.0, 0.0, 0.0, 0.0, 0.0, 0.0, 0.0, 0.0, 0.0, 0.0, 41.0, 30.0, 0.0, 0.0, 0.0, 0.0, 0.0, 0.0, 0.0, 0.0, 0.0, 0.0, 0.0, 0.0, 0.0, 0.0, 0.0, 0.0, 0.0, 0.0, 0.0, 0.0, 0.0, 0.0, 0.0, 0.0, 0.0, 0.0, 0.0, 0.0, 0.0, 0.0, 0.0, 0.0, 0.0, 0.0, 0.0, 0.0, 0.0, 0.0, 0.0, 0.0, 0.0, 0.0, 0.0, 0.0, 0.0, 0.0, 0.0, 0.0, 0.0, 0.0], [0.0, 0.0, 0.0, 0.0, 0.0, 0.0, 0.0, 0.0, 0.0, 0.0, 0.0, 0.0, 0.0, 0.0, 0.0, 0.0, 0.0, 0.0, 0.0, 0.0, 0.0, 0.0, 0.0, 0.0, 0.0, 0.0, 0.0, 0.0, 0.0, 0.0, 0.0, 0.0, 0.0, 0.0, 0.0, 0.0, 0.0, 0.0, 0.0, 0.0, 0.0, 0.0, 0.0, 0.0, 0.0, 0.0, 0.0, 0.0, 44.0, 28.0, 0.0, 0.0, 0.0, 0.0, 0.0, 0.0, 0.0, 0.0, 0.0, 0.0, 0.0, 0.0, 0.0, 0.0, 0.0, 0.0, 0.0, 0.0, 0.0, 0.0, 0.0, 0.0, 0.0, 0.0, 0.0, 0.0, 0.0, 0.0, 0.0, 0.0, 0.0, 0.0, 0.0, 0.0, 0.0, 0.0, 0.0, 0.0, 0.0, 0.0, 0.0, 0.0, 0.0, 0.0, 0.0, 0.0, 0.0, 0.0, 0.0, 0.0], [0.0, 0.0, 0.0, 0.0, 0.0, 0.0, 0.0, 0.0, 0.0, 0.0, 0.0, 0.0, 0.0, 0.0, 0.0, 0.0, 0.0, 0.0, 0.0, 0.0, 0.0, 0.0, 0.0, 0.0, 0.0, 0.0, 0.0, 0.0, 0.0, 0.0, 0.0, 0.0, 0.0, 0.0, 0.0, 0.0, 0.0, 0.0, 0.0, 0.0, 0.0, 0.0, 0.0, 0.0, 0.0, 0.0, 0.0, 0.0, 32.0, 24.0, 0.0, 0.0, 0.0, 0.0, 0.0, 0.0, 0.0, 0.0, 0.0, 0.0, 0.0, 0.0, 0.0, 0.0, 0.0, 0.0, 0.0, 0.0, 0.0, 0.0, 0.0, 0.0, 0.0, 0.0, 0.0, 0.0, 0.0, 0.0, 0.0, 0.0, 0.0, 0.0, 0.0, 0.0, 0.0, 0.0, 0.0, 0.0, 0.0, 0.0, 0.0, 0.0, 0.0, 0.0, 0.0, 0.0, 0.0, 0.0, 0.0, 0.0], [0.0, 0.0, 0.0, 0.0, 0.0, 0.0, 0.0, 0.0, 0.0, 0.0, 0.0, 0.0, 0.0, 0.0, 0.0, 0.0, 0.0, 0.0, 0.0, 0.0, 0.0, 0.0, 0.0, 0.0, 0.0, 0.0, 0.0, 0.0, 0.0, 0.0, 0.0, 0.0, 0.0, 0.0, 0.0, 0.0, 0.0, 0.0, 0.0, 0.0, 0.0, 0.0, 0.0, 0.0, 0.0, 0.0, 0.0, 0.0, 22.0, 0.0, 0.0, 0.0, 0.0, 0.0, 0.0, 0.0, 0.0, 0.0, 0.0, 0.0, 0.0, 0.0, 0.0, 0.0, 0.0, 0.0, 0.0, 0.0, 0.0, 0.0, 0.0, 0.0, 0.0, 0.0, 0.0, 0.0, 0.0, 0.0, 0.0, 0.0, 0.0, 0.0, 0.0, 0.0, 0.0, 0.0, 0.0, 0.0, 0.0, 0.0, 0.0, 0.0, 0.0, 0.0, 0.0, 0.0, 0.0, 0.0, 0.0, 0.0], [0.0, 0.0, 0.0, 0.0, 0.0, 0.0, 0.0, 0.0, 0.0, 0.0, 0.0, 0.0, 0.0, 0.0, 0.0, 0.0, 0.0, 0.0, 0.0, 0.0, 0.0, 0.0, 0.0, 0.0, 0.0, 0.0, 0.0, 0.0, 0.0, 0.0, 0.0, 0.0, 0.0, 0.0, 0.0, 0.0, 0.0, 0.0, 0.0, 0.0, 0.0, 0.0, 0.0, 0.0, 0.0, 0.0, 0.0, 0.0, 0.0, 0.0, 0.0, 0.0, 0.0, 0.0, 0.0, 0.0, 0.0, 0.0, 0.0, 0.0, 0.0, 0.0, 0.0, 0.0, 0.0, 0.0, 0.0, 0.0, 0.0, 0.0, 0.0, 0.0, 0.0, 0.0, 0.0, 0.0, 0.0, 0.0, 0.0, 0.0, 0.0, 0.0, 0.0, 0.0, 0.0, 0.0, 0.0, 0.0, 0.0, 0.0, 0.0, 0.0, 0.0, 0.0, 0.0, 0.0, 0.0, 0.0, 0.0, 0.0], [0.0, 0.0, 0.0, 0.0, 0.0, 0.0, 0.0, 0.0, 0.0, 0.0, 0.0, 0.0, 0.0, 0.0, 0.0, 0.0, 0.0, 0.0, 0.0, 0.0, 0.0, 0.0, 0.0, 0.0, 0.0, 0.0, 0.0, 0.0, 0.0, 0.0, 0.0, 0.0, 0.0, 0.0, 0.0, 0.0, 0.0, 0.0, 0.0, 0.0, 0.0, 0.0, 0.0, 0.0, 0.0, 0.0, 0.0, 0.0, 0.0, 0.0, 0.0, 0.0, 0.0, 0.0, 0.0, 0.0, 0.0, 0.0, 0.0, 0.0, 0.0, 0.0, 0.0, 0.0, 0.0, 0.0, 0.0, 0.0, 0.0, 0.0, 0.0, 0.0, 0.0, 0.0, 0.0, 0.0, 0.0, 0.0, 0.0, 0.0, 0.0, 0.0, 0.0, 0.0, 0.0, 0.0, 0.0, 0.0, 0.0, 0.0, 0.0, 0.0, 0.0, 0.0, 0.0, 0.0, 0.0, 0.0, 0.0, 0.0], [0.0, 0.0, 0.0, 0.0, 0.0, 0.0, 0.0, 0.0, 0.0, 0.0, 0.0, 0.0, 0.0, 0.0, 0.0, 0.0, 0.0, 0.0, 0.0, 0.0, 0.0, 0.0, 0.0, 0.0, 0.0, 0.0, 0.0, 0.0, 0.0, 0.0, 0.0, 0.0, 0.0, 0.0, 0.0, 0.0, 0.0, 0.0, 0.0, 0.0, 0.0, 0.0, 0.0, 0.0, 0.0, 0.0, 0.0, 0.0, 0.0, 0.0, 0.0, 0.0, 0.0, 0.0, 0.0, 0.0, 0.0, 0.0, 0.0, 0.0, 0.0, 0.0, 0.0, 0.0, 0.0, 0.0, 0.0, 0.0, 0.0, 0.0, 0.0, 0.0, 0.0, 0.0, 0.0, 0.0, 0.0, 0.0, 0.0, 0.0, 0.0, 0.0, 0.0, 0.0, 0.0, 0.0, 0.0, 0.0, 0.0, 0.0, 0.0, 0.0, 0.0, 0.0, 0.0, 0.0, 0.0, 0.0, 0.0, 0.0], [0.0, 0.0, 0.0, 0.0, 0.0, 0.0, 0.0, 0.0, 0.0, 0.0, 0.0, 0.0, 0.0, 0.0, 0.0, 0.0, 0.0, 0.0, 0.0, 0.0, 0.0, 0.0, 0.0, 0.0, 0.0, 0.0, 0.0, 0.0, 0.0, 0.0, 0.0, 0.0, 0.0, 0.0, 0.0, 0.0, 0.0, 0.0, 0.0, 0.0, 0.0, 0.0, 0.0, 0.0, 0.0, 0.0, 0.0, 0.0, 0.0, 0.0, 0.0, 0.0, 0.0, 0.0, 0.0, 0.0, 0.0, 0.0, 0.0, 0.0, 0.0, 0.0, 0.0, 0.0, 0.0, 0.0, 0.0, 0.0, 0.0, 0.0, 0.0, 0.0, 0.0, 0.0, 0.0, 0.0, 0.0, 0.0, 0.0, 0.0, 0.0, 0.0, 0.0, 0.0, 0.0, 0.0, 0.0, 0.0, 0.0, 0.0, 0.0, 0.0, 0.0, 0.0, 0.0, 0.0, 0.0, 0.0, 0.0, 0.0], [0.0, 0.0, 0.0, 0.0, 0.0, 0.0, 0.0, 0.0, 0.0, 0.0, 0.0, 0.0, 0.0, 0.0, 0.0, 0.0, 0.0, 0.0, 0.0, 0.0, 0.0, 0.0, 0.0, 0.0, 0.0, 0.0, 0.0, 0.0, 0.0, 0.0, 0.0, 0.0, 0.0, 0.0, 0.0, 0.0, 0.0, 0.0, 0.0, 0.0, 0.0, 0.0, 0.0, 0.0, 0.0, 0.0, 0.0, 0.0, 0.0, 0.0, 0.0, 0.0, 0.0, 0.0, 0.0, 0.0, 0.0, 0.0, 0.0, 0.0, 0.0, 0.0, 0.0, 0.0, 0.0, 0.0, 0.0, 0.0, 0.0, 0.0, 0.0, 0.0, 0.0, 0.0, 0.0, 0.0, 0.0, 0.0, 0.0, 0.0, 0.0, 0.0, 0.0, 0.0, 0.0, 0.0, 0.0, 0.0, 0.0, 0.0, 0.0, 0.0, 0.0, 0.0, 0.0, 0.0, 0.0, 0.0, 0.0, 0.0], [0.0, 0.0, 0.0, 0.0, 0.0, 0.0, 0.0, 0.0, 0.0, 0.0, 0.0, 0.0, 0.0, 0.0, 0.0, 0.0, 0.0, 0.0, 0.0, 0.0, 0.0, 0.0, 0.0, 0.0, 0.0, 0.0, 0.0, 0.0, 0.0, 0.0, 0.0, 0.0, 0.0, 0.0, 0.0, 0.0, 0.0, 0.0, 0.0, 0.0, 0.0, 0.0, 0.0, 0.0, 0.0, 0.0, 0.0, 0.0, 0.0, 0.0, 0.0, 0.0, 0.0, 0.0, 0.0, 0.0, 0.0, 0.0, 0.0, 0.0, 0.0, 0.0, 0.0, 0.0, 0.0, 0.0, 0.0, 0.0, 0.0, 0.0, 0.0, 0.0, 0.0, 0.0, 0.0, 0.0, 0.0, 0.0, 0.0, 0.0, 0.0, 0.0, 0.0, 0.0, 0.0, 0.0, 0.0, 0.0, 0.0, 0.0, 0.0, 0.0, 0.0, 0.0, 0.0, 0.0, 0.0, 0.0, 0.0, 0.0], [0.0, 0.0, 0.0, 0.0, 0.0, 0.0, 0.0, 0.0, 0.0, 0.0, 0.0, 0.0, 0.0, 0.0, 0.0, 0.0, 0.0, 0.0, 0.0, 0.0, 0.0, 0.0, 0.0, 0.0, 0.0, 0.0, 0.0, 0.0, 0.0, 0.0, 0.0, 0.0, 0.0, 0.0, 0.0, 0.0, 0.0, 0.0, 0.0, 0.0, 0.0, 0.0, 0.0, 0.0, 0.0, 0.0, 0.0, 0.0, 0.0, 0.0, 0.0, 0.0, 0.0, 0.0, 0.0, 0.0, 0.0, 0.0, 0.0, 0.0, 0.0, 0.0, 0.0, 0.0, 0.0, 0.0, 0.0, 0.0, 0.0, 0.0, 0.0, 0.0, 0.0, 0.0, 0.0, 0.0, 0.0, 0.0, 0.0, 0.0, 0.0, 0.0, 0.0, 0.0, 0.0, 0.0, 0.0, 0.0, 0.0, 0.0, 0.0, 0.0, 0.0, 0.0, 0.0, 0.0, 0.0, 0.0, 0.0, 0.0], [0.0, 0.0, 0.0, 0.0, 0.0, 0.0, 0.0, 0.0, 0.0, 0.0, 0.0, 0.0, 0.0, 0.0, 0.0, 0.0, 0.0, 0.0, 0.0, 0.0, 0.0, 0.0, 0.0, 0.0, 0.0, 0.0, 0.0, 0.0, 0.0, 0.0, 0.0, 0.0, 0.0, 0.0, 0.0, 0.0, 0.0, 0.0, 0.0, 0.0, 0.0, 0.0, 0.0, 0.0, 0.0, 0.0, 0.0, 0.0, 0.0, 0.0, 0.0, 0.0, 0.0, 0.0, 0.0, 0.0, 0.0, 0.0, 0.0, 0.0, 0.0, 0.0, 0.0, 0.0, 0.0, 0.0, 0.0, 0.0, 0.0, 0.0, 0.0, 0.0, 0.0, 0.0, 0.0, 0.0, 0.0, 0.0, 0.0, 0.0, 0.0, 0.0, 0.0, 0.0, 0.0, 0.0, 0.0, 0.0, 0.0, 0.0, 0.0, 0.0, 0.0, 0.0, 0.0, 0.0, 0.0, 0.0, 0.0, 0.0], [0.0, 0.0, 0.0, 0.0, 0.0, 0.0, 0.0, 0.0, 0.0, 0.0, 0.0, 0.0, 0.0, 0.0, 0.0, 0.0, 0.0, 0.0, 0.0, 0.0, 0.0, 0.0, 0.0, 0.0, 0.0, 0.0, 0.0, 0.0, 0.0, 0.0, 0.0, 0.0, 0.0, 0.0, 0.0, 0.0, 0.0, 0.0, 0.0, 0.0, 0.0, 0.0, 0.0, 0.0, 0.0, 0.0, 0.0, 0.0, 0.0, 0.0, 0.0, 0.0, 0.0, 0.0, 0.0, 0.0, 0.0, 0.0, 0.0, 0.0, 0.0, 0.0, 0.0, 0.0, 0.0, 0.0, 0.0, 0.0, 0.0, 0.0, 0.0, 0.0, 0.0, 0.0, 0.0, 0.0, 0.0, 0.0, 0.0, 0.0, 0.0, 0.0, 0.0, 0.0, 0.0, 0.0, 0.0, 0.0, 0.0, 0.0, 0.0, 0.0, 0.0, 0.0, 0.0, 0.0, 0.0, 0.0, 0.0, 0.0], [0.0, 0.0, 0.0, 0.0, 0.0, 0.0, 0.0, 0.0, 0.0, 0.0, 0.0, 0.0, 0.0, 0.0, 0.0, 0.0, 0.0, 0.0, 0.0, 0.0, 0.0, 0.0, 0.0, 0.0, 0.0, 0.0, 0.0, 0.0, 0.0, 0.0, 0.0, 0.0, 0.0, 0.0, 0.0, 0.0, 0.0, 0.0, 0.0, 0.0, 0.0, 0.0, 0.0, 0.0, 0.0, 0.0, 0.0, 0.0, 0.0, 0.0, 0.0, 0.0, 0.0, 0.0, 0.0, 0.0, 0.0, 0.0, 0.0, 0.0, 0.0, 0.0, 0.0, 0.0, 0.0, 0.0, 0.0, 0.0, 0.0, 0.0, 0.0, 0.0, 0.0, 0.0, 0.0, 0.0, 0.0, 0.0, 0.0, 0.0, 0.0, 0.0, 0.0, 0.0, 0.0, 0.0, 0.0, 0.0, 0.0, 0.0, 0.0, 0.0, 0.0, 0.0, 0.0, 0.0, 0.0, 0.0, 0.0, 0.0], [0.0, 0.0, 0.0, 0.0, 0.0, 0.0, 0.0, 0.0, 0.0, 0.0, 0.0, 0.0, 0.0, 0.0, 0.0, 0.0, 0.0, 0.0, 0.0, 0.0, 0.0, 0.0, 0.0, 0.0, 0.0, 0.0, 0.0, 0.0, 0.0, 0.0, 0.0, 0.0, 0.0, 0.0, 0.0, 0.0, 0.0, 0.0, 0.0, 0.0, 0.0, 0.0, 0.0, 0.0, 0.0, 0.0, 0.0, 0.0, 0.0, 0.0, 0.0, 0.0, 0.0, 0.0, 0.0, 0.0, 0.0, 0.0, 0.0, 0.0, 0.0, 0.0, 0.0, 0.0, 0.0, 0.0, 0.0, 0.0, 0.0, 0.0, 0.0, 0.0, 0.0, 0.0, 0.0, 0.0, 0.0, 0.0, 0.0, 0.0, 0.0, 0.0, 0.0, 0.0, 0.0, 0.0, 0.0, 0.0, 0.0, 0.0, 0.0, 0.0, 0.0, 0.0, 0.0, 0.0, 0.0, 0.0, 0.0, 0.0], [0.0, 0.0, 0.0, 0.0, 0.0, 0.0, 0.0, 0.0, 0.0, 0.0, 0.0, 0.0, 0.0, 0.0, 0.0, 0.0, 0.0, 0.0, 0.0, 0.0, 0.0, 0.0, 0.0, 0.0, 0.0, 0.0, 0.0, 0.0, 0.0, 0.0, 0.0, 0.0, 0.0, 0.0, 0.0, 0.0, 0.0, 0.0, 0.0, 0.0, 0.0, 0.0, 0.0, 0.0, 0.0, 0.0, 0.0, 0.0, 0.0, 0.0, 0.0, 0.0, 0.0, 0.0, 0.0, 0.0, 0.0, 0.0, 0.0, 0.0, 0.0, 0.0, 0.0, 0.0, 0.0, 0.0, 0.0, 0.0, 0.0, 0.0, 0.0, 0.0, 0.0, 0.0, 0.0, 0.0, 0.0, 0.0, 0.0, 0.0, 0.0, 0.0, 0.0, 0.0, 0.0, 0.0, 0.0, 0.0, 0.0, 0.0, 0.0, 0.0, 0.0, 0.0, 0.0, 0.0, 0.0, 0.0, 0.0, 0.0], [0.0, 0.0, 0.0, 0.0, 0.0, 0.0, 0.0, 0.0, 0.0, 0.0, 0.0, 0.0, 0.0, 0.0, 0.0, 0.0, 0.0, 0.0, 0.0, 0.0, 0.0, 0.0, 0.0, 0.0, 0.0, 0.0, 0.0, 0.0, 0.0, 0.0, 0.0, 0.0, 0.0, 0.0, 0.0, 0.0, 0.0, 0.0, 0.0, 0.0, 0.0, 0.0, 0.0, 0.0, 0.0, 0.0, 0.0, 0.0, 0.0, 0.0, 0.0, 0.0, 0.0, 0.0, 0.0, 0.0, 0.0, 0.0, 0.0, 0.0, 0.0, 0.0, 0.0, 0.0, 0.0, 0.0, 0.0, 0.0, 0.0, 0.0, 0.0, 0.0, 0.0, 0.0, 0.0, 0.0, 0.0, 0.0, 0.0, 0.0, 0.0, 0.0, 0.0, 0.0, 0.0, 0.0, 0.0, 0.0, 0.0, 0.0, 0.0, 0.0, 0.0, 0.0, 0.0, 0.0, 0.0, 0.0, 0.0, 0.0], [0.0, 0.0, 0.0, 0.0, 0.0, 0.0, 0.0, 0.0, 0.0, 0.0, 0.0, 0.0, 0.0, 0.0, 0.0, 0.0, 0.0, 0.0, 0.0, 0.0, 0.0, 0.0, 0.0, 0.0, 0.0, 0.0, 0.0, 0.0, 0.0, 0.0, 0.0, 0.0, 0.0, 0.0, 0.0, 0.0, 0.0, 0.0, 0.0, 0.0, 0.0, 0.0, 0.0, 0.0, 0.0, 0.0, 0.0, 0.0, 0.0, 0.0, 0.0, 0.0, 0.0, 0.0, 0.0, 0.0, 0.0, 0.0, 0.0, 0.0, 0.0, 0.0, 0.0, 0.0, 0.0, 0.0, 0.0, 0.0, 0.0, 0.0, 0.0, 0.0, 0.0, 0.0, 0.0, 0.0, 0.0, 0.0, 0.0, 0.0, 0.0, 0.0, 0.0, 0.0, 0.0, 0.0, 0.0, 0.0, 0.0, 0.0, 0.0, 0.0, 0.0, 0.0, 0.0, 0.0, 0.0, 0.0, 0.0, 0.0], [0.0, 0.0, 0.0, 0.0, 0.0, 0.0, 0.0, 0.0, 0.0, 0.0, 0.0, 0.0, 0.0, 0.0, 0.0, 0.0, 0.0, 0.0, 0.0, 0.0, 0.0, 0.0, 0.0, 0.0, 0.0, 0.0, 0.0, 0.0, 0.0, 0.0, 0.0, 0.0, 0.0, 0.0, 0.0, 0.0, 0.0, 0.0, 0.0, 0.0, 0.0, 0.0, 0.0, 0.0, 0.0, 0.0, 0.0, 0.0, 0.0, 0.0, 0.0, 0.0, 0.0, 0.0, 0.0, 0.0, 0.0, 0.0, 0.0, 0.0, 0.0, 0.0, 0.0, 0.0, 0.0, 0.0, 0.0, 0.0, 0.0, 0.0, 0.0, 0.0, 0.0, 0.0, 0.0, 0.0, 0.0, 0.0, 0.0, 0.0, 0.0, 0.0, 0.0, 0.0, 0.0, 0.0, 0.0, 0.0, 0.0, 0.0, 0.0, 0.0, 0.0, 0.0, 0.0, 0.0, 0.0, 0.0, 0.0, 0.0], [0.0, 0.0, 0.0, 0.0, 0.0, 0.0, 0.0, 0.0, 0.0, 0.0, 0.0, 0.0, 0.0, 0.0, 0.0, 0.0, 0.0, 0.0, 0.0, 0.0, 0.0, 0.0, 0.0, 0.0, 0.0, 0.0, 0.0, 0.0, 0.0, 0.0, 0.0, 0.0, 0.0, 0.0, 0.0, 0.0, 0.0, 0.0, 0.0, 0.0, 0.0, 0.0, 0.0, 0.0, 0.0, 0.0, 0.0, 0.0, 0.0, 0.0, 0.0, 0.0, 0.0, 0.0, 0.0, 0.0, 0.0, 0.0, 0.0, 0.0, 0.0, 0.0, 0.0, 0.0, 0.0, 0.0, 0.0, 0.0, 0.0, 0.0, 0.0, 0.0, 0.0, 0.0, 0.0, 0.0, 0.0, 0.0, 0.0, 0.0, 0.0, 0.0, 0.0, 0.0, 0.0, 0.0, 0.0, 0.0, 0.0, 0.0, 0.0, 0.0, 0.0, 0.0, 0.0, 0.0, 0.0, 0.0, 0.0, 0.0], [0.0, 0.0, 0.0, 0.0, 0.0, 0.0, 0.0, 0.0, 0.0, 0.0, 0.0, 0.0, 0.0, 0.0, 0.0, 0.0, 0.0, 0.0, 0.0, 0.0, 0.0, 0.0, 0.0, 0.0, 0.0, 0.0, 0.0, 0.0, 0.0, 0.0, 0.0, 0.0, 0.0, 0.0, 0.0, 0.0, 0.0, 0.0, 0.0, 0.0, 0.0, 0.0, 0.0, 0.0, 0.0, 0.0, 0.0, 0.0, 0.0, 0.0, 0.0, 0.0, 0.0, 0.0, 0.0, 0.0, 0.0, 0.0, 0.0, 0.0, 0.0, 0.0, 0.0, 0.0, 0.0, 0.0, 0.0, 0.0, 0.0, 0.0, 0.0, 0.0, 0.0, 0.0, 0.0, 0.0, 0.0, 0.0, 0.0, 0.0, 0.0, 0.0, 0.0, 0.0, 0.0, 0.0, 0.0, 0.0, 0.0, 0.0, 0.0, 0.0, 0.0, 0.0, 0.0, 0.0, 0.0, 0.0, 0.0, 0.0], [0.0, 0.0, 0.0, 0.0, 0.0, 0.0, 0.0, 0.0, 0.0, 0.0, 0.0, 0.0, 0.0, 0.0, 0.0, 0.0, 0.0, 0.0, 0.0, 0.0, 0.0, 0.0, 0.0, 0.0, 0.0, 0.0, 0.0, 0.0, 0.0, 0.0, 0.0, 0.0, 0.0, 0.0, 0.0, 0.0, 0.0, 0.0, 0.0, 0.0, 0.0, 0.0, 0.0, 0.0, 0.0, 0.0, 0.0, 0.0, 0.0, 0.0, 0.0, 0.0, 0.0, 0.0, 0.0, 0.0, 0.0, 0.0, 0.0, 0.0, 0.0, 0.0, 0.0, 0.0, 0.0, 0.0, 0.0, 0.0, 0.0, 0.0, 0.0, 0.0, 0.0, 0.0, 0.0, 0.0, 0.0, 0.0, 0.0, 0.0, 0.0, 0.0, 0.0, 0.0, 0.0, 0.0, 0.0, 0.0, 0.0, 0.0, 0.0, 0.0, 0.0, 0.0, 0.0, 0.0, 0.0, 0.0, 0.0, 0.0], [0.0, 0.0, 0.0, 0.0, 0.0, 0.0, 0.0, 0.0, 0.0, 0.0, 0.0, 0.0, 0.0, 0.0, 0.0, 0.0, 0.0, 0.0, 0.0, 0.0, 0.0, 0.0, 0.0, 0.0, 0.0, 0.0, 0.0, 0.0, 0.0, 0.0, 0.0, 0.0, 0.0, 0.0, 0.0, 0.0, 0.0, 0.0, 0.0, 0.0, 0.0, 0.0, 0.0, 0.0, 0.0, 0.0, 0.0, 0.0, 0.0, 0.0, 0.0, 0.0, 0.0, 0.0, 0.0, 0.0, 0.0, 0.0, 0.0, 0.0, 0.0, 0.0, 0.0, 0.0, 0.0, 0.0, 0.0, 0.0, 0.0, 0.0, 0.0, 0.0, 0.0, 0.0, 0.0, 0.0, 0.0, 0.0, 0.0, 0.0, 0.0, 0.0, 0.0, 0.0, 0.0, 0.0, 0.0, 0.0, 0.0, 0.0, 0.0, 0.0, 0.0, 0.0, 0.0, 0.0, 0.0, 0.0, 0.0, 0.0], [0.0, 0.0, 0.0, 0.0, 0.0, 0.0, 0.0, 0.0, 0.0, 0.0, 0.0, 0.0, 0.0, 0.0, 0.0, 0.0, 0.0, 0.0, 0.0, 0.0, 0.0, 0.0, 0.0, 0.0, 0.0, 0.0, 0.0, 0.0, 0.0, 0.0, 0.0, 0.0, 0.0, 0.0, 0.0, 0.0, 0.0, 0.0, 0.0, 0.0, 0.0, 0.0, 0.0, 0.0, 0.0, 0.0, 0.0, 0.0, 0.0, 0.0, 0.0, 0.0, 0.0, 0.0, 0.0, 0.0, 0.0, 0.0, 0.0, 0.0, 0.0, 0.0, 0.0, 0.0, 0.0, 0.0, 0.0, 0.0, 0.0, 0.0, 0.0, 0.0, 0.0, 0.0, 0.0, 0.0, 0.0, 0.0, 0.0, 0.0, 0.0, 0.0, 0.0, 0.0, 0.0, 0.0, 0.0, 0.0, 0.0, 0.0, 0.0, 0.0, 0.0, 0.0, 0.0, 0.0, 0.0, 0.0, 0.0, 0.0], [0.0, 0.0, 0.0, 0.0, 0.0, 0.0, 0.0, 0.0, 0.0, 0.0, 0.0, 0.0, 0.0, 0.0, 0.0, 0.0, 0.0, 0.0, 0.0, 0.0, 0.0, 0.0, 0.0, 0.0, 0.0, 0.0, 0.0, 0.0, 0.0, 0.0, 0.0, 0.0, 0.0, 0.0, 0.0, 0.0, 0.0, 0.0, 0.0, 0.0, 0.0, 0.0, 0.0, 0.0, 0.0, 0.0, 0.0, 0.0, 0.0, 0.0, 0.0, 0.0, 0.0, 0.0, 0.0, 0.0, 0.0, 0.0, 0.0, 0.0, 0.0, 0.0, 0.0, 0.0, 0.0, 0.0, 0.0, 0.0, 0.0, 0.0, 0.0, 0.0, 0.0, 0.0, 0.0, 0.0, 0.0, 0.0, 0.0, 0.0, 0.0, 0.0, 0.0, 0.0, 0.0, 0.0, 0.0, 0.0, 0.0, 0.0, 0.0, 0.0, 0.0, 0.0, 0.0, 0.0, 0.0, 0.0, 0.0, 0.0], [0.0, 0.0, 0.0, 0.0, 0.0, 0.0, 0.0, 0.0, 0.0, 0.0, 0.0, 0.0, 0.0, 0.0, 0.0, 0.0, 0.0, 0.0, 0.0, 0.0, 0.0, 0.0, 0.0, 0.0, 0.0, 0.0, 0.0, 0.0, 0.0, 0.0, 0.0, 0.0, 0.0, 0.0, 0.0, 0.0, 0.0, 0.0, 0.0, 0.0, 0.0, 0.0, 0.0, 0.0, 0.0, 0.0, 0.0, 0.0, 0.0, 0.0, 0.0, 0.0, 0.0, 0.0, 0.0, 0.0, 0.0, 0.0, 0.0, 0.0, 0.0, 0.0, 0.0, 0.0, 0.0, 0.0, 0.0, 0.0, 0.0, 0.0, 0.0, 0.0, 0.0, 0.0, 0.0, 0.0, 0.0, 0.0, 0.0, 0.0, 0.0, 0.0, 0.0, 0.0, 0.0, 0.0, 0.0, 0.0, 0.0, 0.0, 0.0, 0.0, 0.0, 0.0, 0.0, 0.0, 0.0, 0.0, 0.0, 0.0], [0.0, 0.0, 0.0, 0.0, 0.0, 0.0, 0.0, 0.0, 0.0, 0.0, 0.0, 0.0, 0.0, 0.0, 0.0, 0.0, 0.0, 0.0, 0.0, 0.0, 0.0, 0.0, 0.0, 0.0, 0.0, 0.0, 0.0, 0.0, 0.0, 0.0, 0.0, 0.0, 0.0, 0.0, 0.0, 0.0, 0.0, 0.0, 0.0, 0.0, 0.0, 0.0, 0.0, 0.0, 0.0, 0.0, 0.0, 0.0, 0.0, 0.0, 0.0, 0.0, 0.0, 0.0, 0.0, 0.0, 0.0, 0.0, 0.0, 0.0, 0.0, 0.0, 0.0, 0.0, 0.0, 0.0, 0.0, 0.0, 0.0, 0.0, 0.0, 0.0, 0.0, 0.0, 0.0, 0.0, 0.0, 0.0, 0.0, 0.0, 0.0, 0.0, 0.0, 0.0, 0.0, 0.0, 0.0, 0.0, 0.0, 0.0, 0.0, 0.0, 0.0, 0.0, 0.0, 0.0, 0.0, 0.0, 0.0, 0.0], [0.0, 0.0, 0.0, 0.0, 0.0, 0.0, 0.0, 0.0, 0.0, 0.0, 0.0, 0.0, 0.0, 0.0, 0.0, 0.0, 0.0, 0.0, 0.0, 0.0, 0.0, 0.0, 0.0, 0.0, 0.0, 0.0, 0.0, 0.0, 0.0, 0.0, 0.0, 0.0, 0.0, 0.0, 0.0, 0.0, 0.0, 0.0, 0.0, 0.0, 0.0, 0.0, 0.0, 0.0, 0.0, 0.0, 0.0, 0.0, 0.0, 0.0, 0.0, 0.0, 0.0, 0.0, 0.0, 0.0, 0.0, 0.0, 0.0, 0.0, 0.0, 0.0, 0.0, 0.0, 0.0, 0.0, 0.0, 0.0, 0.0, 0.0, 0.0, 0.0, 0.0, 0.0, 0.0, 0.0, 0.0, 0.0, 0.0, 0.0, 0.0, 0.0, 0.0, 0.0, 0.0, 0.0, 0.0, 0.0, 0.0, 0.0, 0.0, 0.0, 0.0, 0.0, 0.0, 0.0, 0.0, 0.0, 0.0, 0.0], [0.0, 0.0, 0.0, 0.0, 0.0, 0.0, 0.0, 0.0, 0.0, 0.0, 0.0, 0.0, 0.0, 0.0, 0.0, 0.0, 0.0, 0.0, 0.0, 0.0, 0.0, 0.0, 0.0, 0.0, 0.0, 0.0, 0.0, 0.0, 0.0, 0.0, 0.0, 0.0, 0.0, 0.0, 0.0, 0.0, 0.0, 0.0, 0.0, 0.0, 0.0, 0.0, 0.0, 0.0, 0.0, 0.0, 0.0, 0.0, 0.0, 0.0, 0.0, 0.0, 0.0, 0.0, 0.0, 0.0, 0.0, 0.0, 0.0, 0.0, 0.0, 0.0, 0.0, 0.0, 0.0, 0.0, 0.0, 0.0, 0.0, 0.0, 0.0, 0.0, 0.0, 0.0, 0.0, 0.0, 0.0, 0.0, 0.0, 0.0, 0.0, 0.0, 0.0, 0.0, 0.0, 0.0, 0.0, 0.0, 0.0, 0.0, 0.0, 0.0, 0.0, 0.0, 0.0, 0.0, 0.0, 0.0, 0.0, 0.0], [0.0, 0.0, 0.0, 0.0, 0.0, 0.0, 0.0, 0.0, 0.0, 0.0, 0.0, 0.0, 0.0, 0.0, 0.0, 0.0, 0.0, 0.0, 0.0, 0.0, 0.0, 0.0, 0.0, 0.0, 0.0, 0.0, 0.0, 0.0, 0.0, 0.0, 0.0, 0.0, 0.0, 0.0, 0.0, 0.0, 0.0, 0.0, 0.0, 0.0, 0.0, 0.0, 0.0, 0.0, 0.0, 0.0, 0.0, 0.0, 0.0, 0.0, 0.0, 0.0, 0.0, 0.0, 0.0, 0.0, 0.0, 0.0, 0.0, 0.0, 0.0, 0.0, 0.0, 0.0, 0.0, 0.0, 0.0, 0.0, 0.0, 0.0, 0.0, 0.0, 0.0, 0.0, 0.0, 0.0, 0.0, 0.0, 0.0, 0.0, 0.0, 0.0, 0.0, 0.0, 0.0, 0.0, 0.0, 0.0, 0.0, 0.0, 0.0, 0.0, 0.0, 0.0, 0.0, 0.0, 0.0, 0.0, 0.0, 0.0], [0.0, 0.0, 0.0, 0.0, 0.0, 0.0, 0.0, 0.0, 0.0, 0.0, 0.0, 0.0, 0.0, 0.0, 0.0, 0.0, 0.0, 0.0, 0.0, 0.0, 0.0, 0.0, 0.0, 0.0, 0.0, 0.0, 0.0, 0.0, 0.0, 0.0, 0.0, 0.0, 0.0, 0.0, 0.0, 0.0, 0.0, 0.0, 0.0, 0.0, 0.0, 0.0, 0.0, 0.0, 0.0, 0.0, 0.0, 0.0, 0.0, 0.0, 0.0, 0.0, 0.0, 0.0, 0.0, 0.0, 0.0, 0.0, 0.0, 0.0, 0.0, 0.0, 0.0, 0.0, 0.0, 0.0, 0.0, 0.0, 0.0, 0.0, 0.0, 0.0, 0.0, 0.0, 0.0, 0.0, 0.0, 0.0, 0.0, 0.0, 0.0, 0.0, 0.0, 0.0, 0.0, 0.0, 0.0, 0.0, 0.0, 0.0, 0.0, 0.0, 0.0, 0.0, 0.0, 0.0, 0.0, 0.0, 0.0, 0.0], [0.0, 0.0, 0.0, 0.0, 0.0, 0.0, 0.0, 0.0, 0.0, 0.0, 0.0, 0.0, 0.0, 0.0, 0.0, 0.0, 0.0, 0.0, 0.0, 0.0, 0.0, 0.0, 0.0, 0.0, 0.0, 0.0, 0.0, 0.0, 0.0, 0.0, 0.0, 0.0, 0.0, 0.0, 0.0, 0.0, 0.0, 0.0, 0.0, 0.0, 0.0, 0.0, 0.0, 0.0, 0.0, 0.0, 0.0, 0.0, 0.0, 0.0, 0.0, 0.0, 0.0, 0.0, 0.0, 0.0, 0.0, 0.0, 0.0, 0.0, 0.0, 0.0, 0.0, 0.0, 0.0, 0.0, 0.0, 0.0, 0.0, 0.0, 0.0, 0.0, 0.0, 0.0, 0.0, 0.0, 0.0, 0.0, 0.0, 0.0, 0.0, 0.0, 0.0, 0.0, 0.0, 0.0, 0.0, 0.0, 0.0, 0.0, 0.0, 0.0, 0.0, 0.0, 0.0, 0.0, 0.0, 0.0, 0.0, 0.0], [0.0, 0.0, 0.0, 0.0, 0.0, 0.0, 0.0, 0.0, 0.0, 0.0, 0.0, 0.0, 0.0, 0.0, 0.0, 0.0, 0.0, 0.0, 0.0, 0.0, 0.0, 0.0, 0.0, 0.0, 0.0, 0.0, 0.0, 0.0, 0.0, 0.0, 0.0, 0.0, 0.0, 0.0, 0.0, 0.0, 0.0, 0.0, 0.0, 0.0, 0.0, 0.0, 0.0, 0.0, 0.0, 0.0, 0.0, 0.0, 0.0, 0.0, 0.0, 0.0, 0.0, 0.0, 0.0, 0.0, 0.0, 0.0, 0.0, 0.0, 0.0, 0.0, 0.0, 0.0, 0.0, 0.0, 0.0, 0.0, 0.0, 0.0, 0.0, 0.0, 0.0, 0.0, 0.0, 0.0, 0.0, 0.0, 0.0, 0.0, 0.0, 0.0, 0.0, 0.0, 0.0, 0.0, 0.0, 0.0, 0.0, 0.0, 0.0, 0.0, 0.0, 0.0, 0.0, 0.0, 0.0, 0.0, 0.0, 0.0], [0.0, 0.0, 0.0, 0.0, 0.0, 0.0, 0.0, 0.0, 0.0, 0.0, 0.0, 0.0, 0.0, 0.0, 0.0, 0.0, 0.0, 0.0, 0.0, 0.0, 0.0, 0.0, 0.0, 0.0, 0.0, 0.0, 0.0, 0.0, 0.0, 0.0, 0.0, 0.0, 0.0, 0.0, 0.0, 0.0, 0.0, 0.0, 0.0, 0.0, 0.0, 0.0, 0.0, 0.0, 0.0, 0.0, 0.0, 0.0, 0.0, 0.0, 0.0, 0.0, 0.0, 0.0, 0.0, 0.0, 0.0, 0.0, 0.0, 0.0, 0.0, 0.0, 0.0, 0.0, 0.0, 0.0, 0.0, 0.0, 0.0, 0.0, 0.0, 0.0, 0.0, 0.0, 0.0, 0.0, 0.0, 0.0, 0.0, 0.0, 0.0, 0.0, 0.0, 0.0, 0.0, 0.0, 0.0, 0.0, 0.0, 0.0, 0.0, 0.0, 0.0, 0.0, 0.0, 0.0, 0.0, 0.0, 0.0, 0.0], [0.0, 0.0, 0.0, 0.0, 0.0, 0.0, 0.0, 0.0, 0.0, 0.0, 0.0, 0.0, 0.0, 0.0, 0.0, 0.0, 0.0, 0.0, 0.0, 0.0, 0.0, 0.0, 0.0, 0.0, 0.0, 0.0, 0.0, 0.0, 0.0, 0.0, 0.0, 0.0, 0.0, 0.0, 0.0, 0.0, 0.0, 0.0, 0.0, 0.0, 0.0, 0.0, 0.0, 0.0, 0.0, 0.0, 0.0, 0.0, 0.0, 0.0, 0.0, 0.0, 0.0, 0.0, 0.0, 0.0, 0.0, 0.0, 0.0, 0.0, 0.0, 0.0, 0.0, 0.0, 0.0, 0.0, 0.0, 0.0, 0.0, 0.0, 0.0, 0.0, 0.0, 0.0, 0.0, 0.0, 0.0, 0.0, 0.0, 0.0, 0.0, 0.0, 0.0, 0.0, 0.0, 0.0, 0.0, 0.0, 0.0, 0.0, 0.0, 0.0, 0.0, 0.0, 0.0, 0.0, 0.0, 0.0, 0.0, 0.0], [0.0, 0.0, 0.0, 0.0, 0.0, 0.0, 0.0, 0.0, 0.0, 0.0, 0.0, 0.0, 0.0, 0.0, 0.0, 0.0, 0.0, 0.0, 0.0, 0.0, 0.0, 0.0, 0.0, 0.0, 0.0, 0.0, 0.0, 0.0, 0.0, 0.0, 0.0, 0.0, 0.0, 0.0, 0.0, 0.0, 0.0, 0.0, 0.0, 0.0, 0.0, 0.0, 0.0, 0.0, 0.0, 0.0, 0.0, 0.0, 0.0, 0.0, 0.0, 0.0, 0.0, 0.0, 0.0, 0.0, 0.0, 0.0, 0.0, 0.0, 0.0, 0.0, 0.0, 0.0, 0.0, 0.0, 0.0, 0.0, 0.0, 0.0, 0.0, 0.0, 0.0, 0.0, 0.0, 0.0, 0.0, 0.0, 0.0, 0.0, 0.0, 0.0, 0.0, 0.0, 0.0, 0.0, 0.0, 0.0, 0.0, 0.0, 0.0, 0.0, 0.0, 0.0, 0.0, 0.0, 0.0, 0.0, 0.0, 0.0], [0.0, 0.0, 0.0, 0.0, 0.0, 0.0, 0.0, 0.0, 0.0, 0.0, 0.0, 0.0, 0.0, 0.0, 0.0, 0.0, 0.0, 0.0, 0.0, 0.0, 0.0, 0.0, 0.0, 0.0, 0.0, 0.0, 0.0, 0.0, 0.0, 0.0, 0.0, 0.0, 0.0, 0.0, 0.0, 0.0, 0.0, 0.0, 0.0, 0.0, 0.0, 0.0, 0.0, 0.0, 0.0, 0.0, 0.0, 0.0, 0.0, 0.0, 0.0, 0.0, 0.0, 0.0, 0.0, 0.0, 0.0, 0.0, 0.0, 0.0, 0.0, 0.0, 0.0, 0.0, 0.0, 0.0, 0.0, 0.0, 0.0, 0.0, 0.0, 0.0, 0.0, 0.0, 0.0, 0.0, 0.0, 0.0, 0.0, 0.0, 0.0, 0.0, 0.0, 0.0, 0.0, 0.0, 0.0, 0.0, 0.0, 0.0, 0.0, 0.0, 0.0, 0.0, 0.0, 0.0, 0.0, 0.0, 0.0, 0.0], [0.0, 0.0, 0.0, 0.0, 0.0, 0.0, 0.0, 0.0, 0.0, 0.0, 0.0, 0.0, 0.0, 0.0, 0.0, 0.0, 0.0, 0.0, 0.0, 0.0, 0.0, 0.0, 0.0, 0.0, 0.0, 0.0, 0.0, 0.0, 0.0, 0.0, 0.0, 0.0, 0.0, 0.0, 0.0, 0.0, 0.0, 0.0, 0.0, 0.0, 0.0, 0.0, 0.0, 0.0, 0.0, 0.0, 0.0, 0.0, 0.0, 0.0, 0.0, 0.0, 0.0, 0.0, 0.0, 0.0, 0.0, 0.0, 0.0, 0.0, 0.0, 0.0, 0.0, 0.0, 0.0, 0.0, 0.0, 0.0, 0.0, 0.0, 0.0, 0.0, 0.0, 0.0, 0.0, 0.0, 0.0, 0.0, 0.0, 0.0, 0.0, 0.0, 0.0, 0.0, 0.0, 0.0, 0.0, 0.0, 0.0, 0.0, 0.0, 0.0, 0.0, 0.0, 0.0, 0.0, 0.0, 0.0, 0.0, 0.0], [0.0, 0.0, 0.0, 0.0, 0.0, 0.0, 0.0, 0.0, 0.0, 0.0, 0.0, 0.0, 0.0, 0.0, 0.0, 0.0, 0.0, 0.0, 0.0, 0.0, 0.0, 0.0, 0.0, 0.0, 0.0, 0.0, 0.0, 0.0, 0.0, 0.0, 0.0, 0.0, 0.0, 0.0, 0.0, 0.0, 0.0, 0.0, 0.0, 0.0, 0.0, 0.0, 0.0, 0.0, 0.0, 0.0, 0.0, 0.0, 0.0, 0.0, 0.0, 0.0, 0.0, 0.0, 0.0, 0.0, 0.0, 0.0, 0.0, 0.0, 0.0, 0.0, 0.0, 0.0, 0.0, 0.0, 0.0, 0.0, 0.0, 0.0, 0.0, 0.0, 0.0, 0.0, 0.0, 0.0, 0.0, 0.0, 0.0, 0.0, 0.0, 0.0, 0.0, 0.0, 0.0, 0.0, 0.0, 0.0, 0.0, 0.0, 0.0, 0.0, 0.0, 0.0, 0.0, 0.0, 0.0, 0.0, 0.0, 0.0], [0.0, 0.0, 0.0, 0.0, 0.0, 0.0, 0.0, 0.0, 0.0, 0.0, 0.0, 0.0, 0.0, 0.0, 0.0, 0.0, 0.0, 0.0, 0.0, 0.0, 0.0, 0.0, 0.0, 0.0, 0.0, 0.0, 0.0, 0.0, 0.0, 0.0, 0.0, 0.0, 0.0, 0.0, 0.0, 0.0, 0.0, 0.0, 0.0, 0.0, 0.0, 0.0, 0.0, 0.0, 0.0, 0.0, 0.0, 0.0, 0.0, 0.0, 0.0, 0.0, 0.0, 0.0, 0.0, 0.0, 0.0, 0.0, 0.0, 0.0, 0.0, 0.0, 0.0, 0.0, 0.0, 0.0, 0.0, 0.0, 0.0, 0.0, 0.0, 0.0, 0.0, 0.0, 0.0, 0.0, 0.0, 0.0, 0.0, 0.0, 0.0, 0.0, 0.0, 0.0, 0.0, 0.0, 0.0, 0.0, 0.0, 0.0, 0.0, 0.0, 0.0, 0.0, 0.0, 0.0, 0.0, 0.0, 0.0, 0.0], [0.0, 0.0, 0.0, 0.0, 0.0, 0.0, 0.0, 0.0, 0.0, 0.0, 0.0, 0.0, 0.0, 0.0, 0.0, 0.0, 0.0, 0.0, 0.0, 0.0, 0.0, 0.0, 0.0, 0.0, 0.0, 0.0, 0.0, 0.0, 0.0, 0.0, 0.0, 0.0, 0.0, 0.0, 0.0, 0.0, 0.0, 0.0, 0.0, 0.0, 0.0, 0.0, 0.0, 0.0, 0.0, 0.0, 0.0, 0.0, 0.0, 0.0, 0.0, 0.0, 0.0, 0.0, 0.0, 0.0, 0.0, 0.0, 0.0, 0.0, 0.0, 0.0, 0.0, 0.0, 0.0, 0.0, 0.0, 0.0, 0.0, 0.0, 0.0, 0.0, 0.0, 0.0, 0.0, 0.0, 0.0, 0.0, 0.0, 0.0, 0.0, 0.0, 0.0, 0.0, 0.0, 0.0, 0.0, 0.0, 0.0, 0.0, 0.0, 0.0, 0.0, 0.0, 0.0, 0.0, 0.0, 0.0, 0.0, 0.0], [0.0, 0.0, 0.0, 0.0, 0.0, 0.0, 0.0, 0.0, 0.0, 0.0, 0.0, 0.0, 0.0, 0.0, 0.0, 0.0, 0.0, 0.0, 0.0, 0.0, 0.0, 0.0, 0.0, 0.0, 0.0, 0.0, 0.0, 0.0, 0.0, 0.0, 0.0, 0.0, 0.0, 0.0, 0.0, 0.0, 0.0, 0.0, 0.0, 0.0, 0.0, 0.0, 0.0, 0.0, 0.0, 0.0, 0.0, 0.0, 0.0, 0.0, 0.0, 0.0, 0.0, 0.0, 0.0, 0.0, 0.0, 0.0, 0.0, 0.0, 0.0, 0.0, 0.0, 0.0, 0.0, 0.0, 0.0, 0.0, 0.0, 0.0, 0.0, 0.0, 0.0, 0.0, 0.0, 0.0, 0.0, 0.0, 0.0, 0.0, 0.0, 0.0, 0.0, 0.0, 0.0, 0.0, 0.0, 0.0, 0.0, 0.0, 0.0, 0.0, 0.0, 0.0, 0.0, 0.0, 0.0, 0.0, 0.0, 0.0], [0.0, 0.0, 0.0, 0.0, 0.0, 0.0, 0.0, 0.0, 0.0, 0.0, 0.0, 0.0, 0.0, 0.0, 0.0, 0.0, 0.0, 0.0, 0.0, 0.0, 0.0, 0.0, 0.0, 0.0, 0.0, 0.0, 0.0, 0.0, 0.0, 0.0, 0.0, 0.0, 0.0, 0.0, 0.0, 0.0, 0.0, 0.0, 0.0, 0.0, 0.0, 0.0, 0.0, 0.0, 0.0, 0.0, 0.0, 0.0, 0.0, 0.0, 0.0, 0.0, 0.0, 0.0, 0.0, 0.0, 0.0, 0.0, 0.0, 0.0, 0.0, 0.0, 0.0, 0.0, 0.0, 0.0, 0.0, 0.0, 0.0, 0.0, 0.0, 0.0, 0.0, 0.0, 0.0, 0.0, 0.0, 0.0, 0.0, 0.0, 0.0, 0.0, 0.0, 0.0, 0.0, 0.0, 0.0, 0.0, 0.0, 0.0, 0.0, 0.0, 0.0, 0.0, 0.0, 0.0, 0.0, 0.0, 0.0, 0.0], [0.0, 0.0, 0.0, 0.0, 0.0, 0.0, 0.0, 0.0, 0.0, 0.0, 0.0, 0.0, 0.0, 0.0, 0.0, 0.0, 0.0, 0.0, 0.0, 0.0, 0.0, 0.0, 0.0, 0.0, 0.0, 0.0, 0.0, 0.0, 0.0, 0.0, 0.0, 0.0, 0.0, 0.0, 0.0, 0.0, 0.0, 0.0, 0.0, 0.0, 0.0, 0.0, 0.0, 0.0, 0.0, 0.0, 0.0, 0.0, 0.0, 0.0, 0.0, 0.0, 0.0, 0.0, 0.0, 0.0, 0.0, 0.0, 0.0, 0.0, 0.0, 0.0, 0.0, 0.0, 0.0, 0.0, 0.0, 0.0, 0.0, 0.0, 0.0, 0.0, 0.0, 0.0, 0.0, 0.0, 0.0, 0.0, 0.0, 0.0, 0.0, 0.0, 0.0, 0.0, 0.0, 0.0, 0.0, 0.0, 0.0, 0.0, 0.0, 0.0, 0.0, 0.0, 0.0, 0.0, 0.0, 0.0, 0.0, 0.0], [0.0, 0.0, 0.0, 0.0, 0.0, 0.0, 0.0, 0.0, 0.0, 0.0, 0.0, 0.0, 0.0, 0.0, 0.0, 0.0, 0.0, 0.0, 0.0, 0.0, 0.0, 0.0, 0.0, 0.0, 0.0, 0.0, 0.0, 0.0, 0.0, 0.0, 0.0, 0.0, 0.0, 0.0, 0.0, 0.0, 0.0, 0.0, 0.0, 0.0, 0.0, 0.0, 0.0, 0.0, 0.0, 0.0, 0.0, 0.0, 0.0, 0.0, 0.0, 0.0, 0.0, 0.0, 0.0, 0.0, 0.0, 0.0, 0.0, 0.0, 0.0, 0.0, 0.0, 0.0, 0.0, 0.0, 0.0, 0.0, 0.0, 0.0, 0.0, 0.0, 0.0, 0.0, 0.0, 0.0, 0.0, 0.0, 0.0, 0.0, 0.0, 0.0, 0.0, 0.0, 0.0, 0.0, 0.0, 0.0, 0.0, 0.0, 0.0, 0.0, 0.0, 0.0, 0.0, 0.0, 0.0, 0.0, 0.0, 0.0], [0.0, 0.0, 0.0, 0.0, 0.0, 0.0, 0.0, 0.0, 0.0, 0.0, 0.0, 0.0, 0.0, 0.0, 0.0, 0.0, 0.0, 0.0, 0.0, 0.0, 0.0, 0.0, 0.0, 0.0, 0.0, 0.0, 0.0, 0.0, 0.0, 0.0, 0.0, 0.0, 0.0, 0.0, 0.0, 0.0, 0.0, 0.0, 0.0, 0.0, 0.0, 0.0, 0.0, 0.0, 0.0, 0.0, 0.0, 0.0, 0.0, 0.0, 0.0, 0.0, 0.0, 0.0, 0.0, 0.0, 0.0, 0.0, 0.0, 0.0, 0.0, 0.0, 0.0, 0.0, 0.0, 0.0, 0.0, 0.0, 0.0, 0.0, 0.0, 0.0, 0.0, 0.0, 0.0, 0.0, 0.0, 0.0, 0.0, 0.0, 0.0, 0.0, 0.0, 0.0, 0.0, 0.0, 0.0, 0.0, 0.0, 0.0, 0.0, 0.0, 0.0, 0.0, 0.0, 0.0, 0.0, 0.0, 0.0, 0.0], [0.0, 0.0, 0.0, 0.0, 0.0, 0.0, 0.0, 0.0, 0.0, 0.0, 0.0, 0.0, 0.0, 0.0, 0.0, 0.0, 0.0, 0.0, 0.0, 0.0, 0.0, 0.0, 0.0, 0.0, 0.0, 0.0, 0.0, 0.0, 0.0, 0.0, 0.0, 0.0, 0.0, 0.0, 0.0, 0.0, 0.0, 0.0, 0.0, 0.0, 0.0, 0.0, 0.0, 0.0, 0.0, 0.0, 0.0, 0.0, 0.0, 0.0, 0.0, 0.0, 0.0, 0.0, 0.0, 0.0, 0.0, 0.0, 0.0, 0.0, 0.0, 0.0, 0.0, 0.0, 0.0, 0.0, 0.0, 0.0, 0.0, 0.0, 0.0, 0.0, 0.0, 0.0, 0.0, 0.0, 0.0, 0.0, 0.0, 0.0, 0.0, 0.0, 0.0, 0.0, 0.0, 0.0, 0.0, 0.0, 0.0, 0.0, 0.0, 0.0, 0.0, 0.0, 0.0, 0.0, 0.0, 0.0, 0.0, 0.0], [0.0, 0.0, 0.0, 0.0, 0.0, 0.0, 0.0, 0.0, 0.0, 0.0, 0.0, 0.0, 0.0, 0.0, 0.0, 0.0, 0.0, 0.0, 0.0, 0.0, 0.0, 0.0, 0.0, 0.0, 0.0, 0.0, 0.0, 0.0, 0.0, 0.0, 0.0, 0.0, 0.0, 0.0, 0.0, 0.0, 0.0, 0.0, 0.0, 0.0, 0.0, 0.0, 0.0, 0.0, 0.0, 0.0, 0.0, 0.0, 0.0, 0.0, 0.0, 0.0, 0.0, 0.0, 0.0, 0.0, 0.0, 0.0, 0.0, 0.0, 0.0, 0.0, 0.0, 0.0, 0.0, 0.0, 0.0, 0.0, 0.0, 0.0, 0.0, 0.0, 0.0, 0.0, 0.0, 0.0, 0.0, 0.0, 0.0, 0.0, 0.0, 0.0, 0.0, 0.0, 0.0, 0.0, 0.0, 0.0, 0.0, 0.0, 0.0, 0.0, 0.0, 0.0, 0.0, 0.0, 0.0, 0.0, 0.0, 0.0], [0.0, 0.0, 0.0, 0.0, 0.0, 0.0, 0.0, 0.0, 0.0, 0.0, 0.0, 0.0, 0.0, 0.0, 0.0, 0.0, 0.0, 0.0, 0.0, 0.0, 0.0, 0.0, 0.0, 0.0, 0.0, 0.0, 0.0, 0.0, 0.0, 0.0, 0.0, 0.0, 0.0, 0.0, 0.0, 0.0, 0.0, 0.0, 0.0, 0.0, 0.0, 0.0, 0.0, 0.0, 0.0, 0.0, 0.0, 0.0, 0.0, 0.0, 0.0, 0.0, 0.0, 0.0, 0.0, 0.0, 0.0, 0.0, 0.0, 0.0, 0.0, 0.0, 0.0, 0.0, 0.0, 0.0, 0.0, 0.0, 0.0, 0.0, 0.0, 0.0, 0.0, 0.0, 0.0, 0.0, 0.0, 0.0, 0.0, 0.0, 0.0, 0.0, 0.0, 0.0, 0.0, 0.0, 0.0, 0.0, 0.0, 0.0, 0.0, 0.0, 0.0, 0.0, 0.0, 0.0, 0.0, 0.0, 0.0, 0.0], [0.0, 0.0, 0.0, 0.0, 0.0, 0.0, 0.0, 0.0, 0.0, 0.0, 0.0, 0.0, 0.0, 0.0, 0.0, 0.0, 0.0, 0.0, 0.0, 0.0, 0.0, 0.0, 0.0, 0.0, 0.0, 0.0, 0.0, 0.0, 0.0, 0.0, 0.0, 0.0, 0.0, 0.0, 0.0, 0.0, 0.0, 0.0, 0.0, 0.0, 0.0, 0.0, 0.0, 0.0, 0.0, 0.0, 0.0, 0.0, 0.0, 0.0, 0.0, 0.0, 0.0, 0.0, 0.0, 0.0, 0.0, 0.0, 0.0, 0.0, 0.0, 0.0, 0.0, 0.0, 0.0, 0.0, 0.0, 0.0, 0.0, 0.0, 0.0, 0.0, 0.0, 0.0, 0.0, 0.0, 0.0, 0.0, 0.0, 0.0, 0.0, 0.0, 0.0, 0.0, 0.0, 0.0, 0.0, 0.0, 0.0, 0.0, 0.0, 0.0, 0.0, 0.0, 0.0, 0.0, 0.0, 0.0, 0.0, 0.0]]}, {\"marker\": {\"color\": [246.27272727272728, 247.33333333333334, 243.0, 245.85714285714286, 246.85714285714286, 245.25, 243.85714285714286, 244.71428571428572, 245.1818181818182, 245.0, 247.0, 246.0, 244.0909090909091, 244.5, 246.8181818181818, 246.375, 261.0, 246.54545454545453, 261.0, 245.21052631578948, 245.30769230769232, 246.375, 244.82608695652175, 245.8235294117647, 247.875, 245.8421052631579, 244.71428571428572, 245.4, 245.14285714285714, 245.72727272727272, 246.8181818181818, 249.0, 252.0, 248.53846153846155, 249.0, 250.0, 251.57142857142858, 250.57894736842104, 252.85714285714286, 251.57142857142858, 252.6, 252.9, 253.57142857142858, 253.28571428571428, 243.0, 252.75, 254.5, 255.85714285714286, 255.6, 256.2857142857143, 257.3076923076923, 255.0, 256.38461538461536, 254.6, 256.38461538461536, 257.8, 259.44444444444446, 257.16, 256.2631578947368, 256.6, 257.3076923076923, 257.8, 258.0, 257.0, 259.0, 291.0, 257.8125, 309.0, 231.0, 219.0, 213.0, 258.85714285714283, 258.0, 259.5882352941176, 258.0, 257.25, 258.2, 258.6, 259.2, 260.45454545454544, 257.8235294117647, 257.85714285714283, 258.375, 257.2758620689655, 258.5, 258.52941176470586, 258.6, 257.57142857142856, 258.7894736842105, 258.0, 237.0, 260.6, 255.75, 258.375, 258.0, 257.47058823529414, 255.85714285714286, 257.0, 258.0, 256.3333333333333, 254.25, 256.7142857142857, 257.6666666666667, 255.75, 255.85714285714286, 254.14285714285714, 253.5, 255.75, 254.0, 254.14285714285714, 253.0, 253.5, 250.71428571428572, 255.0, 255.75, 254.25, 253.2, 251.76923076923077, 252.0, 254.45454545454547, 251.76923076923077, 253.25, 251.14285714285714, 252.23076923076923, 255.0, 252.0, 253.9090909090909, 250.41176470588235, 253.66666666666666, 251.5, 255.0, 387.0, 423.0, 177.0, 201.0, 204.6, 255.0, 247.0, 315.0, 210.0, 351.0, 345.0, 387.0, 373.8, 363.0, 231.0, 303.0, 292.4436090225564, 321.0, 387.0, 261.0, 213.0, 256.7647058823529, 273.0, 255.85714285714286, 256.0, 255.0, 257.25, 256.6, 257.6666666666667, 258.3, 259.3333333333333, 258.0, 258.0, 260.05263157894734, 259.3636363636364, 260.29411764705884, 261.3529411764706, 261.0, 260.25, 261.0, 261.0, 261.42857142857144, 264.375, 264.0, 261.8, 264.0, 262.90909090909093, 264.42857142857144, 263.14285714285717, 285.0, 265.2352941176471, 263.0869565217391, 264.0, 264.0, 265.2857142857143, 263.7692307692308, 262.7647058823529, 264.85714285714283, 265.15384615384613, 263.7692307692308, 267.0, 267.85714285714283, 267.1818181818182, 268.09090909090907, 268.0, 269.25, 267.0, 270.0, 268.5, 269.75, 270.0, 270.27272727272725, 271.0, 268.875, 270.0, 272.625, 273.0, 271.90909090909093, 271.125, 269.4, 271.6666666666667, 273.0, 270.6, 271.8, 273.0, 273.0, 271.2857142857143, 273.0, 271.5, 270.0, 271.61538461538464, 273.85714285714283, 270.0, 274.2857142857143, 270.0, 271.90909090909093, 270.27272727272725, 270.6, 269.625, 270.0, 270.6923076923077, 270.4736842105263, 269.8235294117647, 268.6, 269.57142857142856, 269.57142857142856, 270.27272727272725, 268.38461538461536, 269.7692307692308, 269.25, 265.2, 265.5, 267.0, 268.5, 268.3333333333333, 266.625, 268.3333333333333, 268.7142857142857, 267.0, 268.7142857142857, 266.5, 264.2, 266.25, 265.5, 267.0, 267.0, 267.9230769230769, 268.5, 268.0, 266.0, 267.0, 268.09090909090907, 269.4, 271.75, 272.2, 269.7692307692308, 271.7142857142857, 269.25, 270.0, 273.0, 273.0, 271.0, 269.72727272727275, 271.2857142857143, 272.4, 273.0, 274.2, 273.0, 271.5, 274.5, 273.0, 274.2857142857143, 274.8, 273.75, 273.0, 273.0, 275.4, 271.94117647058823, 273.6, 273.85714285714283, 274.38461538461536, 271.7142857142857, 271.6666666666667, 273.0, 273.85714285714283, 273.0, 275.0, 271.2857142857143, 270.85714285714283, 273.0, 273.0, 273.0, 273.0, 271.8, 274.38461538461536, 273.75, 273.0, 273.0, 273.0, 273.0, 271.15384615384613, 270.85714285714283, 271.0, 272.0, 273.75, 273.0, 276.6, 274.8, 275.25, 275.7692307692308, 272.0, 274.0, 271.85714285714283, 274.0, 275.57142857142856, 275.4, 274.09090909090907, 275.1818181818182, 275.72727272727275, 274.5, 275.1818181818182, 276.6923076923077, 255.0, 277.5, 273.75, 278.625, 275.0, 276.0, 275.11764705882354, 276.6, 276.5, 276.88235294117646, 276.27272727272725, 276.0, 276.0, 277.61538461538464, 275.72727272727275, 277.8, 277.4, 261.0, 278.6, 276.0, 277.0, 276.75, 277.2857142857143, 278.3333333333333, 277.5, 275.1818181818182, 279.0, 279.0, 279.54545454545456, 277.3636363636364, 279.0, 279.0, 278.4, 303.0, 277.15384615384613, 278.0, 278.25, 280.0, 277.3636363636364, 279.0, 278.0, 275.3076923076923, 277.2, 279.0, 281.0, 276.75, 279.0, 279.0, 277.15384615384613, 274.57894736842104, 277.8, 276.75, 277.2, 277.0, 277.0, 277.0, 276.0, 278.5, 275.5, 274.84615384615387, 275.7692307692308, 277.5, 276.0, 277.94117647058823, 276.2307692307692, 275.57142857142856, 275.6666666666667, 275.57142857142856, 277.61538461538464, 279.0, 278.25, 277.5, 278.0, 279.0, 279.0, 278.25, 280.0, 279.75, 280.84615384615387, 279.0, 280.7142857142857, 281.72727272727275, 282.0, 282.42857142857144, 282.0, 281.1818181818182, 281.4, 280.5, 278.625, 284.25, 282.8181818181818, 281.72727272727275, 282.27272727272725, 281.72727272727275, 282.4736842105263, 280.09090909090907, 281.25, 281.5, 282.0, 280.90909090909093, 283.2857142857143, 281.72727272727275, 279.6, 280.6, 282.2, 278.3333333333333, 280.5, 281.0, 279.54545454545456, 273.0, 279.5, 282.0, 279.42857142857144, 281.0, 281.3076923076923, 278.0, 281.4, 278.57142857142856, 261.0, 279.85714285714283, 279.75, 279.0, 279.0, 279.0, 280.14285714285717, 280.61538461538464, 309.0, 219.0, 213.0, 280.84615384615387, 276.5, 277.2857142857143, 282.27272727272725, 277.5, 278.53846153846155, 277.3636363636364, 279.0, 279.54545454545456, 277.3636363636364, 279.0, 277.5, 280.3333333333333, 276.75, 277.5, 274.6, 276.75, 278.0, 276.0, 279.0, 279.0, 276.6, 279.6666666666667, 297.0, 276.75, 279.85714285714283, 277.61538461538464, 276.27272727272725, 279.0, 276.6, 277.5, 277.15384615384613, 279.0, 276.8181818181818, 276.6, 276.6923076923077, 276.85714285714283, 275.7692307692308, 276.0, 275.4, 275.6666666666667, 275.6666666666667, 276.88235294117646, 276.6, 277.0, 277.15384615384613, 279.6, 277.2857142857143, 280.0, 280.84615384615387, 283.2857142857143, 284.3333333333333, 282.9, 282.2, 281.0, 285.0, 282.7142857142857, 282.88235294117646, 282.3, 281.4, 280.0, 282.0, 280.84615384615387, 282.85714285714283, 282.0, 279.75, 280.7142857142857, 281.1818181818182, 282.0, 280.875, 282.0, 281.4, 281.85714285714283, 281.6666666666667, 280.84615384615387, 279.375, 279.6, 282.6, 279.85714285714283, 279.0, 279.75, 280.6, 280.2, 279.0, 279.0, 279.0, 279.0, 277.0, 276.0, 276.0, 277.8, 276.6, 276.6923076923077, 275.2857142857143, 276.1578947368421, 273.375, 276.0, 277.2857142857143, 275.5, 273.70588235294116, 274.84615384615387, 273.75, 267.0, 277.0, 276.0, 271.5, 272.5, 273.0, 274.2, 274.7142857142857, 271.0, 272.53846153846155, 270.27272727272725, 273.5, 271.90909090909093, 273.85714285714283, 271.0, 270.7894736842105, 271.90909090909093, 270.8181818181818, 272.25, 270.6, 272.0, 270.6923076923077, 268.875, 271.4, 270.2307692307692, 270.55555555555554, 269.85714285714283, 274.30434782608694, 269.1818181818182, 269.8235294117647, 270.2, 267.0, 267.0, 270.27272727272725, 269.57142857142856, 269.6666666666667, 266.0, 269.6666666666667, 267.0, 268.09090909090907, 267.0, 267.42857142857144, 269.72727272727275, 268.2, 268.0, 269.25, 268.38461538461536, 269.8235294117647, 270.2307692307692, 270.0, 269.6666666666667, 271.0, 273.54545454545456, 275.6666666666667, 274.8, 273.75, 273.0, 275.4, 276.6, 274.7142857142857, 276.52941176470586, 277.3636363636364, 275.0, 275.8, 274.6, 276.6, 279.0, 278.3333333333333, 277.0, 276.0, 277.8, 279.85714285714283, 279.0, 280.7142857142857, 282.27272727272725, 279.85714285714283, 282.0, 283.61538461538464, 273.0, 280.8, 280.3333333333333, 281.5, 279.0, 281.8, 280.84615384615387, 282.27272727272725, 243.0, 279.94736842105266, 280.8, 281.25, 278.2173913043478, 301.0, 313.0, 327.0, 219.0, 207.0, 280.38461538461536, 280.0, 280.6363636363636, 280.6, 281.72727272727275, 280.6, 282.0, 280.6363636363636, 280.84615384615387, 281.5, 281.14285714285717, 282.0, 279.85714285714283, 283.5, 280.84615384615387, 279.75, 280.05882352941177, 281.25, 279.8, 281.57142857142856, 282.42857142857144, 281.25, 279.6, 280.8, 279.70588235294116, 279.5, 280.8, 280.38461538461536, 279.0, 281.5, 280.5, 277.6666666666667, 276.8181818181818, 279.0, 280.8, 278.4, 279.0, 278.0, 278.0, 279.0, 278.14285714285717, 279.0, 278.57142857142856, 277.2857142857143, 279.6, 280.3333333333333, 277.875, 278.5, 279.0, 278.6666666666667, 277.90909090909093, 277.61538461538464, 277.0, 277.7142857142857, 275.625, 279.0, 277.8, 278.3333333333333, 277.5, 277.0, 276.9, 276.0, 275.6666666666667, 275.8235294117647, 276.0, 276.0, 275.0, 276.3333333333333, 275.7692307692308, 277.5, 276.75, 276.0, 276.42857142857144, 277.15384615384613, 275.1818181818182, 277.8, 276.2307692307692, 276.5, 278.6, 275.8695652173913, 275.5, 276.3333333333333, 276.8181818181818, 278.25, 281.0, 280.6363636363636, 281.1818181818182, 282.0, 281.7692307692308, 282.1764705882353, 283.3636363636364, 283.8, 287.0, 285.0, 285.57142857142856, 288.0, 287.1818181818182, 287.11764705882354, 288.6, 273.0, 288.0, 287.3076923076923, 289.0, 288.6, 289.2, 288.5, 289.10526315789474, 286.7142857142857, 287.3076923076923, 288.0, 289.0, 289.4, 288.2307692307692, 288.2307692307692, 289.61538461538464, 287.25, 290.5, 289.0, 290.0, 289.5882352941176, 289.0, 286.6, 286.57894736842104, 285.6, 288.2, 289.0, 289.0, 288.85714285714283, 287.11764705882354, 289.2857142857143, 287.25, 287.1818181818182, 289.4, 288.2307692307692, 287.8, 289.5, 286.6, 288.5, 287.0, 286.125, 288.8181818181818, 288.6, 289.15384615384613, 288.6923076923077, 288.375, 288.6923076923077, 286.2, 288.52941176470586, 289.875, 287.8235294117647, 288.0, 289.8, 287.72727272727275, 288.0, 289.7142857142857, 288.8181818181818, 292.0, 291.46153846153845, 289.6666666666667, 289.8, 291.0, 292.09090909090907, 292.5, 292.5, 292.0, 291.0, 293.6666666666667, 289.61538461538464, 292.0, 293.0, 292.5, 290.5, 292.38461538461536, 293.6666666666667, 292.5, 291.0, 291.0, 292.7142857142857, 293.25, 292.5, 291.0, 293.4, 293.0, 294.0, 292.2631578947368, 294.1764705882353, 294.0, 293.6666666666667], \"colorscale\": [[0.0, \"#000004\"], [0.1111111111111111, \"#180f3d\"], [0.2222222222222222, \"#440f76\"], [0.3333333333333333, \"#721f81\"], [0.4444444444444444, \"#9e2f7f\"], [0.5555555555555556, \"#cd4071\"], [0.6666666666666666, \"#f1605d\"], [0.7777777777777778, \"#fd9668\"], [0.8888888888888888, \"#feca8d\"], [1.0, \"#fcfdbf\"]], \"opacity\": 0.8, \"size\": 6.0}, \"mode\": \"markers\", \"type\": \"scatter\", \"x\": [321.54545454545456, 310.0, 318.0, 326.14285714285717, 309.85714285714283, 312.75, 310.2857142857143, 312.42857142857144, 312.27272727272725, 314.2, 315.8, 318.0, 315.0, 315.75, 322.6363636363636, 312.375, 279.0, 313.90909090909093, 237.0, 315.0, 319.15384615384613, 318.375, 316.04347826086956, 317.11764705882354, 321.0, 322.57894736842104, 313.2857142857143, 311.4, 314.14285714285717, 315.54545454545456, 316.6363636363636, 315.0, 321.5, 309.0, 321.0, 317.0, 320.14285714285717, 313.10526315789474, 311.57142857142856, 318.0, 312.6, 317.4, 314.7142857142857, 320.14285714285717, 267.0, 317.25, 310.0, 314.14285714285717, 310.8, 311.14285714285717, 313.15384615384613, 312.0, 313.15384615384613, 310.2, 319.61538461538464, 316.2, 305.8888888888889, 321.48, 313.7368421052632, 313.4, 318.2307692307692, 313.4, 315.0, 309.3333333333333, 318.0, 240.0, 305.25, 201.0, 216.0, 171.0, 153.0, 318.0, 318.0, 315.70588235294116, 318.0, 309.375, 313.4, 318.6, 312.3, 308.72727272727275, 313.2352941176471, 310.7142857142857, 312.375, 312.7241379310345, 315.5, 319.2352941176471, 312.36, 316.14285714285717, 320.05263157894734, 315.0, 279.0, 321.0, 312.0, 315.375, 312.0, 317.11764705882354, 314.57142857142856, 316.2, 316.8, 311.0, 317.25, 313.2857142857143, 315.0, 311.25, 310.7142857142857, 314.14285714285717, 316.5, 317.25, 316.0, 312.85714285714283, 319.5, 312.0, 311.14285714285717, 312.0, 318.0, 315.75, 316.2, 319.61538461538464, 318.0, 310.09090909090907, 313.61538461538464, 319.5, 321.0, 316.38461538461536, 313.15384615384613, 318.0, 314.45454545454544, 322.7647058823529, 317.6666666666667, 319.5, 317.4, 534.0, 519.0, 531.0, 552.0, 477.0, 534.0, 485.0, 504.0, 388.5, 402.0, 381.0, 435.0, 397.8, 459.0, 219.0, 390.42857142857144, 226.71428571428572, 339.0, 87.0, 72.0, 108.0, 303.0, 345.0, 320.14285714285717, 313.0, 317.0, 318.375, 319.4, 318.0, 322.8, 321.0, 315.0, 309.3333333333333, 317.5263157894737, 315.54545454545456, 322.7647058823529, 312.88235294117646, 315.0, 315.0, 316.3333333333333, 314.4, 313.2857142857143, 320.625, 315.0, 322.6, 315.0, 314.72727272727275, 312.42857142857144, 311.57142857142856, 375.0, 315.0, 314.4782608695652, 315.0, 314.5, 317.57142857142856, 315.9230769230769, 315.3529411764706, 318.0, 309.9230769230769, 313.15384615384613, 316.875, 309.85714285714283, 306.09090909090907, 309.54545454545456, 317.0, 312.75, 310.8, 312.0, 319.5, 315.25, 315.0, 316.6363636363636, 312.0, 312.75, 315.5, 312.375, 312.42857142857144, 312.8181818181818, 313.125, 310.8, 315.0, 311.1818181818182, 308.4, 316.8, 315.6, 315.0, 317.57142857142856, 315.6666666666667, 318.0, 315.0, 316.84615384615387, 315.85714285714283, 315.0, 312.0, 315.75, 313.3636363636364, 316.09090909090907, 314.4, 308.25, 309.0, 313.61538461538464, 313.7368421052632, 316.05882352941177, 313.8, 318.0, 314.57142857142856, 310.6363636363636, 313.15384615384613, 315.46153846153845, 314.25, 316.8, 315.0, 312.0, 310.5, 313.0, 317.625, 311.6666666666667, 319.2857142857143, 312.0, 310.7142857142857, 314.0, 319.0, 312.75, 312.0, 318.0, 318.0, 311.7692307692308, 310.5, 317.0, 318.0, 307.2, 323.1818181818182, 312.9, 311.25, 316.6, 310.38461538461536, 310.2857142857143, 316.875, 312.0, 315.0, 316.09090909090907, 313.8, 309.54545454545456, 310.7142857142857, 315.0, 312.0, 315.0, 318.0, 316.5, 309.375, 315.85714285714283, 316.2857142857143, 315.6, 316.5, 318.3333333333333, 315.0, 316.8, 315.70588235294116, 315.6, 318.42857142857144, 315.9230769230769, 311.57142857142856, 317.0, 318.0, 314.14285714285717, 312.1764705882353, 314.0, 319.2857142857143, 314.57142857142856, 312.0, 312.0, 313.6666666666667, 318.3333333333333, 310.8, 318.2307692307692, 318.75, 315.0, 316.2, 315.0, 319.2857142857143, 311.3076923076923, 312.85714285714283, 322.0, 313.0, 315.0, 312.0, 318.0, 316.2, 314.25, 315.0, 317.0, 313.0, 317.2857142857143, 315.0, 316.2857142857143, 315.6, 314.45454545454544, 313.3636363636364, 316.09090909090907, 318.0, 313.90909090909093, 317.53846153846155, 267.0, 317.625, 315.0, 321.0, 312.2, 315.0, 308.29411764705884, 313.4, 315.5, 316.05882352941177, 313.3636363636364, 319.5, 315.0, 319.15384615384613, 316.6363636363636, 318.2, 319.0, 345.0, 317.0, 315.5, 319.0, 316.5, 317.57142857142856, 307.6666666666667, 313.5, 312.8181818181818, 315.0, 318.0, 313.90909090909093, 311.1818181818182, 316.3333333333333, 315.5, 313.8, 261.0, 318.2307692307692, 317.0, 316.5, 316.0, 312.27272727272725, 312.0, 306.0, 306.2307692307692, 316.8, 312.0, 319.6666666666667, 308.25, 315.0, 309.0, 307.61538461538464, 312.1578947368421, 309.0, 308.25, 309.6, 309.0, 315.8, 310.0, 309.0, 310.0, 306.0, 307.15384615384613, 313.15384615384613, 306.5, 309.0, 305.47058823529414, 304.38461538461536, 305.14285714285717, 304.3333333333333, 302.57142857142856, 304.38461538461536, 303.0, 306.0, 302.25, 304.0, 309.0, 308.0, 305.25, 305.0, 302.25, 304.38461538461536, 305.7692307692308, 306.0, 305.1818181818182, 309.0, 309.0, 309.0, 304.6363636363636, 306.0, 309.0, 313.5, 312.0, 307.3636363636364, 304.6363636363636, 310.6363636363636, 307.3636363636364, 310.57894736842104, 310.6363636363636, 314.25, 309.5, 309.0, 317.1818181818182, 306.85714285714283, 312.8181818181818, 310.2, 313.4, 307.0, 315.6666666666667, 314.0, 321.0, 311.1818181818182, 345.0, 311.5, 311.0, 313.7142857142857, 311.0, 315.46153846153845, 313.0, 311.4, 312.0, 357.0, 313.2857142857143, 315.75, 310.5, 319.2857142857143, 318.0, 319.0, 315.9230769230769, 255.0, 435.0, 465.0, 313.61538461538464, 309.5, 313.2857142857143, 309.0, 313.5, 318.6923076923077, 312.27272727272725, 312.6, 313.90909090909093, 315.54545454545456, 312.0, 315.0, 315.0, 319.5, 310.5, 308.6, 308.25, 317.0, 312.6, 313.3636363636364, 318.0, 309.0, 310.3333333333333, 279.0, 308.25, 312.42857142857144, 311.3076923076923, 313.90909090909093, 306.0, 309.6, 310.0, 313.15384615384613, 312.0, 310.09090909090907, 309.6, 310.38461538461536, 308.14285714285717, 307.61538461538464, 309.0, 307.4, 303.6666666666667, 304.3333333333333, 312.52941176470586, 304.8, 311.0, 302.53846153846155, 302.4, 303.0, 308.0, 307.15384615384613, 315.0, 303.0, 304.5, 305.0, 307.4, 306.0, 314.42857142857144, 304.7647058823529, 302.1, 308.4, 309.0, 307.6666666666667, 309.9230769230769, 309.42857142857144, 309.75, 303.75, 302.57142857142856, 304.6363636363636, 306.0, 302.625, 307.125, 306.0, 308.7142857142857, 306.3333333333333, 304.84615384615387, 309.0, 308.4, 304.6, 314.57142857142856, 308.3333333333333, 309.75, 308.2, 304.8, 309.6, 312.0, 313.5, 306.0, 308.0, 309.0, 306.0, 305.4, 308.4, 304.38461538461536, 308.14285714285717, 315.3157894736842, 312.0, 306.0, 308.42857142857144, 309.0, 304.7647058823529, 310.38461538461536, 303.75, 345.0, 312.5, 314.25, 305.0, 306.0, 306.0, 312.0, 306.42857142857144, 306.0, 307.61538461538464, 306.27272727272725, 316.0, 300.27272727272725, 314.14285714285717, 313.0, 310.2631578947368, 312.27272727272725, 312.27272727272725, 308.25, 312.0, 310.25, 307.15384615384613, 303.75, 305.0, 307.61538461538464, 310.77777777777777, 318.14285714285717, 317.8695652173913, 307.90909090909093, 308.6470588235294, 315.4, 304.90909090909093, 308.29411764705884, 307.3636363636364, 308.14285714285717, 310.3333333333333, 311.0, 310.3333333333333, 309.0, 307.90909090909093, 306.42857142857144, 302.14285714285717, 307.3636363636364, 309.0, 309.0, 309.0, 308.53846153846155, 307.5882352941176, 310.38461538461536, 309.0, 307.6666666666667, 307.0, 304.09090909090907, 313.0, 310.8, 309.0, 304.09090909090907, 304.2, 307.0, 303.42857142857144, 306.52941176470586, 309.0, 310.2, 304.2, 303.8, 308.4, 309.6, 315.6666666666667, 304.3333333333333, 308.4, 303.0, 303.85714285714283, 309.0, 307.2857142857143, 307.90909090909093, 312.42857142857144, 309.5, 307.61538461538464, 261.0, 306.0, 306.3333333333333, 305.5, 306.0, 308.6, 309.0, 304.6363636363636, 246.0, 304.2631578947368, 306.0, 300.75, 302.2173913043478, 357.0, 251.0, 225.0, 411.0, 183.0, 306.6923076923077, 303.0, 304.09090909090907, 300.6, 304.6363636363636, 301.8, 303.0, 306.8181818181818, 304.84615384615387, 303.0, 303.42857142857144, 309.0, 305.57142857142856, 300.375, 310.38461538461536, 304.5, 308.6470588235294, 306.75, 301.0, 302.14285714285717, 303.85714285714283, 303.75, 307.2, 303.6, 303.3529411764706, 302.5, 304.8, 301.61538461538464, 303.0, 306.5, 303.0, 303.6666666666667, 309.0, 300.0, 306.6, 307.8, 306.0, 309.0, 301.0, 307.0, 304.7142857142857, 302.0769230769231, 306.85714285714283, 304.7142857142857, 304.8, 305.0, 307.875, 300.0, 306.0, 303.6666666666667, 306.8181818181818, 306.6923076923077, 300.0, 306.0, 309.0, 303.0, 307.2, 306.3333333333333, 306.0, 305.0, 300.3, 306.0, 304.3333333333333, 300.88235294117646, 303.0, 303.0, 306.0, 304.3333333333333, 302.53846153846155, 303.375, 303.0, 306.0, 300.42857142857144, 299.7692307692308, 300.8181818181818, 304.6, 301.61538461538464, 300.5, 303.4, 302.7391304347826, 303.0, 303.0, 307.3636363636364, 301.5, 298.0, 304.09090909090907, 304.09090909090907, 303.0, 298.38461538461536, 301.94117647058823, 301.90909090909093, 298.2, 303.4, 303.0, 302.42857142857144, 297.0, 301.3636363636364, 301.2352941176471, 301.0, 333.0, 300.0, 298.38461538461536, 301.0, 298.2, 299.4, 300.0, 301.10526315789474, 297.42857142857144, 292.84615384615387, 303.0, 299.6666666666667, 301.4, 301.15384615384613, 300.6923076923077, 298.84615384615387, 297.0, 300.0, 299.4, 296.5, 296.29411764705884, 297.0, 305.4, 301.42105263157896, 309.0, 292.2, 300.0, 304.0, 296.14285714285717, 301.5882352941176, 302.57142857142856, 296.25, 298.6363636363636, 297.8, 300.6923076923077, 297.4, 306.375, 296.2, 300.0, 296.6666666666667, 301.125, 301.90909090909093, 300.0, 298.38461538461536, 298.84615384615387, 296.625, 298.84615384615387, 295.8, 299.8235294117647, 300.375, 299.11764705882354, 297.0, 300.6, 298.6363636363636, 297.0, 299.57142857142856, 303.54545454545456, 294.75, 297.0, 299.6666666666667, 298.2, 294.0, 298.09090909090907, 300.5, 298.5, 305.0, 307.5, 302.3333333333333, 299.3076923076923, 309.0, 298.0, 302.5, 304.0, 302.0769230769231, 304.3333333333333, 303.5, 300.0, 300.8181818181818, 303.85714285714283, 305.25, 303.0, 306.0, 303.6, 301.0, 306.0, 304.2631578947368, 305.11764705882354, 306.0, 307.6666666666667], \"xaxis\": \"x3\", \"y\": [246.27272727272728, 247.33333333333334, 243.0, 245.85714285714286, 246.85714285714286, 245.25, 243.85714285714286, 244.71428571428572, 245.1818181818182, 245.0, 247.0, 246.0, 244.0909090909091, 244.5, 246.8181818181818, 246.375, 261.0, 246.54545454545453, 261.0, 245.21052631578948, 245.30769230769232, 246.375, 244.82608695652175, 245.8235294117647, 247.875, 245.8421052631579, 244.71428571428572, 245.4, 245.14285714285714, 245.72727272727272, 246.8181818181818, 249.0, 252.0, 248.53846153846155, 249.0, 250.0, 251.57142857142858, 250.57894736842104, 252.85714285714286, 251.57142857142858, 252.6, 252.9, 253.57142857142858, 253.28571428571428, 243.0, 252.75, 254.5, 255.85714285714286, 255.6, 256.2857142857143, 257.3076923076923, 255.0, 256.38461538461536, 254.6, 256.38461538461536, 257.8, 259.44444444444446, 257.16, 256.2631578947368, 256.6, 257.3076923076923, 257.8, 258.0, 257.0, 259.0, 291.0, 257.8125, 309.0, 231.0, 219.0, 213.0, 258.85714285714283, 258.0, 259.5882352941176, 258.0, 257.25, 258.2, 258.6, 259.2, 260.45454545454544, 257.8235294117647, 257.85714285714283, 258.375, 257.2758620689655, 258.5, 258.52941176470586, 258.6, 257.57142857142856, 258.7894736842105, 258.0, 237.0, 260.6, 255.75, 258.375, 258.0, 257.47058823529414, 255.85714285714286, 257.0, 258.0, 256.3333333333333, 254.25, 256.7142857142857, 257.6666666666667, 255.75, 255.85714285714286, 254.14285714285714, 253.5, 255.75, 254.0, 254.14285714285714, 253.0, 253.5, 250.71428571428572, 255.0, 255.75, 254.25, 253.2, 251.76923076923077, 252.0, 254.45454545454547, 251.76923076923077, 253.25, 251.14285714285714, 252.23076923076923, 255.0, 252.0, 253.9090909090909, 250.41176470588235, 253.66666666666666, 251.5, 255.0, 387.0, 423.0, 177.0, 201.0, 204.6, 255.0, 247.0, 315.0, 210.0, 351.0, 345.0, 387.0, 373.8, 363.0, 231.0, 303.0, 292.4436090225564, 321.0, 387.0, 261.0, 213.0, 256.7647058823529, 273.0, 255.85714285714286, 256.0, 255.0, 257.25, 256.6, 257.6666666666667, 258.3, 259.3333333333333, 258.0, 258.0, 260.05263157894734, 259.3636363636364, 260.29411764705884, 261.3529411764706, 261.0, 260.25, 261.0, 261.0, 261.42857142857144, 264.375, 264.0, 261.8, 264.0, 262.90909090909093, 264.42857142857144, 263.14285714285717, 285.0, 265.2352941176471, 263.0869565217391, 264.0, 264.0, 265.2857142857143, 263.7692307692308, 262.7647058823529, 264.85714285714283, 265.15384615384613, 263.7692307692308, 267.0, 267.85714285714283, 267.1818181818182, 268.09090909090907, 268.0, 269.25, 267.0, 270.0, 268.5, 269.75, 270.0, 270.27272727272725, 271.0, 268.875, 270.0, 272.625, 273.0, 271.90909090909093, 271.125, 269.4, 271.6666666666667, 273.0, 270.6, 271.8, 273.0, 273.0, 271.2857142857143, 273.0, 271.5, 270.0, 271.61538461538464, 273.85714285714283, 270.0, 274.2857142857143, 270.0, 271.90909090909093, 270.27272727272725, 270.6, 269.625, 270.0, 270.6923076923077, 270.4736842105263, 269.8235294117647, 268.6, 269.57142857142856, 269.57142857142856, 270.27272727272725, 268.38461538461536, 269.7692307692308, 269.25, 265.2, 265.5, 267.0, 268.5, 268.3333333333333, 266.625, 268.3333333333333, 268.7142857142857, 267.0, 268.7142857142857, 266.5, 264.2, 266.25, 265.5, 267.0, 267.0, 267.9230769230769, 268.5, 268.0, 266.0, 267.0, 268.09090909090907, 269.4, 271.75, 272.2, 269.7692307692308, 271.7142857142857, 269.25, 270.0, 273.0, 273.0, 271.0, 269.72727272727275, 271.2857142857143, 272.4, 273.0, 274.2, 273.0, 271.5, 274.5, 273.0, 274.2857142857143, 274.8, 273.75, 273.0, 273.0, 275.4, 271.94117647058823, 273.6, 273.85714285714283, 274.38461538461536, 271.7142857142857, 271.6666666666667, 273.0, 273.85714285714283, 273.0, 275.0, 271.2857142857143, 270.85714285714283, 273.0, 273.0, 273.0, 273.0, 271.8, 274.38461538461536, 273.75, 273.0, 273.0, 273.0, 273.0, 271.15384615384613, 270.85714285714283, 271.0, 272.0, 273.75, 273.0, 276.6, 274.8, 275.25, 275.7692307692308, 272.0, 274.0, 271.85714285714283, 274.0, 275.57142857142856, 275.4, 274.09090909090907, 275.1818181818182, 275.72727272727275, 274.5, 275.1818181818182, 276.6923076923077, 255.0, 277.5, 273.75, 278.625, 275.0, 276.0, 275.11764705882354, 276.6, 276.5, 276.88235294117646, 276.27272727272725, 276.0, 276.0, 277.61538461538464, 275.72727272727275, 277.8, 277.4, 261.0, 278.6, 276.0, 277.0, 276.75, 277.2857142857143, 278.3333333333333, 277.5, 275.1818181818182, 279.0, 279.0, 279.54545454545456, 277.3636363636364, 279.0, 279.0, 278.4, 303.0, 277.15384615384613, 278.0, 278.25, 280.0, 277.3636363636364, 279.0, 278.0, 275.3076923076923, 277.2, 279.0, 281.0, 276.75, 279.0, 279.0, 277.15384615384613, 274.57894736842104, 277.8, 276.75, 277.2, 277.0, 277.0, 277.0, 276.0, 278.5, 275.5, 274.84615384615387, 275.7692307692308, 277.5, 276.0, 277.94117647058823, 276.2307692307692, 275.57142857142856, 275.6666666666667, 275.57142857142856, 277.61538461538464, 279.0, 278.25, 277.5, 278.0, 279.0, 279.0, 278.25, 280.0, 279.75, 280.84615384615387, 279.0, 280.7142857142857, 281.72727272727275, 282.0, 282.42857142857144, 282.0, 281.1818181818182, 281.4, 280.5, 278.625, 284.25, 282.8181818181818, 281.72727272727275, 282.27272727272725, 281.72727272727275, 282.4736842105263, 280.09090909090907, 281.25, 281.5, 282.0, 280.90909090909093, 283.2857142857143, 281.72727272727275, 279.6, 280.6, 282.2, 278.3333333333333, 280.5, 281.0, 279.54545454545456, 273.0, 279.5, 282.0, 279.42857142857144, 281.0, 281.3076923076923, 278.0, 281.4, 278.57142857142856, 261.0, 279.85714285714283, 279.75, 279.0, 279.0, 279.0, 280.14285714285717, 280.61538461538464, 309.0, 219.0, 213.0, 280.84615384615387, 276.5, 277.2857142857143, 282.27272727272725, 277.5, 278.53846153846155, 277.3636363636364, 279.0, 279.54545454545456, 277.3636363636364, 279.0, 277.5, 280.3333333333333, 276.75, 277.5, 274.6, 276.75, 278.0, 276.0, 279.0, 279.0, 276.6, 279.6666666666667, 297.0, 276.75, 279.85714285714283, 277.61538461538464, 276.27272727272725, 279.0, 276.6, 277.5, 277.15384615384613, 279.0, 276.8181818181818, 276.6, 276.6923076923077, 276.85714285714283, 275.7692307692308, 276.0, 275.4, 275.6666666666667, 275.6666666666667, 276.88235294117646, 276.6, 277.0, 277.15384615384613, 279.6, 277.2857142857143, 280.0, 280.84615384615387, 283.2857142857143, 284.3333333333333, 282.9, 282.2, 281.0, 285.0, 282.7142857142857, 282.88235294117646, 282.3, 281.4, 280.0, 282.0, 280.84615384615387, 282.85714285714283, 282.0, 279.75, 280.7142857142857, 281.1818181818182, 282.0, 280.875, 282.0, 281.4, 281.85714285714283, 281.6666666666667, 280.84615384615387, 279.375, 279.6, 282.6, 279.85714285714283, 279.0, 279.75, 280.6, 280.2, 279.0, 279.0, 279.0, 279.0, 277.0, 276.0, 276.0, 277.8, 276.6, 276.6923076923077, 275.2857142857143, 276.1578947368421, 273.375, 276.0, 277.2857142857143, 275.5, 273.70588235294116, 274.84615384615387, 273.75, 267.0, 277.0, 276.0, 271.5, 272.5, 273.0, 274.2, 274.7142857142857, 271.0, 272.53846153846155, 270.27272727272725, 273.5, 271.90909090909093, 273.85714285714283, 271.0, 270.7894736842105, 271.90909090909093, 270.8181818181818, 272.25, 270.6, 272.0, 270.6923076923077, 268.875, 271.4, 270.2307692307692, 270.55555555555554, 269.85714285714283, 274.30434782608694, 269.1818181818182, 269.8235294117647, 270.2, 267.0, 267.0, 270.27272727272725, 269.57142857142856, 269.6666666666667, 266.0, 269.6666666666667, 267.0, 268.09090909090907, 267.0, 267.42857142857144, 269.72727272727275, 268.2, 268.0, 269.25, 268.38461538461536, 269.8235294117647, 270.2307692307692, 270.0, 269.6666666666667, 271.0, 273.54545454545456, 275.6666666666667, 274.8, 273.75, 273.0, 275.4, 276.6, 274.7142857142857, 276.52941176470586, 277.3636363636364, 275.0, 275.8, 274.6, 276.6, 279.0, 278.3333333333333, 277.0, 276.0, 277.8, 279.85714285714283, 279.0, 280.7142857142857, 282.27272727272725, 279.85714285714283, 282.0, 283.61538461538464, 273.0, 280.8, 280.3333333333333, 281.5, 279.0, 281.8, 280.84615384615387, 282.27272727272725, 243.0, 279.94736842105266, 280.8, 281.25, 278.2173913043478, 301.0, 313.0, 327.0, 219.0, 207.0, 280.38461538461536, 280.0, 280.6363636363636, 280.6, 281.72727272727275, 280.6, 282.0, 280.6363636363636, 280.84615384615387, 281.5, 281.14285714285717, 282.0, 279.85714285714283, 283.5, 280.84615384615387, 279.75, 280.05882352941177, 281.25, 279.8, 281.57142857142856, 282.42857142857144, 281.25, 279.6, 280.8, 279.70588235294116, 279.5, 280.8, 280.38461538461536, 279.0, 281.5, 280.5, 277.6666666666667, 276.8181818181818, 279.0, 280.8, 278.4, 279.0, 278.0, 278.0, 279.0, 278.14285714285717, 279.0, 278.57142857142856, 277.2857142857143, 279.6, 280.3333333333333, 277.875, 278.5, 279.0, 278.6666666666667, 277.90909090909093, 277.61538461538464, 277.0, 277.7142857142857, 275.625, 279.0, 277.8, 278.3333333333333, 277.5, 277.0, 276.9, 276.0, 275.6666666666667, 275.8235294117647, 276.0, 276.0, 275.0, 276.3333333333333, 275.7692307692308, 277.5, 276.75, 276.0, 276.42857142857144, 277.15384615384613, 275.1818181818182, 277.8, 276.2307692307692, 276.5, 278.6, 275.8695652173913, 275.5, 276.3333333333333, 276.8181818181818, 278.25, 281.0, 280.6363636363636, 281.1818181818182, 282.0, 281.7692307692308, 282.1764705882353, 283.3636363636364, 283.8, 287.0, 285.0, 285.57142857142856, 288.0, 287.1818181818182, 287.11764705882354, 288.6, 273.0, 288.0, 287.3076923076923, 289.0, 288.6, 289.2, 288.5, 289.10526315789474, 286.7142857142857, 287.3076923076923, 288.0, 289.0, 289.4, 288.2307692307692, 288.2307692307692, 289.61538461538464, 287.25, 290.5, 289.0, 290.0, 289.5882352941176, 289.0, 286.6, 286.57894736842104, 285.6, 288.2, 289.0, 289.0, 288.85714285714283, 287.11764705882354, 289.2857142857143, 287.25, 287.1818181818182, 289.4, 288.2307692307692, 287.8, 289.5, 286.6, 288.5, 287.0, 286.125, 288.8181818181818, 288.6, 289.15384615384613, 288.6923076923077, 288.375, 288.6923076923077, 286.2, 288.52941176470586, 289.875, 287.8235294117647, 288.0, 289.8, 287.72727272727275, 288.0, 289.7142857142857, 288.8181818181818, 292.0, 291.46153846153845, 289.6666666666667, 289.8, 291.0, 292.09090909090907, 292.5, 292.5, 292.0, 291.0, 293.6666666666667, 289.61538461538464, 292.0, 293.0, 292.5, 290.5, 292.38461538461536, 293.6666666666667, 292.5, 291.0, 291.0, 292.7142857142857, 293.25, 292.5, 291.0, 293.4, 293.0, 294.0, 292.2631578947368, 294.1764705882353, 294.0, 293.6666666666667], \"yaxis\": \"y3\"}],\n",
              "                        {\"annotations\": [{\"font\": {\"size\": 16}, \"showarrow\": false, \"text\": \"First 400 LoRs\", \"x\": 0.15, \"xanchor\": \"center\", \"xref\": \"paper\", \"y\": 1.0, \"yanchor\": \"bottom\", \"yref\": \"paper\"}, {\"font\": {\"size\": 16}, \"showarrow\": false, \"text\": \"High Pass Filtered Pixels\", \"x\": 0.49999999999999994, \"xanchor\": \"center\", \"xref\": \"paper\", \"y\": 1.0, \"yanchor\": \"bottom\", \"yref\": \"paper\"}, {\"font\": {\"size\": 16}, \"showarrow\": false, \"text\": \"Positions Found\", \"x\": 0.85, \"xanchor\": \"center\", \"xref\": \"paper\", \"y\": 1.0, \"yanchor\": \"bottom\", \"yref\": \"paper\"}], \"margin\": {\"b\": 30, \"l\": 0, \"r\": 0, \"t\": 30}, \"showlegend\": false, \"template\": {\"data\": {\"bar\": [{\"error_x\": {\"color\": \"#2a3f5f\"}, \"error_y\": {\"color\": \"#2a3f5f\"}, \"marker\": {\"line\": {\"color\": \"#E5ECF6\", \"width\": 0.5}}, \"type\": \"bar\"}], \"barpolar\": [{\"marker\": {\"line\": {\"color\": \"#E5ECF6\", \"width\": 0.5}}, \"type\": \"barpolar\"}], \"carpet\": [{\"aaxis\": {\"endlinecolor\": \"#2a3f5f\", \"gridcolor\": \"white\", \"linecolor\": \"white\", \"minorgridcolor\": \"white\", \"startlinecolor\": \"#2a3f5f\"}, \"baxis\": {\"endlinecolor\": \"#2a3f5f\", \"gridcolor\": \"white\", \"linecolor\": \"white\", \"minorgridcolor\": \"white\", \"startlinecolor\": \"#2a3f5f\"}, \"type\": \"carpet\"}], \"choropleth\": [{\"colorbar\": {\"outlinewidth\": 0, \"ticks\": \"\"}, \"type\": \"choropleth\"}], \"contour\": [{\"colorbar\": {\"outlinewidth\": 0, \"ticks\": \"\"}, \"colorscale\": [[0.0, \"#0d0887\"], [0.1111111111111111, \"#46039f\"], [0.2222222222222222, \"#7201a8\"], [0.3333333333333333, \"#9c179e\"], [0.4444444444444444, \"#bd3786\"], [0.5555555555555556, \"#d8576b\"], [0.6666666666666666, \"#ed7953\"], [0.7777777777777778, \"#fb9f3a\"], [0.8888888888888888, \"#fdca26\"], [1.0, \"#f0f921\"]], \"type\": \"contour\"}], \"contourcarpet\": [{\"colorbar\": {\"outlinewidth\": 0, \"ticks\": \"\"}, \"type\": \"contourcarpet\"}], \"heatmap\": [{\"colorbar\": {\"outlinewidth\": 0, \"ticks\": \"\"}, \"colorscale\": [[0.0, \"#0d0887\"], [0.1111111111111111, \"#46039f\"], [0.2222222222222222, \"#7201a8\"], [0.3333333333333333, \"#9c179e\"], [0.4444444444444444, \"#bd3786\"], [0.5555555555555556, \"#d8576b\"], [0.6666666666666666, \"#ed7953\"], [0.7777777777777778, \"#fb9f3a\"], [0.8888888888888888, \"#fdca26\"], [1.0, \"#f0f921\"]], \"type\": \"heatmap\"}], \"heatmapgl\": [{\"colorbar\": {\"outlinewidth\": 0, \"ticks\": \"\"}, \"colorscale\": [[0.0, \"#0d0887\"], [0.1111111111111111, \"#46039f\"], [0.2222222222222222, \"#7201a8\"], [0.3333333333333333, \"#9c179e\"], [0.4444444444444444, \"#bd3786\"], [0.5555555555555556, \"#d8576b\"], [0.6666666666666666, \"#ed7953\"], [0.7777777777777778, \"#fb9f3a\"], [0.8888888888888888, \"#fdca26\"], [1.0, \"#f0f921\"]], \"type\": \"heatmapgl\"}], \"histogram\": [{\"marker\": {\"colorbar\": {\"outlinewidth\": 0, \"ticks\": \"\"}}, \"type\": \"histogram\"}], \"histogram2d\": [{\"colorbar\": {\"outlinewidth\": 0, \"ticks\": \"\"}, \"colorscale\": [[0.0, \"#0d0887\"], [0.1111111111111111, \"#46039f\"], [0.2222222222222222, \"#7201a8\"], [0.3333333333333333, \"#9c179e\"], [0.4444444444444444, \"#bd3786\"], [0.5555555555555556, \"#d8576b\"], [0.6666666666666666, \"#ed7953\"], [0.7777777777777778, \"#fb9f3a\"], [0.8888888888888888, \"#fdca26\"], [1.0, \"#f0f921\"]], \"type\": \"histogram2d\"}], \"histogram2dcontour\": [{\"colorbar\": {\"outlinewidth\": 0, \"ticks\": \"\"}, \"colorscale\": [[0.0, \"#0d0887\"], [0.1111111111111111, \"#46039f\"], [0.2222222222222222, \"#7201a8\"], [0.3333333333333333, \"#9c179e\"], [0.4444444444444444, \"#bd3786\"], [0.5555555555555556, \"#d8576b\"], [0.6666666666666666, \"#ed7953\"], [0.7777777777777778, \"#fb9f3a\"], [0.8888888888888888, \"#fdca26\"], [1.0, \"#f0f921\"]], \"type\": \"histogram2dcontour\"}], \"mesh3d\": [{\"colorbar\": {\"outlinewidth\": 0, \"ticks\": \"\"}, \"type\": \"mesh3d\"}], \"parcoords\": [{\"line\": {\"colorbar\": {\"outlinewidth\": 0, \"ticks\": \"\"}}, \"type\": \"parcoords\"}], \"pie\": [{\"automargin\": true, \"type\": \"pie\"}], \"scatter\": [{\"marker\": {\"colorbar\": {\"outlinewidth\": 0, \"ticks\": \"\"}}, \"type\": \"scatter\"}], \"scatter3d\": [{\"line\": {\"colorbar\": {\"outlinewidth\": 0, \"ticks\": \"\"}}, \"marker\": {\"colorbar\": {\"outlinewidth\": 0, \"ticks\": \"\"}}, \"type\": \"scatter3d\"}], \"scattercarpet\": [{\"marker\": {\"colorbar\": {\"outlinewidth\": 0, \"ticks\": \"\"}}, \"type\": \"scattercarpet\"}], \"scattergeo\": [{\"marker\": {\"colorbar\": {\"outlinewidth\": 0, \"ticks\": \"\"}}, \"type\": \"scattergeo\"}], \"scattergl\": [{\"marker\": {\"colorbar\": {\"outlinewidth\": 0, \"ticks\": \"\"}}, \"type\": \"scattergl\"}], \"scattermapbox\": [{\"marker\": {\"colorbar\": {\"outlinewidth\": 0, \"ticks\": \"\"}}, \"type\": \"scattermapbox\"}], \"scatterpolar\": [{\"marker\": {\"colorbar\": {\"outlinewidth\": 0, \"ticks\": \"\"}}, \"type\": \"scatterpolar\"}], \"scatterpolargl\": [{\"marker\": {\"colorbar\": {\"outlinewidth\": 0, \"ticks\": \"\"}}, \"type\": \"scatterpolargl\"}], \"scatterternary\": [{\"marker\": {\"colorbar\": {\"outlinewidth\": 0, \"ticks\": \"\"}}, \"type\": \"scatterternary\"}], \"surface\": [{\"colorbar\": {\"outlinewidth\": 0, \"ticks\": \"\"}, \"colorscale\": [[0.0, \"#0d0887\"], [0.1111111111111111, \"#46039f\"], [0.2222222222222222, \"#7201a8\"], [0.3333333333333333, \"#9c179e\"], [0.4444444444444444, \"#bd3786\"], [0.5555555555555556, \"#d8576b\"], [0.6666666666666666, \"#ed7953\"], [0.7777777777777778, \"#fb9f3a\"], [0.8888888888888888, \"#fdca26\"], [1.0, \"#f0f921\"]], \"type\": \"surface\"}], \"table\": [{\"cells\": {\"fill\": {\"color\": \"#EBF0F8\"}, \"line\": {\"color\": \"white\"}}, \"header\": {\"fill\": {\"color\": \"#C8D4E3\"}, \"line\": {\"color\": \"white\"}}, \"type\": \"table\"}]}, \"layout\": {\"annotationdefaults\": {\"arrowcolor\": \"#2a3f5f\", \"arrowhead\": 0, \"arrowwidth\": 1}, \"coloraxis\": {\"colorbar\": {\"outlinewidth\": 0, \"ticks\": \"\"}}, \"colorscale\": {\"diverging\": [[0, \"#8e0152\"], [0.1, \"#c51b7d\"], [0.2, \"#de77ae\"], [0.3, \"#f1b6da\"], [0.4, \"#fde0ef\"], [0.5, \"#f7f7f7\"], [0.6, \"#e6f5d0\"], [0.7, \"#b8e186\"], [0.8, \"#7fbc41\"], [0.9, \"#4d9221\"], [1, \"#276419\"]], \"sequential\": [[0.0, \"#0d0887\"], [0.1111111111111111, \"#46039f\"], [0.2222222222222222, \"#7201a8\"], [0.3333333333333333, \"#9c179e\"], [0.4444444444444444, \"#bd3786\"], [0.5555555555555556, \"#d8576b\"], [0.6666666666666666, \"#ed7953\"], [0.7777777777777778, \"#fb9f3a\"], [0.8888888888888888, \"#fdca26\"], [1.0, \"#f0f921\"]], \"sequentialminus\": [[0.0, \"#0d0887\"], [0.1111111111111111, \"#46039f\"], [0.2222222222222222, \"#7201a8\"], [0.3333333333333333, \"#9c179e\"], [0.4444444444444444, \"#bd3786\"], [0.5555555555555556, \"#d8576b\"], [0.6666666666666666, \"#ed7953\"], [0.7777777777777778, \"#fb9f3a\"], [0.8888888888888888, \"#fdca26\"], [1.0, \"#f0f921\"]]}, \"colorway\": [\"#636efa\", \"#EF553B\", \"#00cc96\", \"#ab63fa\", \"#FFA15A\", \"#19d3f3\", \"#FF6692\", \"#B6E880\", \"#FF97FF\", \"#FECB52\"], \"font\": {\"color\": \"#2a3f5f\"}, \"geo\": {\"bgcolor\": \"white\", \"lakecolor\": \"white\", \"landcolor\": \"#E5ECF6\", \"showlakes\": true, \"showland\": true, \"subunitcolor\": \"white\"}, \"hoverlabel\": {\"align\": \"left\"}, \"hovermode\": \"closest\", \"mapbox\": {\"style\": \"light\"}, \"paper_bgcolor\": \"white\", \"plot_bgcolor\": \"#E5ECF6\", \"polar\": {\"angularaxis\": {\"gridcolor\": \"white\", \"linecolor\": \"white\", \"ticks\": \"\"}, \"bgcolor\": \"#E5ECF6\", \"radialaxis\": {\"gridcolor\": \"white\", \"linecolor\": \"white\", \"ticks\": \"\"}}, \"scene\": {\"xaxis\": {\"backgroundcolor\": \"#E5ECF6\", \"gridcolor\": \"white\", \"gridwidth\": 2, \"linecolor\": \"white\", \"showbackground\": true, \"ticks\": \"\", \"zerolinecolor\": \"white\"}, \"yaxis\": {\"backgroundcolor\": \"#E5ECF6\", \"gridcolor\": \"white\", \"gridwidth\": 2, \"linecolor\": \"white\", \"showbackground\": true, \"ticks\": \"\", \"zerolinecolor\": \"white\"}, \"zaxis\": {\"backgroundcolor\": \"#E5ECF6\", \"gridcolor\": \"white\", \"gridwidth\": 2, \"linecolor\": \"white\", \"showbackground\": true, \"ticks\": \"\", \"zerolinecolor\": \"white\"}}, \"shapedefaults\": {\"line\": {\"color\": \"#2a3f5f\"}}, \"ternary\": {\"aaxis\": {\"gridcolor\": \"white\", \"linecolor\": \"white\", \"ticks\": \"\"}, \"baxis\": {\"gridcolor\": \"white\", \"linecolor\": \"white\", \"ticks\": \"\"}, \"bgcolor\": \"#E5ECF6\", \"caxis\": {\"gridcolor\": \"white\", \"linecolor\": \"white\", \"ticks\": \"\"}}, \"title\": {\"x\": 0.05}, \"xaxis\": {\"automargin\": true, \"gridcolor\": \"white\", \"linecolor\": \"white\", \"ticks\": \"\", \"title\": {\"standoff\": 15}, \"zerolinecolor\": \"white\", \"zerolinewidth\": 2}, \"yaxis\": {\"automargin\": true, \"gridcolor\": \"white\", \"linecolor\": \"white\", \"ticks\": \"\", \"title\": {\"standoff\": 15}, \"zerolinecolor\": \"white\", \"zerolinewidth\": 2}}}, \"xaxis\": {\"anchor\": \"y\", \"domain\": [0.0, 0.3], \"range\": [0.0, 600.0], \"title\": {\"text\": \"<i>x</i> (mm)\"}}, \"xaxis2\": {\"anchor\": \"y2\", \"domain\": [0.35, 0.6499999999999999], \"range\": [0.0, 600.0], \"title\": {\"text\": \"<i>x</i> (mm)\"}}, \"xaxis3\": {\"anchor\": \"y3\", \"domain\": [0.7, 1.0], \"range\": [0.0, 600.0], \"title\": {\"text\": \"<i>x</i> (mm)\"}}, \"yaxis\": {\"anchor\": \"x\", \"domain\": [0.0, 1.0], \"scaleanchor\": \"x\", \"scaleratio\": 1, \"title\": {\"text\": \"<i>y</i> (mm)\"}}, \"yaxis2\": {\"anchor\": \"x2\", \"domain\": [0.0, 1.0], \"scaleanchor\": \"x2\", \"scaleratio\": 1, \"title\": {\"text\": \"<i>y</i> (mm)\"}}, \"yaxis3\": {\"anchor\": \"x3\", \"domain\": [0.0, 1.0], \"scaleanchor\": \"x3\", \"scaleratio\": 1, \"title\": {\"text\": \"<i>y</i> (mm)\"}}},\n",
              "                        {\"responsive\": true}\n",
              "                    ).then(function(){\n",
              "                            \n",
              "var gd = document.getElementById('3f23325b-eef8-44af-94c6-e88651789b83');\n",
              "var x = new MutationObserver(function (mutations, observer) {{\n",
              "        var display = window.getComputedStyle(gd).display;\n",
              "        if (!display || display === 'none') {{\n",
              "            console.log([gd, 'removed!']);\n",
              "            Plotly.purge(gd);\n",
              "            observer.disconnect();\n",
              "        }}\n",
              "}});\n",
              "\n",
              "// Listen for the removal of the full notebook cells\n",
              "var notebookContainer = gd.closest('#notebook-container');\n",
              "if (notebookContainer) {{\n",
              "    x.observe(notebookContainer, {childList: true});\n",
              "}}\n",
              "\n",
              "// Listen for the clearing of the current output cell\n",
              "var outputEl = gd.closest('.output');\n",
              "if (outputEl) {{\n",
              "    x.observe(outputEl, {childList: true});\n",
              "}}\n",
              "\n",
              "                        })\n",
              "                };\n",
              "                \n",
              "            </script>\n",
              "        </div>\n",
              "</body>\n",
              "</html>"
            ]
          },
          "metadata": {
            "tags": []
          }
        }
      ]
    }
  ]
}