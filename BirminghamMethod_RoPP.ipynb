{
  "nbformat": 4,
  "nbformat_minor": 0,
  "metadata": {
    "colab": {
      "name": "BirminghamMethod_RoPP.ipynb",
      "provenance": [],
      "collapsed_sections": [],
      "toc_visible": true,
      "include_colab_link": true
    },
    "kernelspec": {
      "name": "python3",
      "display_name": "Python 3"
    },
    "language_info": {
      "name": "python"
    }
  },
  "cells": [
    {
      "cell_type": "markdown",
      "metadata": {
        "id": "view-in-github",
        "colab_type": "text"
      },
      "source": [
        "<a href=\"https://colab.research.google.com/github/uob-positron-imaging-centre/PEPT-Algorithms-RoPP/blob/main/BirminghamMethod_RoPP.ipynb\" target=\"_parent\"><img src=\"https://colab.research.google.com/assets/colab-badge.svg\" alt=\"Open In Colab\"/></a>"
      ]
    },
    {
      "cell_type": "markdown",
      "metadata": {
        "id": "VFJ8eMpxZ5v3"
      },
      "source": [
        "<a target=\"_blank\"  href=\"https://github.com/uob-positron-imaging-centre/pept\"><img src=\"https://github.com/uob-positron-imaging-centre/misc-hosting/blob/master/logo.png?raw=true\" style=\"height:200px; display: block; margin-left: auto; margin-right: auto;\"/></a>\n",
        "\n",
        "# Interactive PEPT Analysis Examples using *the Birmingham Method*\n",
        "\n",
        "> [1] Parker DJ, Broadbent CJ, Fowles P, Hawkesworth MR, McNeil P. Positron emission particle tracking-a technique for studying flow within engineering equipment. Nuclear Instruments and Methods in Physics Research Section A: Accelerators, Spectrometers, Detectors and Associated Equipment. 1993 Mar 10;326(3):592-607.\n",
        "\n",
        "---\n",
        "\n",
        "#### Copyright 2021 the `pept` developers\n",
        "##### Jupyter Notebook authored by Andrei Leonard Nicusan and Dr. Kit Windows-Yule for the \"PEPT: A Comparative Review\" paper, commissioned by the Reports on Progress in Physics journal\n",
        "\n",
        "Licensed under the GNU License, Version 3.0 (the \"License\").\n",
        "\n",
        "---\n"
      ]
    },
    {
      "cell_type": "markdown",
      "metadata": {
        "id": "v65QnGnJu2vO"
      },
      "source": [
        "# 1. Introduction\n",
        "\n",
        "Positron emission particle tracking (PEPT) is a powerful technique allowing the non-invasive, three-dimensional tracking of one or more radioactive 'tracer' particles through particulate, fluid or multiphase systems. It allows particle or fluid motion to be tracked with sub-millimetre accuracy and sub-millisecond temporal resolution and, due to its use of highly-penetrating 511keV gamma rays, can be used to probe the internal dynamics of even large, dense, optically opaque systems <sup>[[2]](https://www.sciencedirect.com/science/article/pii/016890029390864E) [[3]](https://www.sciencedirect.com/science/article/pii/S0263876208003341) [[4]](https://aip.scitation.org/doi/abs/10.1063/1.4983046@rsi.2017.IMGP2017.issue-1)</sup>. In light of its versatility both in terms of the scales and materials of particles which can be tracked <sup>[[5]](https://www.sciencedirect.com/science/article/pii/S1672251507001455)[[6]](https://www.sciencedirect.com/science/article/pii/S0168900206005341)</sup>, and the sizes and geometries of the systems which can be imaged <sup>[[7]](https://www.sciencedirect.com/science/article/pii/S0168900209001880) [[8]](https://www.sciencedirect.com/science/article/pii/S0029549316000273)</sup> , the technique has wide-ranging applicability in diverse scientific, industrial and biomedical applications.\n",
        "\n",
        "PEPT is performed by radioactively labelling a particle with a positron-emitting radioisotope such as Fluorine-18 ($^{18}\\mathrm{F}$) or Gallium-68 ($^{68}\\mathrm{Ga}$), and using the back-to-back gamma rays produced by electron-positron annihilation events in and around the tracer to triangulate its spatial position. Each detected gamma ray represents a **line of response (LoR)** ."
      ]
    },
    {
      "cell_type": "markdown",
      "metadata": {
        "id": "-9WQ3ziZu9FP"
      },
      "source": [
        "## 1.1. This Jupyter Notebook\n",
        "\n",
        "This interactive Jupyter Notebook illustrates the main processing steps employed by the Birmingham Method<sup>[1]</sup> for radioactive tracer tracking, as described in the Reports on Progress in Physics \"PEPT: A Comparative Review\" paper.\n",
        "\n",
        "An [example dataset](https://raw.githubusercontent.com/uob-positron-imaging-centre/example_data/master/sample_1p_fluidised_bed.csv) is used from an experiment run at the University of Birmingham Positron Imaging Centre using the ADAC Forté by Matthew Herald. It consists of a single 1 mm diameter MCC particle activated with Fluorine-18 radioactive tracer material inside a bubbling fluidised bed. The fluidised bed was filled with 90% sand and 10% MCC; air was fed into the bottom of the bed at a rate of 37 litres per minute at 3.5 bar. This dataset was chosen for its high quality captured lines of response, with the tracer still depicting the random particle motion that is inherent to bubbling fluidised beds - and typical in Lagrangian particle tracking.\n",
        "\n",
        "The [`pept`](https://github.com/uob-positron-imaging-centre/pept) Python library is used for initialising and visualising PEPT data. While not required *per se* for illustrating PEPT algorithms' processing steps, it significantly reduces the amount of repetitive code and visual noise, allowing the reader to focus on the main conceptual procedures."
      ]
    },
    {
      "cell_type": "markdown",
      "metadata": {
        "id": "-Pind7Uk4CrR"
      },
      "source": [
        "## 1.2. Running Code Cells\n",
        "Select any code cell and click on the (▶) sign in the top-left of the cell's frame to run its code (note that code cells have to be run in order when running for the first time)."
      ]
    },
    {
      "cell_type": "code",
      "metadata": {
        "colab": {
          "base_uri": "https://localhost:8080/"
        },
        "id": "8t0Sd5giaM0_",
        "outputId": "4fd4a61e-7735-40b7-d972-ffa40f5fafcb"
      },
      "source": [
        "# First install the `pept` library using pip, Python's package manager\n",
        "!pip install pept"
      ],
      "execution_count": 1,
      "outputs": [
        {
          "output_type": "stream",
          "text": [
            "Requirement already satisfied: pept in /usr/local/lib/python3.7/dist-packages (0.3.2)\n",
            "Requirement already satisfied: pandas>=1.0.5 in /usr/local/lib/python3.7/dist-packages (from pept) (1.1.5)\n",
            "Requirement already satisfied: numpy>=1.17.3 in /usr/local/lib/python3.7/dist-packages (from pept) (1.19.5)\n",
            "Requirement already satisfied: plotly>=4.4.1 in /usr/local/lib/python3.7/dist-packages (from pept) (4.4.1)\n",
            "Requirement already satisfied: cma>=3.0.3 in /usr/local/lib/python3.7/dist-packages (from pept) (3.0.3)\n",
            "Requirement already satisfied: hdbscan>=0.8.26 in /usr/local/lib/python3.7/dist-packages (from pept) (0.8.27)\n",
            "Requirement already satisfied: Cython>=0.29.13 in /usr/local/lib/python3.7/dist-packages (from pept) (0.29.22)\n",
            "Requirement already satisfied: six>=1.12.0 in /usr/local/lib/python3.7/dist-packages (from pept) (1.15.0)\n",
            "Requirement already satisfied: tqdm>=4.41.1 in /usr/local/lib/python3.7/dist-packages (from pept) (4.41.1)\n",
            "Requirement already satisfied: matplotlib>=3.1.1 in /usr/local/lib/python3.7/dist-packages (from pept) (3.2.2)\n",
            "Requirement already satisfied: joblib>=0.13.2 in /usr/local/lib/python3.7/dist-packages (from pept) (1.0.1)\n",
            "Requirement already satisfied: scipy>=1.3.1 in /usr/local/lib/python3.7/dist-packages (from pept) (1.4.1)\n",
            "Requirement already satisfied: pytz>=2017.2 in /usr/local/lib/python3.7/dist-packages (from pandas>=1.0.5->pept) (2018.9)\n",
            "Requirement already satisfied: python-dateutil>=2.7.3 in /usr/local/lib/python3.7/dist-packages (from pandas>=1.0.5->pept) (2.8.1)\n",
            "Requirement already satisfied: retrying>=1.3.3 in /usr/local/lib/python3.7/dist-packages (from plotly>=4.4.1->pept) (1.3.3)\n",
            "Requirement already satisfied: scikit-learn>=0.20 in /usr/local/lib/python3.7/dist-packages (from hdbscan>=0.8.26->pept) (0.22.2.post1)\n",
            "Requirement already satisfied: kiwisolver>=1.0.1 in /usr/local/lib/python3.7/dist-packages (from matplotlib>=3.1.1->pept) (1.3.1)\n",
            "Requirement already satisfied: cycler>=0.10 in /usr/local/lib/python3.7/dist-packages (from matplotlib>=3.1.1->pept) (0.10.0)\n",
            "Requirement already satisfied: pyparsing!=2.0.4,!=2.1.2,!=2.1.6,>=2.0.1 in /usr/local/lib/python3.7/dist-packages (from matplotlib>=3.1.1->pept) (2.4.7)\n"
          ],
          "name": "stdout"
        }
      ]
    },
    {
      "cell_type": "markdown",
      "metadata": {
        "id": "rM1SFD9IaJQg"
      },
      "source": [
        "# 2. The Birmingham Method"
      ]
    },
    {
      "cell_type": "markdown",
      "metadata": {
        "id": "Mm6m9e5MBN6l"
      },
      "source": [
        "## 2.1. Read in Line of Response Data\n",
        "In this initial step, we read in the \"raw\" LoR data from which our tracer positions are calculated. In this simple example, we load only a single sample (i.e. one particle location at one point in time). The LoRs corresponding to this sample are output as an image.\n",
        "\n",
        "As discussed in the main text, varying the numbers of LoRs used to calculate a PEPT location can affect the quality of the final location measured. Try altering the value `nrows` below to see how this inluences your results."
      ]
    },
    {
      "cell_type": "code",
      "metadata": {
        "colab": {
          "base_uri": "https://localhost:8080/"
        },
        "id": "hVo10Wj_uEJ8",
        "outputId": "5e56264b-0020-49d8-ab5d-7711aeab3f8b"
      },
      "source": [
        "# Read in a sample of experimental PEPT data from an online repository into a NumPy array\n",
        "import numpy as np\n",
        "import pept\n",
        "\n",
        "# Skip the file header's first 15 lines, then read in 50 LoRs\n",
        "lors_raw = pept.utilities.read_csv(\n",
        "    \"https://raw.githubusercontent.com/uob-positron-imaging-centre/example_data/master/sample_1p_fluidised_bed.csv\",\n",
        "    skiprows = 15,\n",
        "    nrows = 50,\n",
        ")\n",
        "\n",
        "# Insert columns for the z-coordinates\n",
        "head_separation = 600\n",
        "\n",
        "lors_raw = np.insert(lors_raw, 3, 0, axis = 1)\n",
        "lors_raw = np.insert(lors_raw, 6, head_separation, axis = 1)\n",
        "\n",
        "# Project the 3D lines onto the YZ plane for ease of analysis - i.e. select only columns\n",
        "# [time, y1, z1, y2, z2] and flip columns to get [time, x1, y1, x2, y2]\n",
        "lors = np.array(lors_raw[:, [0, 3, 2, 6, 5]])\n",
        "\n",
        "# Print the line of response (LoR) data\n",
        "lors"
      ],
      "execution_count": 2,
      "outputs": [
        {
          "output_type": "execute_result",
          "data": {
            "text/plain": [
              "array([[0.000e+00, 0.000e+00, 1.687e+02, 6.000e+02, 1.428e+02],\n",
              "       [1.000e-01, 0.000e+00, 1.676e+02, 6.000e+02, 3.139e+02],\n",
              "       [1.000e-01, 0.000e+00, 4.100e+02, 6.000e+02, 2.401e+02],\n",
              "       [2.000e-01, 0.000e+00, 2.962e+02, 6.000e+02, 4.525e+02],\n",
              "       [2.000e-01, 0.000e+00, 1.151e+02, 6.000e+02, 3.534e+02],\n",
              "       [2.000e-01, 0.000e+00, 1.322e+02, 6.000e+02, 2.661e+02],\n",
              "       [2.000e-01, 0.000e+00, 3.735e+02, 6.000e+02, 1.310e+02],\n",
              "       [3.000e-01, 0.000e+00, 1.115e+02, 6.000e+02, 3.534e+02],\n",
              "       [4.000e-01, 0.000e+00, 2.094e+02, 6.000e+02, 2.808e+02],\n",
              "       [4.000e-01, 0.000e+00, 2.749e+02, 6.000e+02, 3.062e+02],\n",
              "       [5.000e-01, 0.000e+00, 2.389e+02, 6.000e+02, 1.681e+02],\n",
              "       [6.000e-01, 0.000e+00, 4.283e+02, 6.000e+02, 7.020e+01],\n",
              "       [6.000e-01, 0.000e+00, 1.333e+02, 6.000e+02, 3.499e+02],\n",
              "       [6.000e-01, 0.000e+00, 3.050e+02, 6.000e+02, 1.032e+02],\n",
              "       [6.000e-01, 0.000e+00, 9.200e+01, 6.000e+02, 3.929e+02],\n",
              "       [6.000e-01, 0.000e+00, 1.859e+02, 6.000e+02, 3.027e+02],\n",
              "       [6.000e-01, 0.000e+00, 1.853e+02, 6.000e+02, 2.850e+02],\n",
              "       [7.000e-01, 0.000e+00, 2.454e+02, 6.000e+02, 2.572e+02],\n",
              "       [7.000e-01, 0.000e+00, 1.127e+02, 6.000e+02, 3.941e+02],\n",
              "       [7.000e-01, 0.000e+00, 1.711e+02, 6.000e+02, 3.027e+02],\n",
              "       [8.000e-01, 0.000e+00, 3.906e+02, 6.000e+02, 2.549e+02],\n",
              "       [8.000e-01, 0.000e+00, 4.720e+01, 6.000e+02, 4.136e+02],\n",
              "       [8.000e-01, 0.000e+00, 3.410e+02, 6.000e+02, 1.328e+02],\n",
              "       [8.000e-01, 0.000e+00, 1.263e+02, 6.000e+02, 3.451e+02],\n",
              "       [9.000e-01, 0.000e+00, 4.348e+02, 6.000e+02, 7.200e+01],\n",
              "       [9.000e-01, 0.000e+00, 3.351e+02, 6.000e+02, 2.154e+02],\n",
              "       [9.000e-01, 0.000e+00, 2.767e+02, 6.000e+02, 1.953e+02],\n",
              "       [1.000e+00, 0.000e+00, 1.894e+02, 6.000e+02, 2.956e+02],\n",
              "       [1.000e+00, 0.000e+00, 3.050e+02, 6.000e+02, 1.859e+02],\n",
              "       [1.100e+00, 0.000e+00, 4.301e+02, 6.000e+02, 1.357e+02],\n",
              "       [1.100e+00, 0.000e+00, 4.466e+02, 6.000e+02, 6.430e+01],\n",
              "       [1.100e+00, 0.000e+00, 1.741e+02, 6.000e+02, 7.140e+01],\n",
              "       [1.100e+00, 0.000e+00, 1.941e+02, 6.000e+02, 1.204e+02],\n",
              "       [1.100e+00, 0.000e+00, 1.162e+02, 6.000e+02, 3.510e+02],\n",
              "       [1.200e+00, 0.000e+00, 2.301e+02, 6.000e+02, 2.537e+02],\n",
              "       [1.200e+00, 0.000e+00, 2.767e+02, 6.000e+02, 2.201e+02],\n",
              "       [1.300e+00, 0.000e+00, 2.962e+02, 6.000e+02, 1.941e+02],\n",
              "       [1.400e+00, 0.000e+00, 5.020e+01, 6.000e+02, 3.764e+02],\n",
              "       [1.500e+00, 0.000e+00, 3.003e+02, 6.000e+02, 1.976e+02],\n",
              "       [1.500e+00, 0.000e+00, 1.032e+02, 6.000e+02, 1.369e+02],\n",
              "       [1.600e+00, 0.000e+00, 4.047e+02, 6.000e+02, 9.680e+01],\n",
              "       [1.600e+00, 0.000e+00, 4.395e+02, 6.000e+02, 6.550e+01],\n",
              "       [1.600e+00, 0.000e+00, 2.590e+02, 6.000e+02, 2.903e+02],\n",
              "       [1.600e+00, 0.000e+00, 1.676e+02, 6.000e+02, 2.277e+02],\n",
              "       [1.600e+00, 0.000e+00, 2.826e+02, 6.000e+02, 2.089e+02],\n",
              "       [1.700e+00, 0.000e+00, 2.277e+02, 6.000e+02, 4.301e+02],\n",
              "       [1.700e+00, 0.000e+00, 2.773e+02, 6.000e+02, 3.953e+02],\n",
              "       [1.800e+00, 0.000e+00, 1.658e+02, 6.000e+02, 3.103e+02],\n",
              "       [1.900e+00, 0.000e+00, 1.546e+02, 6.000e+02, 3.227e+02],\n",
              "       [2.000e+00, 0.000e+00, 7.610e+01, 6.000e+02, 5.062e+02]])"
            ]
          },
          "metadata": {
            "tags": []
          },
          "execution_count": 2
        }
      ]
    },
    {
      "cell_type": "code",
      "metadata": {
        "colab": {
          "base_uri": "https://localhost:8080/",
          "height": 542
        },
        "id": "KL0BVF_VZs7A",
        "outputId": "d2007cc0-5c84-40a3-ab78-d862065131b1"
      },
      "source": [
        "from pept.visualisation import PlotlyGrapher2D\n",
        "\n",
        "grapher = PlotlyGrapher2D()\n",
        "grapher.add_lines(lors)\n",
        "grapher.show()"
      ],
      "execution_count": 3,
      "outputs": [
        {
          "output_type": "display_data",
          "data": {
            "text/html": [
              "<html>\n",
              "<head><meta charset=\"utf-8\" /></head>\n",
              "<body>\n",
              "    <div>\n",
              "            <script src=\"https://cdnjs.cloudflare.com/ajax/libs/mathjax/2.7.5/MathJax.js?config=TeX-AMS-MML_SVG\"></script><script type=\"text/javascript\">if (window.MathJax) {MathJax.Hub.Config({SVG: {font: \"STIX-Web\"}});}</script>\n",
              "                <script type=\"text/javascript\">window.PlotlyConfig = {MathJaxConfig: 'local'};</script>\n",
              "        <script src=\"https://cdn.plot.ly/plotly-latest.min.js\"></script>    \n",
              "            <div id=\"2427e799-72ba-4479-a74b-408f2e7ca83e\" class=\"plotly-graph-div\" style=\"height:525px; width:100%;\"></div>\n",
              "            <script type=\"text/javascript\">\n",
              "                \n",
              "                    window.PLOTLYENV=window.PLOTLYENV || {};\n",
              "                    \n",
              "                if (document.getElementById(\"2427e799-72ba-4479-a74b-408f2e7ca83e\")) {\n",
              "                    Plotly.newPlot(\n",
              "                        '2427e799-72ba-4479-a74b-408f2e7ca83e',\n",
              "                        [{\"line\": {\"width\": 2.0}, \"mode\": \"lines\", \"opacity\": 0.6, \"type\": \"scatter\", \"x\": [0.0, 600.0, null, 0.0, 600.0, null, 0.0, 600.0, null, 0.0, 600.0, null, 0.0, 600.0, null, 0.0, 600.0, null, 0.0, 600.0, null, 0.0, 600.0, null, 0.0, 600.0, null, 0.0, 600.0, null, 0.0, 600.0, null, 0.0, 600.0, null, 0.0, 600.0, null, 0.0, 600.0, null, 0.0, 600.0, null, 0.0, 600.0, null, 0.0, 600.0, null, 0.0, 600.0, null, 0.0, 600.0, null, 0.0, 600.0, null, 0.0, 600.0, null, 0.0, 600.0, null, 0.0, 600.0, null, 0.0, 600.0, null, 0.0, 600.0, null, 0.0, 600.0, null, 0.0, 600.0, null, 0.0, 600.0, null, 0.0, 600.0, null, 0.0, 600.0, null, 0.0, 600.0, null, 0.0, 600.0, null, 0.0, 600.0, null, 0.0, 600.0, null, 0.0, 600.0, null, 0.0, 600.0, null, 0.0, 600.0, null, 0.0, 600.0, null, 0.0, 600.0, null, 0.0, 600.0, null, 0.0, 600.0, null, 0.0, 600.0, null, 0.0, 600.0, null, 0.0, 600.0, null, 0.0, 600.0, null, 0.0, 600.0, null, 0.0, 600.0, null, 0.0, 600.0, null, 0.0, 600.0, null, 0.0, 600.0, null], \"xaxis\": \"x\", \"y\": [168.7, 142.8, null, 167.6, 313.9, null, 410.0, 240.1, null, 296.2, 452.5, null, 115.1, 353.4, null, 132.2, 266.1, null, 373.5, 131.0, null, 111.5, 353.4, null, 209.4, 280.8, null, 274.9, 306.2, null, 238.9, 168.1, null, 428.3, 70.2, null, 133.3, 349.9, null, 305.0, 103.2, null, 92.0, 392.9, null, 185.9, 302.7, null, 185.3, 285.0, null, 245.4, 257.2, null, 112.7, 394.1, null, 171.1, 302.7, null, 390.6, 254.9, null, 47.2, 413.6, null, 341.0, 132.8, null, 126.3, 345.1, null, 434.8, 72.0, null, 335.1, 215.4, null, 276.7, 195.3, null, 189.4, 295.6, null, 305.0, 185.9, null, 430.1, 135.7, null, 446.6, 64.3, null, 174.1, 71.4, null, 194.1, 120.4, null, 116.2, 351.0, null, 230.1, 253.7, null, 276.7, 220.1, null, 296.2, 194.1, null, 50.2, 376.4, null, 300.3, 197.6, null, 103.2, 136.9, null, 404.7, 96.8, null, 439.5, 65.5, null, 259.0, 290.3, null, 167.6, 227.7, null, 282.6, 208.9, null, 227.7, 430.1, null, 277.3, 395.3, null, 165.8, 310.3, null, 154.6, 322.7, null, 76.1, 506.2, null], \"yaxis\": \"y\"}],\n",
              "                        {\"annotations\": [{\"font\": {\"size\": 16}, \"showarrow\": false, \"text\": \"  \", \"x\": 0.5, \"xanchor\": \"center\", \"xref\": \"paper\", \"y\": 1.0, \"yanchor\": \"bottom\", \"yref\": \"paper\"}], \"margin\": {\"b\": 30, \"l\": 0, \"r\": 0, \"t\": 30}, \"showlegend\": false, \"template\": {\"data\": {\"bar\": [{\"error_x\": {\"color\": \"#2a3f5f\"}, \"error_y\": {\"color\": \"#2a3f5f\"}, \"marker\": {\"line\": {\"color\": \"#E5ECF6\", \"width\": 0.5}}, \"type\": \"bar\"}], \"barpolar\": [{\"marker\": {\"line\": {\"color\": \"#E5ECF6\", \"width\": 0.5}}, \"type\": \"barpolar\"}], \"carpet\": [{\"aaxis\": {\"endlinecolor\": \"#2a3f5f\", \"gridcolor\": \"white\", \"linecolor\": \"white\", \"minorgridcolor\": \"white\", \"startlinecolor\": \"#2a3f5f\"}, \"baxis\": {\"endlinecolor\": \"#2a3f5f\", \"gridcolor\": \"white\", \"linecolor\": \"white\", \"minorgridcolor\": \"white\", \"startlinecolor\": \"#2a3f5f\"}, \"type\": \"carpet\"}], \"choropleth\": [{\"colorbar\": {\"outlinewidth\": 0, \"ticks\": \"\"}, \"type\": \"choropleth\"}], \"contour\": [{\"colorbar\": {\"outlinewidth\": 0, \"ticks\": \"\"}, \"colorscale\": [[0.0, \"#0d0887\"], [0.1111111111111111, \"#46039f\"], [0.2222222222222222, \"#7201a8\"], [0.3333333333333333, \"#9c179e\"], [0.4444444444444444, \"#bd3786\"], [0.5555555555555556, \"#d8576b\"], [0.6666666666666666, \"#ed7953\"], [0.7777777777777778, \"#fb9f3a\"], [0.8888888888888888, \"#fdca26\"], [1.0, \"#f0f921\"]], \"type\": \"contour\"}], \"contourcarpet\": [{\"colorbar\": {\"outlinewidth\": 0, \"ticks\": \"\"}, \"type\": \"contourcarpet\"}], \"heatmap\": [{\"colorbar\": {\"outlinewidth\": 0, \"ticks\": \"\"}, \"colorscale\": [[0.0, \"#0d0887\"], [0.1111111111111111, \"#46039f\"], [0.2222222222222222, \"#7201a8\"], [0.3333333333333333, \"#9c179e\"], [0.4444444444444444, \"#bd3786\"], [0.5555555555555556, \"#d8576b\"], [0.6666666666666666, \"#ed7953\"], [0.7777777777777778, \"#fb9f3a\"], [0.8888888888888888, \"#fdca26\"], [1.0, \"#f0f921\"]], \"type\": \"heatmap\"}], \"heatmapgl\": [{\"colorbar\": {\"outlinewidth\": 0, \"ticks\": \"\"}, \"colorscale\": [[0.0, \"#0d0887\"], [0.1111111111111111, \"#46039f\"], [0.2222222222222222, \"#7201a8\"], [0.3333333333333333, \"#9c179e\"], [0.4444444444444444, \"#bd3786\"], [0.5555555555555556, \"#d8576b\"], [0.6666666666666666, \"#ed7953\"], [0.7777777777777778, \"#fb9f3a\"], [0.8888888888888888, \"#fdca26\"], [1.0, \"#f0f921\"]], \"type\": \"heatmapgl\"}], \"histogram\": [{\"marker\": {\"colorbar\": {\"outlinewidth\": 0, \"ticks\": \"\"}}, \"type\": \"histogram\"}], \"histogram2d\": [{\"colorbar\": {\"outlinewidth\": 0, \"ticks\": \"\"}, \"colorscale\": [[0.0, \"#0d0887\"], [0.1111111111111111, \"#46039f\"], [0.2222222222222222, \"#7201a8\"], [0.3333333333333333, \"#9c179e\"], [0.4444444444444444, \"#bd3786\"], [0.5555555555555556, \"#d8576b\"], [0.6666666666666666, \"#ed7953\"], [0.7777777777777778, \"#fb9f3a\"], [0.8888888888888888, \"#fdca26\"], [1.0, \"#f0f921\"]], \"type\": \"histogram2d\"}], \"histogram2dcontour\": [{\"colorbar\": {\"outlinewidth\": 0, \"ticks\": \"\"}, \"colorscale\": [[0.0, \"#0d0887\"], [0.1111111111111111, \"#46039f\"], [0.2222222222222222, \"#7201a8\"], [0.3333333333333333, \"#9c179e\"], [0.4444444444444444, \"#bd3786\"], [0.5555555555555556, \"#d8576b\"], [0.6666666666666666, \"#ed7953\"], [0.7777777777777778, \"#fb9f3a\"], [0.8888888888888888, \"#fdca26\"], [1.0, \"#f0f921\"]], \"type\": \"histogram2dcontour\"}], \"mesh3d\": [{\"colorbar\": {\"outlinewidth\": 0, \"ticks\": \"\"}, \"type\": \"mesh3d\"}], \"parcoords\": [{\"line\": {\"colorbar\": {\"outlinewidth\": 0, \"ticks\": \"\"}}, \"type\": \"parcoords\"}], \"pie\": [{\"automargin\": true, \"type\": \"pie\"}], \"scatter\": [{\"marker\": {\"colorbar\": {\"outlinewidth\": 0, \"ticks\": \"\"}}, \"type\": \"scatter\"}], \"scatter3d\": [{\"line\": {\"colorbar\": {\"outlinewidth\": 0, \"ticks\": \"\"}}, \"marker\": {\"colorbar\": {\"outlinewidth\": 0, \"ticks\": \"\"}}, \"type\": \"scatter3d\"}], \"scattercarpet\": [{\"marker\": {\"colorbar\": {\"outlinewidth\": 0, \"ticks\": \"\"}}, \"type\": \"scattercarpet\"}], \"scattergeo\": [{\"marker\": {\"colorbar\": {\"outlinewidth\": 0, \"ticks\": \"\"}}, \"type\": \"scattergeo\"}], \"scattergl\": [{\"marker\": {\"colorbar\": {\"outlinewidth\": 0, \"ticks\": \"\"}}, \"type\": \"scattergl\"}], \"scattermapbox\": [{\"marker\": {\"colorbar\": {\"outlinewidth\": 0, \"ticks\": \"\"}}, \"type\": \"scattermapbox\"}], \"scatterpolar\": [{\"marker\": {\"colorbar\": {\"outlinewidth\": 0, \"ticks\": \"\"}}, \"type\": \"scatterpolar\"}], \"scatterpolargl\": [{\"marker\": {\"colorbar\": {\"outlinewidth\": 0, \"ticks\": \"\"}}, \"type\": \"scatterpolargl\"}], \"scatterternary\": [{\"marker\": {\"colorbar\": {\"outlinewidth\": 0, \"ticks\": \"\"}}, \"type\": \"scatterternary\"}], \"surface\": [{\"colorbar\": {\"outlinewidth\": 0, \"ticks\": \"\"}, \"colorscale\": [[0.0, \"#0d0887\"], [0.1111111111111111, \"#46039f\"], [0.2222222222222222, \"#7201a8\"], [0.3333333333333333, \"#9c179e\"], [0.4444444444444444, \"#bd3786\"], [0.5555555555555556, \"#d8576b\"], [0.6666666666666666, \"#ed7953\"], [0.7777777777777778, \"#fb9f3a\"], [0.8888888888888888, \"#fdca26\"], [1.0, \"#f0f921\"]], \"type\": \"surface\"}], \"table\": [{\"cells\": {\"fill\": {\"color\": \"#EBF0F8\"}, \"line\": {\"color\": \"white\"}}, \"header\": {\"fill\": {\"color\": \"#C8D4E3\"}, \"line\": {\"color\": \"white\"}}, \"type\": \"table\"}]}, \"layout\": {\"annotationdefaults\": {\"arrowcolor\": \"#2a3f5f\", \"arrowhead\": 0, \"arrowwidth\": 1}, \"coloraxis\": {\"colorbar\": {\"outlinewidth\": 0, \"ticks\": \"\"}}, \"colorscale\": {\"diverging\": [[0, \"#8e0152\"], [0.1, \"#c51b7d\"], [0.2, \"#de77ae\"], [0.3, \"#f1b6da\"], [0.4, \"#fde0ef\"], [0.5, \"#f7f7f7\"], [0.6, \"#e6f5d0\"], [0.7, \"#b8e186\"], [0.8, \"#7fbc41\"], [0.9, \"#4d9221\"], [1, \"#276419\"]], \"sequential\": [[0.0, \"#0d0887\"], [0.1111111111111111, \"#46039f\"], [0.2222222222222222, \"#7201a8\"], [0.3333333333333333, \"#9c179e\"], [0.4444444444444444, \"#bd3786\"], [0.5555555555555556, \"#d8576b\"], [0.6666666666666666, \"#ed7953\"], [0.7777777777777778, \"#fb9f3a\"], [0.8888888888888888, \"#fdca26\"], [1.0, \"#f0f921\"]], \"sequentialminus\": [[0.0, \"#0d0887\"], [0.1111111111111111, \"#46039f\"], [0.2222222222222222, \"#7201a8\"], [0.3333333333333333, \"#9c179e\"], [0.4444444444444444, \"#bd3786\"], [0.5555555555555556, \"#d8576b\"], [0.6666666666666666, \"#ed7953\"], [0.7777777777777778, \"#fb9f3a\"], [0.8888888888888888, \"#fdca26\"], [1.0, \"#f0f921\"]]}, \"colorway\": [\"#636efa\", \"#EF553B\", \"#00cc96\", \"#ab63fa\", \"#FFA15A\", \"#19d3f3\", \"#FF6692\", \"#B6E880\", \"#FF97FF\", \"#FECB52\"], \"font\": {\"color\": \"#2a3f5f\"}, \"geo\": {\"bgcolor\": \"white\", \"lakecolor\": \"white\", \"landcolor\": \"#E5ECF6\", \"showlakes\": true, \"showland\": true, \"subunitcolor\": \"white\"}, \"hoverlabel\": {\"align\": \"left\"}, \"hovermode\": \"closest\", \"mapbox\": {\"style\": \"light\"}, \"paper_bgcolor\": \"white\", \"plot_bgcolor\": \"#E5ECF6\", \"polar\": {\"angularaxis\": {\"gridcolor\": \"white\", \"linecolor\": \"white\", \"ticks\": \"\"}, \"bgcolor\": \"#E5ECF6\", \"radialaxis\": {\"gridcolor\": \"white\", \"linecolor\": \"white\", \"ticks\": \"\"}}, \"scene\": {\"xaxis\": {\"backgroundcolor\": \"#E5ECF6\", \"gridcolor\": \"white\", \"gridwidth\": 2, \"linecolor\": \"white\", \"showbackground\": true, \"ticks\": \"\", \"zerolinecolor\": \"white\"}, \"yaxis\": {\"backgroundcolor\": \"#E5ECF6\", \"gridcolor\": \"white\", \"gridwidth\": 2, \"linecolor\": \"white\", \"showbackground\": true, \"ticks\": \"\", \"zerolinecolor\": \"white\"}, \"zaxis\": {\"backgroundcolor\": \"#E5ECF6\", \"gridcolor\": \"white\", \"gridwidth\": 2, \"linecolor\": \"white\", \"showbackground\": true, \"ticks\": \"\", \"zerolinecolor\": \"white\"}}, \"shapedefaults\": {\"line\": {\"color\": \"#2a3f5f\"}}, \"ternary\": {\"aaxis\": {\"gridcolor\": \"white\", \"linecolor\": \"white\", \"ticks\": \"\"}, \"baxis\": {\"gridcolor\": \"white\", \"linecolor\": \"white\", \"ticks\": \"\"}, \"bgcolor\": \"#E5ECF6\", \"caxis\": {\"gridcolor\": \"white\", \"linecolor\": \"white\", \"ticks\": \"\"}}, \"title\": {\"x\": 0.05}, \"xaxis\": {\"automargin\": true, \"gridcolor\": \"white\", \"linecolor\": \"white\", \"ticks\": \"\", \"title\": {\"standoff\": 15}, \"zerolinecolor\": \"white\", \"zerolinewidth\": 2}, \"yaxis\": {\"automargin\": true, \"gridcolor\": \"white\", \"linecolor\": \"white\", \"ticks\": \"\", \"title\": {\"standoff\": 15}, \"zerolinecolor\": \"white\", \"zerolinewidth\": 2}}}, \"xaxis\": {\"anchor\": \"y\", \"domain\": [0.0, 1.0], \"range\": [0.0, 600.0], \"title\": {\"text\": \"<i>x</i> (mm)\"}}, \"yaxis\": {\"anchor\": \"x\", \"domain\": [0.0, 1.0], \"scaleanchor\": \"x\", \"scaleratio\": 1, \"title\": {\"text\": \"<i>y</i> (mm)\"}}},\n",
              "                        {\"responsive\": true}\n",
              "                    ).then(function(){\n",
              "                            \n",
              "var gd = document.getElementById('2427e799-72ba-4479-a74b-408f2e7ca83e');\n",
              "var x = new MutationObserver(function (mutations, observer) {{\n",
              "        var display = window.getComputedStyle(gd).display;\n",
              "        if (!display || display === 'none') {{\n",
              "            console.log([gd, 'removed!']);\n",
              "            Plotly.purge(gd);\n",
              "            observer.disconnect();\n",
              "        }}\n",
              "}});\n",
              "\n",
              "// Listen for the removal of the full notebook cells\n",
              "var notebookContainer = gd.closest('#notebook-container');\n",
              "if (notebookContainer) {{\n",
              "    x.observe(notebookContainer, {childList: true});\n",
              "}}\n",
              "\n",
              "// Listen for the clearing of the current output cell\n",
              "var outputEl = gd.closest('.output');\n",
              "if (outputEl) {{\n",
              "    x.observe(outputEl, {childList: true});\n",
              "}}\n",
              "\n",
              "                        })\n",
              "                };\n",
              "                \n",
              "            </script>\n",
              "        </div>\n",
              "</body>\n",
              "</html>"
            ]
          },
          "metadata": {
            "tags": []
          }
        }
      ]
    },
    {
      "cell_type": "markdown",
      "metadata": {
        "id": "YRziHwMOBTo0"
      },
      "source": [
        "## 2.2. Find Minimum Distance Point\n",
        "In this step, we find the point in three-dimensional space which minimises the distance from all LoRs in our sample, using the set of equations described in the main text."
      ]
    },
    {
      "cell_type": "code",
      "metadata": {
        "colab": {
          "base_uri": "https://localhost:8080/"
        },
        "id": "b-ektcRdyG0n",
        "outputId": "8e7c46cc-ae0f-4ef1-fe00-4b160aba40fd"
      },
      "source": [
        "# Find the minimum distance point (MDP) to all LoRs by minimising the sum of distances to all lines\n",
        "from scipy.optimize import minimize\n",
        "\n",
        "def distances(point, lines):\n",
        "    d1 = np.abs((lines[:, 3] - lines[:, 1]) * (lines[:, 2] - point[1]) - \n",
        "                (lines[:, 4] - lines[:, 2]) * (lines[:, 1] - point[0]))\n",
        "    d2 = np.sqrt((lines[:, 3] - lines[:, 1]) ** 2 + (lines[:, 4] - lines[:, 2]) ** 2)\n",
        "    return d1 / d2\n",
        "\n",
        "\n",
        "def sum_distances(point, lines):\n",
        "    return np.sum(distances(point, lines))\n",
        "\n",
        "p0 = [250, 250]     # initial guess\n",
        "mdp = minimize(sum_distances, p0, lors).x\n",
        "\n",
        "# Insert MDP timestamp at column 0\n",
        "mdp = np.insert(mdp, 0, lors[:, 0].mean())\n",
        "mdp"
      ],
      "execution_count": 4,
      "outputs": [
        {
          "output_type": "execute_result",
          "data": {
            "text/plain": [
              "array([  0.938     , 316.15441987, 243.17592997])"
            ]
          },
          "metadata": {
            "tags": []
          },
          "execution_count": 4
        }
      ]
    },
    {
      "cell_type": "code",
      "metadata": {
        "colab": {
          "base_uri": "https://localhost:8080/",
          "height": 542
        },
        "id": "b8KRga6Z_0e7",
        "outputId": "7eacd484-852e-4634-ffe9-a7bd430b091a"
      },
      "source": [
        "# Plot all LoRs and the minimum distance point (MDP)\n",
        "grapher = PlotlyGrapher2D()\n",
        "\n",
        "grapher.add_lines(lors)\n",
        "grapher.add_points([mdp])\n",
        "\n",
        "grapher.show()"
      ],
      "execution_count": 5,
      "outputs": [
        {
          "output_type": "display_data",
          "data": {
            "text/html": [
              "<html>\n",
              "<head><meta charset=\"utf-8\" /></head>\n",
              "<body>\n",
              "    <div>\n",
              "            <script src=\"https://cdnjs.cloudflare.com/ajax/libs/mathjax/2.7.5/MathJax.js?config=TeX-AMS-MML_SVG\"></script><script type=\"text/javascript\">if (window.MathJax) {MathJax.Hub.Config({SVG: {font: \"STIX-Web\"}});}</script>\n",
              "                <script type=\"text/javascript\">window.PlotlyConfig = {MathJaxConfig: 'local'};</script>\n",
              "        <script src=\"https://cdn.plot.ly/plotly-latest.min.js\"></script>    \n",
              "            <div id=\"1b0c82a2-e418-4530-9d32-c95efa1d2549\" class=\"plotly-graph-div\" style=\"height:525px; width:100%;\"></div>\n",
              "            <script type=\"text/javascript\">\n",
              "                \n",
              "                    window.PLOTLYENV=window.PLOTLYENV || {};\n",
              "                    \n",
              "                if (document.getElementById(\"1b0c82a2-e418-4530-9d32-c95efa1d2549\")) {\n",
              "                    Plotly.newPlot(\n",
              "                        '1b0c82a2-e418-4530-9d32-c95efa1d2549',\n",
              "                        [{\"line\": {\"width\": 2.0}, \"mode\": \"lines\", \"opacity\": 0.6, \"type\": \"scatter\", \"x\": [0.0, 600.0, null, 0.0, 600.0, null, 0.0, 600.0, null, 0.0, 600.0, null, 0.0, 600.0, null, 0.0, 600.0, null, 0.0, 600.0, null, 0.0, 600.0, null, 0.0, 600.0, null, 0.0, 600.0, null, 0.0, 600.0, null, 0.0, 600.0, null, 0.0, 600.0, null, 0.0, 600.0, null, 0.0, 600.0, null, 0.0, 600.0, null, 0.0, 600.0, null, 0.0, 600.0, null, 0.0, 600.0, null, 0.0, 600.0, null, 0.0, 600.0, null, 0.0, 600.0, null, 0.0, 600.0, null, 0.0, 600.0, null, 0.0, 600.0, null, 0.0, 600.0, null, 0.0, 600.0, null, 0.0, 600.0, null, 0.0, 600.0, null, 0.0, 600.0, null, 0.0, 600.0, null, 0.0, 600.0, null, 0.0, 600.0, null, 0.0, 600.0, null, 0.0, 600.0, null, 0.0, 600.0, null, 0.0, 600.0, null, 0.0, 600.0, null, 0.0, 600.0, null, 0.0, 600.0, null, 0.0, 600.0, null, 0.0, 600.0, null, 0.0, 600.0, null, 0.0, 600.0, null, 0.0, 600.0, null, 0.0, 600.0, null, 0.0, 600.0, null, 0.0, 600.0, null, 0.0, 600.0, null, 0.0, 600.0, null], \"xaxis\": \"x\", \"y\": [168.7, 142.8, null, 167.6, 313.9, null, 410.0, 240.1, null, 296.2, 452.5, null, 115.1, 353.4, null, 132.2, 266.1, null, 373.5, 131.0, null, 111.5, 353.4, null, 209.4, 280.8, null, 274.9, 306.2, null, 238.9, 168.1, null, 428.3, 70.2, null, 133.3, 349.9, null, 305.0, 103.2, null, 92.0, 392.9, null, 185.9, 302.7, null, 185.3, 285.0, null, 245.4, 257.2, null, 112.7, 394.1, null, 171.1, 302.7, null, 390.6, 254.9, null, 47.2, 413.6, null, 341.0, 132.8, null, 126.3, 345.1, null, 434.8, 72.0, null, 335.1, 215.4, null, 276.7, 195.3, null, 189.4, 295.6, null, 305.0, 185.9, null, 430.1, 135.7, null, 446.6, 64.3, null, 174.1, 71.4, null, 194.1, 120.4, null, 116.2, 351.0, null, 230.1, 253.7, null, 276.7, 220.1, null, 296.2, 194.1, null, 50.2, 376.4, null, 300.3, 197.6, null, 103.2, 136.9, null, 404.7, 96.8, null, 439.5, 65.5, null, 259.0, 290.3, null, 167.6, 227.7, null, 282.6, 208.9, null, 227.7, 430.1, null, 277.3, 395.3, null, 165.8, 310.3, null, 154.6, 322.7, null, 76.1, 506.2, null], \"yaxis\": \"y\"}, {\"marker\": {\"color\": [243.1759299662646], \"colorscale\": [[0.0, \"#000004\"], [0.1111111111111111, \"#180f3d\"], [0.2222222222222222, \"#440f76\"], [0.3333333333333333, \"#721f81\"], [0.4444444444444444, \"#9e2f7f\"], [0.5555555555555556, \"#cd4071\"], [0.6666666666666666, \"#f1605d\"], [0.7777777777777778, \"#fd9668\"], [0.8888888888888888, \"#feca8d\"], [1.0, \"#fcfdbf\"]], \"opacity\": 0.8, \"size\": 6.0}, \"mode\": \"markers\", \"type\": \"scatter\", \"x\": [316.1544198667141], \"xaxis\": \"x\", \"y\": [243.1759299662646], \"yaxis\": \"y\"}],\n",
              "                        {\"annotations\": [{\"font\": {\"size\": 16}, \"showarrow\": false, \"text\": \"  \", \"x\": 0.5, \"xanchor\": \"center\", \"xref\": \"paper\", \"y\": 1.0, \"yanchor\": \"bottom\", \"yref\": \"paper\"}], \"margin\": {\"b\": 30, \"l\": 0, \"r\": 0, \"t\": 30}, \"showlegend\": false, \"template\": {\"data\": {\"bar\": [{\"error_x\": {\"color\": \"#2a3f5f\"}, \"error_y\": {\"color\": \"#2a3f5f\"}, \"marker\": {\"line\": {\"color\": \"#E5ECF6\", \"width\": 0.5}}, \"type\": \"bar\"}], \"barpolar\": [{\"marker\": {\"line\": {\"color\": \"#E5ECF6\", \"width\": 0.5}}, \"type\": \"barpolar\"}], \"carpet\": [{\"aaxis\": {\"endlinecolor\": \"#2a3f5f\", \"gridcolor\": \"white\", \"linecolor\": \"white\", \"minorgridcolor\": \"white\", \"startlinecolor\": \"#2a3f5f\"}, \"baxis\": {\"endlinecolor\": \"#2a3f5f\", \"gridcolor\": \"white\", \"linecolor\": \"white\", \"minorgridcolor\": \"white\", \"startlinecolor\": \"#2a3f5f\"}, \"type\": \"carpet\"}], \"choropleth\": [{\"colorbar\": {\"outlinewidth\": 0, \"ticks\": \"\"}, \"type\": \"choropleth\"}], \"contour\": [{\"colorbar\": {\"outlinewidth\": 0, \"ticks\": \"\"}, \"colorscale\": [[0.0, \"#0d0887\"], [0.1111111111111111, \"#46039f\"], [0.2222222222222222, \"#7201a8\"], [0.3333333333333333, \"#9c179e\"], [0.4444444444444444, \"#bd3786\"], [0.5555555555555556, \"#d8576b\"], [0.6666666666666666, \"#ed7953\"], [0.7777777777777778, \"#fb9f3a\"], [0.8888888888888888, \"#fdca26\"], [1.0, \"#f0f921\"]], \"type\": \"contour\"}], \"contourcarpet\": [{\"colorbar\": {\"outlinewidth\": 0, \"ticks\": \"\"}, \"type\": \"contourcarpet\"}], \"heatmap\": [{\"colorbar\": {\"outlinewidth\": 0, \"ticks\": \"\"}, \"colorscale\": [[0.0, \"#0d0887\"], [0.1111111111111111, \"#46039f\"], [0.2222222222222222, \"#7201a8\"], [0.3333333333333333, \"#9c179e\"], [0.4444444444444444, \"#bd3786\"], [0.5555555555555556, \"#d8576b\"], [0.6666666666666666, \"#ed7953\"], [0.7777777777777778, \"#fb9f3a\"], [0.8888888888888888, \"#fdca26\"], [1.0, \"#f0f921\"]], \"type\": \"heatmap\"}], \"heatmapgl\": [{\"colorbar\": {\"outlinewidth\": 0, \"ticks\": \"\"}, \"colorscale\": [[0.0, \"#0d0887\"], [0.1111111111111111, \"#46039f\"], [0.2222222222222222, \"#7201a8\"], [0.3333333333333333, \"#9c179e\"], [0.4444444444444444, \"#bd3786\"], [0.5555555555555556, \"#d8576b\"], [0.6666666666666666, \"#ed7953\"], [0.7777777777777778, \"#fb9f3a\"], [0.8888888888888888, \"#fdca26\"], [1.0, \"#f0f921\"]], \"type\": \"heatmapgl\"}], \"histogram\": [{\"marker\": {\"colorbar\": {\"outlinewidth\": 0, \"ticks\": \"\"}}, \"type\": \"histogram\"}], \"histogram2d\": [{\"colorbar\": {\"outlinewidth\": 0, \"ticks\": \"\"}, \"colorscale\": [[0.0, \"#0d0887\"], [0.1111111111111111, \"#46039f\"], [0.2222222222222222, \"#7201a8\"], [0.3333333333333333, \"#9c179e\"], [0.4444444444444444, \"#bd3786\"], [0.5555555555555556, \"#d8576b\"], [0.6666666666666666, \"#ed7953\"], [0.7777777777777778, \"#fb9f3a\"], [0.8888888888888888, \"#fdca26\"], [1.0, \"#f0f921\"]], \"type\": \"histogram2d\"}], \"histogram2dcontour\": [{\"colorbar\": {\"outlinewidth\": 0, \"ticks\": \"\"}, \"colorscale\": [[0.0, \"#0d0887\"], [0.1111111111111111, \"#46039f\"], [0.2222222222222222, \"#7201a8\"], [0.3333333333333333, \"#9c179e\"], [0.4444444444444444, \"#bd3786\"], [0.5555555555555556, \"#d8576b\"], [0.6666666666666666, \"#ed7953\"], [0.7777777777777778, \"#fb9f3a\"], [0.8888888888888888, \"#fdca26\"], [1.0, \"#f0f921\"]], \"type\": \"histogram2dcontour\"}], \"mesh3d\": [{\"colorbar\": {\"outlinewidth\": 0, \"ticks\": \"\"}, \"type\": \"mesh3d\"}], \"parcoords\": [{\"line\": {\"colorbar\": {\"outlinewidth\": 0, \"ticks\": \"\"}}, \"type\": \"parcoords\"}], \"pie\": [{\"automargin\": true, \"type\": \"pie\"}], \"scatter\": [{\"marker\": {\"colorbar\": {\"outlinewidth\": 0, \"ticks\": \"\"}}, \"type\": \"scatter\"}], \"scatter3d\": [{\"line\": {\"colorbar\": {\"outlinewidth\": 0, \"ticks\": \"\"}}, \"marker\": {\"colorbar\": {\"outlinewidth\": 0, \"ticks\": \"\"}}, \"type\": \"scatter3d\"}], \"scattercarpet\": [{\"marker\": {\"colorbar\": {\"outlinewidth\": 0, \"ticks\": \"\"}}, \"type\": \"scattercarpet\"}], \"scattergeo\": [{\"marker\": {\"colorbar\": {\"outlinewidth\": 0, \"ticks\": \"\"}}, \"type\": \"scattergeo\"}], \"scattergl\": [{\"marker\": {\"colorbar\": {\"outlinewidth\": 0, \"ticks\": \"\"}}, \"type\": \"scattergl\"}], \"scattermapbox\": [{\"marker\": {\"colorbar\": {\"outlinewidth\": 0, \"ticks\": \"\"}}, \"type\": \"scattermapbox\"}], \"scatterpolar\": [{\"marker\": {\"colorbar\": {\"outlinewidth\": 0, \"ticks\": \"\"}}, \"type\": \"scatterpolar\"}], \"scatterpolargl\": [{\"marker\": {\"colorbar\": {\"outlinewidth\": 0, \"ticks\": \"\"}}, \"type\": \"scatterpolargl\"}], \"scatterternary\": [{\"marker\": {\"colorbar\": {\"outlinewidth\": 0, \"ticks\": \"\"}}, \"type\": \"scatterternary\"}], \"surface\": [{\"colorbar\": {\"outlinewidth\": 0, \"ticks\": \"\"}, \"colorscale\": [[0.0, \"#0d0887\"], [0.1111111111111111, \"#46039f\"], [0.2222222222222222, \"#7201a8\"], [0.3333333333333333, \"#9c179e\"], [0.4444444444444444, \"#bd3786\"], [0.5555555555555556, \"#d8576b\"], [0.6666666666666666, \"#ed7953\"], [0.7777777777777778, \"#fb9f3a\"], [0.8888888888888888, \"#fdca26\"], [1.0, \"#f0f921\"]], \"type\": \"surface\"}], \"table\": [{\"cells\": {\"fill\": {\"color\": \"#EBF0F8\"}, \"line\": {\"color\": \"white\"}}, \"header\": {\"fill\": {\"color\": \"#C8D4E3\"}, \"line\": {\"color\": \"white\"}}, \"type\": \"table\"}]}, \"layout\": {\"annotationdefaults\": {\"arrowcolor\": \"#2a3f5f\", \"arrowhead\": 0, \"arrowwidth\": 1}, \"coloraxis\": {\"colorbar\": {\"outlinewidth\": 0, \"ticks\": \"\"}}, \"colorscale\": {\"diverging\": [[0, \"#8e0152\"], [0.1, \"#c51b7d\"], [0.2, \"#de77ae\"], [0.3, \"#f1b6da\"], [0.4, \"#fde0ef\"], [0.5, \"#f7f7f7\"], [0.6, \"#e6f5d0\"], [0.7, \"#b8e186\"], [0.8, \"#7fbc41\"], [0.9, \"#4d9221\"], [1, \"#276419\"]], \"sequential\": [[0.0, \"#0d0887\"], [0.1111111111111111, \"#46039f\"], [0.2222222222222222, \"#7201a8\"], [0.3333333333333333, \"#9c179e\"], [0.4444444444444444, \"#bd3786\"], [0.5555555555555556, \"#d8576b\"], [0.6666666666666666, \"#ed7953\"], [0.7777777777777778, \"#fb9f3a\"], [0.8888888888888888, \"#fdca26\"], [1.0, \"#f0f921\"]], \"sequentialminus\": [[0.0, \"#0d0887\"], [0.1111111111111111, \"#46039f\"], [0.2222222222222222, \"#7201a8\"], [0.3333333333333333, \"#9c179e\"], [0.4444444444444444, \"#bd3786\"], [0.5555555555555556, \"#d8576b\"], [0.6666666666666666, \"#ed7953\"], [0.7777777777777778, \"#fb9f3a\"], [0.8888888888888888, \"#fdca26\"], [1.0, \"#f0f921\"]]}, \"colorway\": [\"#636efa\", \"#EF553B\", \"#00cc96\", \"#ab63fa\", \"#FFA15A\", \"#19d3f3\", \"#FF6692\", \"#B6E880\", \"#FF97FF\", \"#FECB52\"], \"font\": {\"color\": \"#2a3f5f\"}, \"geo\": {\"bgcolor\": \"white\", \"lakecolor\": \"white\", \"landcolor\": \"#E5ECF6\", \"showlakes\": true, \"showland\": true, \"subunitcolor\": \"white\"}, \"hoverlabel\": {\"align\": \"left\"}, \"hovermode\": \"closest\", \"mapbox\": {\"style\": \"light\"}, \"paper_bgcolor\": \"white\", \"plot_bgcolor\": \"#E5ECF6\", \"polar\": {\"angularaxis\": {\"gridcolor\": \"white\", \"linecolor\": \"white\", \"ticks\": \"\"}, \"bgcolor\": \"#E5ECF6\", \"radialaxis\": {\"gridcolor\": \"white\", \"linecolor\": \"white\", \"ticks\": \"\"}}, \"scene\": {\"xaxis\": {\"backgroundcolor\": \"#E5ECF6\", \"gridcolor\": \"white\", \"gridwidth\": 2, \"linecolor\": \"white\", \"showbackground\": true, \"ticks\": \"\", \"zerolinecolor\": \"white\"}, \"yaxis\": {\"backgroundcolor\": \"#E5ECF6\", \"gridcolor\": \"white\", \"gridwidth\": 2, \"linecolor\": \"white\", \"showbackground\": true, \"ticks\": \"\", \"zerolinecolor\": \"white\"}, \"zaxis\": {\"backgroundcolor\": \"#E5ECF6\", \"gridcolor\": \"white\", \"gridwidth\": 2, \"linecolor\": \"white\", \"showbackground\": true, \"ticks\": \"\", \"zerolinecolor\": \"white\"}}, \"shapedefaults\": {\"line\": {\"color\": \"#2a3f5f\"}}, \"ternary\": {\"aaxis\": {\"gridcolor\": \"white\", \"linecolor\": \"white\", \"ticks\": \"\"}, \"baxis\": {\"gridcolor\": \"white\", \"linecolor\": \"white\", \"ticks\": \"\"}, \"bgcolor\": \"#E5ECF6\", \"caxis\": {\"gridcolor\": \"white\", \"linecolor\": \"white\", \"ticks\": \"\"}}, \"title\": {\"x\": 0.05}, \"xaxis\": {\"automargin\": true, \"gridcolor\": \"white\", \"linecolor\": \"white\", \"ticks\": \"\", \"title\": {\"standoff\": 15}, \"zerolinecolor\": \"white\", \"zerolinewidth\": 2}, \"yaxis\": {\"automargin\": true, \"gridcolor\": \"white\", \"linecolor\": \"white\", \"ticks\": \"\", \"title\": {\"standoff\": 15}, \"zerolinecolor\": \"white\", \"zerolinewidth\": 2}}}, \"xaxis\": {\"anchor\": \"y\", \"domain\": [0.0, 1.0], \"range\": [0.0, 600.0], \"title\": {\"text\": \"<i>x</i> (mm)\"}}, \"yaxis\": {\"anchor\": \"x\", \"domain\": [0.0, 1.0], \"scaleanchor\": \"x\", \"scaleratio\": 1, \"title\": {\"text\": \"<i>y</i> (mm)\"}}},\n",
              "                        {\"responsive\": true}\n",
              "                    ).then(function(){\n",
              "                            \n",
              "var gd = document.getElementById('1b0c82a2-e418-4530-9d32-c95efa1d2549');\n",
              "var x = new MutationObserver(function (mutations, observer) {{\n",
              "        var display = window.getComputedStyle(gd).display;\n",
              "        if (!display || display === 'none') {{\n",
              "            console.log([gd, 'removed!']);\n",
              "            Plotly.purge(gd);\n",
              "            observer.disconnect();\n",
              "        }}\n",
              "}});\n",
              "\n",
              "// Listen for the removal of the full notebook cells\n",
              "var notebookContainer = gd.closest('#notebook-container');\n",
              "if (notebookContainer) {{\n",
              "    x.observe(notebookContainer, {childList: true});\n",
              "}}\n",
              "\n",
              "// Listen for the clearing of the current output cell\n",
              "var outputEl = gd.closest('.output');\n",
              "if (outputEl) {{\n",
              "    x.observe(outputEl, {childList: true});\n",
              "}}\n",
              "\n",
              "                        })\n",
              "                };\n",
              "                \n",
              "            </script>\n",
              "        </div>\n",
              "</body>\n",
              "</html>"
            ]
          },
          "metadata": {
            "tags": []
          }
        }
      ]
    },
    {
      "cell_type": "markdown",
      "metadata": {
        "id": "n3EWrNoRBfF1"
      },
      "source": [
        "## 2.3. Remove the Farthest Lines of Response\n",
        "In this step, we remove the LoRs furthest removed from the calculated centre point - i.e. those most likely to be corrupt.\n",
        "\n",
        "Try altering the value nlors_remove, which determines how many lines are removed in this step. If `nlors_remove` is too small, we can see it will take many iterations to reach only the true LoRs. Conversely, if we remove too many, you will notice the algorithms starts removing 'true' LoRs too."
      ]
    },
    {
      "cell_type": "code",
      "metadata": {
        "colab": {
          "base_uri": "https://localhost:8080/",
          "height": 542
        },
        "id": "Fs55o8DB5kJr",
        "outputId": "122da8a5-675e-4178-9356-dfd4518e0108"
      },
      "source": [
        "# Remove the nlors_remove farthest LoRs from the MDP to eliminate scattered LoRs, then recompute the MDP\n",
        "nlors_remove = 15\n",
        "\n",
        "# Compute all distances from the MDP to the LoRs, then find the *indices* of the sorted distances.\n",
        "# The last 10 elements in `sorted_dists` are the indices of the farthest LoRs\n",
        "dists = distances(mdp[1:], lors)        # Ignore the time column (index 0)\n",
        "sorted_dists = np.argsort(dists)\n",
        "\n",
        "scattered_lors = lors[sorted_dists[-nlors_remove:]]\n",
        "good_lors = lors[sorted_dists[:-nlors_remove]]\n",
        "\n",
        "# Recompute the MDP only from the retained (\"good\") LoRs\n",
        "p0 = [250, 250]\n",
        "new_mdp = minimize(sum_distances, p0, good_lors).x\n",
        "\n",
        "# Insert MDP timestamp at column 0\n",
        "new_mdp = np.insert(new_mdp, 0, good_lors[:, 0].mean())\n",
        "\n",
        "grapher = PlotlyGrapher2D()\n",
        "\n",
        "grapher.add_lines(good_lors, color = \"green\")\n",
        "grapher.add_lines(scattered_lors, color = \"black\")\n",
        "\n",
        "grapher.add_points([mdp], color = \"red\")\n",
        "grapher.add_points([new_mdp], color = \"blue\")\n",
        "\n",
        "grapher.show()"
      ],
      "execution_count": 6,
      "outputs": [
        {
          "output_type": "display_data",
          "data": {
            "text/html": [
              "<html>\n",
              "<head><meta charset=\"utf-8\" /></head>\n",
              "<body>\n",
              "    <div>\n",
              "            <script src=\"https://cdnjs.cloudflare.com/ajax/libs/mathjax/2.7.5/MathJax.js?config=TeX-AMS-MML_SVG\"></script><script type=\"text/javascript\">if (window.MathJax) {MathJax.Hub.Config({SVG: {font: \"STIX-Web\"}});}</script>\n",
              "                <script type=\"text/javascript\">window.PlotlyConfig = {MathJaxConfig: 'local'};</script>\n",
              "        <script src=\"https://cdn.plot.ly/plotly-latest.min.js\"></script>    \n",
              "            <div id=\"5c931b42-8fa8-4b7d-8fce-2e0b45815fe5\" class=\"plotly-graph-div\" style=\"height:525px; width:100%;\"></div>\n",
              "            <script type=\"text/javascript\">\n",
              "                \n",
              "                    window.PLOTLYENV=window.PLOTLYENV || {};\n",
              "                    \n",
              "                if (document.getElementById(\"5c931b42-8fa8-4b7d-8fce-2e0b45815fe5\")) {\n",
              "                    Plotly.newPlot(\n",
              "                        '5c931b42-8fa8-4b7d-8fce-2e0b45815fe5',\n",
              "                        [{\"line\": {\"color\": \"green\", \"width\": 2.0}, \"mode\": \"lines\", \"opacity\": 0.6, \"type\": \"scatter\", \"x\": [0.0, 600.0, null, 0.0, 600.0, null, 0.0, 600.0, null, 0.0, 600.0, null, 0.0, 600.0, null, 0.0, 600.0, null, 0.0, 600.0, null, 0.0, 600.0, null, 0.0, 600.0, null, 0.0, 600.0, null, 0.0, 600.0, null, 0.0, 600.0, null, 0.0, 600.0, null, 0.0, 600.0, null, 0.0, 600.0, null, 0.0, 600.0, null, 0.0, 600.0, null, 0.0, 600.0, null, 0.0, 600.0, null, 0.0, 600.0, null, 0.0, 600.0, null, 0.0, 600.0, null, 0.0, 600.0, null, 0.0, 600.0, null, 0.0, 600.0, null, 0.0, 600.0, null, 0.0, 600.0, null, 0.0, 600.0, null, 0.0, 600.0, null, 0.0, 600.0, null, 0.0, 600.0, null, 0.0, 600.0, null, 0.0, 600.0, null, 0.0, 600.0, null, 0.0, 600.0, null], \"xaxis\": \"x\", \"y\": [154.6, 322.7, null, 434.8, 72.0, null, 282.6, 208.9, null, 439.5, 65.5, null, 404.7, 96.8, null, 230.1, 253.7, null, 296.2, 194.1, null, 305.0, 185.9, null, 165.8, 310.3, null, 167.6, 313.9, null, 126.3, 345.1, null, 446.6, 64.3, null, 189.4, 295.6, null, 115.1, 353.4, null, 373.5, 131.0, null, 47.2, 413.6, null, 171.1, 302.7, null, 300.3, 197.6, null, 116.2, 351.0, null, 428.3, 70.2, null, 276.7, 220.1, null, 209.4, 280.8, null, 111.5, 353.4, null, 133.3, 349.9, null, 185.9, 302.7, null, 185.3, 285.0, null, 92.0, 392.9, null, 245.4, 257.2, null, 276.7, 195.3, null, 341.0, 132.8, null, 112.7, 394.1, null, 50.2, 376.4, null, 335.1, 215.4, null, 430.1, 135.7, null, 259.0, 290.3, null], \"yaxis\": \"y\"}, {\"line\": {\"color\": \"black\", \"width\": 2.0}, \"mode\": \"lines\", \"opacity\": 0.6, \"type\": \"scatter\", \"x\": [0.0, 600.0, null, 0.0, 600.0, null, 0.0, 600.0, null, 0.0, 600.0, null, 0.0, 600.0, null, 0.0, 600.0, null, 0.0, 600.0, null, 0.0, 600.0, null, 0.0, 600.0, null, 0.0, 600.0, null, 0.0, 600.0, null, 0.0, 600.0, null, 0.0, 600.0, null, 0.0, 600.0, null, 0.0, 600.0, null], \"xaxis\": \"x\", \"y\": [132.2, 266.1, null, 238.9, 168.1, null, 305.0, 103.2, null, 167.6, 227.7, null, 274.9, 306.2, null, 76.1, 506.2, null, 390.6, 254.9, null, 410.0, 240.1, null, 227.7, 430.1, null, 194.1, 120.4, null, 168.7, 142.8, null, 277.3, 395.3, null, 174.1, 71.4, null, 103.2, 136.9, null, 296.2, 452.5, null], \"yaxis\": \"y\"}, {\"marker\": {\"color\": \"red\", \"opacity\": 0.8, \"size\": 6.0}, \"mode\": \"markers\", \"type\": \"scatter\", \"x\": [316.1544198667141], \"xaxis\": \"x\", \"y\": [243.1759299662646], \"yaxis\": \"y\"}, {\"marker\": {\"color\": \"blue\", \"opacity\": 0.8, \"size\": 6.0}, \"mode\": \"markers\", \"type\": \"scatter\", \"x\": [317.8601107712908], \"xaxis\": \"x\", \"y\": [242.60058635326303], \"yaxis\": \"y\"}],\n",
              "                        {\"annotations\": [{\"font\": {\"size\": 16}, \"showarrow\": false, \"text\": \"  \", \"x\": 0.5, \"xanchor\": \"center\", \"xref\": \"paper\", \"y\": 1.0, \"yanchor\": \"bottom\", \"yref\": \"paper\"}], \"margin\": {\"b\": 30, \"l\": 0, \"r\": 0, \"t\": 30}, \"showlegend\": false, \"template\": {\"data\": {\"bar\": [{\"error_x\": {\"color\": \"#2a3f5f\"}, \"error_y\": {\"color\": \"#2a3f5f\"}, \"marker\": {\"line\": {\"color\": \"#E5ECF6\", \"width\": 0.5}}, \"type\": \"bar\"}], \"barpolar\": [{\"marker\": {\"line\": {\"color\": \"#E5ECF6\", \"width\": 0.5}}, \"type\": \"barpolar\"}], \"carpet\": [{\"aaxis\": {\"endlinecolor\": \"#2a3f5f\", \"gridcolor\": \"white\", \"linecolor\": \"white\", \"minorgridcolor\": \"white\", \"startlinecolor\": \"#2a3f5f\"}, \"baxis\": {\"endlinecolor\": \"#2a3f5f\", \"gridcolor\": \"white\", \"linecolor\": \"white\", \"minorgridcolor\": \"white\", \"startlinecolor\": \"#2a3f5f\"}, \"type\": \"carpet\"}], \"choropleth\": [{\"colorbar\": {\"outlinewidth\": 0, \"ticks\": \"\"}, \"type\": \"choropleth\"}], \"contour\": [{\"colorbar\": {\"outlinewidth\": 0, \"ticks\": \"\"}, \"colorscale\": [[0.0, \"#0d0887\"], [0.1111111111111111, \"#46039f\"], [0.2222222222222222, \"#7201a8\"], [0.3333333333333333, \"#9c179e\"], [0.4444444444444444, \"#bd3786\"], [0.5555555555555556, \"#d8576b\"], [0.6666666666666666, \"#ed7953\"], [0.7777777777777778, \"#fb9f3a\"], [0.8888888888888888, \"#fdca26\"], [1.0, \"#f0f921\"]], \"type\": \"contour\"}], \"contourcarpet\": [{\"colorbar\": {\"outlinewidth\": 0, \"ticks\": \"\"}, \"type\": \"contourcarpet\"}], \"heatmap\": [{\"colorbar\": {\"outlinewidth\": 0, \"ticks\": \"\"}, \"colorscale\": [[0.0, \"#0d0887\"], [0.1111111111111111, \"#46039f\"], [0.2222222222222222, \"#7201a8\"], [0.3333333333333333, \"#9c179e\"], [0.4444444444444444, \"#bd3786\"], [0.5555555555555556, \"#d8576b\"], [0.6666666666666666, \"#ed7953\"], [0.7777777777777778, \"#fb9f3a\"], [0.8888888888888888, \"#fdca26\"], [1.0, \"#f0f921\"]], \"type\": \"heatmap\"}], \"heatmapgl\": [{\"colorbar\": {\"outlinewidth\": 0, \"ticks\": \"\"}, \"colorscale\": [[0.0, \"#0d0887\"], [0.1111111111111111, \"#46039f\"], [0.2222222222222222, \"#7201a8\"], [0.3333333333333333, \"#9c179e\"], [0.4444444444444444, \"#bd3786\"], [0.5555555555555556, \"#d8576b\"], [0.6666666666666666, \"#ed7953\"], [0.7777777777777778, \"#fb9f3a\"], [0.8888888888888888, \"#fdca26\"], [1.0, \"#f0f921\"]], \"type\": \"heatmapgl\"}], \"histogram\": [{\"marker\": {\"colorbar\": {\"outlinewidth\": 0, \"ticks\": \"\"}}, \"type\": \"histogram\"}], \"histogram2d\": [{\"colorbar\": {\"outlinewidth\": 0, \"ticks\": \"\"}, \"colorscale\": [[0.0, \"#0d0887\"], [0.1111111111111111, \"#46039f\"], [0.2222222222222222, \"#7201a8\"], [0.3333333333333333, \"#9c179e\"], [0.4444444444444444, \"#bd3786\"], [0.5555555555555556, \"#d8576b\"], [0.6666666666666666, \"#ed7953\"], [0.7777777777777778, \"#fb9f3a\"], [0.8888888888888888, \"#fdca26\"], [1.0, \"#f0f921\"]], \"type\": \"histogram2d\"}], \"histogram2dcontour\": [{\"colorbar\": {\"outlinewidth\": 0, \"ticks\": \"\"}, \"colorscale\": [[0.0, \"#0d0887\"], [0.1111111111111111, \"#46039f\"], [0.2222222222222222, \"#7201a8\"], [0.3333333333333333, \"#9c179e\"], [0.4444444444444444, \"#bd3786\"], [0.5555555555555556, \"#d8576b\"], [0.6666666666666666, \"#ed7953\"], [0.7777777777777778, \"#fb9f3a\"], [0.8888888888888888, \"#fdca26\"], [1.0, \"#f0f921\"]], \"type\": \"histogram2dcontour\"}], \"mesh3d\": [{\"colorbar\": {\"outlinewidth\": 0, \"ticks\": \"\"}, \"type\": \"mesh3d\"}], \"parcoords\": [{\"line\": {\"colorbar\": {\"outlinewidth\": 0, \"ticks\": \"\"}}, \"type\": \"parcoords\"}], \"pie\": [{\"automargin\": true, \"type\": \"pie\"}], \"scatter\": [{\"marker\": {\"colorbar\": {\"outlinewidth\": 0, \"ticks\": \"\"}}, \"type\": \"scatter\"}], \"scatter3d\": [{\"line\": {\"colorbar\": {\"outlinewidth\": 0, \"ticks\": \"\"}}, \"marker\": {\"colorbar\": {\"outlinewidth\": 0, \"ticks\": \"\"}}, \"type\": \"scatter3d\"}], \"scattercarpet\": [{\"marker\": {\"colorbar\": {\"outlinewidth\": 0, \"ticks\": \"\"}}, \"type\": \"scattercarpet\"}], \"scattergeo\": [{\"marker\": {\"colorbar\": {\"outlinewidth\": 0, \"ticks\": \"\"}}, \"type\": \"scattergeo\"}], \"scattergl\": [{\"marker\": {\"colorbar\": {\"outlinewidth\": 0, \"ticks\": \"\"}}, \"type\": \"scattergl\"}], \"scattermapbox\": [{\"marker\": {\"colorbar\": {\"outlinewidth\": 0, \"ticks\": \"\"}}, \"type\": \"scattermapbox\"}], \"scatterpolar\": [{\"marker\": {\"colorbar\": {\"outlinewidth\": 0, \"ticks\": \"\"}}, \"type\": \"scatterpolar\"}], \"scatterpolargl\": [{\"marker\": {\"colorbar\": {\"outlinewidth\": 0, \"ticks\": \"\"}}, \"type\": \"scatterpolargl\"}], \"scatterternary\": [{\"marker\": {\"colorbar\": {\"outlinewidth\": 0, \"ticks\": \"\"}}, \"type\": \"scatterternary\"}], \"surface\": [{\"colorbar\": {\"outlinewidth\": 0, \"ticks\": \"\"}, \"colorscale\": [[0.0, \"#0d0887\"], [0.1111111111111111, \"#46039f\"], [0.2222222222222222, \"#7201a8\"], [0.3333333333333333, \"#9c179e\"], [0.4444444444444444, \"#bd3786\"], [0.5555555555555556, \"#d8576b\"], [0.6666666666666666, \"#ed7953\"], [0.7777777777777778, \"#fb9f3a\"], [0.8888888888888888, \"#fdca26\"], [1.0, \"#f0f921\"]], \"type\": \"surface\"}], \"table\": [{\"cells\": {\"fill\": {\"color\": \"#EBF0F8\"}, \"line\": {\"color\": \"white\"}}, \"header\": {\"fill\": {\"color\": \"#C8D4E3\"}, \"line\": {\"color\": \"white\"}}, \"type\": \"table\"}]}, \"layout\": {\"annotationdefaults\": {\"arrowcolor\": \"#2a3f5f\", \"arrowhead\": 0, \"arrowwidth\": 1}, \"coloraxis\": {\"colorbar\": {\"outlinewidth\": 0, \"ticks\": \"\"}}, \"colorscale\": {\"diverging\": [[0, \"#8e0152\"], [0.1, \"#c51b7d\"], [0.2, \"#de77ae\"], [0.3, \"#f1b6da\"], [0.4, \"#fde0ef\"], [0.5, \"#f7f7f7\"], [0.6, \"#e6f5d0\"], [0.7, \"#b8e186\"], [0.8, \"#7fbc41\"], [0.9, \"#4d9221\"], [1, \"#276419\"]], \"sequential\": [[0.0, \"#0d0887\"], [0.1111111111111111, \"#46039f\"], [0.2222222222222222, \"#7201a8\"], [0.3333333333333333, \"#9c179e\"], [0.4444444444444444, \"#bd3786\"], [0.5555555555555556, \"#d8576b\"], [0.6666666666666666, \"#ed7953\"], [0.7777777777777778, \"#fb9f3a\"], [0.8888888888888888, \"#fdca26\"], [1.0, \"#f0f921\"]], \"sequentialminus\": [[0.0, \"#0d0887\"], [0.1111111111111111, \"#46039f\"], [0.2222222222222222, \"#7201a8\"], [0.3333333333333333, \"#9c179e\"], [0.4444444444444444, \"#bd3786\"], [0.5555555555555556, \"#d8576b\"], [0.6666666666666666, \"#ed7953\"], [0.7777777777777778, \"#fb9f3a\"], [0.8888888888888888, \"#fdca26\"], [1.0, \"#f0f921\"]]}, \"colorway\": [\"#636efa\", \"#EF553B\", \"#00cc96\", \"#ab63fa\", \"#FFA15A\", \"#19d3f3\", \"#FF6692\", \"#B6E880\", \"#FF97FF\", \"#FECB52\"], \"font\": {\"color\": \"#2a3f5f\"}, \"geo\": {\"bgcolor\": \"white\", \"lakecolor\": \"white\", \"landcolor\": \"#E5ECF6\", \"showlakes\": true, \"showland\": true, \"subunitcolor\": \"white\"}, \"hoverlabel\": {\"align\": \"left\"}, \"hovermode\": \"closest\", \"mapbox\": {\"style\": \"light\"}, \"paper_bgcolor\": \"white\", \"plot_bgcolor\": \"#E5ECF6\", \"polar\": {\"angularaxis\": {\"gridcolor\": \"white\", \"linecolor\": \"white\", \"ticks\": \"\"}, \"bgcolor\": \"#E5ECF6\", \"radialaxis\": {\"gridcolor\": \"white\", \"linecolor\": \"white\", \"ticks\": \"\"}}, \"scene\": {\"xaxis\": {\"backgroundcolor\": \"#E5ECF6\", \"gridcolor\": \"white\", \"gridwidth\": 2, \"linecolor\": \"white\", \"showbackground\": true, \"ticks\": \"\", \"zerolinecolor\": \"white\"}, \"yaxis\": {\"backgroundcolor\": \"#E5ECF6\", \"gridcolor\": \"white\", \"gridwidth\": 2, \"linecolor\": \"white\", \"showbackground\": true, \"ticks\": \"\", \"zerolinecolor\": \"white\"}, \"zaxis\": {\"backgroundcolor\": \"#E5ECF6\", \"gridcolor\": \"white\", \"gridwidth\": 2, \"linecolor\": \"white\", \"showbackground\": true, \"ticks\": \"\", \"zerolinecolor\": \"white\"}}, \"shapedefaults\": {\"line\": {\"color\": \"#2a3f5f\"}}, \"ternary\": {\"aaxis\": {\"gridcolor\": \"white\", \"linecolor\": \"white\", \"ticks\": \"\"}, \"baxis\": {\"gridcolor\": \"white\", \"linecolor\": \"white\", \"ticks\": \"\"}, \"bgcolor\": \"#E5ECF6\", \"caxis\": {\"gridcolor\": \"white\", \"linecolor\": \"white\", \"ticks\": \"\"}}, \"title\": {\"x\": 0.05}, \"xaxis\": {\"automargin\": true, \"gridcolor\": \"white\", \"linecolor\": \"white\", \"ticks\": \"\", \"title\": {\"standoff\": 15}, \"zerolinecolor\": \"white\", \"zerolinewidth\": 2}, \"yaxis\": {\"automargin\": true, \"gridcolor\": \"white\", \"linecolor\": \"white\", \"ticks\": \"\", \"title\": {\"standoff\": 15}, \"zerolinecolor\": \"white\", \"zerolinewidth\": 2}}}, \"xaxis\": {\"anchor\": \"y\", \"domain\": [0.0, 1.0], \"range\": [0.0, 600.0], \"title\": {\"text\": \"<i>x</i> (mm)\"}}, \"yaxis\": {\"anchor\": \"x\", \"domain\": [0.0, 1.0], \"scaleanchor\": \"x\", \"scaleratio\": 1, \"title\": {\"text\": \"<i>y</i> (mm)\"}}},\n",
              "                        {\"responsive\": true}\n",
              "                    ).then(function(){\n",
              "                            \n",
              "var gd = document.getElementById('5c931b42-8fa8-4b7d-8fce-2e0b45815fe5');\n",
              "var x = new MutationObserver(function (mutations, observer) {{\n",
              "        var display = window.getComputedStyle(gd).display;\n",
              "        if (!display || display === 'none') {{\n",
              "            console.log([gd, 'removed!']);\n",
              "            Plotly.purge(gd);\n",
              "            observer.disconnect();\n",
              "        }}\n",
              "}});\n",
              "\n",
              "// Listen for the removal of the full notebook cells\n",
              "var notebookContainer = gd.closest('#notebook-container');\n",
              "if (notebookContainer) {{\n",
              "    x.observe(notebookContainer, {childList: true});\n",
              "}}\n",
              "\n",
              "// Listen for the clearing of the current output cell\n",
              "var outputEl = gd.closest('.output');\n",
              "if (outputEl) {{\n",
              "    x.observe(outputEl, {childList: true});\n",
              "}}\n",
              "\n",
              "                        })\n",
              "                };\n",
              "                \n",
              "            </script>\n",
              "        </div>\n",
              "</body>\n",
              "</html>"
            ]
          },
          "metadata": {
            "tags": []
          }
        }
      ]
    },
    {
      "cell_type": "markdown",
      "metadata": {
        "id": "gByjgprpBnr5"
      },
      "source": [
        "## 2.4. Iteratively Remove the Farthest LoRs and Recompute MDP\n",
        "In the below code segment, we can again adjust `nlors_remove` and directly observe the end effects of our choice of value. We can also adjust `nlors_target` - a higher value of this parameter will give us more data, but a higher chance of false data; a lower value means we are more likely to have only true LoRs, but will have poorer statistics.\n",
        "\n",
        "Try adjusting both of these parameters and see what effect it has on your end result. Try also repeating the exercise with more or fewer initial LoRs to get a feel with how the correct value to choose may vary with LoR activity."
      ]
    },
    {
      "cell_type": "code",
      "metadata": {
        "id": "fgTNmpm81UFY"
      },
      "source": [
        "# The Birmingham method works by iteratively removing scattered LoRs:\n",
        "#\n",
        "#     1. Compute MDP\n",
        "#     2. Remove `nlors_remove` LoRs that are farthest away from the MDP\n",
        "#     3. Re-compute MDP\n",
        "#\n",
        "# Until `nlors_target` LoRs remain\n",
        "\n",
        "nlors_remove = 5\n",
        "nlors_target = 10\n",
        "\n",
        "# Indices of \"good\" / unscattered LoRs\n",
        "good_indices = np.arange(len(lors))\n",
        "\n",
        "# Find the initial minimum distance point (MDP)\n",
        "p0 = [250, 250]\n",
        "cur_mdp = minimize(sum_distances, p0, lors[good_indices]).x\n",
        "\n",
        "# Iteratively remove `nlors_remove` farthest LoRs at a time and recompute the MDP until\n",
        "# `nlors_target` LoRs remain\n",
        "while len(good_indices) > nlors_target:\n",
        "    dists = distances(cur_mdp, lors[good_indices])              # Distances from MDP to all good LoRs\n",
        "    sorted_dists = np.argsort(dists)                            # Sorted indices of distances\n",
        "    good_indices = good_indices[sorted_dists[:-nlors_remove]]   # Remove `nlors_remove` good LoR indices\n",
        "\n",
        "    cur_mdp = minimize(sum_distances, cur_mdp, lors[good_indices]).x\n",
        "\n",
        "# Insert the tracer position's timestamp at column 0\n",
        "position = np.insert(cur_mdp, 0, lors[good_indices, 0].mean())"
      ],
      "execution_count": 7,
      "outputs": []
    },
    {
      "cell_type": "code",
      "metadata": {
        "colab": {
          "base_uri": "https://localhost:8080/",
          "height": 542
        },
        "id": "Vkv2bOt63TbK",
        "outputId": "074b5a52-1471-420c-f2e6-dde320de2a92"
      },
      "source": [
        "# Plot the remaining good LoRs and the final tracer location\n",
        "grapher = PlotlyGrapher2D()\n",
        "\n",
        "grapher.add_lines(lors[good_indices])\n",
        "grapher.add_points([position])\n",
        "\n",
        "grapher.show()"
      ],
      "execution_count": 8,
      "outputs": [
        {
          "output_type": "display_data",
          "data": {
            "text/html": [
              "<html>\n",
              "<head><meta charset=\"utf-8\" /></head>\n",
              "<body>\n",
              "    <div>\n",
              "            <script src=\"https://cdnjs.cloudflare.com/ajax/libs/mathjax/2.7.5/MathJax.js?config=TeX-AMS-MML_SVG\"></script><script type=\"text/javascript\">if (window.MathJax) {MathJax.Hub.Config({SVG: {font: \"STIX-Web\"}});}</script>\n",
              "                <script type=\"text/javascript\">window.PlotlyConfig = {MathJaxConfig: 'local'};</script>\n",
              "        <script src=\"https://cdn.plot.ly/plotly-latest.min.js\"></script>    \n",
              "            <div id=\"8ec4f0c9-2144-44d7-a77d-b7fefef1fcc6\" class=\"plotly-graph-div\" style=\"height:525px; width:100%;\"></div>\n",
              "            <script type=\"text/javascript\">\n",
              "                \n",
              "                    window.PLOTLYENV=window.PLOTLYENV || {};\n",
              "                    \n",
              "                if (document.getElementById(\"8ec4f0c9-2144-44d7-a77d-b7fefef1fcc6\")) {\n",
              "                    Plotly.newPlot(\n",
              "                        '8ec4f0c9-2144-44d7-a77d-b7fefef1fcc6',\n",
              "                        [{\"line\": {\"width\": 2.0}, \"mode\": \"lines\", \"opacity\": 0.6, \"type\": \"scatter\", \"x\": [0.0, 600.0, null, 0.0, 600.0, null, 0.0, 600.0, null, 0.0, 600.0, null, 0.0, 600.0, null, 0.0, 600.0, null, 0.0, 600.0, null, 0.0, 600.0, null, 0.0, 600.0, null, 0.0, 600.0, null], \"xaxis\": \"x\", \"y\": [47.2, 413.6, null, 434.8, 72.0, null, 296.2, 194.1, null, 115.1, 353.4, null, 305.0, 185.9, null, 126.3, 345.1, null, 165.8, 310.3, null, 230.1, 253.7, null, 404.7, 96.8, null, 171.1, 302.7, null], \"yaxis\": \"y\"}, {\"marker\": {\"color\": [241.93552892408718], \"colorscale\": [[0.0, \"#000004\"], [0.1111111111111111, \"#180f3d\"], [0.2222222222222222, \"#440f76\"], [0.3333333333333333, \"#721f81\"], [0.4444444444444444, \"#9e2f7f\"], [0.5555555555555556, \"#cd4071\"], [0.6666666666666666, \"#f1605d\"], [0.7777777777777778, \"#fd9668\"], [0.8888888888888888, \"#feca8d\"], [1.0, \"#fcfdbf\"]], \"opacity\": 0.8, \"size\": 6.0}, \"mode\": \"markers\", \"type\": \"scatter\", \"x\": [318.89013361922395], \"xaxis\": \"x\", \"y\": [241.93552892408718], \"yaxis\": \"y\"}],\n",
              "                        {\"annotations\": [{\"font\": {\"size\": 16}, \"showarrow\": false, \"text\": \"  \", \"x\": 0.5, \"xanchor\": \"center\", \"xref\": \"paper\", \"y\": 1.0, \"yanchor\": \"bottom\", \"yref\": \"paper\"}], \"margin\": {\"b\": 30, \"l\": 0, \"r\": 0, \"t\": 30}, \"showlegend\": false, \"template\": {\"data\": {\"bar\": [{\"error_x\": {\"color\": \"#2a3f5f\"}, \"error_y\": {\"color\": \"#2a3f5f\"}, \"marker\": {\"line\": {\"color\": \"#E5ECF6\", \"width\": 0.5}}, \"type\": \"bar\"}], \"barpolar\": [{\"marker\": {\"line\": {\"color\": \"#E5ECF6\", \"width\": 0.5}}, \"type\": \"barpolar\"}], \"carpet\": [{\"aaxis\": {\"endlinecolor\": \"#2a3f5f\", \"gridcolor\": \"white\", \"linecolor\": \"white\", \"minorgridcolor\": \"white\", \"startlinecolor\": \"#2a3f5f\"}, \"baxis\": {\"endlinecolor\": \"#2a3f5f\", \"gridcolor\": \"white\", \"linecolor\": \"white\", \"minorgridcolor\": \"white\", \"startlinecolor\": \"#2a3f5f\"}, \"type\": \"carpet\"}], \"choropleth\": [{\"colorbar\": {\"outlinewidth\": 0, \"ticks\": \"\"}, \"type\": \"choropleth\"}], \"contour\": [{\"colorbar\": {\"outlinewidth\": 0, \"ticks\": \"\"}, \"colorscale\": [[0.0, \"#0d0887\"], [0.1111111111111111, \"#46039f\"], [0.2222222222222222, \"#7201a8\"], [0.3333333333333333, \"#9c179e\"], [0.4444444444444444, \"#bd3786\"], [0.5555555555555556, \"#d8576b\"], [0.6666666666666666, \"#ed7953\"], [0.7777777777777778, \"#fb9f3a\"], [0.8888888888888888, \"#fdca26\"], [1.0, \"#f0f921\"]], \"type\": \"contour\"}], \"contourcarpet\": [{\"colorbar\": {\"outlinewidth\": 0, \"ticks\": \"\"}, \"type\": \"contourcarpet\"}], \"heatmap\": [{\"colorbar\": {\"outlinewidth\": 0, \"ticks\": \"\"}, \"colorscale\": [[0.0, \"#0d0887\"], [0.1111111111111111, \"#46039f\"], [0.2222222222222222, \"#7201a8\"], [0.3333333333333333, \"#9c179e\"], [0.4444444444444444, \"#bd3786\"], [0.5555555555555556, \"#d8576b\"], [0.6666666666666666, \"#ed7953\"], [0.7777777777777778, \"#fb9f3a\"], [0.8888888888888888, \"#fdca26\"], [1.0, \"#f0f921\"]], \"type\": \"heatmap\"}], \"heatmapgl\": [{\"colorbar\": {\"outlinewidth\": 0, \"ticks\": \"\"}, \"colorscale\": [[0.0, \"#0d0887\"], [0.1111111111111111, \"#46039f\"], [0.2222222222222222, \"#7201a8\"], [0.3333333333333333, \"#9c179e\"], [0.4444444444444444, \"#bd3786\"], [0.5555555555555556, \"#d8576b\"], [0.6666666666666666, \"#ed7953\"], [0.7777777777777778, \"#fb9f3a\"], [0.8888888888888888, \"#fdca26\"], [1.0, \"#f0f921\"]], \"type\": \"heatmapgl\"}], \"histogram\": [{\"marker\": {\"colorbar\": {\"outlinewidth\": 0, \"ticks\": \"\"}}, \"type\": \"histogram\"}], \"histogram2d\": [{\"colorbar\": {\"outlinewidth\": 0, \"ticks\": \"\"}, \"colorscale\": [[0.0, \"#0d0887\"], [0.1111111111111111, \"#46039f\"], [0.2222222222222222, \"#7201a8\"], [0.3333333333333333, \"#9c179e\"], [0.4444444444444444, \"#bd3786\"], [0.5555555555555556, \"#d8576b\"], [0.6666666666666666, \"#ed7953\"], [0.7777777777777778, \"#fb9f3a\"], [0.8888888888888888, \"#fdca26\"], [1.0, \"#f0f921\"]], \"type\": \"histogram2d\"}], \"histogram2dcontour\": [{\"colorbar\": {\"outlinewidth\": 0, \"ticks\": \"\"}, \"colorscale\": [[0.0, \"#0d0887\"], [0.1111111111111111, \"#46039f\"], [0.2222222222222222, \"#7201a8\"], [0.3333333333333333, \"#9c179e\"], [0.4444444444444444, \"#bd3786\"], [0.5555555555555556, \"#d8576b\"], [0.6666666666666666, \"#ed7953\"], [0.7777777777777778, \"#fb9f3a\"], [0.8888888888888888, \"#fdca26\"], [1.0, \"#f0f921\"]], \"type\": \"histogram2dcontour\"}], \"mesh3d\": [{\"colorbar\": {\"outlinewidth\": 0, \"ticks\": \"\"}, \"type\": \"mesh3d\"}], \"parcoords\": [{\"line\": {\"colorbar\": {\"outlinewidth\": 0, \"ticks\": \"\"}}, \"type\": \"parcoords\"}], \"pie\": [{\"automargin\": true, \"type\": \"pie\"}], \"scatter\": [{\"marker\": {\"colorbar\": {\"outlinewidth\": 0, \"ticks\": \"\"}}, \"type\": \"scatter\"}], \"scatter3d\": [{\"line\": {\"colorbar\": {\"outlinewidth\": 0, \"ticks\": \"\"}}, \"marker\": {\"colorbar\": {\"outlinewidth\": 0, \"ticks\": \"\"}}, \"type\": \"scatter3d\"}], \"scattercarpet\": [{\"marker\": {\"colorbar\": {\"outlinewidth\": 0, \"ticks\": \"\"}}, \"type\": \"scattercarpet\"}], \"scattergeo\": [{\"marker\": {\"colorbar\": {\"outlinewidth\": 0, \"ticks\": \"\"}}, \"type\": \"scattergeo\"}], \"scattergl\": [{\"marker\": {\"colorbar\": {\"outlinewidth\": 0, \"ticks\": \"\"}}, \"type\": \"scattergl\"}], \"scattermapbox\": [{\"marker\": {\"colorbar\": {\"outlinewidth\": 0, \"ticks\": \"\"}}, \"type\": \"scattermapbox\"}], \"scatterpolar\": [{\"marker\": {\"colorbar\": {\"outlinewidth\": 0, \"ticks\": \"\"}}, \"type\": \"scatterpolar\"}], \"scatterpolargl\": [{\"marker\": {\"colorbar\": {\"outlinewidth\": 0, \"ticks\": \"\"}}, \"type\": \"scatterpolargl\"}], \"scatterternary\": [{\"marker\": {\"colorbar\": {\"outlinewidth\": 0, \"ticks\": \"\"}}, \"type\": \"scatterternary\"}], \"surface\": [{\"colorbar\": {\"outlinewidth\": 0, \"ticks\": \"\"}, \"colorscale\": [[0.0, \"#0d0887\"], [0.1111111111111111, \"#46039f\"], [0.2222222222222222, \"#7201a8\"], [0.3333333333333333, \"#9c179e\"], [0.4444444444444444, \"#bd3786\"], [0.5555555555555556, \"#d8576b\"], [0.6666666666666666, \"#ed7953\"], [0.7777777777777778, \"#fb9f3a\"], [0.8888888888888888, \"#fdca26\"], [1.0, \"#f0f921\"]], \"type\": \"surface\"}], \"table\": [{\"cells\": {\"fill\": {\"color\": \"#EBF0F8\"}, \"line\": {\"color\": \"white\"}}, \"header\": {\"fill\": {\"color\": \"#C8D4E3\"}, \"line\": {\"color\": \"white\"}}, \"type\": \"table\"}]}, \"layout\": {\"annotationdefaults\": {\"arrowcolor\": \"#2a3f5f\", \"arrowhead\": 0, \"arrowwidth\": 1}, \"coloraxis\": {\"colorbar\": {\"outlinewidth\": 0, \"ticks\": \"\"}}, \"colorscale\": {\"diverging\": [[0, \"#8e0152\"], [0.1, \"#c51b7d\"], [0.2, \"#de77ae\"], [0.3, \"#f1b6da\"], [0.4, \"#fde0ef\"], [0.5, \"#f7f7f7\"], [0.6, \"#e6f5d0\"], [0.7, \"#b8e186\"], [0.8, \"#7fbc41\"], [0.9, \"#4d9221\"], [1, \"#276419\"]], \"sequential\": [[0.0, \"#0d0887\"], [0.1111111111111111, \"#46039f\"], [0.2222222222222222, \"#7201a8\"], [0.3333333333333333, \"#9c179e\"], [0.4444444444444444, \"#bd3786\"], [0.5555555555555556, \"#d8576b\"], [0.6666666666666666, \"#ed7953\"], [0.7777777777777778, \"#fb9f3a\"], [0.8888888888888888, \"#fdca26\"], [1.0, \"#f0f921\"]], \"sequentialminus\": [[0.0, \"#0d0887\"], [0.1111111111111111, \"#46039f\"], [0.2222222222222222, \"#7201a8\"], [0.3333333333333333, \"#9c179e\"], [0.4444444444444444, \"#bd3786\"], [0.5555555555555556, \"#d8576b\"], [0.6666666666666666, \"#ed7953\"], [0.7777777777777778, \"#fb9f3a\"], [0.8888888888888888, \"#fdca26\"], [1.0, \"#f0f921\"]]}, \"colorway\": [\"#636efa\", \"#EF553B\", \"#00cc96\", \"#ab63fa\", \"#FFA15A\", \"#19d3f3\", \"#FF6692\", \"#B6E880\", \"#FF97FF\", \"#FECB52\"], \"font\": {\"color\": \"#2a3f5f\"}, \"geo\": {\"bgcolor\": \"white\", \"lakecolor\": \"white\", \"landcolor\": \"#E5ECF6\", \"showlakes\": true, \"showland\": true, \"subunitcolor\": \"white\"}, \"hoverlabel\": {\"align\": \"left\"}, \"hovermode\": \"closest\", \"mapbox\": {\"style\": \"light\"}, \"paper_bgcolor\": \"white\", \"plot_bgcolor\": \"#E5ECF6\", \"polar\": {\"angularaxis\": {\"gridcolor\": \"white\", \"linecolor\": \"white\", \"ticks\": \"\"}, \"bgcolor\": \"#E5ECF6\", \"radialaxis\": {\"gridcolor\": \"white\", \"linecolor\": \"white\", \"ticks\": \"\"}}, \"scene\": {\"xaxis\": {\"backgroundcolor\": \"#E5ECF6\", \"gridcolor\": \"white\", \"gridwidth\": 2, \"linecolor\": \"white\", \"showbackground\": true, \"ticks\": \"\", \"zerolinecolor\": \"white\"}, \"yaxis\": {\"backgroundcolor\": \"#E5ECF6\", \"gridcolor\": \"white\", \"gridwidth\": 2, \"linecolor\": \"white\", \"showbackground\": true, \"ticks\": \"\", \"zerolinecolor\": \"white\"}, \"zaxis\": {\"backgroundcolor\": \"#E5ECF6\", \"gridcolor\": \"white\", \"gridwidth\": 2, \"linecolor\": \"white\", \"showbackground\": true, \"ticks\": \"\", \"zerolinecolor\": \"white\"}}, \"shapedefaults\": {\"line\": {\"color\": \"#2a3f5f\"}}, \"ternary\": {\"aaxis\": {\"gridcolor\": \"white\", \"linecolor\": \"white\", \"ticks\": \"\"}, \"baxis\": {\"gridcolor\": \"white\", \"linecolor\": \"white\", \"ticks\": \"\"}, \"bgcolor\": \"#E5ECF6\", \"caxis\": {\"gridcolor\": \"white\", \"linecolor\": \"white\", \"ticks\": \"\"}}, \"title\": {\"x\": 0.05}, \"xaxis\": {\"automargin\": true, \"gridcolor\": \"white\", \"linecolor\": \"white\", \"ticks\": \"\", \"title\": {\"standoff\": 15}, \"zerolinecolor\": \"white\", \"zerolinewidth\": 2}, \"yaxis\": {\"automargin\": true, \"gridcolor\": \"white\", \"linecolor\": \"white\", \"ticks\": \"\", \"title\": {\"standoff\": 15}, \"zerolinecolor\": \"white\", \"zerolinewidth\": 2}}}, \"xaxis\": {\"anchor\": \"y\", \"domain\": [0.0, 1.0], \"range\": [0.0, 600.0], \"title\": {\"text\": \"<i>x</i> (mm)\"}}, \"yaxis\": {\"anchor\": \"x\", \"domain\": [0.0, 1.0], \"scaleanchor\": \"x\", \"scaleratio\": 1, \"title\": {\"text\": \"<i>y</i> (mm)\"}}},\n",
              "                        {\"responsive\": true}\n",
              "                    ).then(function(){\n",
              "                            \n",
              "var gd = document.getElementById('8ec4f0c9-2144-44d7-a77d-b7fefef1fcc6');\n",
              "var x = new MutationObserver(function (mutations, observer) {{\n",
              "        var display = window.getComputedStyle(gd).display;\n",
              "        if (!display || display === 'none') {{\n",
              "            console.log([gd, 'removed!']);\n",
              "            Plotly.purge(gd);\n",
              "            observer.disconnect();\n",
              "        }}\n",
              "}});\n",
              "\n",
              "// Listen for the removal of the full notebook cells\n",
              "var notebookContainer = gd.closest('#notebook-container');\n",
              "if (notebookContainer) {{\n",
              "    x.observe(notebookContainer, {childList: true});\n",
              "}}\n",
              "\n",
              "// Listen for the clearing of the current output cell\n",
              "var outputEl = gd.closest('.output');\n",
              "if (outputEl) {{\n",
              "    x.observe(outputEl, {childList: true});\n",
              "}}\n",
              "\n",
              "                        })\n",
              "                };\n",
              "                \n",
              "            </script>\n",
              "        </div>\n",
              "</body>\n",
              "</html>"
            ]
          },
          "metadata": {
            "tags": []
          }
        }
      ]
    },
    {
      "cell_type": "markdown",
      "metadata": {
        "id": "CHyTfB7CBC1o"
      },
      "source": [
        "# 3. Complete Birmingham Method Code"
      ]
    },
    {
      "cell_type": "code",
      "metadata": {
        "colab": {
          "base_uri": "https://localhost:8080/"
        },
        "id": "1JtTDegGBILZ",
        "outputId": "89ea4797-bb92-4f26-a47a-3150ea5e4bba"
      },
      "source": [
        "# Read in a sample of experimental PEPT data from an online repository into a NumPy array\n",
        "import numpy as np\n",
        "import pept\n",
        "\n",
        "# Skip the file header's first 15 lines, then read in nrows LoRs\n",
        "lors_raw = pept.utilities.read_csv(\n",
        "    \"https://raw.githubusercontent.com/uob-positron-imaging-centre/example_data/master/sample_1p_fluidised_bed.csv\",\n",
        "    skiprows = 15,\n",
        "    nrows = 1000,\n",
        ")\n",
        "\n",
        "# Insert columns for the z-coordinates\n",
        "head_separation = 600\n",
        "\n",
        "lors_raw = np.insert(lors_raw, 3, 0, axis = 1)\n",
        "lors_raw = np.insert(lors_raw, 6, head_separation, axis = 1)\n",
        "\n",
        "# Project the 3D lines onto the YZ plane for ease of analysis - i.e. select only columns\n",
        "# [time, y1, z1, y2, z2] and flip columns to get [time, x1, y1, x2, y2]\n",
        "lors = np.array(lors_raw[:, [0, 3, 2, 6, 5]])\n",
        "\n",
        "# Print the line of response (LoR) data\n",
        "lors"
      ],
      "execution_count": 9,
      "outputs": [
        {
          "output_type": "execute_result",
          "data": {
            "text/plain": [
              "array([[0.000e+00, 0.000e+00, 1.687e+02, 6.000e+02, 1.428e+02],\n",
              "       [1.000e-01, 0.000e+00, 1.676e+02, 6.000e+02, 3.139e+02],\n",
              "       [1.000e-01, 0.000e+00, 4.100e+02, 6.000e+02, 2.401e+02],\n",
              "       ...,\n",
              "       [3.560e+01, 0.000e+00, 8.440e+01, 6.000e+02, 2.384e+02],\n",
              "       [3.570e+01, 0.000e+00, 5.463e+02, 6.000e+02, 7.670e+01],\n",
              "       [3.570e+01, 0.000e+00, 5.334e+02, 6.000e+02, 7.020e+01]])"
            ]
          },
          "metadata": {
            "tags": []
          },
          "execution_count": 9
        }
      ]
    },
    {
      "cell_type": "code",
      "metadata": {
        "colab": {
          "base_uri": "https://localhost:8080/"
        },
        "id": "3Of9EnUmCJ9J",
        "outputId": "e095ed95-f263-4258-da69-76edf6a5d220"
      },
      "source": [
        "# Use the Birmingham Method to track moving tracer\n",
        "from scipy.optimize import minimize\n",
        "\n",
        "def distances(point, lines):\n",
        "    d1 = np.abs((lines[:, 3] - lines[:, 1]) * (lines[:, 2] - point[1]) - \n",
        "                (lines[:, 4] - lines[:, 2]) * (lines[:, 1] - point[0]))\n",
        "    d2 = np.sqrt((lines[:, 3] - lines[:, 1]) ** 2 + (lines[:, 4] - lines[:, 2]) ** 2)\n",
        "    return d1 / d2\n",
        "\n",
        "\n",
        "def sum_distances(point, lines):\n",
        "    return np.sum(distances(point, lines))\n",
        "\n",
        "\n",
        "nlors_remove = 5\n",
        "nlors_target = 10\n",
        "\n",
        "sample_start = 0\n",
        "sample_size = 100\n",
        "\n",
        "positions = []\n",
        "\n",
        "while sample_start < len(lors):\n",
        "    sample = lors[sample_start:sample_start + sample_size]\n",
        "\n",
        "    # Indices of \"good\" / unscattered LoRs\n",
        "    good_indices = np.arange(len(sample))\n",
        "\n",
        "    # Find the initial minimum distance point (MDP)\n",
        "    p0 = [250, 250]\n",
        "    cur_mdp = minimize(sum_distances, p0, sample[good_indices]).x\n",
        "\n",
        "    # Iteratively remove `nlors_remove` farthest LoRs at a time and recompute the MDP until\n",
        "    # `nlors_target` LoRs remain\n",
        "    while len(good_indices) > nlors_target:\n",
        "        dists = distances(cur_mdp, sample[good_indices])            # Distances from MDP to all good LoRs\n",
        "        sorted_dists = np.argsort(dists)                            # Sorted indices of distances\n",
        "        good_indices = good_indices[sorted_dists[:-nlors_remove]]   # Remove `nlors_remove` good LoR indices\n",
        "\n",
        "        cur_mdp = minimize(sum_distances, cur_mdp, sample[good_indices]).x\n",
        "\n",
        "    # Insert the tracer position's timestamp at column 0\n",
        "    position = np.insert(cur_mdp, 0, lors[good_indices, 0].mean())\n",
        "    positions.append(position)\n",
        "\n",
        "    sample_start += sample_size\n",
        "\n",
        "positions = np.array(positions)\n",
        "positions"
      ],
      "execution_count": 10,
      "outputs": [
        {
          "output_type": "execute_result",
          "data": {
            "text/plain": [
              "array([[  1.56      , 320.22868672, 242.28747266],\n",
              "       [  1.93      , 315.15295696, 244.24180824],\n",
              "       [  1.72      , 315.03283677, 243.06066528],\n",
              "       [  1.82      , 319.45421677, 243.83979282],\n",
              "       [  1.79      , 312.96935594, 244.93927179],\n",
              "       [  2.05      , 318.76051243, 244.1492841 ],\n",
              "       [  1.86      , 313.61590891, 243.68524273],\n",
              "       [  2.67      , 317.81042461, 244.03525861],\n",
              "       [  2.26      , 317.70296597, 245.05636656],\n",
              "       [  2.36      , 314.39909502, 245.51651433]])"
            ]
          },
          "metadata": {
            "tags": []
          },
          "execution_count": 10
        }
      ]
    },
    {
      "cell_type": "code",
      "metadata": {
        "colab": {
          "base_uri": "https://localhost:8080/",
          "height": 542
        },
        "id": "HgtMnXtCDa2E",
        "outputId": "a69dbf1d-eaab-42ee-a5c1-65d5cc5d5b1f"
      },
      "source": [
        "grapher = PlotlyGrapher2D(cols = 2)\n",
        "\n",
        "grapher.add_lines(lors[:500])\n",
        "grapher.add_points(positions, col = 2)\n",
        "\n",
        "grapher.show()"
      ],
      "execution_count": 11,
      "outputs": [
        {
          "output_type": "display_data",
          "data": {
            "text/html": [
              "<html>\n",
              "<head><meta charset=\"utf-8\" /></head>\n",
              "<body>\n",
              "    <div>\n",
              "            <script src=\"https://cdnjs.cloudflare.com/ajax/libs/mathjax/2.7.5/MathJax.js?config=TeX-AMS-MML_SVG\"></script><script type=\"text/javascript\">if (window.MathJax) {MathJax.Hub.Config({SVG: {font: \"STIX-Web\"}});}</script>\n",
              "                <script type=\"text/javascript\">window.PlotlyConfig = {MathJaxConfig: 'local'};</script>\n",
              "        <script src=\"https://cdn.plot.ly/plotly-latest.min.js\"></script>    \n",
              "            <div id=\"14df46e5-779d-4d02-b0c3-a9002f42882f\" class=\"plotly-graph-div\" style=\"height:525px; width:100%;\"></div>\n",
              "            <script type=\"text/javascript\">\n",
              "                \n",
              "                    window.PLOTLYENV=window.PLOTLYENV || {};\n",
              "                    \n",
              "                if (document.getElementById(\"14df46e5-779d-4d02-b0c3-a9002f42882f\")) {\n",
              "                    Plotly.newPlot(\n",
              "                        '14df46e5-779d-4d02-b0c3-a9002f42882f',\n",
              "                        [{\"line\": {\"width\": 2.0}, \"mode\": \"lines\", \"opacity\": 0.6, \"type\": \"scatter\", \"x\": [0.0, 600.0, null, 0.0, 600.0, null, 0.0, 600.0, null, 0.0, 600.0, null, 0.0, 600.0, null, 0.0, 600.0, null, 0.0, 600.0, null, 0.0, 600.0, null, 0.0, 600.0, null, 0.0, 600.0, null, 0.0, 600.0, null, 0.0, 600.0, null, 0.0, 600.0, null, 0.0, 600.0, null, 0.0, 600.0, null, 0.0, 600.0, null, 0.0, 600.0, null, 0.0, 600.0, null, 0.0, 600.0, null, 0.0, 600.0, null, 0.0, 600.0, null, 0.0, 600.0, null, 0.0, 600.0, null, 0.0, 600.0, null, 0.0, 600.0, null, 0.0, 600.0, null, 0.0, 600.0, null, 0.0, 600.0, null, 0.0, 600.0, null, 0.0, 600.0, null, 0.0, 600.0, null, 0.0, 600.0, null, 0.0, 600.0, null, 0.0, 600.0, null, 0.0, 600.0, null, 0.0, 600.0, null, 0.0, 600.0, null, 0.0, 600.0, null, 0.0, 600.0, null, 0.0, 600.0, null, 0.0, 600.0, null, 0.0, 600.0, null, 0.0, 600.0, null, 0.0, 600.0, null, 0.0, 600.0, null, 0.0, 600.0, null, 0.0, 600.0, null, 0.0, 600.0, null, 0.0, 600.0, null, 0.0, 600.0, null, 0.0, 600.0, null, 0.0, 600.0, null, 0.0, 600.0, null, 0.0, 600.0, null, 0.0, 600.0, null, 0.0, 600.0, null, 0.0, 600.0, null, 0.0, 600.0, null, 0.0, 600.0, null, 0.0, 600.0, null, 0.0, 600.0, null, 0.0, 600.0, null, 0.0, 600.0, null, 0.0, 600.0, null, 0.0, 600.0, null, 0.0, 600.0, null, 0.0, 600.0, null, 0.0, 600.0, null, 0.0, 600.0, null, 0.0, 600.0, null, 0.0, 600.0, null, 0.0, 600.0, null, 0.0, 600.0, null, 0.0, 600.0, null, 0.0, 600.0, null, 0.0, 600.0, null, 0.0, 600.0, null, 0.0, 600.0, null, 0.0, 600.0, null, 0.0, 600.0, null, 0.0, 600.0, null, 0.0, 600.0, null, 0.0, 600.0, null, 0.0, 600.0, null, 0.0, 600.0, null, 0.0, 600.0, null, 0.0, 600.0, null, 0.0, 600.0, null, 0.0, 600.0, null, 0.0, 600.0, null, 0.0, 600.0, null, 0.0, 600.0, null, 0.0, 600.0, null, 0.0, 600.0, null, 0.0, 600.0, null, 0.0, 600.0, null, 0.0, 600.0, null, 0.0, 600.0, null, 0.0, 600.0, null, 0.0, 600.0, null, 0.0, 600.0, null, 0.0, 600.0, null, 0.0, 600.0, null, 0.0, 600.0, null, 0.0, 600.0, null, 0.0, 600.0, null, 0.0, 600.0, null, 0.0, 600.0, null, 0.0, 600.0, null, 0.0, 600.0, null, 0.0, 600.0, null, 0.0, 600.0, null, 0.0, 600.0, null, 0.0, 600.0, null, 0.0, 600.0, null, 0.0, 600.0, null, 0.0, 600.0, null, 0.0, 600.0, null, 0.0, 600.0, null, 0.0, 600.0, null, 0.0, 600.0, null, 0.0, 600.0, null, 0.0, 600.0, null, 0.0, 600.0, null, 0.0, 600.0, null, 0.0, 600.0, null, 0.0, 600.0, null, 0.0, 600.0, null, 0.0, 600.0, null, 0.0, 600.0, null, 0.0, 600.0, null, 0.0, 600.0, null, 0.0, 600.0, null, 0.0, 600.0, null, 0.0, 600.0, null, 0.0, 600.0, null, 0.0, 600.0, null, 0.0, 600.0, null, 0.0, 600.0, null, 0.0, 600.0, null, 0.0, 600.0, null, 0.0, 600.0, null, 0.0, 600.0, null, 0.0, 600.0, null, 0.0, 600.0, null, 0.0, 600.0, null, 0.0, 600.0, null, 0.0, 600.0, null, 0.0, 600.0, null, 0.0, 600.0, null, 0.0, 600.0, null, 0.0, 600.0, null, 0.0, 600.0, null, 0.0, 600.0, null, 0.0, 600.0, null, 0.0, 600.0, null, 0.0, 600.0, null, 0.0, 600.0, null, 0.0, 600.0, null, 0.0, 600.0, null, 0.0, 600.0, null, 0.0, 600.0, null, 0.0, 600.0, null, 0.0, 600.0, null, 0.0, 600.0, null, 0.0, 600.0, null, 0.0, 600.0, null, 0.0, 600.0, null, 0.0, 600.0, null, 0.0, 600.0, null, 0.0, 600.0, null, 0.0, 600.0, null, 0.0, 600.0, null, 0.0, 600.0, null, 0.0, 600.0, null, 0.0, 600.0, null, 0.0, 600.0, null, 0.0, 600.0, null, 0.0, 600.0, null, 0.0, 600.0, null, 0.0, 600.0, null, 0.0, 600.0, null, 0.0, 600.0, null, 0.0, 600.0, null, 0.0, 600.0, null, 0.0, 600.0, null, 0.0, 600.0, null, 0.0, 600.0, null, 0.0, 600.0, null, 0.0, 600.0, null, 0.0, 600.0, null, 0.0, 600.0, null, 0.0, 600.0, null, 0.0, 600.0, null, 0.0, 600.0, null, 0.0, 600.0, null, 0.0, 600.0, null, 0.0, 600.0, null, 0.0, 600.0, null, 0.0, 600.0, null, 0.0, 600.0, null, 0.0, 600.0, null, 0.0, 600.0, null, 0.0, 600.0, null, 0.0, 600.0, null, 0.0, 600.0, null, 0.0, 600.0, null, 0.0, 600.0, null, 0.0, 600.0, null, 0.0, 600.0, null, 0.0, 600.0, null, 0.0, 600.0, null, 0.0, 600.0, null, 0.0, 600.0, null, 0.0, 600.0, null, 0.0, 600.0, null, 0.0, 600.0, null, 0.0, 600.0, null, 0.0, 600.0, null, 0.0, 600.0, null, 0.0, 600.0, null, 0.0, 600.0, null, 0.0, 600.0, null, 0.0, 600.0, null, 0.0, 600.0, null, 0.0, 600.0, null, 0.0, 600.0, null, 0.0, 600.0, null, 0.0, 600.0, null, 0.0, 600.0, null, 0.0, 600.0, null, 0.0, 600.0, null, 0.0, 600.0, null, 0.0, 600.0, null, 0.0, 600.0, null, 0.0, 600.0, null, 0.0, 600.0, null, 0.0, 600.0, null, 0.0, 600.0, null, 0.0, 600.0, null, 0.0, 600.0, null, 0.0, 600.0, null, 0.0, 600.0, null, 0.0, 600.0, null, 0.0, 600.0, null, 0.0, 600.0, null, 0.0, 600.0, null, 0.0, 600.0, null, 0.0, 600.0, null, 0.0, 600.0, null, 0.0, 600.0, null, 0.0, 600.0, null, 0.0, 600.0, null, 0.0, 600.0, null, 0.0, 600.0, null, 0.0, 600.0, null, 0.0, 600.0, null, 0.0, 600.0, null, 0.0, 600.0, null, 0.0, 600.0, null, 0.0, 600.0, null, 0.0, 600.0, null, 0.0, 600.0, null, 0.0, 600.0, null, 0.0, 600.0, null, 0.0, 600.0, null, 0.0, 600.0, null, 0.0, 600.0, null, 0.0, 600.0, null, 0.0, 600.0, null, 0.0, 600.0, null, 0.0, 600.0, null, 0.0, 600.0, null, 0.0, 600.0, null, 0.0, 600.0, null, 0.0, 600.0, null, 0.0, 600.0, null, 0.0, 600.0, null, 0.0, 600.0, null, 0.0, 600.0, null, 0.0, 600.0, null, 0.0, 600.0, null, 0.0, 600.0, null, 0.0, 600.0, null, 0.0, 600.0, null, 0.0, 600.0, null, 0.0, 600.0, null, 0.0, 600.0, null, 0.0, 600.0, null, 0.0, 600.0, null, 0.0, 600.0, null, 0.0, 600.0, null, 0.0, 600.0, null, 0.0, 600.0, null, 0.0, 600.0, null, 0.0, 600.0, null, 0.0, 600.0, null, 0.0, 600.0, null, 0.0, 600.0, null, 0.0, 600.0, null, 0.0, 600.0, null, 0.0, 600.0, null, 0.0, 600.0, null, 0.0, 600.0, null, 0.0, 600.0, null, 0.0, 600.0, null, 0.0, 600.0, null, 0.0, 600.0, null, 0.0, 600.0, null, 0.0, 600.0, null, 0.0, 600.0, null, 0.0, 600.0, null, 0.0, 600.0, null, 0.0, 600.0, null, 0.0, 600.0, null, 0.0, 600.0, null, 0.0, 600.0, null, 0.0, 600.0, null, 0.0, 600.0, null, 0.0, 600.0, null, 0.0, 600.0, null, 0.0, 600.0, null, 0.0, 600.0, null, 0.0, 600.0, null, 0.0, 600.0, null, 0.0, 600.0, null, 0.0, 600.0, null, 0.0, 600.0, null, 0.0, 600.0, null, 0.0, 600.0, null, 0.0, 600.0, null, 0.0, 600.0, null, 0.0, 600.0, null, 0.0, 600.0, null, 0.0, 600.0, null, 0.0, 600.0, null, 0.0, 600.0, null, 0.0, 600.0, null, 0.0, 600.0, null, 0.0, 600.0, null, 0.0, 600.0, null, 0.0, 600.0, null, 0.0, 600.0, null, 0.0, 600.0, null, 0.0, 600.0, null, 0.0, 600.0, null, 0.0, 600.0, null, 0.0, 600.0, null, 0.0, 600.0, null, 0.0, 600.0, null, 0.0, 600.0, null, 0.0, 600.0, null, 0.0, 600.0, null, 0.0, 600.0, null, 0.0, 600.0, null, 0.0, 600.0, null, 0.0, 600.0, null, 0.0, 600.0, null, 0.0, 600.0, null, 0.0, 600.0, null, 0.0, 600.0, null, 0.0, 600.0, null, 0.0, 600.0, null, 0.0, 600.0, null, 0.0, 600.0, null, 0.0, 600.0, null, 0.0, 600.0, null, 0.0, 600.0, null, 0.0, 600.0, null, 0.0, 600.0, null, 0.0, 600.0, null, 0.0, 600.0, null, 0.0, 600.0, null, 0.0, 600.0, null, 0.0, 600.0, null, 0.0, 600.0, null, 0.0, 600.0, null, 0.0, 600.0, null, 0.0, 600.0, null, 0.0, 600.0, null, 0.0, 600.0, null, 0.0, 600.0, null, 0.0, 600.0, null, 0.0, 600.0, null, 0.0, 600.0, null, 0.0, 600.0, null, 0.0, 600.0, null, 0.0, 600.0, null, 0.0, 600.0, null, 0.0, 600.0, null, 0.0, 600.0, null, 0.0, 600.0, null, 0.0, 600.0, null, 0.0, 600.0, null, 0.0, 600.0, null, 0.0, 600.0, null, 0.0, 600.0, null, 0.0, 600.0, null, 0.0, 600.0, null, 0.0, 600.0, null, 0.0, 600.0, null, 0.0, 600.0, null, 0.0, 600.0, null, 0.0, 600.0, null, 0.0, 600.0, null, 0.0, 600.0, null, 0.0, 600.0, null, 0.0, 600.0, null, 0.0, 600.0, null, 0.0, 600.0, null, 0.0, 600.0, null, 0.0, 600.0, null, 0.0, 600.0, null, 0.0, 600.0, null, 0.0, 600.0, null, 0.0, 600.0, null, 0.0, 600.0, null, 0.0, 600.0, null, 0.0, 600.0, null, 0.0, 600.0, null, 0.0, 600.0, null, 0.0, 600.0, null, 0.0, 600.0, null, 0.0, 600.0, null, 0.0, 600.0, null, 0.0, 600.0, null, 0.0, 600.0, null, 0.0, 600.0, null, 0.0, 600.0, null, 0.0, 600.0, null, 0.0, 600.0, null, 0.0, 600.0, null, 0.0, 600.0, null, 0.0, 600.0, null, 0.0, 600.0, null, 0.0, 600.0, null, 0.0, 600.0, null, 0.0, 600.0, null, 0.0, 600.0, null, 0.0, 600.0, null, 0.0, 600.0, null, 0.0, 600.0, null, 0.0, 600.0, null, 0.0, 600.0, null, 0.0, 600.0, null, 0.0, 600.0, null, 0.0, 600.0, null, 0.0, 600.0, null, 0.0, 600.0, null, 0.0, 600.0, null, 0.0, 600.0, null, 0.0, 600.0, null, 0.0, 600.0, null, 0.0, 600.0, null, 0.0, 600.0, null, 0.0, 600.0, null, 0.0, 600.0, null, 0.0, 600.0, null, 0.0, 600.0, null, 0.0, 600.0, null, 0.0, 600.0, null, 0.0, 600.0, null, 0.0, 600.0, null, 0.0, 600.0, null, 0.0, 600.0, null, 0.0, 600.0, null, 0.0, 600.0, null, 0.0, 600.0, null, 0.0, 600.0, null, 0.0, 600.0, null, 0.0, 600.0, null, 0.0, 600.0, null, 0.0, 600.0, null, 0.0, 600.0, null, 0.0, 600.0, null, 0.0, 600.0, null, 0.0, 600.0, null, 0.0, 600.0, null, 0.0, 600.0, null, 0.0, 600.0, null, 0.0, 600.0, null, 0.0, 600.0, null, 0.0, 600.0, null, 0.0, 600.0, null, 0.0, 600.0, null, 0.0, 600.0, null, 0.0, 600.0, null, 0.0, 600.0, null, 0.0, 600.0, null, 0.0, 600.0, null, 0.0, 600.0, null, 0.0, 600.0, null, 0.0, 600.0, null, 0.0, 600.0, null, 0.0, 600.0, null, 0.0, 600.0, null, 0.0, 600.0, null, 0.0, 600.0, null, 0.0, 600.0, null, 0.0, 600.0, null], \"xaxis\": \"x\", \"y\": [168.7, 142.8, null, 167.6, 313.9, null, 410.0, 240.1, null, 296.2, 452.5, null, 115.1, 353.4, null, 132.2, 266.1, null, 373.5, 131.0, null, 111.5, 353.4, null, 209.4, 280.8, null, 274.9, 306.2, null, 238.9, 168.1, null, 428.3, 70.2, null, 133.3, 349.9, null, 305.0, 103.2, null, 92.0, 392.9, null, 185.9, 302.7, null, 185.3, 285.0, null, 245.4, 257.2, null, 112.7, 394.1, null, 171.1, 302.7, null, 390.6, 254.9, null, 47.2, 413.6, null, 341.0, 132.8, null, 126.3, 345.1, null, 434.8, 72.0, null, 335.1, 215.4, null, 276.7, 195.3, null, 189.4, 295.6, null, 305.0, 185.9, null, 430.1, 135.7, null, 446.6, 64.3, null, 174.1, 71.4, null, 194.1, 120.4, null, 116.2, 351.0, null, 230.1, 253.7, null, 276.7, 220.1, null, 296.2, 194.1, null, 50.2, 376.4, null, 300.3, 197.6, null, 103.2, 136.9, null, 404.7, 96.8, null, 439.5, 65.5, null, 259.0, 290.3, null, 167.6, 227.7, null, 282.6, 208.9, null, 227.7, 430.1, null, 277.3, 395.3, null, 165.8, 310.3, null, 154.6, 322.7, null, 76.1, 506.2, null, 177.0, 378.8, null, 333.9, 145.1, null, 336.3, 159.3, null, 328.6, 174.1, null, 302.7, 368.2, null, 437.2, 72.0, null, 221.2, 557.0, null, 406.5, 90.3, null, 240.1, 251.9, null, 77.3, 306.8, null, 247.2, 255.5, null, 126.8, 358.7, null, 119.8, 349.3, null, 456.1, 316.8, null, 362.3, 73.8, null, 440.1, 80.8, null, 86.1, 382.9, null, 69.6, 342.8, null, 503.9, 266.7, null, 424.8, 252.5, null, 195.3, 286.1, null, 152.2, 322.7, null, 209.4, 194.1, null, 246.6, 251.3, null, 93.2, 371.7, null, 313.9, 223.6, null, 171.7, 296.8, null, 207.1, 285.6, null, 247.8, 130.4, null, 388.2, 159.9, null, 317.4, 172.9, null, 273.2, 197.1, null, 457.8, 62.0, null, 413.6, 439.0, null, 262.0, 149.3, null, 263.7, 383.5, null, 260.8, 360.5, null, 380.0, 107.4, null, 125.7, 497.4, null, 440.7, 72.0, null, 322.1, 182.3, null, 165.8, 307.4, null, 279.7, 222.4, null, 283.2, 452.5, null, 172.9, 290.9, null, 363.4, 146.9, null, 237.8, 151.6, null, 173.5, 306.8, null, 200.6, 300.3, null, 112.1, 395.9, null, 57.8, 405.9, null, 410.0, 92.0, null, 499.1, 295.0, null, 275.5, 262.5, null, 279.7, 248.4, null, 98.5, 311.5, null, 44.8, 269.6, null, 98.5, 292.0, null, 450.8, 49.0, null, 91.4, 368.8, null, 105.6, 369.9, null, 172.3, 367.6, null, 144.6, 357.0, null, 453.7, 215.9, null, 250.8, 244.9, null, 396.5, 92.0, null, 400.0, 91.4, null, 441.3, 306.8, null, 436.0, 50.2, null, 348.7, 162.8, null, 390.0, 115.1, null, 342.2, 160.5, null, 341.0, 150.4, null, 181.1, 303.3, null, 369.3, 123.9, null, 254.3, 234.8, null, 146.9, 384.1, null, 381.1, 139.8, null, 210.0, 50.2, null, 348.7, 149.9, null, 54.3, 113.9, null, 148.7, 338.7, null, 251.3, 387.0, null, 158.1, 206.5, null, 146.3, 446.0, null, 293.8, 179.9, null, 283.8, 210.0, null, 249.0, 238.4, null, 417.1, 89.1, null, 343.4, 121.5, null, 374.6, 134.5, null, 391.2, 111.5, null, 306.2, 174.6, null, 83.8, 357.5, null, 338.7, 165.2, null, 402.4, 112.7, null, 141.6, 338.7, null, 368.8, 207.1, null, 96.2, 191.8, null, 454.3, 57.2, null, 158.1, 322.1, null, 376.4, 116.8, null, 222.4, 263.7, null, 273.8, 299.1, null, 397.7, 270.2, null, 367.0, 150.4, null, 465.5, 60.2, null, 331.6, 420.1, null, 185.3, 295.6, null, 258.4, 299.7, null, 73.8, 398.8, null, 263.7, 226.6, null, 125.7, 298.5, null, 59.0, 337.5, null, 440.7, 72.6, null, 308.0, 179.9, null, 290.3, 206.5, null, 398.8, 87.3, null, 207.1, 240.7, null, 194.7, 337.5, null, 227.7, 265.5, null, 270.8, 99.1, null, 530.4, 289.1, null, 557.0, 486.8, null, 517.4, 148.7, null, 511.5, 165.2, null, 273.2, 330.4, null, 206.5, 263.1, null, 163.4, 314.5, null, 182.9, 299.1, null, 340.4, 171.7, null, 135.7, 335.7, null, 273.2, 228.9, null, 267.3, 231.3, null, 181.7, 303.9, null, 228.9, 257.8, null, 439.5, 64.9, null, 96.8, 404.7, null, 360.5, 145.7, null, 146.9, 218.9, null, 187.0, 298.0, null, 385.3, 102.7, null, 450.8, 54.3, null, 177.6, 309.8, null, 392.9, 113.9, null, 192.3, 233.1, null, 378.8, 405.3, null, 300.9, 187.0, null, 517.4, 210.0, null, 165.8, 202.4, null, 66.7, 401.8, null, 374.6, 201.8, null, 309.8, 256.6, null, 213.0, 270.2, null, 425.4, 71.4, null, 44.8, 422.4, null, 324.5, 169.3, null, 148.1, 369.3, null, 177.0, 480.9, null, 99.7, 296.2, null, 90.9, 370.5, null, 388.2, 282.6, null, 55.5, 402.4, null, 232.5, 362.3, null, 120.4, 351.6, null, 249.0, 237.2, null, 416.5, 99.1, null, 423.0, 67.3, null, 352.8, 151.6, null, 558.7, 295.6, null, 172.9, 361.7, null, 251.9, 231.9, null, 322.1, 148.1, null, 368.2, 142.2, null, 54.3, 397.7, null, 143.4, 443.1, null, 390.0, 110.3, null, 57.2, 417.1, null, 265.5, 328.0, null, 377.6, 191.2, null, 190.6, 291.5, null, 79.1, 365.2, null, 378.2, 198.2, null, 266.1, 226.6, null, 171.7, 305.0, null, 454.3, 56.0, null, 82.0, 274.9, null, 277.3, 212.4, null, 332.2, 288.5, null, 153.4, 238.9, null, 256.1, 418.3, null, 259.0, 228.3, null, 174.6, 554.6, null, 99.7, 290.9, null, 506.8, 184.7, null, 110.3, 88.5, null, 219.5, 264.9, null, 318.0, 174.6, null, 381.1, 253.7, null, 365.8, 251.3, null, 354.0, 336.3, null, 374.6, 128.6, null, 253.1, 236.6, null, 44.8, 284.4, null, 286.7, 405.9, null, 233.1, 172.3, null, 272.6, 513.9, null, 155.8, 398.8, null, 140.4, 319.8, null, 369.3, 134.5, null, 306.8, 324.5, null, 56.6, 309.8, null, 230.7, 341.0, null, 72.6, 319.8, null, 441.9, 233.6, null, 307.4, 180.5, null, 293.8, 198.2, null, 311.5, 175.2, null, 449.6, 56.0, null, 65.5, 408.3, null, 106.2, 547.5, null, 273.8, 218.3, null, 323.9, 484.4, null, 177.0, 300.9, null, 419.5, 81.4, null, 369.3, 113.9, null, 348.1, 495.6, null, 441.3, 64.3, null, 88.5, 351.6, null, 184.7, 296.2, null, 100.9, 238.4, null, 428.3, 75.5, null, 285.6, 440.7, null, 254.3, 234.2, null, 430.7, 371.1, null, 198.2, 282.6, null, 496.8, 224.2, null, 469.6, 243.1, null, 371.7, 132.8, null, 223.6, 265.5, null, 372.3, 464.3, null, 512.7, 548.1, null, 244.3, 226.6, null, 211.8, 231.3, null, 237.2, 145.7, null, 361.1, 150.4, null, 424.8, 75.5, null, 57.2, 458.4, null, 173.5, 306.2, null, 400.0, 100.3, null, 346.3, 153.4, null, 213.0, 270.8, null, 359.3, 136.3, null, 103.8, 344.6, null, 164.0, 311.5, null, 344.6, 493.8, null, 265.5, 231.9, null, 134.5, 356.4, null, 305.6, 182.9, null, 361.7, 133.9, null, 367.6, 123.3, null, 166.4, 299.7, null, 146.3, 324.5, null, 227.1, 516.8, null, 208.3, 270.2, null, 247.2, 187.0, null, 221.8, 191.2, null, 316.2, 181.7, null, 400.0, 109.7, null, 175.8, 297.4, null, 140.4, 413.0, null, 182.9, 304.4, null, 268.5, 272.6, null, 460.8, 49.0, null, 395.9, 110.3, null, 335.1, 171.7, null, 366.4, 279.1, null, 105.0, 346.9, null, 309.8, 336.3, null, 54.3, 323.3, null, 247.8, 112.7, null, 418.3, 97.9, null, 162.8, 326.3, null, 354.0, 90.3, null, 301.5, 172.9, null, 221.2, 262.0, null, 105.0, 513.9, null, 317.4, 248.4, null, 323.9, 194.7, null, 391.2, 115.6, null, 185.3, 288.5, null, 55.5, 407.7, null, 200.6, 116.8, null, 59.0, 318.6, null, 387.6, 106.8, null, 389.4, 135.7, null, 311.5, 221.8, null, 276.1, 220.7, null, 445.5, 365.2, null, 95.0, 236.0, null, 238.4, 261.4, null, 397.7, 284.4, null, 216.5, 271.4, null, 184.7, 280.8, null, 388.8, 366.4, null, 286.7, 264.3, null, 332.2, 165.8, null, 73.2, 381.7, null, 203.6, 277.9, null, 385.3, 115.6, null, 198.2, 479.1, null, 227.1, 417.1, null, 171.7, 298.0, null, 91.4, 377.6, null, 228.9, 259.0, null, 338.1, 176.4, null, 128.0, 517.4, null, 394.1, 167.6, null, 395.9, 85.6, null, 272.0, 223.6, null, 212.4, 118.6, null, 405.9, 151.6, null, 444.9, 262.5, null, 119.2, 257.8, null, 208.9, 392.4, null, 257.8, 279.1, null, 57.8, 255.5, null, 326.9, 319.2, null, 217.7, 422.4, null, 222.4, 271.4, null, 108.6, 380.0, null, 435.4, 71.4, null, 306.8, 190.0, null, 279.7, 257.8, null, 195.3, 289.1, null, 188.2, 293.2, null, 86.1, 382.3, null, 105.0, 379.4, null, 186.4, 294.4, null, 241.3, 466.1, null, 277.9, 221.2, null, 346.3, 231.9, null, 234.8, 249.6, null, 214.2, 274.4, null, 100.9, 184.1, null, 250.2, 234.8, null, 167.6, 106.2, null, 156.4, 329.8, null, 133.9, 342.2, null, 146.3, 513.3, null, 397.1, 113.9, null, 213.0, 395.3, null, 165.2, 192.3, null, 322.1, 125.7, null, 106.8, 320.4, null, 456.1, 58.4, null, 516.2, 69.6, null, 162.2, 319.2, null, 152.8, 322.1, null, 200.0, 286.7, null, 67.3, 515.7, null, 221.2, 260.2, null, 57.8, 437.2, null, 181.7, 234.2, null, 99.7, 405.3, null, 392.9, 110.3, null, 133.3, 349.9, null, 228.3, 254.3, null, 248.4, 233.6, null, 430.7, 74.3, null, 197.1, 554.6, null, 215.9, 316.8, null, 258.4, 225.4, null, 308.0, 181.7, null, 221.2, 268.5, null, 243.1, 241.9, null, 119.2, 352.2, null, 152.2, 536.9, null, 434.8, 71.4, null, 410.0, 89.1, null, 374.6, 125.7, null, 125.1, 349.3, null, 243.7, 237.8, null, 421.9, 102.1, null, 171.7, 299.7, null, 425.4, 77.3, null, 309.8, 306.8, null, 392.4, 109.7, null, 76.1, 378.8, null, 103.2, 475.5, null, 145.1, 368.2, null, 336.3, 162.8, null, 477.3, 281.4, null, 163.4, 286.1, null, 434.8, 72.6, null, 302.1, 206.5, null, 342.2, 159.3, null, 177.6, 306.8, null, 151.0, 328.0, null, 362.9, 100.3, null, 329.8, 172.9, null, 181.1, 230.1, null, 63.1, 282.6, null, 409.5, 88.5, null, 300.3, 190.6, null, 390.6, 121.5, null, 359.3, 496.2, null, 50.2, 427.2, null, 191.2, 286.1, null, 91.4, 384.1, null, 382.9, 123.9, null, 215.9, 270.8, null, 372.3, 131.6, null, 135.1, 294.4, null, 351.0, 157.5, null, 49.0, 520.4, null, 207.7, 284.4, null, 302.7, 190.0, null, 372.9, 127.4, null, 403.0, 106.8, null, 228.3, 260.2, null, 151.6, 312.7, null, 400.6, 105.6, null, 269.6, 200.0, null, 130.4, 165.2, null, 428.3, 247.2, null, 392.9, 275.5, null, 325.1, 172.9, null, 220.7, 263.7, null, 214.8, 275.5, null, 483.2, 174.1, null, 89.7, 241.3, null, 427.8, 86.1, null, 449.0, 54.3, null, 294.4, 183.5, null, 395.9, 116.8, null, 332.8, 148.1, null, 268.5, 184.1, null, 58.4, 396.5, null, 135.1, 190.0, null, 369.3, 122.7, null, 82.6, 386.5, null, 342.2, 160.5, null, 408.9, 431.9, null, 341.0, 169.3, null, 227.1, 267.3, null, 290.9, 200.6, null, 149.3, 390.0, null, 152.8, 329.2, null, 387.0, 105.0, null], \"yaxis\": \"y\"}, {\"marker\": {\"color\": [242.28747266488753, 244.24180823787103, 243.06066527576561, 243.83979281861002, 244.9392717924433, 244.14928409615428, 243.68524272869016, 244.0352586059482, 245.05636656379474, 245.51651432516016], \"colorscale\": [[0.0, \"#000004\"], [0.1111111111111111, \"#180f3d\"], [0.2222222222222222, \"#440f76\"], [0.3333333333333333, \"#721f81\"], [0.4444444444444444, \"#9e2f7f\"], [0.5555555555555556, \"#cd4071\"], [0.6666666666666666, \"#f1605d\"], [0.7777777777777778, \"#fd9668\"], [0.8888888888888888, \"#feca8d\"], [1.0, \"#fcfdbf\"]], \"opacity\": 0.8, \"size\": 6.0}, \"mode\": \"markers\", \"type\": \"scatter\", \"x\": [320.22868671782186, 315.1529569618459, 315.03283677375396, 319.45421676619264, 312.9693559380611, 318.7605124262649, 313.61590891292525, 317.81042461435214, 317.7029659717544, 314.39909501724304], \"xaxis\": \"x2\", \"y\": [242.28747266488753, 244.24180823787103, 243.06066527576561, 243.83979281861002, 244.9392717924433, 244.14928409615428, 243.68524272869016, 244.0352586059482, 245.05636656379474, 245.51651432516016], \"yaxis\": \"y2\"}],\n",
              "                        {\"annotations\": [{\"font\": {\"size\": 16}, \"showarrow\": false, \"text\": \"  \", \"x\": 0.2375, \"xanchor\": \"center\", \"xref\": \"paper\", \"y\": 1.0, \"yanchor\": \"bottom\", \"yref\": \"paper\"}, {\"font\": {\"size\": 16}, \"showarrow\": false, \"text\": \"  \", \"x\": 0.7625, \"xanchor\": \"center\", \"xref\": \"paper\", \"y\": 1.0, \"yanchor\": \"bottom\", \"yref\": \"paper\"}], \"margin\": {\"b\": 30, \"l\": 0, \"r\": 0, \"t\": 30}, \"showlegend\": false, \"template\": {\"data\": {\"bar\": [{\"error_x\": {\"color\": \"#2a3f5f\"}, \"error_y\": {\"color\": \"#2a3f5f\"}, \"marker\": {\"line\": {\"color\": \"#E5ECF6\", \"width\": 0.5}}, \"type\": \"bar\"}], \"barpolar\": [{\"marker\": {\"line\": {\"color\": \"#E5ECF6\", \"width\": 0.5}}, \"type\": \"barpolar\"}], \"carpet\": [{\"aaxis\": {\"endlinecolor\": \"#2a3f5f\", \"gridcolor\": \"white\", \"linecolor\": \"white\", \"minorgridcolor\": \"white\", \"startlinecolor\": \"#2a3f5f\"}, \"baxis\": {\"endlinecolor\": \"#2a3f5f\", \"gridcolor\": \"white\", \"linecolor\": \"white\", \"minorgridcolor\": \"white\", \"startlinecolor\": \"#2a3f5f\"}, \"type\": \"carpet\"}], \"choropleth\": [{\"colorbar\": {\"outlinewidth\": 0, \"ticks\": \"\"}, \"type\": \"choropleth\"}], \"contour\": [{\"colorbar\": {\"outlinewidth\": 0, \"ticks\": \"\"}, \"colorscale\": [[0.0, \"#0d0887\"], [0.1111111111111111, \"#46039f\"], [0.2222222222222222, \"#7201a8\"], [0.3333333333333333, \"#9c179e\"], [0.4444444444444444, \"#bd3786\"], [0.5555555555555556, \"#d8576b\"], [0.6666666666666666, \"#ed7953\"], [0.7777777777777778, \"#fb9f3a\"], [0.8888888888888888, \"#fdca26\"], [1.0, \"#f0f921\"]], \"type\": \"contour\"}], \"contourcarpet\": [{\"colorbar\": {\"outlinewidth\": 0, \"ticks\": \"\"}, \"type\": \"contourcarpet\"}], \"heatmap\": [{\"colorbar\": {\"outlinewidth\": 0, \"ticks\": \"\"}, \"colorscale\": [[0.0, \"#0d0887\"], [0.1111111111111111, \"#46039f\"], [0.2222222222222222, \"#7201a8\"], [0.3333333333333333, \"#9c179e\"], [0.4444444444444444, \"#bd3786\"], [0.5555555555555556, \"#d8576b\"], [0.6666666666666666, \"#ed7953\"], [0.7777777777777778, \"#fb9f3a\"], [0.8888888888888888, \"#fdca26\"], [1.0, \"#f0f921\"]], \"type\": \"heatmap\"}], \"heatmapgl\": [{\"colorbar\": {\"outlinewidth\": 0, \"ticks\": \"\"}, \"colorscale\": [[0.0, \"#0d0887\"], [0.1111111111111111, \"#46039f\"], [0.2222222222222222, \"#7201a8\"], [0.3333333333333333, \"#9c179e\"], [0.4444444444444444, \"#bd3786\"], [0.5555555555555556, \"#d8576b\"], [0.6666666666666666, \"#ed7953\"], [0.7777777777777778, \"#fb9f3a\"], [0.8888888888888888, \"#fdca26\"], [1.0, \"#f0f921\"]], \"type\": \"heatmapgl\"}], \"histogram\": [{\"marker\": {\"colorbar\": {\"outlinewidth\": 0, \"ticks\": \"\"}}, \"type\": \"histogram\"}], \"histogram2d\": [{\"colorbar\": {\"outlinewidth\": 0, \"ticks\": \"\"}, \"colorscale\": [[0.0, \"#0d0887\"], [0.1111111111111111, \"#46039f\"], [0.2222222222222222, \"#7201a8\"], [0.3333333333333333, \"#9c179e\"], [0.4444444444444444, \"#bd3786\"], [0.5555555555555556, \"#d8576b\"], [0.6666666666666666, \"#ed7953\"], [0.7777777777777778, \"#fb9f3a\"], [0.8888888888888888, \"#fdca26\"], [1.0, \"#f0f921\"]], \"type\": \"histogram2d\"}], \"histogram2dcontour\": [{\"colorbar\": {\"outlinewidth\": 0, \"ticks\": \"\"}, \"colorscale\": [[0.0, \"#0d0887\"], [0.1111111111111111, \"#46039f\"], [0.2222222222222222, \"#7201a8\"], [0.3333333333333333, \"#9c179e\"], [0.4444444444444444, \"#bd3786\"], [0.5555555555555556, \"#d8576b\"], [0.6666666666666666, \"#ed7953\"], [0.7777777777777778, \"#fb9f3a\"], [0.8888888888888888, \"#fdca26\"], [1.0, \"#f0f921\"]], \"type\": \"histogram2dcontour\"}], \"mesh3d\": [{\"colorbar\": {\"outlinewidth\": 0, \"ticks\": \"\"}, \"type\": \"mesh3d\"}], \"parcoords\": [{\"line\": {\"colorbar\": {\"outlinewidth\": 0, \"ticks\": \"\"}}, \"type\": \"parcoords\"}], \"pie\": [{\"automargin\": true, \"type\": \"pie\"}], \"scatter\": [{\"marker\": {\"colorbar\": {\"outlinewidth\": 0, \"ticks\": \"\"}}, \"type\": \"scatter\"}], \"scatter3d\": [{\"line\": {\"colorbar\": {\"outlinewidth\": 0, \"ticks\": \"\"}}, \"marker\": {\"colorbar\": {\"outlinewidth\": 0, \"ticks\": \"\"}}, \"type\": \"scatter3d\"}], \"scattercarpet\": [{\"marker\": {\"colorbar\": {\"outlinewidth\": 0, \"ticks\": \"\"}}, \"type\": \"scattercarpet\"}], \"scattergeo\": [{\"marker\": {\"colorbar\": {\"outlinewidth\": 0, \"ticks\": \"\"}}, \"type\": \"scattergeo\"}], \"scattergl\": [{\"marker\": {\"colorbar\": {\"outlinewidth\": 0, \"ticks\": \"\"}}, \"type\": \"scattergl\"}], \"scattermapbox\": [{\"marker\": {\"colorbar\": {\"outlinewidth\": 0, \"ticks\": \"\"}}, \"type\": \"scattermapbox\"}], \"scatterpolar\": [{\"marker\": {\"colorbar\": {\"outlinewidth\": 0, \"ticks\": \"\"}}, \"type\": \"scatterpolar\"}], \"scatterpolargl\": [{\"marker\": {\"colorbar\": {\"outlinewidth\": 0, \"ticks\": \"\"}}, \"type\": \"scatterpolargl\"}], \"scatterternary\": [{\"marker\": {\"colorbar\": {\"outlinewidth\": 0, \"ticks\": \"\"}}, \"type\": \"scatterternary\"}], \"surface\": [{\"colorbar\": {\"outlinewidth\": 0, \"ticks\": \"\"}, \"colorscale\": [[0.0, \"#0d0887\"], [0.1111111111111111, \"#46039f\"], [0.2222222222222222, \"#7201a8\"], [0.3333333333333333, \"#9c179e\"], [0.4444444444444444, \"#bd3786\"], [0.5555555555555556, \"#d8576b\"], [0.6666666666666666, \"#ed7953\"], [0.7777777777777778, \"#fb9f3a\"], [0.8888888888888888, \"#fdca26\"], [1.0, \"#f0f921\"]], \"type\": \"surface\"}], \"table\": [{\"cells\": {\"fill\": {\"color\": \"#EBF0F8\"}, \"line\": {\"color\": \"white\"}}, \"header\": {\"fill\": {\"color\": \"#C8D4E3\"}, \"line\": {\"color\": \"white\"}}, \"type\": \"table\"}]}, \"layout\": {\"annotationdefaults\": {\"arrowcolor\": \"#2a3f5f\", \"arrowhead\": 0, \"arrowwidth\": 1}, \"coloraxis\": {\"colorbar\": {\"outlinewidth\": 0, \"ticks\": \"\"}}, \"colorscale\": {\"diverging\": [[0, \"#8e0152\"], [0.1, \"#c51b7d\"], [0.2, \"#de77ae\"], [0.3, \"#f1b6da\"], [0.4, \"#fde0ef\"], [0.5, \"#f7f7f7\"], [0.6, \"#e6f5d0\"], [0.7, \"#b8e186\"], [0.8, \"#7fbc41\"], [0.9, \"#4d9221\"], [1, \"#276419\"]], \"sequential\": [[0.0, \"#0d0887\"], [0.1111111111111111, \"#46039f\"], [0.2222222222222222, \"#7201a8\"], [0.3333333333333333, \"#9c179e\"], [0.4444444444444444, \"#bd3786\"], [0.5555555555555556, \"#d8576b\"], [0.6666666666666666, \"#ed7953\"], [0.7777777777777778, \"#fb9f3a\"], [0.8888888888888888, \"#fdca26\"], [1.0, \"#f0f921\"]], \"sequentialminus\": [[0.0, \"#0d0887\"], [0.1111111111111111, \"#46039f\"], [0.2222222222222222, \"#7201a8\"], [0.3333333333333333, \"#9c179e\"], [0.4444444444444444, \"#bd3786\"], [0.5555555555555556, \"#d8576b\"], [0.6666666666666666, \"#ed7953\"], [0.7777777777777778, \"#fb9f3a\"], [0.8888888888888888, \"#fdca26\"], [1.0, \"#f0f921\"]]}, \"colorway\": [\"#636efa\", \"#EF553B\", \"#00cc96\", \"#ab63fa\", \"#FFA15A\", \"#19d3f3\", \"#FF6692\", \"#B6E880\", \"#FF97FF\", \"#FECB52\"], \"font\": {\"color\": \"#2a3f5f\"}, \"geo\": {\"bgcolor\": \"white\", \"lakecolor\": \"white\", \"landcolor\": \"#E5ECF6\", \"showlakes\": true, \"showland\": true, \"subunitcolor\": \"white\"}, \"hoverlabel\": {\"align\": \"left\"}, \"hovermode\": \"closest\", \"mapbox\": {\"style\": \"light\"}, \"paper_bgcolor\": \"white\", \"plot_bgcolor\": \"#E5ECF6\", \"polar\": {\"angularaxis\": {\"gridcolor\": \"white\", \"linecolor\": \"white\", \"ticks\": \"\"}, \"bgcolor\": \"#E5ECF6\", \"radialaxis\": {\"gridcolor\": \"white\", \"linecolor\": \"white\", \"ticks\": \"\"}}, \"scene\": {\"xaxis\": {\"backgroundcolor\": \"#E5ECF6\", \"gridcolor\": \"white\", \"gridwidth\": 2, \"linecolor\": \"white\", \"showbackground\": true, \"ticks\": \"\", \"zerolinecolor\": \"white\"}, \"yaxis\": {\"backgroundcolor\": \"#E5ECF6\", \"gridcolor\": \"white\", \"gridwidth\": 2, \"linecolor\": \"white\", \"showbackground\": true, \"ticks\": \"\", \"zerolinecolor\": \"white\"}, \"zaxis\": {\"backgroundcolor\": \"#E5ECF6\", \"gridcolor\": \"white\", \"gridwidth\": 2, \"linecolor\": \"white\", \"showbackground\": true, \"ticks\": \"\", \"zerolinecolor\": \"white\"}}, \"shapedefaults\": {\"line\": {\"color\": \"#2a3f5f\"}}, \"ternary\": {\"aaxis\": {\"gridcolor\": \"white\", \"linecolor\": \"white\", \"ticks\": \"\"}, \"baxis\": {\"gridcolor\": \"white\", \"linecolor\": \"white\", \"ticks\": \"\"}, \"bgcolor\": \"#E5ECF6\", \"caxis\": {\"gridcolor\": \"white\", \"linecolor\": \"white\", \"ticks\": \"\"}}, \"title\": {\"x\": 0.05}, \"xaxis\": {\"automargin\": true, \"gridcolor\": \"white\", \"linecolor\": \"white\", \"ticks\": \"\", \"title\": {\"standoff\": 15}, \"zerolinecolor\": \"white\", \"zerolinewidth\": 2}, \"yaxis\": {\"automargin\": true, \"gridcolor\": \"white\", \"linecolor\": \"white\", \"ticks\": \"\", \"title\": {\"standoff\": 15}, \"zerolinecolor\": \"white\", \"zerolinewidth\": 2}}}, \"xaxis\": {\"anchor\": \"y\", \"domain\": [0.0, 0.475], \"range\": [0.0, 600.0], \"title\": {\"text\": \"<i>x</i> (mm)\"}}, \"xaxis2\": {\"anchor\": \"y2\", \"domain\": [0.525, 1.0], \"range\": [0.0, 600.0], \"title\": {\"text\": \"<i>x</i> (mm)\"}}, \"yaxis\": {\"anchor\": \"x\", \"domain\": [0.0, 1.0], \"scaleanchor\": \"x\", \"scaleratio\": 1, \"title\": {\"text\": \"<i>y</i> (mm)\"}}, \"yaxis2\": {\"anchor\": \"x2\", \"domain\": [0.0, 1.0], \"scaleanchor\": \"x2\", \"scaleratio\": 1, \"title\": {\"text\": \"<i>y</i> (mm)\"}}},\n",
              "                        {\"responsive\": true}\n",
              "                    ).then(function(){\n",
              "                            \n",
              "var gd = document.getElementById('14df46e5-779d-4d02-b0c3-a9002f42882f');\n",
              "var x = new MutationObserver(function (mutations, observer) {{\n",
              "        var display = window.getComputedStyle(gd).display;\n",
              "        if (!display || display === 'none') {{\n",
              "            console.log([gd, 'removed!']);\n",
              "            Plotly.purge(gd);\n",
              "            observer.disconnect();\n",
              "        }}\n",
              "}});\n",
              "\n",
              "// Listen for the removal of the full notebook cells\n",
              "var notebookContainer = gd.closest('#notebook-container');\n",
              "if (notebookContainer) {{\n",
              "    x.observe(notebookContainer, {childList: true});\n",
              "}}\n",
              "\n",
              "// Listen for the clearing of the current output cell\n",
              "var outputEl = gd.closest('.output');\n",
              "if (outputEl) {{\n",
              "    x.observe(outputEl, {childList: true});\n",
              "}}\n",
              "\n",
              "                        })\n",
              "                };\n",
              "                \n",
              "            </script>\n",
              "        </div>\n",
              "</body>\n",
              "</html>"
            ]
          },
          "metadata": {
            "tags": []
          }
        }
      ]
    }
  ]
}