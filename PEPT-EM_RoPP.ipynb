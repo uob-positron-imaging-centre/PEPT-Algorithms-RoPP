{
 "cells": [
  {
   "cell_type": "markdown",
   "metadata": {
    "colab_type": "text",
    "id": "view-in-github"
   },
   "source": [
    "<a href=\"https://colab.research.google.com/github/uob-positron-imaging-centre/PEPT-Algorithms-RoPP/blob/main/BirminghamMethod_RoPP.ipynb\" target=\"_parent\"><img src=\"https://colab.research.google.com/assets/colab-badge.svg\" alt=\"Open In Colab\"/></a>"
   ]
  },
  {
   "cell_type": "markdown",
   "metadata": {
    "id": "VFJ8eMpxZ5v3"
   },
   "source": [
    "<a target=\"_blank\"  href=\"https://github.com/uob-positron-imaging-centre/pept\"><img src=\"https://github.com/uob-positron-imaging-centre/misc-hosting/blob/master/logo.png?raw=true\" style=\"height:200px; display: block; margin-left: auto; margin-right: auto;\"/></a>\n",
    "\n",
    "# Interactive PEPT Analysis Examples using *PEPT-EM*\n",
    "\n",
    "> [1] Manger S, Renaud A, Vanneste J. An Expectation-Maximization Algorithm for Positron Emission Particle Tracking https://arxiv.org/abs/2104.07457\n",
    "\n",
    "---\n",
    "\n",
    "#### Copyright 2021 the `pept` developers\n",
    "##### Jupyter Notebook authored by Sam Manger, Andrei Leonard Nicusan and Dr. Kit Windows-Yule for the \"PEPT: A Comparative Review\" paper, commissioned by the Reports on Progress in Physics journal\n",
    "\n",
    "Licensed under the GNU License, Version 3.0 (the \"License\").\n",
    "\n",
    "---\n"
   ]
  },
  {
   "cell_type": "markdown",
   "metadata": {
    "id": "v65QnGnJu2vO"
   },
   "source": [
    "# 1. Introduction\n",
    "\n",
    "Positron emission particle tracking (PEPT) is a powerful technique allowing the non-invasive, three-dimensional tracking of one or more radioactive 'tracer' particles through particulate, fluid or multiphase systems. It allows particle or fluid motion to be tracked with sub-millimetre accuracy and sub-millisecond temporal resolution and, due to its use of highly-penetrating 511keV gamma rays, can be used to probe the internal dynamics of even large, dense, optically opaque systems <sup>[[2]](https://www.sciencedirect.com/science/article/pii/016890029390864E) [[3]](https://www.sciencedirect.com/science/article/pii/S0263876208003341) [[4]](https://aip.scitation.org/doi/abs/10.1063/1.4983046@rsi.2017.IMGP2017.issue-1)</sup>. In light of its versatility both in terms of the scales and materials of particles which can be tracked <sup>[[5]](https://www.sciencedirect.com/science/article/pii/S1672251507001455)[[6]](https://www.sciencedirect.com/science/article/pii/S0168900206005341)</sup>, and the sizes and geometries of the systems which can be imaged <sup>[[7]](https://www.sciencedirect.com/science/article/pii/S0168900209001880) [[8]](https://www.sciencedirect.com/science/article/pii/S0029549316000273)</sup> , the technique has wide-ranging applicability in diverse scientific, industrial and biomedical applications.\n",
    "\n",
    "PEPT is performed by radioactively labelling a particle with a positron-emitting radioisotope such as Fluorine-18 ($^{18}\\mathrm{F}$) or Gallium-68 ($^{68}\\mathrm{Ga}$), and using the back-to-back gamma rays produced by electron-positron annihilation events in and around the tracer to triangulate its spatial position. Each detected gamma ray represents a **line of response (LoR)** ."
   ]
  },
  {
   "cell_type": "markdown",
   "metadata": {
    "id": "-9WQ3ziZu9FP"
   },
   "source": [
    "## 1.1. This Jupyter Notebook\n",
    "\n",
    "This interactive Jupyter Notebook illustrates the main processing steps employed by the Birmingham Method<sup>[1]</sup> for radioactive tracer tracking, as described in the Reports on Progress in Physics \"PEPT: A Comparative Review\" paper.\n",
    "\n",
    "An [example dataset](https://raw.githubusercontent.com/uob-positron-imaging-centre/example_data/master/sample_1p_fluidised_bed.csv) is used from an experiment run at the University of Birmingham Positron Imaging Centre using the ADAC Forté by Matthew Herald. It consists of a single 1 mm diameter MCC particle activated with Fluorine-18 radioactive tracer material inside a bubbling fluidised bed. The fluidised bed was filled with 90% sand and 10% MCC; air was fed into the bottom of the bed at a rate of 37 litres per minute at 3.5 bar. This dataset was chosen for its high quality captured lines of response, with the tracer still depicting the random particle motion that is inherent to bubbling fluidised beds - and typical in Lagrangian particle tracking.\n",
    "\n",
    "The [`pept`](https://github.com/uob-positron-imaging-centre/pept) Python library is used for initialising and visualising PEPT data. While not required *per se* for illustrating PEPT algorithms' processing steps, it significantly reduces the amount of repetitive code and visual noise, allowing the reader to focus on the main conceptual procedures."
   ]
  },
  {
   "cell_type": "markdown",
   "metadata": {
    "id": "-Pind7Uk4CrR"
   },
   "source": [
    "## 1.2. Running Code Cells\n",
    "Select any code cell and click on the (▶) sign in the top-left of the cell's frame to run its code. "
   ]
  },
  {
   "cell_type": "code",
   "execution_count": 1,
   "metadata": {
    "colab": {
     "base_uri": "https://localhost:8080/"
    },
    "id": "8t0Sd5giaM0_",
    "outputId": "2bd7cf53-2079-4059-c88e-9b586511bb16"
   },
   "outputs": [
    {
     "name": "stdout",
     "output_type": "stream",
     "text": [
      "/bin/bash: pip: command not found\r\n"
     ]
    }
   ],
   "source": [
    "# First install the `pept` library using pip, Python's package manager\n",
    "!pip install git+https://github.com/uob-positron-imaging-centre/pept.git"
   ]
  },
  {
   "cell_type": "markdown",
   "metadata": {
    "id": "rM1SFD9IaJQg"
   },
   "source": [
    "# 2. PEPT-EM"
   ]
  },
  {
   "cell_type": "markdown",
   "metadata": {
    "id": "Mm6m9e5MBN6l"
   },
   "source": [
    "## 2.1. Read in Line of Response Data"
   ]
  },
  {
   "cell_type": "code",
   "execution_count": 19,
   "metadata": {
    "colab": {
     "base_uri": "https://localhost:8080/"
    },
    "id": "hVo10Wj_uEJ8",
    "outputId": "948d187a-baa8-4c46-9bac-765bfdc92c0b"
   },
   "outputs": [
    {
     "data": {
      "text/plain": [
       "array([[0.000e+00, 0.000e+00, 1.687e+02, 6.000e+02, 1.428e+02],\n",
       "       [1.000e-01, 0.000e+00, 1.676e+02, 6.000e+02, 3.139e+02],\n",
       "       [1.000e-01, 0.000e+00, 4.100e+02, 6.000e+02, 2.401e+02],\n",
       "       [2.000e-01, 0.000e+00, 2.962e+02, 6.000e+02, 4.525e+02],\n",
       "       [2.000e-01, 0.000e+00, 1.151e+02, 6.000e+02, 3.534e+02],\n",
       "       [2.000e-01, 0.000e+00, 1.322e+02, 6.000e+02, 2.661e+02],\n",
       "       [2.000e-01, 0.000e+00, 3.735e+02, 6.000e+02, 1.310e+02],\n",
       "       [3.000e-01, 0.000e+00, 1.115e+02, 6.000e+02, 3.534e+02],\n",
       "       [4.000e-01, 0.000e+00, 2.094e+02, 6.000e+02, 2.808e+02],\n",
       "       [4.000e-01, 0.000e+00, 2.749e+02, 6.000e+02, 3.062e+02],\n",
       "       [5.000e-01, 0.000e+00, 2.389e+02, 6.000e+02, 1.681e+02],\n",
       "       [6.000e-01, 0.000e+00, 4.283e+02, 6.000e+02, 7.020e+01],\n",
       "       [6.000e-01, 0.000e+00, 1.333e+02, 6.000e+02, 3.499e+02],\n",
       "       [6.000e-01, 0.000e+00, 3.050e+02, 6.000e+02, 1.032e+02],\n",
       "       [6.000e-01, 0.000e+00, 9.200e+01, 6.000e+02, 3.929e+02],\n",
       "       [6.000e-01, 0.000e+00, 1.859e+02, 6.000e+02, 3.027e+02],\n",
       "       [6.000e-01, 0.000e+00, 1.853e+02, 6.000e+02, 2.850e+02],\n",
       "       [7.000e-01, 0.000e+00, 2.454e+02, 6.000e+02, 2.572e+02],\n",
       "       [7.000e-01, 0.000e+00, 1.127e+02, 6.000e+02, 3.941e+02],\n",
       "       [7.000e-01, 0.000e+00, 1.711e+02, 6.000e+02, 3.027e+02],\n",
       "       [8.000e-01, 0.000e+00, 3.906e+02, 6.000e+02, 2.549e+02],\n",
       "       [8.000e-01, 0.000e+00, 4.720e+01, 6.000e+02, 4.136e+02],\n",
       "       [8.000e-01, 0.000e+00, 3.410e+02, 6.000e+02, 1.328e+02],\n",
       "       [8.000e-01, 0.000e+00, 1.263e+02, 6.000e+02, 3.451e+02],\n",
       "       [9.000e-01, 0.000e+00, 4.348e+02, 6.000e+02, 7.200e+01],\n",
       "       [9.000e-01, 0.000e+00, 3.351e+02, 6.000e+02, 2.154e+02],\n",
       "       [9.000e-01, 0.000e+00, 2.767e+02, 6.000e+02, 1.953e+02],\n",
       "       [1.000e+00, 0.000e+00, 1.894e+02, 6.000e+02, 2.956e+02],\n",
       "       [1.000e+00, 0.000e+00, 3.050e+02, 6.000e+02, 1.859e+02],\n",
       "       [1.100e+00, 0.000e+00, 4.301e+02, 6.000e+02, 1.357e+02],\n",
       "       [1.100e+00, 0.000e+00, 4.466e+02, 6.000e+02, 6.430e+01],\n",
       "       [1.100e+00, 0.000e+00, 1.741e+02, 6.000e+02, 7.140e+01],\n",
       "       [1.100e+00, 0.000e+00, 1.941e+02, 6.000e+02, 1.204e+02],\n",
       "       [1.100e+00, 0.000e+00, 1.162e+02, 6.000e+02, 3.510e+02],\n",
       "       [1.200e+00, 0.000e+00, 2.301e+02, 6.000e+02, 2.537e+02],\n",
       "       [1.200e+00, 0.000e+00, 2.767e+02, 6.000e+02, 2.201e+02],\n",
       "       [1.300e+00, 0.000e+00, 2.962e+02, 6.000e+02, 1.941e+02],\n",
       "       [1.400e+00, 0.000e+00, 5.020e+01, 6.000e+02, 3.764e+02],\n",
       "       [1.500e+00, 0.000e+00, 3.003e+02, 6.000e+02, 1.976e+02],\n",
       "       [1.500e+00, 0.000e+00, 1.032e+02, 6.000e+02, 1.369e+02],\n",
       "       [1.600e+00, 0.000e+00, 4.047e+02, 6.000e+02, 9.680e+01],\n",
       "       [1.600e+00, 0.000e+00, 4.395e+02, 6.000e+02, 6.550e+01],\n",
       "       [1.600e+00, 0.000e+00, 2.590e+02, 6.000e+02, 2.903e+02],\n",
       "       [1.600e+00, 0.000e+00, 1.676e+02, 6.000e+02, 2.277e+02],\n",
       "       [1.600e+00, 0.000e+00, 2.826e+02, 6.000e+02, 2.089e+02],\n",
       "       [1.700e+00, 0.000e+00, 2.277e+02, 6.000e+02, 4.301e+02],\n",
       "       [1.700e+00, 0.000e+00, 2.773e+02, 6.000e+02, 3.953e+02],\n",
       "       [1.800e+00, 0.000e+00, 1.658e+02, 6.000e+02, 3.103e+02],\n",
       "       [1.900e+00, 0.000e+00, 1.546e+02, 6.000e+02, 3.227e+02],\n",
       "       [2.000e+00, 0.000e+00, 7.610e+01, 6.000e+02, 5.062e+02]])"
      ]
     },
     "execution_count": 19,
     "metadata": {},
     "output_type": "execute_result"
    }
   ],
   "source": [
    "# Read in a sample of experimental PEPT data from an online repository into a NumPy array\n",
    "import numpy as np\n",
    "import pept\n",
    "\n",
    "# Skip the file header's first 15 lines, then read in 50 LoRs\n",
    "lors_raw = pept.utilities.read_csv(\n",
    "    \"https://raw.githubusercontent.com/uob-positron-imaging-centre/example_data/master/sample_1p_fluidised_bed.csv\",\n",
    "    skiprows = 15,\n",
    "    nrows = 50,\n",
    ")\n",
    "\n",
    "# Insert columns for the z-coordinates\n",
    "head_separation = 600\n",
    "\n",
    "lors_raw = np.insert(lors_raw, 3, 0, axis = 1)\n",
    "lors_raw = np.insert(lors_raw, 6, head_separation, axis = 1)\n",
    "\n",
    "# Project the 3D lines onto the YZ plane for ease of analysis - i.e. select only columns\n",
    "# [time, y1, z1, y2, z2] and flip columns to get [time, x1, y1, x2, y2]\n",
    "lors = np.array(lors_raw[:, [0, 3, 2, 6, 5]])\n",
    "\n",
    "# Print the line of response (LoR) data\n",
    "lors"
   ]
  },
  {
   "cell_type": "code",
   "execution_count": 20,
   "metadata": {
    "colab": {
     "base_uri": "https://localhost:8080/",
     "height": 542
    },
    "id": "KL0BVF_VZs7A",
    "outputId": "bf0ee610-07a8-46be-bb1a-608d5e8a1a73"
   },
   "outputs": [
    {
     "data": {
      "application/vnd.plotly.v1+json": {
       "config": {
        "plotlyServerURL": "https://plot.ly"
       },
       "data": [
        {
         "line": {
          "width": 2
         },
         "mode": "lines",
         "opacity": 0.6,
         "type": "scatter",
         "x": [
          0,
          600,
          null,
          0,
          600,
          null,
          0,
          600,
          null,
          0,
          600,
          null,
          0,
          600,
          null,
          0,
          600,
          null,
          0,
          600,
          null,
          0,
          600,
          null,
          0,
          600,
          null,
          0,
          600,
          null,
          0,
          600,
          null,
          0,
          600,
          null,
          0,
          600,
          null,
          0,
          600,
          null,
          0,
          600,
          null,
          0,
          600,
          null,
          0,
          600,
          null,
          0,
          600,
          null,
          0,
          600,
          null,
          0,
          600,
          null,
          0,
          600,
          null,
          0,
          600,
          null,
          0,
          600,
          null,
          0,
          600,
          null,
          0,
          600,
          null,
          0,
          600,
          null,
          0,
          600,
          null,
          0,
          600,
          null,
          0,
          600,
          null,
          0,
          600,
          null,
          0,
          600,
          null,
          0,
          600,
          null,
          0,
          600,
          null,
          0,
          600,
          null,
          0,
          600,
          null,
          0,
          600,
          null,
          0,
          600,
          null,
          0,
          600,
          null,
          0,
          600,
          null,
          0,
          600,
          null,
          0,
          600,
          null,
          0,
          600,
          null,
          0,
          600,
          null,
          0,
          600,
          null,
          0,
          600,
          null,
          0,
          600,
          null,
          0,
          600,
          null,
          0,
          600,
          null,
          0,
          600,
          null,
          0,
          600,
          null
         ],
         "xaxis": "x",
         "y": [
          168.7,
          142.8,
          null,
          167.6,
          313.9,
          null,
          410,
          240.1,
          null,
          296.2,
          452.5,
          null,
          115.1,
          353.4,
          null,
          132.2,
          266.1,
          null,
          373.5,
          131,
          null,
          111.5,
          353.4,
          null,
          209.4,
          280.8,
          null,
          274.9,
          306.2,
          null,
          238.9,
          168.1,
          null,
          428.3,
          70.2,
          null,
          133.3,
          349.9,
          null,
          305,
          103.2,
          null,
          92,
          392.9,
          null,
          185.9,
          302.7,
          null,
          185.3,
          285,
          null,
          245.4,
          257.2,
          null,
          112.7,
          394.1,
          null,
          171.1,
          302.7,
          null,
          390.6,
          254.9,
          null,
          47.2,
          413.6,
          null,
          341,
          132.8,
          null,
          126.3,
          345.1,
          null,
          434.8,
          72,
          null,
          335.1,
          215.4,
          null,
          276.7,
          195.3,
          null,
          189.4,
          295.6,
          null,
          305,
          185.9,
          null,
          430.1,
          135.7,
          null,
          446.6,
          64.3,
          null,
          174.1,
          71.4,
          null,
          194.1,
          120.4,
          null,
          116.2,
          351,
          null,
          230.1,
          253.7,
          null,
          276.7,
          220.1,
          null,
          296.2,
          194.1,
          null,
          50.2,
          376.4,
          null,
          300.3,
          197.6,
          null,
          103.2,
          136.9,
          null,
          404.7,
          96.8,
          null,
          439.5,
          65.5,
          null,
          259,
          290.3,
          null,
          167.6,
          227.7,
          null,
          282.6,
          208.9,
          null,
          227.7,
          430.1,
          null,
          277.3,
          395.3,
          null,
          165.8,
          310.3,
          null,
          154.6,
          322.7,
          null,
          76.1,
          506.2,
          null
         ],
         "yaxis": "y"
        }
       ],
       "layout": {
        "annotations": [
         {
          "font": {
           "size": 16
          },
          "showarrow": false,
          "text": "  ",
          "x": 0.5,
          "xanchor": "center",
          "xref": "paper",
          "y": 1,
          "yanchor": "bottom",
          "yref": "paper"
         }
        ],
        "margin": {
         "b": 30,
         "l": 0,
         "r": 0,
         "t": 30
        },
        "showlegend": false,
        "template": {
         "data": {
          "bar": [
           {
            "error_x": {
             "color": "#2a3f5f"
            },
            "error_y": {
             "color": "#2a3f5f"
            },
            "marker": {
             "line": {
              "color": "#E5ECF6",
              "width": 0.5
             }
            },
            "type": "bar"
           }
          ],
          "barpolar": [
           {
            "marker": {
             "line": {
              "color": "#E5ECF6",
              "width": 0.5
             }
            },
            "type": "barpolar"
           }
          ],
          "carpet": [
           {
            "aaxis": {
             "endlinecolor": "#2a3f5f",
             "gridcolor": "white",
             "linecolor": "white",
             "minorgridcolor": "white",
             "startlinecolor": "#2a3f5f"
            },
            "baxis": {
             "endlinecolor": "#2a3f5f",
             "gridcolor": "white",
             "linecolor": "white",
             "minorgridcolor": "white",
             "startlinecolor": "#2a3f5f"
            },
            "type": "carpet"
           }
          ],
          "choropleth": [
           {
            "colorbar": {
             "outlinewidth": 0,
             "ticks": ""
            },
            "type": "choropleth"
           }
          ],
          "contour": [
           {
            "colorbar": {
             "outlinewidth": 0,
             "ticks": ""
            },
            "colorscale": [
             [
              0,
              "#0d0887"
             ],
             [
              0.1111111111111111,
              "#46039f"
             ],
             [
              0.2222222222222222,
              "#7201a8"
             ],
             [
              0.3333333333333333,
              "#9c179e"
             ],
             [
              0.4444444444444444,
              "#bd3786"
             ],
             [
              0.5555555555555556,
              "#d8576b"
             ],
             [
              0.6666666666666666,
              "#ed7953"
             ],
             [
              0.7777777777777778,
              "#fb9f3a"
             ],
             [
              0.8888888888888888,
              "#fdca26"
             ],
             [
              1,
              "#f0f921"
             ]
            ],
            "type": "contour"
           }
          ],
          "contourcarpet": [
           {
            "colorbar": {
             "outlinewidth": 0,
             "ticks": ""
            },
            "type": "contourcarpet"
           }
          ],
          "heatmap": [
           {
            "colorbar": {
             "outlinewidth": 0,
             "ticks": ""
            },
            "colorscale": [
             [
              0,
              "#0d0887"
             ],
             [
              0.1111111111111111,
              "#46039f"
             ],
             [
              0.2222222222222222,
              "#7201a8"
             ],
             [
              0.3333333333333333,
              "#9c179e"
             ],
             [
              0.4444444444444444,
              "#bd3786"
             ],
             [
              0.5555555555555556,
              "#d8576b"
             ],
             [
              0.6666666666666666,
              "#ed7953"
             ],
             [
              0.7777777777777778,
              "#fb9f3a"
             ],
             [
              0.8888888888888888,
              "#fdca26"
             ],
             [
              1,
              "#f0f921"
             ]
            ],
            "type": "heatmap"
           }
          ],
          "heatmapgl": [
           {
            "colorbar": {
             "outlinewidth": 0,
             "ticks": ""
            },
            "colorscale": [
             [
              0,
              "#0d0887"
             ],
             [
              0.1111111111111111,
              "#46039f"
             ],
             [
              0.2222222222222222,
              "#7201a8"
             ],
             [
              0.3333333333333333,
              "#9c179e"
             ],
             [
              0.4444444444444444,
              "#bd3786"
             ],
             [
              0.5555555555555556,
              "#d8576b"
             ],
             [
              0.6666666666666666,
              "#ed7953"
             ],
             [
              0.7777777777777778,
              "#fb9f3a"
             ],
             [
              0.8888888888888888,
              "#fdca26"
             ],
             [
              1,
              "#f0f921"
             ]
            ],
            "type": "heatmapgl"
           }
          ],
          "histogram": [
           {
            "marker": {
             "colorbar": {
              "outlinewidth": 0,
              "ticks": ""
             }
            },
            "type": "histogram"
           }
          ],
          "histogram2d": [
           {
            "colorbar": {
             "outlinewidth": 0,
             "ticks": ""
            },
            "colorscale": [
             [
              0,
              "#0d0887"
             ],
             [
              0.1111111111111111,
              "#46039f"
             ],
             [
              0.2222222222222222,
              "#7201a8"
             ],
             [
              0.3333333333333333,
              "#9c179e"
             ],
             [
              0.4444444444444444,
              "#bd3786"
             ],
             [
              0.5555555555555556,
              "#d8576b"
             ],
             [
              0.6666666666666666,
              "#ed7953"
             ],
             [
              0.7777777777777778,
              "#fb9f3a"
             ],
             [
              0.8888888888888888,
              "#fdca26"
             ],
             [
              1,
              "#f0f921"
             ]
            ],
            "type": "histogram2d"
           }
          ],
          "histogram2dcontour": [
           {
            "colorbar": {
             "outlinewidth": 0,
             "ticks": ""
            },
            "colorscale": [
             [
              0,
              "#0d0887"
             ],
             [
              0.1111111111111111,
              "#46039f"
             ],
             [
              0.2222222222222222,
              "#7201a8"
             ],
             [
              0.3333333333333333,
              "#9c179e"
             ],
             [
              0.4444444444444444,
              "#bd3786"
             ],
             [
              0.5555555555555556,
              "#d8576b"
             ],
             [
              0.6666666666666666,
              "#ed7953"
             ],
             [
              0.7777777777777778,
              "#fb9f3a"
             ],
             [
              0.8888888888888888,
              "#fdca26"
             ],
             [
              1,
              "#f0f921"
             ]
            ],
            "type": "histogram2dcontour"
           }
          ],
          "mesh3d": [
           {
            "colorbar": {
             "outlinewidth": 0,
             "ticks": ""
            },
            "type": "mesh3d"
           }
          ],
          "parcoords": [
           {
            "line": {
             "colorbar": {
              "outlinewidth": 0,
              "ticks": ""
             }
            },
            "type": "parcoords"
           }
          ],
          "pie": [
           {
            "automargin": true,
            "type": "pie"
           }
          ],
          "scatter": [
           {
            "marker": {
             "colorbar": {
              "outlinewidth": 0,
              "ticks": ""
             }
            },
            "type": "scatter"
           }
          ],
          "scatter3d": [
           {
            "line": {
             "colorbar": {
              "outlinewidth": 0,
              "ticks": ""
             }
            },
            "marker": {
             "colorbar": {
              "outlinewidth": 0,
              "ticks": ""
             }
            },
            "type": "scatter3d"
           }
          ],
          "scattercarpet": [
           {
            "marker": {
             "colorbar": {
              "outlinewidth": 0,
              "ticks": ""
             }
            },
            "type": "scattercarpet"
           }
          ],
          "scattergeo": [
           {
            "marker": {
             "colorbar": {
              "outlinewidth": 0,
              "ticks": ""
             }
            },
            "type": "scattergeo"
           }
          ],
          "scattergl": [
           {
            "marker": {
             "colorbar": {
              "outlinewidth": 0,
              "ticks": ""
             }
            },
            "type": "scattergl"
           }
          ],
          "scattermapbox": [
           {
            "marker": {
             "colorbar": {
              "outlinewidth": 0,
              "ticks": ""
             }
            },
            "type": "scattermapbox"
           }
          ],
          "scatterpolar": [
           {
            "marker": {
             "colorbar": {
              "outlinewidth": 0,
              "ticks": ""
             }
            },
            "type": "scatterpolar"
           }
          ],
          "scatterpolargl": [
           {
            "marker": {
             "colorbar": {
              "outlinewidth": 0,
              "ticks": ""
             }
            },
            "type": "scatterpolargl"
           }
          ],
          "scatterternary": [
           {
            "marker": {
             "colorbar": {
              "outlinewidth": 0,
              "ticks": ""
             }
            },
            "type": "scatterternary"
           }
          ],
          "surface": [
           {
            "colorbar": {
             "outlinewidth": 0,
             "ticks": ""
            },
            "colorscale": [
             [
              0,
              "#0d0887"
             ],
             [
              0.1111111111111111,
              "#46039f"
             ],
             [
              0.2222222222222222,
              "#7201a8"
             ],
             [
              0.3333333333333333,
              "#9c179e"
             ],
             [
              0.4444444444444444,
              "#bd3786"
             ],
             [
              0.5555555555555556,
              "#d8576b"
             ],
             [
              0.6666666666666666,
              "#ed7953"
             ],
             [
              0.7777777777777778,
              "#fb9f3a"
             ],
             [
              0.8888888888888888,
              "#fdca26"
             ],
             [
              1,
              "#f0f921"
             ]
            ],
            "type": "surface"
           }
          ],
          "table": [
           {
            "cells": {
             "fill": {
              "color": "#EBF0F8"
             },
             "line": {
              "color": "white"
             }
            },
            "header": {
             "fill": {
              "color": "#C8D4E3"
             },
             "line": {
              "color": "white"
             }
            },
            "type": "table"
           }
          ]
         },
         "layout": {
          "annotationdefaults": {
           "arrowcolor": "#2a3f5f",
           "arrowhead": 0,
           "arrowwidth": 1
          },
          "autotypenumbers": "strict",
          "coloraxis": {
           "colorbar": {
            "outlinewidth": 0,
            "ticks": ""
           }
          },
          "colorscale": {
           "diverging": [
            [
             0,
             "#8e0152"
            ],
            [
             0.1,
             "#c51b7d"
            ],
            [
             0.2,
             "#de77ae"
            ],
            [
             0.3,
             "#f1b6da"
            ],
            [
             0.4,
             "#fde0ef"
            ],
            [
             0.5,
             "#f7f7f7"
            ],
            [
             0.6,
             "#e6f5d0"
            ],
            [
             0.7,
             "#b8e186"
            ],
            [
             0.8,
             "#7fbc41"
            ],
            [
             0.9,
             "#4d9221"
            ],
            [
             1,
             "#276419"
            ]
           ],
           "sequential": [
            [
             0,
             "#0d0887"
            ],
            [
             0.1111111111111111,
             "#46039f"
            ],
            [
             0.2222222222222222,
             "#7201a8"
            ],
            [
             0.3333333333333333,
             "#9c179e"
            ],
            [
             0.4444444444444444,
             "#bd3786"
            ],
            [
             0.5555555555555556,
             "#d8576b"
            ],
            [
             0.6666666666666666,
             "#ed7953"
            ],
            [
             0.7777777777777778,
             "#fb9f3a"
            ],
            [
             0.8888888888888888,
             "#fdca26"
            ],
            [
             1,
             "#f0f921"
            ]
           ],
           "sequentialminus": [
            [
             0,
             "#0d0887"
            ],
            [
             0.1111111111111111,
             "#46039f"
            ],
            [
             0.2222222222222222,
             "#7201a8"
            ],
            [
             0.3333333333333333,
             "#9c179e"
            ],
            [
             0.4444444444444444,
             "#bd3786"
            ],
            [
             0.5555555555555556,
             "#d8576b"
            ],
            [
             0.6666666666666666,
             "#ed7953"
            ],
            [
             0.7777777777777778,
             "#fb9f3a"
            ],
            [
             0.8888888888888888,
             "#fdca26"
            ],
            [
             1,
             "#f0f921"
            ]
           ]
          },
          "colorway": [
           "#636efa",
           "#EF553B",
           "#00cc96",
           "#ab63fa",
           "#FFA15A",
           "#19d3f3",
           "#FF6692",
           "#B6E880",
           "#FF97FF",
           "#FECB52"
          ],
          "font": {
           "color": "#2a3f5f"
          },
          "geo": {
           "bgcolor": "white",
           "lakecolor": "white",
           "landcolor": "#E5ECF6",
           "showlakes": true,
           "showland": true,
           "subunitcolor": "white"
          },
          "hoverlabel": {
           "align": "left"
          },
          "hovermode": "closest",
          "mapbox": {
           "style": "light"
          },
          "paper_bgcolor": "white",
          "plot_bgcolor": "#E5ECF6",
          "polar": {
           "angularaxis": {
            "gridcolor": "white",
            "linecolor": "white",
            "ticks": ""
           },
           "bgcolor": "#E5ECF6",
           "radialaxis": {
            "gridcolor": "white",
            "linecolor": "white",
            "ticks": ""
           }
          },
          "scene": {
           "xaxis": {
            "backgroundcolor": "#E5ECF6",
            "gridcolor": "white",
            "gridwidth": 2,
            "linecolor": "white",
            "showbackground": true,
            "ticks": "",
            "zerolinecolor": "white"
           },
           "yaxis": {
            "backgroundcolor": "#E5ECF6",
            "gridcolor": "white",
            "gridwidth": 2,
            "linecolor": "white",
            "showbackground": true,
            "ticks": "",
            "zerolinecolor": "white"
           },
           "zaxis": {
            "backgroundcolor": "#E5ECF6",
            "gridcolor": "white",
            "gridwidth": 2,
            "linecolor": "white",
            "showbackground": true,
            "ticks": "",
            "zerolinecolor": "white"
           }
          },
          "shapedefaults": {
           "line": {
            "color": "#2a3f5f"
           }
          },
          "ternary": {
           "aaxis": {
            "gridcolor": "white",
            "linecolor": "white",
            "ticks": ""
           },
           "baxis": {
            "gridcolor": "white",
            "linecolor": "white",
            "ticks": ""
           },
           "bgcolor": "#E5ECF6",
           "caxis": {
            "gridcolor": "white",
            "linecolor": "white",
            "ticks": ""
           }
          },
          "title": {
           "x": 0.05
          },
          "xaxis": {
           "automargin": true,
           "gridcolor": "white",
           "linecolor": "white",
           "ticks": "",
           "title": {
            "standoff": 15
           },
           "zerolinecolor": "white",
           "zerolinewidth": 2
          },
          "yaxis": {
           "automargin": true,
           "gridcolor": "white",
           "linecolor": "white",
           "ticks": "",
           "title": {
            "standoff": 15
           },
           "zerolinecolor": "white",
           "zerolinewidth": 2
          }
         }
        },
        "xaxis": {
         "anchor": "y",
         "domain": [
          0,
          1
         ],
         "range": [
          0,
          600
         ],
         "title": {
          "text": "<i>x</i> (mm)"
         }
        },
        "yaxis": {
         "anchor": "x",
         "domain": [
          0,
          1
         ],
         "scaleanchor": "x",
         "scaleratio": 1,
         "title": {
          "text": "<i>y</i> (mm)"
         }
        }
       }
      },
      "text/html": [
       "<div>                            <div id=\"fddbcee6-bde8-40a9-bd54-e2de892a8ced\" class=\"plotly-graph-div\" style=\"height:525px; width:100%;\"></div>            <script type=\"text/javascript\">                require([\"plotly\"], function(Plotly) {                    window.PLOTLYENV=window.PLOTLYENV || {};                                    if (document.getElementById(\"fddbcee6-bde8-40a9-bd54-e2de892a8ced\")) {                    Plotly.newPlot(                        \"fddbcee6-bde8-40a9-bd54-e2de892a8ced\",                        [{\"line\": {\"width\": 2.0}, \"mode\": \"lines\", \"opacity\": 0.6, \"type\": \"scatter\", \"x\": [0.0, 600.0, null, 0.0, 600.0, null, 0.0, 600.0, null, 0.0, 600.0, null, 0.0, 600.0, null, 0.0, 600.0, null, 0.0, 600.0, null, 0.0, 600.0, null, 0.0, 600.0, null, 0.0, 600.0, null, 0.0, 600.0, null, 0.0, 600.0, null, 0.0, 600.0, null, 0.0, 600.0, null, 0.0, 600.0, null, 0.0, 600.0, null, 0.0, 600.0, null, 0.0, 600.0, null, 0.0, 600.0, null, 0.0, 600.0, null, 0.0, 600.0, null, 0.0, 600.0, null, 0.0, 600.0, null, 0.0, 600.0, null, 0.0, 600.0, null, 0.0, 600.0, null, 0.0, 600.0, null, 0.0, 600.0, null, 0.0, 600.0, null, 0.0, 600.0, null, 0.0, 600.0, null, 0.0, 600.0, null, 0.0, 600.0, null, 0.0, 600.0, null, 0.0, 600.0, null, 0.0, 600.0, null, 0.0, 600.0, null, 0.0, 600.0, null, 0.0, 600.0, null, 0.0, 600.0, null, 0.0, 600.0, null, 0.0, 600.0, null, 0.0, 600.0, null, 0.0, 600.0, null, 0.0, 600.0, null, 0.0, 600.0, null, 0.0, 600.0, null, 0.0, 600.0, null, 0.0, 600.0, null, 0.0, 600.0, null], \"xaxis\": \"x\", \"y\": [168.7, 142.8, null, 167.6, 313.9, null, 410.0, 240.1, null, 296.2, 452.5, null, 115.1, 353.4, null, 132.2, 266.1, null, 373.5, 131.0, null, 111.5, 353.4, null, 209.4, 280.8, null, 274.9, 306.2, null, 238.9, 168.1, null, 428.3, 70.2, null, 133.3, 349.9, null, 305.0, 103.2, null, 92.0, 392.9, null, 185.9, 302.7, null, 185.3, 285.0, null, 245.4, 257.2, null, 112.7, 394.1, null, 171.1, 302.7, null, 390.6, 254.9, null, 47.2, 413.6, null, 341.0, 132.8, null, 126.3, 345.1, null, 434.8, 72.0, null, 335.1, 215.4, null, 276.7, 195.3, null, 189.4, 295.6, null, 305.0, 185.9, null, 430.1, 135.7, null, 446.6, 64.3, null, 174.1, 71.4, null, 194.1, 120.4, null, 116.2, 351.0, null, 230.1, 253.7, null, 276.7, 220.1, null, 296.2, 194.1, null, 50.2, 376.4, null, 300.3, 197.6, null, 103.2, 136.9, null, 404.7, 96.8, null, 439.5, 65.5, null, 259.0, 290.3, null, 167.6, 227.7, null, 282.6, 208.9, null, 227.7, 430.1, null, 277.3, 395.3, null, 165.8, 310.3, null, 154.6, 322.7, null, 76.1, 506.2, null], \"yaxis\": \"y\"}],                        {\"annotations\": [{\"font\": {\"size\": 16}, \"showarrow\": false, \"text\": \"  \", \"x\": 0.5, \"xanchor\": \"center\", \"xref\": \"paper\", \"y\": 1.0, \"yanchor\": \"bottom\", \"yref\": \"paper\"}], \"margin\": {\"b\": 30, \"l\": 0, \"r\": 0, \"t\": 30}, \"showlegend\": false, \"template\": {\"data\": {\"bar\": [{\"error_x\": {\"color\": \"#2a3f5f\"}, \"error_y\": {\"color\": \"#2a3f5f\"}, \"marker\": {\"line\": {\"color\": \"#E5ECF6\", \"width\": 0.5}}, \"type\": \"bar\"}], \"barpolar\": [{\"marker\": {\"line\": {\"color\": \"#E5ECF6\", \"width\": 0.5}}, \"type\": \"barpolar\"}], \"carpet\": [{\"aaxis\": {\"endlinecolor\": \"#2a3f5f\", \"gridcolor\": \"white\", \"linecolor\": \"white\", \"minorgridcolor\": \"white\", \"startlinecolor\": \"#2a3f5f\"}, \"baxis\": {\"endlinecolor\": \"#2a3f5f\", \"gridcolor\": \"white\", \"linecolor\": \"white\", \"minorgridcolor\": \"white\", \"startlinecolor\": \"#2a3f5f\"}, \"type\": \"carpet\"}], \"choropleth\": [{\"colorbar\": {\"outlinewidth\": 0, \"ticks\": \"\"}, \"type\": \"choropleth\"}], \"contour\": [{\"colorbar\": {\"outlinewidth\": 0, \"ticks\": \"\"}, \"colorscale\": [[0.0, \"#0d0887\"], [0.1111111111111111, \"#46039f\"], [0.2222222222222222, \"#7201a8\"], [0.3333333333333333, \"#9c179e\"], [0.4444444444444444, \"#bd3786\"], [0.5555555555555556, \"#d8576b\"], [0.6666666666666666, \"#ed7953\"], [0.7777777777777778, \"#fb9f3a\"], [0.8888888888888888, \"#fdca26\"], [1.0, \"#f0f921\"]], \"type\": \"contour\"}], \"contourcarpet\": [{\"colorbar\": {\"outlinewidth\": 0, \"ticks\": \"\"}, \"type\": \"contourcarpet\"}], \"heatmap\": [{\"colorbar\": {\"outlinewidth\": 0, \"ticks\": \"\"}, \"colorscale\": [[0.0, \"#0d0887\"], [0.1111111111111111, \"#46039f\"], [0.2222222222222222, \"#7201a8\"], [0.3333333333333333, \"#9c179e\"], [0.4444444444444444, \"#bd3786\"], [0.5555555555555556, \"#d8576b\"], [0.6666666666666666, \"#ed7953\"], [0.7777777777777778, \"#fb9f3a\"], [0.8888888888888888, \"#fdca26\"], [1.0, \"#f0f921\"]], \"type\": \"heatmap\"}], \"heatmapgl\": [{\"colorbar\": {\"outlinewidth\": 0, \"ticks\": \"\"}, \"colorscale\": [[0.0, \"#0d0887\"], [0.1111111111111111, \"#46039f\"], [0.2222222222222222, \"#7201a8\"], [0.3333333333333333, \"#9c179e\"], [0.4444444444444444, \"#bd3786\"], [0.5555555555555556, \"#d8576b\"], [0.6666666666666666, \"#ed7953\"], [0.7777777777777778, \"#fb9f3a\"], [0.8888888888888888, \"#fdca26\"], [1.0, \"#f0f921\"]], \"type\": \"heatmapgl\"}], \"histogram\": [{\"marker\": {\"colorbar\": {\"outlinewidth\": 0, \"ticks\": \"\"}}, \"type\": \"histogram\"}], \"histogram2d\": [{\"colorbar\": {\"outlinewidth\": 0, \"ticks\": \"\"}, \"colorscale\": [[0.0, \"#0d0887\"], [0.1111111111111111, \"#46039f\"], [0.2222222222222222, \"#7201a8\"], [0.3333333333333333, \"#9c179e\"], [0.4444444444444444, \"#bd3786\"], [0.5555555555555556, \"#d8576b\"], [0.6666666666666666, \"#ed7953\"], [0.7777777777777778, \"#fb9f3a\"], [0.8888888888888888, \"#fdca26\"], [1.0, \"#f0f921\"]], \"type\": \"histogram2d\"}], \"histogram2dcontour\": [{\"colorbar\": {\"outlinewidth\": 0, \"ticks\": \"\"}, \"colorscale\": [[0.0, \"#0d0887\"], [0.1111111111111111, \"#46039f\"], [0.2222222222222222, \"#7201a8\"], [0.3333333333333333, \"#9c179e\"], [0.4444444444444444, \"#bd3786\"], [0.5555555555555556, \"#d8576b\"], [0.6666666666666666, \"#ed7953\"], [0.7777777777777778, \"#fb9f3a\"], [0.8888888888888888, \"#fdca26\"], [1.0, \"#f0f921\"]], \"type\": \"histogram2dcontour\"}], \"mesh3d\": [{\"colorbar\": {\"outlinewidth\": 0, \"ticks\": \"\"}, \"type\": \"mesh3d\"}], \"parcoords\": [{\"line\": {\"colorbar\": {\"outlinewidth\": 0, \"ticks\": \"\"}}, \"type\": \"parcoords\"}], \"pie\": [{\"automargin\": true, \"type\": \"pie\"}], \"scatter\": [{\"marker\": {\"colorbar\": {\"outlinewidth\": 0, \"ticks\": \"\"}}, \"type\": \"scatter\"}], \"scatter3d\": [{\"line\": {\"colorbar\": {\"outlinewidth\": 0, \"ticks\": \"\"}}, \"marker\": {\"colorbar\": {\"outlinewidth\": 0, \"ticks\": \"\"}}, \"type\": \"scatter3d\"}], \"scattercarpet\": [{\"marker\": {\"colorbar\": {\"outlinewidth\": 0, \"ticks\": \"\"}}, \"type\": \"scattercarpet\"}], \"scattergeo\": [{\"marker\": {\"colorbar\": {\"outlinewidth\": 0, \"ticks\": \"\"}}, \"type\": \"scattergeo\"}], \"scattergl\": [{\"marker\": {\"colorbar\": {\"outlinewidth\": 0, \"ticks\": \"\"}}, \"type\": \"scattergl\"}], \"scattermapbox\": [{\"marker\": {\"colorbar\": {\"outlinewidth\": 0, \"ticks\": \"\"}}, \"type\": \"scattermapbox\"}], \"scatterpolar\": [{\"marker\": {\"colorbar\": {\"outlinewidth\": 0, \"ticks\": \"\"}}, \"type\": \"scatterpolar\"}], \"scatterpolargl\": [{\"marker\": {\"colorbar\": {\"outlinewidth\": 0, \"ticks\": \"\"}}, \"type\": \"scatterpolargl\"}], \"scatterternary\": [{\"marker\": {\"colorbar\": {\"outlinewidth\": 0, \"ticks\": \"\"}}, \"type\": \"scatterternary\"}], \"surface\": [{\"colorbar\": {\"outlinewidth\": 0, \"ticks\": \"\"}, \"colorscale\": [[0.0, \"#0d0887\"], [0.1111111111111111, \"#46039f\"], [0.2222222222222222, \"#7201a8\"], [0.3333333333333333, \"#9c179e\"], [0.4444444444444444, \"#bd3786\"], [0.5555555555555556, \"#d8576b\"], [0.6666666666666666, \"#ed7953\"], [0.7777777777777778, \"#fb9f3a\"], [0.8888888888888888, \"#fdca26\"], [1.0, \"#f0f921\"]], \"type\": \"surface\"}], \"table\": [{\"cells\": {\"fill\": {\"color\": \"#EBF0F8\"}, \"line\": {\"color\": \"white\"}}, \"header\": {\"fill\": {\"color\": \"#C8D4E3\"}, \"line\": {\"color\": \"white\"}}, \"type\": \"table\"}]}, \"layout\": {\"annotationdefaults\": {\"arrowcolor\": \"#2a3f5f\", \"arrowhead\": 0, \"arrowwidth\": 1}, \"autotypenumbers\": \"strict\", \"coloraxis\": {\"colorbar\": {\"outlinewidth\": 0, \"ticks\": \"\"}}, \"colorscale\": {\"diverging\": [[0, \"#8e0152\"], [0.1, \"#c51b7d\"], [0.2, \"#de77ae\"], [0.3, \"#f1b6da\"], [0.4, \"#fde0ef\"], [0.5, \"#f7f7f7\"], [0.6, \"#e6f5d0\"], [0.7, \"#b8e186\"], [0.8, \"#7fbc41\"], [0.9, \"#4d9221\"], [1, \"#276419\"]], \"sequential\": [[0.0, \"#0d0887\"], [0.1111111111111111, \"#46039f\"], [0.2222222222222222, \"#7201a8\"], [0.3333333333333333, \"#9c179e\"], [0.4444444444444444, \"#bd3786\"], [0.5555555555555556, \"#d8576b\"], [0.6666666666666666, \"#ed7953\"], [0.7777777777777778, \"#fb9f3a\"], [0.8888888888888888, \"#fdca26\"], [1.0, \"#f0f921\"]], \"sequentialminus\": [[0.0, \"#0d0887\"], [0.1111111111111111, \"#46039f\"], [0.2222222222222222, \"#7201a8\"], [0.3333333333333333, \"#9c179e\"], [0.4444444444444444, \"#bd3786\"], [0.5555555555555556, \"#d8576b\"], [0.6666666666666666, \"#ed7953\"], [0.7777777777777778, \"#fb9f3a\"], [0.8888888888888888, \"#fdca26\"], [1.0, \"#f0f921\"]]}, \"colorway\": [\"#636efa\", \"#EF553B\", \"#00cc96\", \"#ab63fa\", \"#FFA15A\", \"#19d3f3\", \"#FF6692\", \"#B6E880\", \"#FF97FF\", \"#FECB52\"], \"font\": {\"color\": \"#2a3f5f\"}, \"geo\": {\"bgcolor\": \"white\", \"lakecolor\": \"white\", \"landcolor\": \"#E5ECF6\", \"showlakes\": true, \"showland\": true, \"subunitcolor\": \"white\"}, \"hoverlabel\": {\"align\": \"left\"}, \"hovermode\": \"closest\", \"mapbox\": {\"style\": \"light\"}, \"paper_bgcolor\": \"white\", \"plot_bgcolor\": \"#E5ECF6\", \"polar\": {\"angularaxis\": {\"gridcolor\": \"white\", \"linecolor\": \"white\", \"ticks\": \"\"}, \"bgcolor\": \"#E5ECF6\", \"radialaxis\": {\"gridcolor\": \"white\", \"linecolor\": \"white\", \"ticks\": \"\"}}, \"scene\": {\"xaxis\": {\"backgroundcolor\": \"#E5ECF6\", \"gridcolor\": \"white\", \"gridwidth\": 2, \"linecolor\": \"white\", \"showbackground\": true, \"ticks\": \"\", \"zerolinecolor\": \"white\"}, \"yaxis\": {\"backgroundcolor\": \"#E5ECF6\", \"gridcolor\": \"white\", \"gridwidth\": 2, \"linecolor\": \"white\", \"showbackground\": true, \"ticks\": \"\", \"zerolinecolor\": \"white\"}, \"zaxis\": {\"backgroundcolor\": \"#E5ECF6\", \"gridcolor\": \"white\", \"gridwidth\": 2, \"linecolor\": \"white\", \"showbackground\": true, \"ticks\": \"\", \"zerolinecolor\": \"white\"}}, \"shapedefaults\": {\"line\": {\"color\": \"#2a3f5f\"}}, \"ternary\": {\"aaxis\": {\"gridcolor\": \"white\", \"linecolor\": \"white\", \"ticks\": \"\"}, \"baxis\": {\"gridcolor\": \"white\", \"linecolor\": \"white\", \"ticks\": \"\"}, \"bgcolor\": \"#E5ECF6\", \"caxis\": {\"gridcolor\": \"white\", \"linecolor\": \"white\", \"ticks\": \"\"}}, \"title\": {\"x\": 0.05}, \"xaxis\": {\"automargin\": true, \"gridcolor\": \"white\", \"linecolor\": \"white\", \"ticks\": \"\", \"title\": {\"standoff\": 15}, \"zerolinecolor\": \"white\", \"zerolinewidth\": 2}, \"yaxis\": {\"automargin\": true, \"gridcolor\": \"white\", \"linecolor\": \"white\", \"ticks\": \"\", \"title\": {\"standoff\": 15}, \"zerolinecolor\": \"white\", \"zerolinewidth\": 2}}}, \"xaxis\": {\"anchor\": \"y\", \"domain\": [0.0, 1.0], \"range\": [0.0, 600.0], \"title\": {\"text\": \"<i>x</i> (mm)\"}}, \"yaxis\": {\"anchor\": \"x\", \"domain\": [0.0, 1.0], \"scaleanchor\": \"x\", \"scaleratio\": 1, \"title\": {\"text\": \"<i>y</i> (mm)\"}}},                        {\"responsive\": true}                    ).then(function(){\n",
       "                            \n",
       "var gd = document.getElementById('fddbcee6-bde8-40a9-bd54-e2de892a8ced');\n",
       "var x = new MutationObserver(function (mutations, observer) {{\n",
       "        var display = window.getComputedStyle(gd).display;\n",
       "        if (!display || display === 'none') {{\n",
       "            console.log([gd, 'removed!']);\n",
       "            Plotly.purge(gd);\n",
       "            observer.disconnect();\n",
       "        }}\n",
       "}});\n",
       "\n",
       "// Listen for the removal of the full notebook cells\n",
       "var notebookContainer = gd.closest('#notebook-container');\n",
       "if (notebookContainer) {{\n",
       "    x.observe(notebookContainer, {childList: true});\n",
       "}}\n",
       "\n",
       "// Listen for the clearing of the current output cell\n",
       "var outputEl = gd.closest('.output');\n",
       "if (outputEl) {{\n",
       "    x.observe(outputEl, {childList: true});\n",
       "}}\n",
       "\n",
       "                        })                };                });            </script>        </div>"
      ]
     },
     "metadata": {},
     "output_type": "display_data"
    }
   ],
   "source": [
    "from pept.visualisation import PlotlyGrapher2D\n",
    "\n",
    "grapher = PlotlyGrapher2D()\n",
    "grapher.add_lines(lors)\n",
    "grapher.show()"
   ]
  },
  {
   "cell_type": "markdown",
   "metadata": {
    "id": "YRziHwMOBTo0"
   },
   "source": [
    "## 2.2 Represent the LoRs as Vectors"
   ]
  },
  {
   "cell_type": "code",
   "execution_count": 21,
   "metadata": {},
   "outputs": [],
   "source": [
    "# We recondition our LORs in the form y = x + An\n",
    "\n",
    "lors_original = np.copy(lors)\n",
    "\n",
    "#lors = np.copy(lors_original)\n",
    "\n",
    "lors[:,3] = lors[:,3] - lors[:,1]\n",
    "lors[:,4] = lors[:,4] - lors[:,2]\n",
    "\n",
    "lors[:,3:] /= np.linalg.norm(lors[:,3:], axis=-1)[:,np.newaxis]"
   ]
  },
  {
   "cell_type": "code",
   "execution_count": 22,
   "metadata": {
    "colab": {
     "base_uri": "https://localhost:8080/"
    },
    "id": "b-ektcRdyG0n",
    "outputId": "92aba1a1-0e01-41e2-c139-61308abd8589"
   },
   "outputs": [],
   "source": [
    "# And we calculate an initial guess for the location (basically the minimum distance point) for these LORs\n",
    "\n",
    "def Centroid(lors, weights):\n",
    "    from numpy import newaxis as nx\n",
    "    m = (np.identity(2)[nx,:,:]-lors[:,nx,3:]*lors[:,3:,nx])*weights[:,nx,nx]\n",
    "    M = np.sum(m,axis=0)\n",
    "    V = np.sum(np.sum(m*lors[:,np.newaxis,1:3],axis=-1),axis=0)\n",
    "    x = np.matmul(np.linalg.inv(M),V)\n",
    "    return x\n",
    "\n",
    "def dist_matrix(x,lors):\n",
    "    X = x[np.newaxis,:3]-lors[:,1:3]    \n",
    "    d2 = np.sum(X**2,axis=-1)-np.sum(X*lors[:,3:],axis=-1)**2\n",
    "    return d2\n",
    "\n",
    "def Latent_weights(d2,s,eps=0,r=None):\n",
    "    if r is None:\n",
    "        w = np.exp(-d2/2/s**2)/s**2+10**(-20)\n",
    "        w /= np.sum(w)+eps\n",
    "    else:\n",
    "        w = np.exp(-d2/2/s**2)*r/s**2+10**(-20)\n",
    "        w/= np.sum(w)+eps*(1-np.sum(r))\n",
    "    return w\n",
    "\n",
    "# We begin with the weights of each LOR being uniform\n",
    "\n",
    "weights = np.ones(len(lors))\n",
    "\n",
    "x = Centroid(lors, weights)\n",
    "d2 = dist_matrix(x, lors)\n",
    "variance = np.sqrt(np.mean(d2))\n",
    "\n",
    "# We then recalculate the weight of each LOR for the given centroid\n",
    "weights = Latent_weights(d2, variance, eps=0.0001)"
   ]
  },
  {
   "cell_type": "markdown",
   "metadata": {
    "colab": {
     "base_uri": "https://localhost:8080/",
     "height": 542
    },
    "id": "b8KRga6Z_0e7",
    "outputId": "858aa5c4-7820-457f-ef8d-4a7d266e282c"
   },
   "source": [
    "## 2.3 Plot all LoRs and the initial minimum distance point (MDP)"
   ]
  },
  {
   "cell_type": "code",
   "execution_count": 23,
   "metadata": {},
   "outputs": [
    {
     "name": "stdout",
     "output_type": "stream",
     "text": [
      "Before iterating: Centroid = [296.54123338 243.38995732] mm, Variance = 45.41596057401464 mm\n"
     ]
    },
    {
     "data": {
      "application/vnd.plotly.v1+json": {
       "config": {
        "plotlyServerURL": "https://plot.ly"
       },
       "data": [
        {
         "line": {
          "color": "blue",
          "width": 2
         },
         "mode": "lines",
         "opacity": 0.09414425827101212,
         "type": "scatter",
         "x": [
          0,
          600,
          null
         ],
         "xaxis": "x",
         "y": [
          168.7,
          142.8,
          null
         ],
         "yaxis": "y"
        },
        {
         "line": {
          "color": "blue",
          "width": 2
         },
         "mode": "lines",
         "opacity": 0.5983443969528683,
         "type": "scatter",
         "x": [
          0,
          600,
          null
         ],
         "xaxis": "x",
         "y": [
          167.6,
          313.9,
          null
         ],
         "yaxis": "y"
        },
        {
         "line": {
          "color": "blue",
          "width": 2
         },
         "mode": "lines",
         "opacity": 0.12958504064155602,
         "type": "scatter",
         "x": [
          0,
          600,
          null
         ],
         "xaxis": "x",
         "y": [
          410,
          240.1,
          null
         ],
         "yaxis": "y"
        },
        {
         "line": {
          "color": "blue",
          "width": 2
         },
         "mode": "lines",
         "opacity": 0.012897652533165467,
         "type": "scatter",
         "x": [
          0,
          600,
          null
         ],
         "xaxis": "x",
         "y": [
          296.2,
          452.5,
          null
         ],
         "yaxis": "y"
        },
        {
         "line": {
          "color": "blue",
          "width": 2
         },
         "mode": "lines",
         "opacity": 0.5862803843572928,
         "type": "scatter",
         "x": [
          0,
          600,
          null
         ],
         "xaxis": "x",
         "y": [
          115.1,
          353.4,
          null
         ],
         "yaxis": "y"
        },
        {
         "line": {
          "color": "blue",
          "width": 2
         },
         "mode": "lines",
         "opacity": 0.37581667501038,
         "type": "scatter",
         "x": [
          0,
          600,
          null
         ],
         "xaxis": "x",
         "y": [
          132.2,
          266.1,
          null
         ],
         "yaxis": "y"
        },
        {
         "line": {
          "color": "blue",
          "width": 2
         },
         "mode": "lines",
         "opacity": 0.5869951116158021,
         "type": "scatter",
         "x": [
          0,
          600,
          null
         ],
         "xaxis": "x",
         "y": [
          373.5,
          131,
          null
         ],
         "yaxis": "y"
        },
        {
         "line": {
          "color": "blue",
          "width": 2
         },
         "mode": "lines",
         "opacity": 0.5812722564264746,
         "type": "scatter",
         "x": [
          0,
          600,
          null
         ],
         "xaxis": "x",
         "y": [
          111.5,
          353.4,
          null
         ],
         "yaxis": "y"
        },
        {
         "line": {
          "color": "blue",
          "width": 2
         },
         "mode": "lines",
         "opacity": 0.5997661043330798,
         "type": "scatter",
         "x": [
          0,
          600,
          null
         ],
         "xaxis": "x",
         "y": [
          209.4,
          280.8,
          null
         ],
         "yaxis": "y"
        },
        {
         "line": {
          "color": "blue",
          "width": 2
         },
         "mode": "lines",
         "opacity": 0.3519089807438979,
         "type": "scatter",
         "x": [
          0,
          600,
          null
         ],
         "xaxis": "x",
         "y": [
          274.9,
          306.2,
          null
         ],
         "yaxis": "y"
        },
        {
         "line": {
          "color": "blue",
          "width": 2
         },
         "mode": "lines",
         "opacity": 0.4133347032532225,
         "type": "scatter",
         "x": [
          0,
          600,
          null
         ],
         "xaxis": "x",
         "y": [
          238.9,
          168.1,
          null
         ],
         "yaxis": "y"
        },
        {
         "line": {
          "color": "blue",
          "width": 2
         },
         "mode": "lines",
         "opacity": 0.5933109316528155,
         "type": "scatter",
         "x": [
          0,
          600,
          null
         ],
         "xaxis": "x",
         "y": [
          428.3,
          70.2,
          null
         ],
         "yaxis": "y"
        },
        {
         "line": {
          "color": "blue",
          "width": 2
         },
         "mode": "lines",
         "opacity": 0.5988209451549705,
         "type": "scatter",
         "x": [
          0,
          600,
          null
         ],
         "xaxis": "x",
         "y": [
          133.3,
          349.9,
          null
         ],
         "yaxis": "y"
        },
        {
         "line": {
          "color": "blue",
          "width": 2
         },
         "mode": "lines",
         "opacity": 0.43719253773614686,
         "type": "scatter",
         "x": [
          0,
          600,
          null
         ],
         "xaxis": "x",
         "y": [
          305,
          103.2,
          null
         ],
         "yaxis": "y"
        },
        {
         "line": {
          "color": "blue",
          "width": 2
         },
         "mode": "lines",
         "opacity": 0.59917710066109,
         "type": "scatter",
         "x": [
          0,
          600,
          null
         ],
         "xaxis": "x",
         "y": [
          92,
          392.9,
          null
         ],
         "yaxis": "y"
        },
        {
         "line": {
          "color": "blue",
          "width": 2
         },
         "mode": "lines",
         "opacity": 0.6,
         "type": "scatter",
         "x": [
          0,
          600,
          null
         ],
         "xaxis": "x",
         "y": [
          185.9,
          302.7,
          null
         ],
         "yaxis": "y"
        },
        {
         "line": {
          "color": "blue",
          "width": 2
         },
         "mode": "lines",
         "opacity": 0.5891105008433745,
         "type": "scatter",
         "x": [
          0,
          600,
          null
         ],
         "xaxis": "x",
         "y": [
          185.3,
          285,
          null
         ],
         "yaxis": "y"
        },
        {
         "line": {
          "color": "blue",
          "width": 2
         },
         "mode": "lines",
         "opacity": 0.5911329015756687,
         "type": "scatter",
         "x": [
          0,
          600,
          null
         ],
         "xaxis": "x",
         "y": [
          245.4,
          257.2,
          null
         ],
         "yaxis": "y"
        },
        {
         "line": {
          "color": "blue",
          "width": 2
         },
         "mode": "lines",
         "opacity": 0.5916780206248322,
         "type": "scatter",
         "x": [
          0,
          600,
          null
         ],
         "xaxis": "x",
         "y": [
          112.7,
          394.1,
          null
         ],
         "yaxis": "y"
        },
        {
         "line": {
          "color": "blue",
          "width": 2
         },
         "mode": "lines",
         "opacity": 0.5927605909211822,
         "type": "scatter",
         "x": [
          0,
          600,
          null
         ],
         "xaxis": "x",
         "y": [
          171.1,
          302.7,
          null
         ],
         "yaxis": "y"
        },
        {
         "line": {
          "color": "blue",
          "width": 2
         },
         "mode": "lines",
         "opacity": 0.13642169405982393,
         "type": "scatter",
         "x": [
          0,
          600,
          null
         ],
         "xaxis": "x",
         "y": [
          390.6,
          254.9,
          null
         ],
         "yaxis": "y"
        },
        {
         "line": {
          "color": "blue",
          "width": 2
         },
         "mode": "lines",
         "opacity": 0.5763253983788921,
         "type": "scatter",
         "x": [
          0,
          600,
          null
         ],
         "xaxis": "x",
         "y": [
          47.2,
          413.6,
          null
         ],
         "yaxis": "y"
        },
        {
         "line": {
          "color": "blue",
          "width": 2
         },
         "mode": "lines",
         "opacity": 0.5963863230560584,
         "type": "scatter",
         "x": [
          0,
          600,
          null
         ],
         "xaxis": "x",
         "y": [
          341,
          132.8,
          null
         ],
         "yaxis": "y"
        },
        {
         "line": {
          "color": "blue",
          "width": 2
         },
         "mode": "lines",
         "opacity": 0.5898093266907775,
         "type": "scatter",
         "x": [
          0,
          600,
          null
         ],
         "xaxis": "x",
         "y": [
          126.3,
          345.1,
          null
         ],
         "yaxis": "y"
        },
        {
         "line": {
          "color": "blue",
          "width": 2
         },
         "mode": "lines",
         "opacity": 0.5846113806556407,
         "type": "scatter",
         "x": [
          0,
          600,
          null
         ],
         "xaxis": "x",
         "y": [
          434.8,
          72,
          null
         ],
         "yaxis": "y"
        },
        {
         "line": {
          "color": "blue",
          "width": 2
         },
         "mode": "lines",
         "opacity": 0.4686879150824605,
         "type": "scatter",
         "x": [
          0,
          600,
          null
         ],
         "xaxis": "x",
         "y": [
          335.1,
          215.4,
          null
         ],
         "yaxis": "y"
        },
        {
         "line": {
          "color": "blue",
          "width": 2
         },
         "mode": "lines",
         "opacity": 0.593206142042781,
         "type": "scatter",
         "x": [
          0,
          600,
          null
         ],
         "xaxis": "x",
         "y": [
          276.7,
          195.3,
          null
         ],
         "yaxis": "y"
        },
        {
         "line": {
          "color": "blue",
          "width": 2
         },
         "mode": "lines",
         "opacity": 0.5996897057395593,
         "type": "scatter",
         "x": [
          0,
          600,
          null
         ],
         "xaxis": "x",
         "y": [
          189.4,
          295.6,
          null
         ],
         "yaxis": "y"
        },
        {
         "line": {
          "color": "blue",
          "width": 2
         },
         "mode": "lines",
         "opacity": 0.59895313282621,
         "type": "scatter",
         "x": [
          0,
          600,
          null
         ],
         "xaxis": "x",
         "y": [
          305,
          185.9,
          null
         ],
         "yaxis": "y"
        },
        {
         "line": {
          "color": "blue",
          "width": 2
         },
         "mode": "lines",
         "opacity": 0.4306051757978637,
         "type": "scatter",
         "x": [
          0,
          600,
          null
         ],
         "xaxis": "x",
         "y": [
          430.1,
          135.7,
          null
         ],
         "yaxis": "y"
        },
        {
         "line": {
          "color": "blue",
          "width": 2
         },
         "mode": "lines",
         "opacity": 0.5793250665632378,
         "type": "scatter",
         "x": [
          0,
          600,
          null
         ],
         "xaxis": "x",
         "y": [
          446.6,
          64.3,
          null
         ],
         "yaxis": "y"
        },
        {
         "line": {
          "color": "blue",
          "width": 2
         },
         "mode": "lines",
         "opacity": 0.020143253640123836,
         "type": "scatter",
         "x": [
          0,
          600,
          null
         ],
         "xaxis": "x",
         "y": [
          174.1,
          71.4,
          null
         ],
         "yaxis": "y"
        },
        {
         "line": {
          "color": "blue",
          "width": 2
         },
         "mode": "lines",
         "opacity": 0.10379312518892347,
         "type": "scatter",
         "x": [
          0,
          600,
          null
         ],
         "xaxis": "x",
         "y": [
          194.1,
          120.4,
          null
         ],
         "yaxis": "y"
        },
        {
         "line": {
          "color": "blue",
          "width": 2
         },
         "mode": "lines",
         "opacity": 0.5845477157105872,
         "type": "scatter",
         "x": [
          0,
          600,
          null
         ],
         "xaxis": "x",
         "y": [
          116.2,
          351,
          null
         ],
         "yaxis": "y"
        },
        {
         "line": {
          "color": "blue",
          "width": 2
         },
         "mode": "lines",
         "opacity": 0.5996240212805153,
         "type": "scatter",
         "x": [
          0,
          600,
          null
         ],
         "xaxis": "x",
         "y": [
          230.1,
          253.7,
          null
         ],
         "yaxis": "y"
        },
        {
         "line": {
          "color": "blue",
          "width": 2
         },
         "mode": "lines",
         "opacity": 0.5959165558314822,
         "type": "scatter",
         "x": [
          0,
          600,
          null
         ],
         "xaxis": "x",
         "y": [
          276.7,
          220.1,
          null
         ],
         "yaxis": "y"
        },
        {
         "line": {
          "color": "blue",
          "width": 2
         },
         "mode": "lines",
         "opacity": 0.5992286478367497,
         "type": "scatter",
         "x": [
          0,
          600,
          null
         ],
         "xaxis": "x",
         "y": [
          296.2,
          194.1,
          null
         ],
         "yaxis": "y"
        },
        {
         "line": {
          "color": "blue",
          "width": 2
         },
         "mode": "lines",
         "opacity": 0.4955654232642448,
         "type": "scatter",
         "x": [
          0,
          600,
          null
         ],
         "xaxis": "x",
         "y": [
          50.2,
          376.4,
          null
         ],
         "yaxis": "y"
        },
        {
         "line": {
          "color": "blue",
          "width": 2
         },
         "mode": "lines",
         "opacity": 0.5946833769456445,
         "type": "scatter",
         "x": [
          0,
          600,
          null
         ],
         "xaxis": "x",
         "y": [
          300.3,
          197.6,
          null
         ],
         "yaxis": "y"
        },
        {
         "line": {
          "color": "blue",
          "width": 2
         },
         "mode": "lines",
         "opacity": 0.015017377180891899,
         "type": "scatter",
         "x": [
          0,
          600,
          null
         ],
         "xaxis": "x",
         "y": [
          103.2,
          136.9,
          null
         ],
         "yaxis": "y"
        },
        {
         "line": {
          "color": "blue",
          "width": 2
         },
         "mode": "lines",
         "opacity": 0.5904770121979603,
         "type": "scatter",
         "x": [
          0,
          600,
          null
         ],
         "xaxis": "x",
         "y": [
          404.7,
          96.8,
          null
         ],
         "yaxis": "y"
        },
        {
         "line": {
          "color": "blue",
          "width": 2
         },
         "mode": "lines",
         "opacity": 0.5868590120095193,
         "type": "scatter",
         "x": [
          0,
          600,
          null
         ],
         "xaxis": "x",
         "y": [
          439.5,
          65.5,
          null
         ],
         "yaxis": "y"
        },
        {
         "line": {
          "color": "blue",
          "width": 2
         },
         "mode": "lines",
         "opacity": 0.4750513313868926,
         "type": "scatter",
         "x": [
          0,
          600,
          null
         ],
         "xaxis": "x",
         "y": [
          259,
          290.3,
          null
         ],
         "yaxis": "y"
        },
        {
         "line": {
          "color": "blue",
          "width": 2
         },
         "mode": "lines",
         "opacity": 0.3603896928265023,
         "type": "scatter",
         "x": [
          0,
          600,
          null
         ],
         "xaxis": "x",
         "y": [
          167.6,
          227.7,
          null
         ],
         "yaxis": "y"
        },
        {
         "line": {
          "color": "blue",
          "width": 2
         },
         "mode": "lines",
         "opacity": 0.5988976017421872,
         "type": "scatter",
         "x": [
          0,
          600,
          null
         ],
         "xaxis": "x",
         "y": [
          282.6,
          208.9,
          null
         ],
         "yaxis": "y"
        },
        {
         "line": {
          "color": "blue",
          "width": 2
         },
         "mode": "lines",
         "opacity": 0.1275698040545483,
         "type": "scatter",
         "x": [
          0,
          600,
          null
         ],
         "xaxis": "x",
         "y": [
          227.7,
          430.1,
          null
         ],
         "yaxis": "y"
        },
        {
         "line": {
          "color": "blue",
          "width": 2
         },
         "mode": "lines",
         "opacity": 0.08240897078573922,
         "type": "scatter",
         "x": [
          0,
          600,
          null
         ],
         "xaxis": "x",
         "y": [
          277.3,
          395.3,
          null
         ],
         "yaxis": "y"
        },
        {
         "line": {
          "color": "blue",
          "width": 2
         },
         "mode": "lines",
         "opacity": 0.594792135654164,
         "type": "scatter",
         "x": [
          0,
          600,
          null
         ],
         "xaxis": "x",
         "y": [
          165.8,
          310.3,
          null
         ],
         "yaxis": "y"
        },
        {
         "line": {
          "color": "blue",
          "width": 2
         },
         "mode": "lines",
         "opacity": 0.5956283896623173,
         "type": "scatter",
         "x": [
          0,
          600,
          null
         ],
         "xaxis": "x",
         "y": [
          154.6,
          322.7,
          null
         ],
         "yaxis": "y"
        },
        {
         "line": {
          "color": "blue",
          "width": 2
         },
         "mode": "lines",
         "opacity": 0.43208558810512826,
         "type": "scatter",
         "x": [
          0,
          600,
          null
         ],
         "xaxis": "x",
         "y": [
          76.1,
          506.2,
          null
         ],
         "yaxis": "y"
        },
        {
         "marker": {
          "color": [
           243.38995731771888
          ],
          "colorscale": [
           [
            0,
            "#000004"
           ],
           [
            0.1111111111111111,
            "#180f3d"
           ],
           [
            0.2222222222222222,
            "#440f76"
           ],
           [
            0.3333333333333333,
            "#721f81"
           ],
           [
            0.4444444444444444,
            "#9e2f7f"
           ],
           [
            0.5555555555555556,
            "#cd4071"
           ],
           [
            0.6666666666666666,
            "#f1605d"
           ],
           [
            0.7777777777777778,
            "#fd9668"
           ],
           [
            0.8888888888888888,
            "#feca8d"
           ],
           [
            1,
            "#fcfdbf"
           ]
          ],
          "opacity": 0.8,
          "size": 45.41596057401464
         },
         "mode": "markers",
         "type": "scatter",
         "x": [
          296.5412333802836
         ],
         "xaxis": "x",
         "y": [
          243.38995731771888
         ],
         "yaxis": "y"
        }
       ],
       "layout": {
        "annotations": [
         {
          "font": {
           "size": 16
          },
          "showarrow": false,
          "text": "  ",
          "x": 0.5,
          "xanchor": "center",
          "xref": "paper",
          "y": 1,
          "yanchor": "bottom",
          "yref": "paper"
         }
        ],
        "margin": {
         "b": 30,
         "l": 0,
         "r": 0,
         "t": 30
        },
        "showlegend": false,
        "template": {
         "data": {
          "bar": [
           {
            "error_x": {
             "color": "#2a3f5f"
            },
            "error_y": {
             "color": "#2a3f5f"
            },
            "marker": {
             "line": {
              "color": "#E5ECF6",
              "width": 0.5
             }
            },
            "type": "bar"
           }
          ],
          "barpolar": [
           {
            "marker": {
             "line": {
              "color": "#E5ECF6",
              "width": 0.5
             }
            },
            "type": "barpolar"
           }
          ],
          "carpet": [
           {
            "aaxis": {
             "endlinecolor": "#2a3f5f",
             "gridcolor": "white",
             "linecolor": "white",
             "minorgridcolor": "white",
             "startlinecolor": "#2a3f5f"
            },
            "baxis": {
             "endlinecolor": "#2a3f5f",
             "gridcolor": "white",
             "linecolor": "white",
             "minorgridcolor": "white",
             "startlinecolor": "#2a3f5f"
            },
            "type": "carpet"
           }
          ],
          "choropleth": [
           {
            "colorbar": {
             "outlinewidth": 0,
             "ticks": ""
            },
            "type": "choropleth"
           }
          ],
          "contour": [
           {
            "colorbar": {
             "outlinewidth": 0,
             "ticks": ""
            },
            "colorscale": [
             [
              0,
              "#0d0887"
             ],
             [
              0.1111111111111111,
              "#46039f"
             ],
             [
              0.2222222222222222,
              "#7201a8"
             ],
             [
              0.3333333333333333,
              "#9c179e"
             ],
             [
              0.4444444444444444,
              "#bd3786"
             ],
             [
              0.5555555555555556,
              "#d8576b"
             ],
             [
              0.6666666666666666,
              "#ed7953"
             ],
             [
              0.7777777777777778,
              "#fb9f3a"
             ],
             [
              0.8888888888888888,
              "#fdca26"
             ],
             [
              1,
              "#f0f921"
             ]
            ],
            "type": "contour"
           }
          ],
          "contourcarpet": [
           {
            "colorbar": {
             "outlinewidth": 0,
             "ticks": ""
            },
            "type": "contourcarpet"
           }
          ],
          "heatmap": [
           {
            "colorbar": {
             "outlinewidth": 0,
             "ticks": ""
            },
            "colorscale": [
             [
              0,
              "#0d0887"
             ],
             [
              0.1111111111111111,
              "#46039f"
             ],
             [
              0.2222222222222222,
              "#7201a8"
             ],
             [
              0.3333333333333333,
              "#9c179e"
             ],
             [
              0.4444444444444444,
              "#bd3786"
             ],
             [
              0.5555555555555556,
              "#d8576b"
             ],
             [
              0.6666666666666666,
              "#ed7953"
             ],
             [
              0.7777777777777778,
              "#fb9f3a"
             ],
             [
              0.8888888888888888,
              "#fdca26"
             ],
             [
              1,
              "#f0f921"
             ]
            ],
            "type": "heatmap"
           }
          ],
          "heatmapgl": [
           {
            "colorbar": {
             "outlinewidth": 0,
             "ticks": ""
            },
            "colorscale": [
             [
              0,
              "#0d0887"
             ],
             [
              0.1111111111111111,
              "#46039f"
             ],
             [
              0.2222222222222222,
              "#7201a8"
             ],
             [
              0.3333333333333333,
              "#9c179e"
             ],
             [
              0.4444444444444444,
              "#bd3786"
             ],
             [
              0.5555555555555556,
              "#d8576b"
             ],
             [
              0.6666666666666666,
              "#ed7953"
             ],
             [
              0.7777777777777778,
              "#fb9f3a"
             ],
             [
              0.8888888888888888,
              "#fdca26"
             ],
             [
              1,
              "#f0f921"
             ]
            ],
            "type": "heatmapgl"
           }
          ],
          "histogram": [
           {
            "marker": {
             "colorbar": {
              "outlinewidth": 0,
              "ticks": ""
             }
            },
            "type": "histogram"
           }
          ],
          "histogram2d": [
           {
            "colorbar": {
             "outlinewidth": 0,
             "ticks": ""
            },
            "colorscale": [
             [
              0,
              "#0d0887"
             ],
             [
              0.1111111111111111,
              "#46039f"
             ],
             [
              0.2222222222222222,
              "#7201a8"
             ],
             [
              0.3333333333333333,
              "#9c179e"
             ],
             [
              0.4444444444444444,
              "#bd3786"
             ],
             [
              0.5555555555555556,
              "#d8576b"
             ],
             [
              0.6666666666666666,
              "#ed7953"
             ],
             [
              0.7777777777777778,
              "#fb9f3a"
             ],
             [
              0.8888888888888888,
              "#fdca26"
             ],
             [
              1,
              "#f0f921"
             ]
            ],
            "type": "histogram2d"
           }
          ],
          "histogram2dcontour": [
           {
            "colorbar": {
             "outlinewidth": 0,
             "ticks": ""
            },
            "colorscale": [
             [
              0,
              "#0d0887"
             ],
             [
              0.1111111111111111,
              "#46039f"
             ],
             [
              0.2222222222222222,
              "#7201a8"
             ],
             [
              0.3333333333333333,
              "#9c179e"
             ],
             [
              0.4444444444444444,
              "#bd3786"
             ],
             [
              0.5555555555555556,
              "#d8576b"
             ],
             [
              0.6666666666666666,
              "#ed7953"
             ],
             [
              0.7777777777777778,
              "#fb9f3a"
             ],
             [
              0.8888888888888888,
              "#fdca26"
             ],
             [
              1,
              "#f0f921"
             ]
            ],
            "type": "histogram2dcontour"
           }
          ],
          "mesh3d": [
           {
            "colorbar": {
             "outlinewidth": 0,
             "ticks": ""
            },
            "type": "mesh3d"
           }
          ],
          "parcoords": [
           {
            "line": {
             "colorbar": {
              "outlinewidth": 0,
              "ticks": ""
             }
            },
            "type": "parcoords"
           }
          ],
          "pie": [
           {
            "automargin": true,
            "type": "pie"
           }
          ],
          "scatter": [
           {
            "marker": {
             "colorbar": {
              "outlinewidth": 0,
              "ticks": ""
             }
            },
            "type": "scatter"
           }
          ],
          "scatter3d": [
           {
            "line": {
             "colorbar": {
              "outlinewidth": 0,
              "ticks": ""
             }
            },
            "marker": {
             "colorbar": {
              "outlinewidth": 0,
              "ticks": ""
             }
            },
            "type": "scatter3d"
           }
          ],
          "scattercarpet": [
           {
            "marker": {
             "colorbar": {
              "outlinewidth": 0,
              "ticks": ""
             }
            },
            "type": "scattercarpet"
           }
          ],
          "scattergeo": [
           {
            "marker": {
             "colorbar": {
              "outlinewidth": 0,
              "ticks": ""
             }
            },
            "type": "scattergeo"
           }
          ],
          "scattergl": [
           {
            "marker": {
             "colorbar": {
              "outlinewidth": 0,
              "ticks": ""
             }
            },
            "type": "scattergl"
           }
          ],
          "scattermapbox": [
           {
            "marker": {
             "colorbar": {
              "outlinewidth": 0,
              "ticks": ""
             }
            },
            "type": "scattermapbox"
           }
          ],
          "scatterpolar": [
           {
            "marker": {
             "colorbar": {
              "outlinewidth": 0,
              "ticks": ""
             }
            },
            "type": "scatterpolar"
           }
          ],
          "scatterpolargl": [
           {
            "marker": {
             "colorbar": {
              "outlinewidth": 0,
              "ticks": ""
             }
            },
            "type": "scatterpolargl"
           }
          ],
          "scatterternary": [
           {
            "marker": {
             "colorbar": {
              "outlinewidth": 0,
              "ticks": ""
             }
            },
            "type": "scatterternary"
           }
          ],
          "surface": [
           {
            "colorbar": {
             "outlinewidth": 0,
             "ticks": ""
            },
            "colorscale": [
             [
              0,
              "#0d0887"
             ],
             [
              0.1111111111111111,
              "#46039f"
             ],
             [
              0.2222222222222222,
              "#7201a8"
             ],
             [
              0.3333333333333333,
              "#9c179e"
             ],
             [
              0.4444444444444444,
              "#bd3786"
             ],
             [
              0.5555555555555556,
              "#d8576b"
             ],
             [
              0.6666666666666666,
              "#ed7953"
             ],
             [
              0.7777777777777778,
              "#fb9f3a"
             ],
             [
              0.8888888888888888,
              "#fdca26"
             ],
             [
              1,
              "#f0f921"
             ]
            ],
            "type": "surface"
           }
          ],
          "table": [
           {
            "cells": {
             "fill": {
              "color": "#EBF0F8"
             },
             "line": {
              "color": "white"
             }
            },
            "header": {
             "fill": {
              "color": "#C8D4E3"
             },
             "line": {
              "color": "white"
             }
            },
            "type": "table"
           }
          ]
         },
         "layout": {
          "annotationdefaults": {
           "arrowcolor": "#2a3f5f",
           "arrowhead": 0,
           "arrowwidth": 1
          },
          "autotypenumbers": "strict",
          "coloraxis": {
           "colorbar": {
            "outlinewidth": 0,
            "ticks": ""
           }
          },
          "colorscale": {
           "diverging": [
            [
             0,
             "#8e0152"
            ],
            [
             0.1,
             "#c51b7d"
            ],
            [
             0.2,
             "#de77ae"
            ],
            [
             0.3,
             "#f1b6da"
            ],
            [
             0.4,
             "#fde0ef"
            ],
            [
             0.5,
             "#f7f7f7"
            ],
            [
             0.6,
             "#e6f5d0"
            ],
            [
             0.7,
             "#b8e186"
            ],
            [
             0.8,
             "#7fbc41"
            ],
            [
             0.9,
             "#4d9221"
            ],
            [
             1,
             "#276419"
            ]
           ],
           "sequential": [
            [
             0,
             "#0d0887"
            ],
            [
             0.1111111111111111,
             "#46039f"
            ],
            [
             0.2222222222222222,
             "#7201a8"
            ],
            [
             0.3333333333333333,
             "#9c179e"
            ],
            [
             0.4444444444444444,
             "#bd3786"
            ],
            [
             0.5555555555555556,
             "#d8576b"
            ],
            [
             0.6666666666666666,
             "#ed7953"
            ],
            [
             0.7777777777777778,
             "#fb9f3a"
            ],
            [
             0.8888888888888888,
             "#fdca26"
            ],
            [
             1,
             "#f0f921"
            ]
           ],
           "sequentialminus": [
            [
             0,
             "#0d0887"
            ],
            [
             0.1111111111111111,
             "#46039f"
            ],
            [
             0.2222222222222222,
             "#7201a8"
            ],
            [
             0.3333333333333333,
             "#9c179e"
            ],
            [
             0.4444444444444444,
             "#bd3786"
            ],
            [
             0.5555555555555556,
             "#d8576b"
            ],
            [
             0.6666666666666666,
             "#ed7953"
            ],
            [
             0.7777777777777778,
             "#fb9f3a"
            ],
            [
             0.8888888888888888,
             "#fdca26"
            ],
            [
             1,
             "#f0f921"
            ]
           ]
          },
          "colorway": [
           "#636efa",
           "#EF553B",
           "#00cc96",
           "#ab63fa",
           "#FFA15A",
           "#19d3f3",
           "#FF6692",
           "#B6E880",
           "#FF97FF",
           "#FECB52"
          ],
          "font": {
           "color": "#2a3f5f"
          },
          "geo": {
           "bgcolor": "white",
           "lakecolor": "white",
           "landcolor": "#E5ECF6",
           "showlakes": true,
           "showland": true,
           "subunitcolor": "white"
          },
          "hoverlabel": {
           "align": "left"
          },
          "hovermode": "closest",
          "mapbox": {
           "style": "light"
          },
          "paper_bgcolor": "white",
          "plot_bgcolor": "#E5ECF6",
          "polar": {
           "angularaxis": {
            "gridcolor": "white",
            "linecolor": "white",
            "ticks": ""
           },
           "bgcolor": "#E5ECF6",
           "radialaxis": {
            "gridcolor": "white",
            "linecolor": "white",
            "ticks": ""
           }
          },
          "scene": {
           "xaxis": {
            "backgroundcolor": "#E5ECF6",
            "gridcolor": "white",
            "gridwidth": 2,
            "linecolor": "white",
            "showbackground": true,
            "ticks": "",
            "zerolinecolor": "white"
           },
           "yaxis": {
            "backgroundcolor": "#E5ECF6",
            "gridcolor": "white",
            "gridwidth": 2,
            "linecolor": "white",
            "showbackground": true,
            "ticks": "",
            "zerolinecolor": "white"
           },
           "zaxis": {
            "backgroundcolor": "#E5ECF6",
            "gridcolor": "white",
            "gridwidth": 2,
            "linecolor": "white",
            "showbackground": true,
            "ticks": "",
            "zerolinecolor": "white"
           }
          },
          "shapedefaults": {
           "line": {
            "color": "#2a3f5f"
           }
          },
          "ternary": {
           "aaxis": {
            "gridcolor": "white",
            "linecolor": "white",
            "ticks": ""
           },
           "baxis": {
            "gridcolor": "white",
            "linecolor": "white",
            "ticks": ""
           },
           "bgcolor": "#E5ECF6",
           "caxis": {
            "gridcolor": "white",
            "linecolor": "white",
            "ticks": ""
           }
          },
          "title": {
           "x": 0.05
          },
          "xaxis": {
           "automargin": true,
           "gridcolor": "white",
           "linecolor": "white",
           "ticks": "",
           "title": {
            "standoff": 15
           },
           "zerolinecolor": "white",
           "zerolinewidth": 2
          },
          "yaxis": {
           "automargin": true,
           "gridcolor": "white",
           "linecolor": "white",
           "ticks": "",
           "title": {
            "standoff": 15
           },
           "zerolinecolor": "white",
           "zerolinewidth": 2
          }
         }
        },
        "xaxis": {
         "anchor": "y",
         "domain": [
          0,
          1
         ],
         "range": [
          0,
          600
         ],
         "title": {
          "text": "<i>x</i> (mm)"
         }
        },
        "yaxis": {
         "anchor": "x",
         "domain": [
          0,
          1
         ],
         "scaleanchor": "x",
         "scaleratio": 1,
         "title": {
          "text": "<i>y</i> (mm)"
         }
        }
       }
      },
      "text/html": [
       "<div>                            <div id=\"b7e4c422-79aa-4437-8031-080b07dd4e8e\" class=\"plotly-graph-div\" style=\"height:525px; width:100%;\"></div>            <script type=\"text/javascript\">                require([\"plotly\"], function(Plotly) {                    window.PLOTLYENV=window.PLOTLYENV || {};                                    if (document.getElementById(\"b7e4c422-79aa-4437-8031-080b07dd4e8e\")) {                    Plotly.newPlot(                        \"b7e4c422-79aa-4437-8031-080b07dd4e8e\",                        [{\"line\": {\"color\": \"blue\", \"width\": 2.0}, \"mode\": \"lines\", \"opacity\": 0.09414425827101212, \"type\": \"scatter\", \"x\": [0.0, 600.0, null], \"xaxis\": \"x\", \"y\": [168.7, 142.8, null], \"yaxis\": \"y\"}, {\"line\": {\"color\": \"blue\", \"width\": 2.0}, \"mode\": \"lines\", \"opacity\": 0.5983443969528683, \"type\": \"scatter\", \"x\": [0.0, 600.0, null], \"xaxis\": \"x\", \"y\": [167.6, 313.9, null], \"yaxis\": \"y\"}, {\"line\": {\"color\": \"blue\", \"width\": 2.0}, \"mode\": \"lines\", \"opacity\": 0.12958504064155602, \"type\": \"scatter\", \"x\": [0.0, 600.0, null], \"xaxis\": \"x\", \"y\": [410.0, 240.1, null], \"yaxis\": \"y\"}, {\"line\": {\"color\": \"blue\", \"width\": 2.0}, \"mode\": \"lines\", \"opacity\": 0.012897652533165467, \"type\": \"scatter\", \"x\": [0.0, 600.0, null], \"xaxis\": \"x\", \"y\": [296.2, 452.5, null], \"yaxis\": \"y\"}, {\"line\": {\"color\": \"blue\", \"width\": 2.0}, \"mode\": \"lines\", \"opacity\": 0.5862803843572928, \"type\": \"scatter\", \"x\": [0.0, 600.0, null], \"xaxis\": \"x\", \"y\": [115.1, 353.4, null], \"yaxis\": \"y\"}, {\"line\": {\"color\": \"blue\", \"width\": 2.0}, \"mode\": \"lines\", \"opacity\": 0.37581667501038, \"type\": \"scatter\", \"x\": [0.0, 600.0, null], \"xaxis\": \"x\", \"y\": [132.2, 266.1, null], \"yaxis\": \"y\"}, {\"line\": {\"color\": \"blue\", \"width\": 2.0}, \"mode\": \"lines\", \"opacity\": 0.5869951116158021, \"type\": \"scatter\", \"x\": [0.0, 600.0, null], \"xaxis\": \"x\", \"y\": [373.5, 131.0, null], \"yaxis\": \"y\"}, {\"line\": {\"color\": \"blue\", \"width\": 2.0}, \"mode\": \"lines\", \"opacity\": 0.5812722564264746, \"type\": \"scatter\", \"x\": [0.0, 600.0, null], \"xaxis\": \"x\", \"y\": [111.5, 353.4, null], \"yaxis\": \"y\"}, {\"line\": {\"color\": \"blue\", \"width\": 2.0}, \"mode\": \"lines\", \"opacity\": 0.5997661043330798, \"type\": \"scatter\", \"x\": [0.0, 600.0, null], \"xaxis\": \"x\", \"y\": [209.4, 280.8, null], \"yaxis\": \"y\"}, {\"line\": {\"color\": \"blue\", \"width\": 2.0}, \"mode\": \"lines\", \"opacity\": 0.3519089807438979, \"type\": \"scatter\", \"x\": [0.0, 600.0, null], \"xaxis\": \"x\", \"y\": [274.9, 306.2, null], \"yaxis\": \"y\"}, {\"line\": {\"color\": \"blue\", \"width\": 2.0}, \"mode\": \"lines\", \"opacity\": 0.4133347032532225, \"type\": \"scatter\", \"x\": [0.0, 600.0, null], \"xaxis\": \"x\", \"y\": [238.9, 168.1, null], \"yaxis\": \"y\"}, {\"line\": {\"color\": \"blue\", \"width\": 2.0}, \"mode\": \"lines\", \"opacity\": 0.5933109316528155, \"type\": \"scatter\", \"x\": [0.0, 600.0, null], \"xaxis\": \"x\", \"y\": [428.3, 70.2, null], \"yaxis\": \"y\"}, {\"line\": {\"color\": \"blue\", \"width\": 2.0}, \"mode\": \"lines\", \"opacity\": 0.5988209451549705, \"type\": \"scatter\", \"x\": [0.0, 600.0, null], \"xaxis\": \"x\", \"y\": [133.3, 349.9, null], \"yaxis\": \"y\"}, {\"line\": {\"color\": \"blue\", \"width\": 2.0}, \"mode\": \"lines\", \"opacity\": 0.43719253773614686, \"type\": \"scatter\", \"x\": [0.0, 600.0, null], \"xaxis\": \"x\", \"y\": [305.0, 103.2, null], \"yaxis\": \"y\"}, {\"line\": {\"color\": \"blue\", \"width\": 2.0}, \"mode\": \"lines\", \"opacity\": 0.59917710066109, \"type\": \"scatter\", \"x\": [0.0, 600.0, null], \"xaxis\": \"x\", \"y\": [92.0, 392.9, null], \"yaxis\": \"y\"}, {\"line\": {\"color\": \"blue\", \"width\": 2.0}, \"mode\": \"lines\", \"opacity\": 0.6, \"type\": \"scatter\", \"x\": [0.0, 600.0, null], \"xaxis\": \"x\", \"y\": [185.9, 302.7, null], \"yaxis\": \"y\"}, {\"line\": {\"color\": \"blue\", \"width\": 2.0}, \"mode\": \"lines\", \"opacity\": 0.5891105008433745, \"type\": \"scatter\", \"x\": [0.0, 600.0, null], \"xaxis\": \"x\", \"y\": [185.3, 285.0, null], \"yaxis\": \"y\"}, {\"line\": {\"color\": \"blue\", \"width\": 2.0}, \"mode\": \"lines\", \"opacity\": 0.5911329015756687, \"type\": \"scatter\", \"x\": [0.0, 600.0, null], \"xaxis\": \"x\", \"y\": [245.4, 257.2, null], \"yaxis\": \"y\"}, {\"line\": {\"color\": \"blue\", \"width\": 2.0}, \"mode\": \"lines\", \"opacity\": 0.5916780206248322, \"type\": \"scatter\", \"x\": [0.0, 600.0, null], \"xaxis\": \"x\", \"y\": [112.7, 394.1, null], \"yaxis\": \"y\"}, {\"line\": {\"color\": \"blue\", \"width\": 2.0}, \"mode\": \"lines\", \"opacity\": 0.5927605909211822, \"type\": \"scatter\", \"x\": [0.0, 600.0, null], \"xaxis\": \"x\", \"y\": [171.1, 302.7, null], \"yaxis\": \"y\"}, {\"line\": {\"color\": \"blue\", \"width\": 2.0}, \"mode\": \"lines\", \"opacity\": 0.13642169405982393, \"type\": \"scatter\", \"x\": [0.0, 600.0, null], \"xaxis\": \"x\", \"y\": [390.6, 254.9, null], \"yaxis\": \"y\"}, {\"line\": {\"color\": \"blue\", \"width\": 2.0}, \"mode\": \"lines\", \"opacity\": 0.5763253983788921, \"type\": \"scatter\", \"x\": [0.0, 600.0, null], \"xaxis\": \"x\", \"y\": [47.2, 413.6, null], \"yaxis\": \"y\"}, {\"line\": {\"color\": \"blue\", \"width\": 2.0}, \"mode\": \"lines\", \"opacity\": 0.5963863230560584, \"type\": \"scatter\", \"x\": [0.0, 600.0, null], \"xaxis\": \"x\", \"y\": [341.0, 132.8, null], \"yaxis\": \"y\"}, {\"line\": {\"color\": \"blue\", \"width\": 2.0}, \"mode\": \"lines\", \"opacity\": 0.5898093266907775, \"type\": \"scatter\", \"x\": [0.0, 600.0, null], \"xaxis\": \"x\", \"y\": [126.3, 345.1, null], \"yaxis\": \"y\"}, {\"line\": {\"color\": \"blue\", \"width\": 2.0}, \"mode\": \"lines\", \"opacity\": 0.5846113806556407, \"type\": \"scatter\", \"x\": [0.0, 600.0, null], \"xaxis\": \"x\", \"y\": [434.8, 72.0, null], \"yaxis\": \"y\"}, {\"line\": {\"color\": \"blue\", \"width\": 2.0}, \"mode\": \"lines\", \"opacity\": 0.4686879150824605, \"type\": \"scatter\", \"x\": [0.0, 600.0, null], \"xaxis\": \"x\", \"y\": [335.1, 215.4, null], \"yaxis\": \"y\"}, {\"line\": {\"color\": \"blue\", \"width\": 2.0}, \"mode\": \"lines\", \"opacity\": 0.593206142042781, \"type\": \"scatter\", \"x\": [0.0, 600.0, null], \"xaxis\": \"x\", \"y\": [276.7, 195.3, null], \"yaxis\": \"y\"}, {\"line\": {\"color\": \"blue\", \"width\": 2.0}, \"mode\": \"lines\", \"opacity\": 0.5996897057395593, \"type\": \"scatter\", \"x\": [0.0, 600.0, null], \"xaxis\": \"x\", \"y\": [189.4, 295.6, null], \"yaxis\": \"y\"}, {\"line\": {\"color\": \"blue\", \"width\": 2.0}, \"mode\": \"lines\", \"opacity\": 0.59895313282621, \"type\": \"scatter\", \"x\": [0.0, 600.0, null], \"xaxis\": \"x\", \"y\": [305.0, 185.9, null], \"yaxis\": \"y\"}, {\"line\": {\"color\": \"blue\", \"width\": 2.0}, \"mode\": \"lines\", \"opacity\": 0.4306051757978637, \"type\": \"scatter\", \"x\": [0.0, 600.0, null], \"xaxis\": \"x\", \"y\": [430.1, 135.7, null], \"yaxis\": \"y\"}, {\"line\": {\"color\": \"blue\", \"width\": 2.0}, \"mode\": \"lines\", \"opacity\": 0.5793250665632378, \"type\": \"scatter\", \"x\": [0.0, 600.0, null], \"xaxis\": \"x\", \"y\": [446.6, 64.3, null], \"yaxis\": \"y\"}, {\"line\": {\"color\": \"blue\", \"width\": 2.0}, \"mode\": \"lines\", \"opacity\": 0.020143253640123836, \"type\": \"scatter\", \"x\": [0.0, 600.0, null], \"xaxis\": \"x\", \"y\": [174.1, 71.4, null], \"yaxis\": \"y\"}, {\"line\": {\"color\": \"blue\", \"width\": 2.0}, \"mode\": \"lines\", \"opacity\": 0.10379312518892347, \"type\": \"scatter\", \"x\": [0.0, 600.0, null], \"xaxis\": \"x\", \"y\": [194.1, 120.4, null], \"yaxis\": \"y\"}, {\"line\": {\"color\": \"blue\", \"width\": 2.0}, \"mode\": \"lines\", \"opacity\": 0.5845477157105872, \"type\": \"scatter\", \"x\": [0.0, 600.0, null], \"xaxis\": \"x\", \"y\": [116.2, 351.0, null], \"yaxis\": \"y\"}, {\"line\": {\"color\": \"blue\", \"width\": 2.0}, \"mode\": \"lines\", \"opacity\": 0.5996240212805153, \"type\": \"scatter\", \"x\": [0.0, 600.0, null], \"xaxis\": \"x\", \"y\": [230.1, 253.7, null], \"yaxis\": \"y\"}, {\"line\": {\"color\": \"blue\", \"width\": 2.0}, \"mode\": \"lines\", \"opacity\": 0.5959165558314822, \"type\": \"scatter\", \"x\": [0.0, 600.0, null], \"xaxis\": \"x\", \"y\": [276.7, 220.1, null], \"yaxis\": \"y\"}, {\"line\": {\"color\": \"blue\", \"width\": 2.0}, \"mode\": \"lines\", \"opacity\": 0.5992286478367497, \"type\": \"scatter\", \"x\": [0.0, 600.0, null], \"xaxis\": \"x\", \"y\": [296.2, 194.1, null], \"yaxis\": \"y\"}, {\"line\": {\"color\": \"blue\", \"width\": 2.0}, \"mode\": \"lines\", \"opacity\": 0.4955654232642448, \"type\": \"scatter\", \"x\": [0.0, 600.0, null], \"xaxis\": \"x\", \"y\": [50.2, 376.4, null], \"yaxis\": \"y\"}, {\"line\": {\"color\": \"blue\", \"width\": 2.0}, \"mode\": \"lines\", \"opacity\": 0.5946833769456445, \"type\": \"scatter\", \"x\": [0.0, 600.0, null], \"xaxis\": \"x\", \"y\": [300.3, 197.6, null], \"yaxis\": \"y\"}, {\"line\": {\"color\": \"blue\", \"width\": 2.0}, \"mode\": \"lines\", \"opacity\": 0.015017377180891899, \"type\": \"scatter\", \"x\": [0.0, 600.0, null], \"xaxis\": \"x\", \"y\": [103.2, 136.9, null], \"yaxis\": \"y\"}, {\"line\": {\"color\": \"blue\", \"width\": 2.0}, \"mode\": \"lines\", \"opacity\": 0.5904770121979603, \"type\": \"scatter\", \"x\": [0.0, 600.0, null], \"xaxis\": \"x\", \"y\": [404.7, 96.8, null], \"yaxis\": \"y\"}, {\"line\": {\"color\": \"blue\", \"width\": 2.0}, \"mode\": \"lines\", \"opacity\": 0.5868590120095193, \"type\": \"scatter\", \"x\": [0.0, 600.0, null], \"xaxis\": \"x\", \"y\": [439.5, 65.5, null], \"yaxis\": \"y\"}, {\"line\": {\"color\": \"blue\", \"width\": 2.0}, \"mode\": \"lines\", \"opacity\": 0.4750513313868926, \"type\": \"scatter\", \"x\": [0.0, 600.0, null], \"xaxis\": \"x\", \"y\": [259.0, 290.3, null], \"yaxis\": \"y\"}, {\"line\": {\"color\": \"blue\", \"width\": 2.0}, \"mode\": \"lines\", \"opacity\": 0.3603896928265023, \"type\": \"scatter\", \"x\": [0.0, 600.0, null], \"xaxis\": \"x\", \"y\": [167.6, 227.7, null], \"yaxis\": \"y\"}, {\"line\": {\"color\": \"blue\", \"width\": 2.0}, \"mode\": \"lines\", \"opacity\": 0.5988976017421872, \"type\": \"scatter\", \"x\": [0.0, 600.0, null], \"xaxis\": \"x\", \"y\": [282.6, 208.9, null], \"yaxis\": \"y\"}, {\"line\": {\"color\": \"blue\", \"width\": 2.0}, \"mode\": \"lines\", \"opacity\": 0.1275698040545483, \"type\": \"scatter\", \"x\": [0.0, 600.0, null], \"xaxis\": \"x\", \"y\": [227.7, 430.1, null], \"yaxis\": \"y\"}, {\"line\": {\"color\": \"blue\", \"width\": 2.0}, \"mode\": \"lines\", \"opacity\": 0.08240897078573922, \"type\": \"scatter\", \"x\": [0.0, 600.0, null], \"xaxis\": \"x\", \"y\": [277.3, 395.3, null], \"yaxis\": \"y\"}, {\"line\": {\"color\": \"blue\", \"width\": 2.0}, \"mode\": \"lines\", \"opacity\": 0.594792135654164, \"type\": \"scatter\", \"x\": [0.0, 600.0, null], \"xaxis\": \"x\", \"y\": [165.8, 310.3, null], \"yaxis\": \"y\"}, {\"line\": {\"color\": \"blue\", \"width\": 2.0}, \"mode\": \"lines\", \"opacity\": 0.5956283896623173, \"type\": \"scatter\", \"x\": [0.0, 600.0, null], \"xaxis\": \"x\", \"y\": [154.6, 322.7, null], \"yaxis\": \"y\"}, {\"line\": {\"color\": \"blue\", \"width\": 2.0}, \"mode\": \"lines\", \"opacity\": 0.43208558810512826, \"type\": \"scatter\", \"x\": [0.0, 600.0, null], \"xaxis\": \"x\", \"y\": [76.1, 506.2, null], \"yaxis\": \"y\"}, {\"marker\": {\"color\": [243.38995731771888], \"colorscale\": [[0.0, \"#000004\"], [0.1111111111111111, \"#180f3d\"], [0.2222222222222222, \"#440f76\"], [0.3333333333333333, \"#721f81\"], [0.4444444444444444, \"#9e2f7f\"], [0.5555555555555556, \"#cd4071\"], [0.6666666666666666, \"#f1605d\"], [0.7777777777777778, \"#fd9668\"], [0.8888888888888888, \"#feca8d\"], [1.0, \"#fcfdbf\"]], \"opacity\": 0.8, \"size\": 45.41596057401464}, \"mode\": \"markers\", \"type\": \"scatter\", \"x\": [296.5412333802836], \"xaxis\": \"x\", \"y\": [243.38995731771888], \"yaxis\": \"y\"}],                        {\"annotations\": [{\"font\": {\"size\": 16}, \"showarrow\": false, \"text\": \"  \", \"x\": 0.5, \"xanchor\": \"center\", \"xref\": \"paper\", \"y\": 1.0, \"yanchor\": \"bottom\", \"yref\": \"paper\"}], \"margin\": {\"b\": 30, \"l\": 0, \"r\": 0, \"t\": 30}, \"showlegend\": false, \"template\": {\"data\": {\"bar\": [{\"error_x\": {\"color\": \"#2a3f5f\"}, \"error_y\": {\"color\": \"#2a3f5f\"}, \"marker\": {\"line\": {\"color\": \"#E5ECF6\", \"width\": 0.5}}, \"type\": \"bar\"}], \"barpolar\": [{\"marker\": {\"line\": {\"color\": \"#E5ECF6\", \"width\": 0.5}}, \"type\": \"barpolar\"}], \"carpet\": [{\"aaxis\": {\"endlinecolor\": \"#2a3f5f\", \"gridcolor\": \"white\", \"linecolor\": \"white\", \"minorgridcolor\": \"white\", \"startlinecolor\": \"#2a3f5f\"}, \"baxis\": {\"endlinecolor\": \"#2a3f5f\", \"gridcolor\": \"white\", \"linecolor\": \"white\", \"minorgridcolor\": \"white\", \"startlinecolor\": \"#2a3f5f\"}, \"type\": \"carpet\"}], \"choropleth\": [{\"colorbar\": {\"outlinewidth\": 0, \"ticks\": \"\"}, \"type\": \"choropleth\"}], \"contour\": [{\"colorbar\": {\"outlinewidth\": 0, \"ticks\": \"\"}, \"colorscale\": [[0.0, \"#0d0887\"], [0.1111111111111111, \"#46039f\"], [0.2222222222222222, \"#7201a8\"], [0.3333333333333333, \"#9c179e\"], [0.4444444444444444, \"#bd3786\"], [0.5555555555555556, \"#d8576b\"], [0.6666666666666666, \"#ed7953\"], [0.7777777777777778, \"#fb9f3a\"], [0.8888888888888888, \"#fdca26\"], [1.0, \"#f0f921\"]], \"type\": \"contour\"}], \"contourcarpet\": [{\"colorbar\": {\"outlinewidth\": 0, \"ticks\": \"\"}, \"type\": \"contourcarpet\"}], \"heatmap\": [{\"colorbar\": {\"outlinewidth\": 0, \"ticks\": \"\"}, \"colorscale\": [[0.0, \"#0d0887\"], [0.1111111111111111, \"#46039f\"], [0.2222222222222222, \"#7201a8\"], [0.3333333333333333, \"#9c179e\"], [0.4444444444444444, \"#bd3786\"], [0.5555555555555556, \"#d8576b\"], [0.6666666666666666, \"#ed7953\"], [0.7777777777777778, \"#fb9f3a\"], [0.8888888888888888, \"#fdca26\"], [1.0, \"#f0f921\"]], \"type\": \"heatmap\"}], \"heatmapgl\": [{\"colorbar\": {\"outlinewidth\": 0, \"ticks\": \"\"}, \"colorscale\": [[0.0, \"#0d0887\"], [0.1111111111111111, \"#46039f\"], [0.2222222222222222, \"#7201a8\"], [0.3333333333333333, \"#9c179e\"], [0.4444444444444444, \"#bd3786\"], [0.5555555555555556, \"#d8576b\"], [0.6666666666666666, \"#ed7953\"], [0.7777777777777778, \"#fb9f3a\"], [0.8888888888888888, \"#fdca26\"], [1.0, \"#f0f921\"]], \"type\": \"heatmapgl\"}], \"histogram\": [{\"marker\": {\"colorbar\": {\"outlinewidth\": 0, \"ticks\": \"\"}}, \"type\": \"histogram\"}], \"histogram2d\": [{\"colorbar\": {\"outlinewidth\": 0, \"ticks\": \"\"}, \"colorscale\": [[0.0, \"#0d0887\"], [0.1111111111111111, \"#46039f\"], [0.2222222222222222, \"#7201a8\"], [0.3333333333333333, \"#9c179e\"], [0.4444444444444444, \"#bd3786\"], [0.5555555555555556, \"#d8576b\"], [0.6666666666666666, \"#ed7953\"], [0.7777777777777778, \"#fb9f3a\"], [0.8888888888888888, \"#fdca26\"], [1.0, \"#f0f921\"]], \"type\": \"histogram2d\"}], \"histogram2dcontour\": [{\"colorbar\": {\"outlinewidth\": 0, \"ticks\": \"\"}, \"colorscale\": [[0.0, \"#0d0887\"], [0.1111111111111111, \"#46039f\"], [0.2222222222222222, \"#7201a8\"], [0.3333333333333333, \"#9c179e\"], [0.4444444444444444, \"#bd3786\"], [0.5555555555555556, \"#d8576b\"], [0.6666666666666666, \"#ed7953\"], [0.7777777777777778, \"#fb9f3a\"], [0.8888888888888888, \"#fdca26\"], [1.0, \"#f0f921\"]], \"type\": \"histogram2dcontour\"}], \"mesh3d\": [{\"colorbar\": {\"outlinewidth\": 0, \"ticks\": \"\"}, \"type\": \"mesh3d\"}], \"parcoords\": [{\"line\": {\"colorbar\": {\"outlinewidth\": 0, \"ticks\": \"\"}}, \"type\": \"parcoords\"}], \"pie\": [{\"automargin\": true, \"type\": \"pie\"}], \"scatter\": [{\"marker\": {\"colorbar\": {\"outlinewidth\": 0, \"ticks\": \"\"}}, \"type\": \"scatter\"}], \"scatter3d\": [{\"line\": {\"colorbar\": {\"outlinewidth\": 0, \"ticks\": \"\"}}, \"marker\": {\"colorbar\": {\"outlinewidth\": 0, \"ticks\": \"\"}}, \"type\": \"scatter3d\"}], \"scattercarpet\": [{\"marker\": {\"colorbar\": {\"outlinewidth\": 0, \"ticks\": \"\"}}, \"type\": \"scattercarpet\"}], \"scattergeo\": [{\"marker\": {\"colorbar\": {\"outlinewidth\": 0, \"ticks\": \"\"}}, \"type\": \"scattergeo\"}], \"scattergl\": [{\"marker\": {\"colorbar\": {\"outlinewidth\": 0, \"ticks\": \"\"}}, \"type\": \"scattergl\"}], \"scattermapbox\": [{\"marker\": {\"colorbar\": {\"outlinewidth\": 0, \"ticks\": \"\"}}, \"type\": \"scattermapbox\"}], \"scatterpolar\": [{\"marker\": {\"colorbar\": {\"outlinewidth\": 0, \"ticks\": \"\"}}, \"type\": \"scatterpolar\"}], \"scatterpolargl\": [{\"marker\": {\"colorbar\": {\"outlinewidth\": 0, \"ticks\": \"\"}}, \"type\": \"scatterpolargl\"}], \"scatterternary\": [{\"marker\": {\"colorbar\": {\"outlinewidth\": 0, \"ticks\": \"\"}}, \"type\": \"scatterternary\"}], \"surface\": [{\"colorbar\": {\"outlinewidth\": 0, \"ticks\": \"\"}, \"colorscale\": [[0.0, \"#0d0887\"], [0.1111111111111111, \"#46039f\"], [0.2222222222222222, \"#7201a8\"], [0.3333333333333333, \"#9c179e\"], [0.4444444444444444, \"#bd3786\"], [0.5555555555555556, \"#d8576b\"], [0.6666666666666666, \"#ed7953\"], [0.7777777777777778, \"#fb9f3a\"], [0.8888888888888888, \"#fdca26\"], [1.0, \"#f0f921\"]], \"type\": \"surface\"}], \"table\": [{\"cells\": {\"fill\": {\"color\": \"#EBF0F8\"}, \"line\": {\"color\": \"white\"}}, \"header\": {\"fill\": {\"color\": \"#C8D4E3\"}, \"line\": {\"color\": \"white\"}}, \"type\": \"table\"}]}, \"layout\": {\"annotationdefaults\": {\"arrowcolor\": \"#2a3f5f\", \"arrowhead\": 0, \"arrowwidth\": 1}, \"autotypenumbers\": \"strict\", \"coloraxis\": {\"colorbar\": {\"outlinewidth\": 0, \"ticks\": \"\"}}, \"colorscale\": {\"diverging\": [[0, \"#8e0152\"], [0.1, \"#c51b7d\"], [0.2, \"#de77ae\"], [0.3, \"#f1b6da\"], [0.4, \"#fde0ef\"], [0.5, \"#f7f7f7\"], [0.6, \"#e6f5d0\"], [0.7, \"#b8e186\"], [0.8, \"#7fbc41\"], [0.9, \"#4d9221\"], [1, \"#276419\"]], \"sequential\": [[0.0, \"#0d0887\"], [0.1111111111111111, \"#46039f\"], [0.2222222222222222, \"#7201a8\"], [0.3333333333333333, \"#9c179e\"], [0.4444444444444444, \"#bd3786\"], [0.5555555555555556, \"#d8576b\"], [0.6666666666666666, \"#ed7953\"], [0.7777777777777778, \"#fb9f3a\"], [0.8888888888888888, \"#fdca26\"], [1.0, \"#f0f921\"]], \"sequentialminus\": [[0.0, \"#0d0887\"], [0.1111111111111111, \"#46039f\"], [0.2222222222222222, \"#7201a8\"], [0.3333333333333333, \"#9c179e\"], [0.4444444444444444, \"#bd3786\"], [0.5555555555555556, \"#d8576b\"], [0.6666666666666666, \"#ed7953\"], [0.7777777777777778, \"#fb9f3a\"], [0.8888888888888888, \"#fdca26\"], [1.0, \"#f0f921\"]]}, \"colorway\": [\"#636efa\", \"#EF553B\", \"#00cc96\", \"#ab63fa\", \"#FFA15A\", \"#19d3f3\", \"#FF6692\", \"#B6E880\", \"#FF97FF\", \"#FECB52\"], \"font\": {\"color\": \"#2a3f5f\"}, \"geo\": {\"bgcolor\": \"white\", \"lakecolor\": \"white\", \"landcolor\": \"#E5ECF6\", \"showlakes\": true, \"showland\": true, \"subunitcolor\": \"white\"}, \"hoverlabel\": {\"align\": \"left\"}, \"hovermode\": \"closest\", \"mapbox\": {\"style\": \"light\"}, \"paper_bgcolor\": \"white\", \"plot_bgcolor\": \"#E5ECF6\", \"polar\": {\"angularaxis\": {\"gridcolor\": \"white\", \"linecolor\": \"white\", \"ticks\": \"\"}, \"bgcolor\": \"#E5ECF6\", \"radialaxis\": {\"gridcolor\": \"white\", \"linecolor\": \"white\", \"ticks\": \"\"}}, \"scene\": {\"xaxis\": {\"backgroundcolor\": \"#E5ECF6\", \"gridcolor\": \"white\", \"gridwidth\": 2, \"linecolor\": \"white\", \"showbackground\": true, \"ticks\": \"\", \"zerolinecolor\": \"white\"}, \"yaxis\": {\"backgroundcolor\": \"#E5ECF6\", \"gridcolor\": \"white\", \"gridwidth\": 2, \"linecolor\": \"white\", \"showbackground\": true, \"ticks\": \"\", \"zerolinecolor\": \"white\"}, \"zaxis\": {\"backgroundcolor\": \"#E5ECF6\", \"gridcolor\": \"white\", \"gridwidth\": 2, \"linecolor\": \"white\", \"showbackground\": true, \"ticks\": \"\", \"zerolinecolor\": \"white\"}}, \"shapedefaults\": {\"line\": {\"color\": \"#2a3f5f\"}}, \"ternary\": {\"aaxis\": {\"gridcolor\": \"white\", \"linecolor\": \"white\", \"ticks\": \"\"}, \"baxis\": {\"gridcolor\": \"white\", \"linecolor\": \"white\", \"ticks\": \"\"}, \"bgcolor\": \"#E5ECF6\", \"caxis\": {\"gridcolor\": \"white\", \"linecolor\": \"white\", \"ticks\": \"\"}}, \"title\": {\"x\": 0.05}, \"xaxis\": {\"automargin\": true, \"gridcolor\": \"white\", \"linecolor\": \"white\", \"ticks\": \"\", \"title\": {\"standoff\": 15}, \"zerolinecolor\": \"white\", \"zerolinewidth\": 2}, \"yaxis\": {\"automargin\": true, \"gridcolor\": \"white\", \"linecolor\": \"white\", \"ticks\": \"\", \"title\": {\"standoff\": 15}, \"zerolinecolor\": \"white\", \"zerolinewidth\": 2}}}, \"xaxis\": {\"anchor\": \"y\", \"domain\": [0.0, 1.0], \"range\": [0.0, 600.0], \"title\": {\"text\": \"<i>x</i> (mm)\"}}, \"yaxis\": {\"anchor\": \"x\", \"domain\": [0.0, 1.0], \"scaleanchor\": \"x\", \"scaleratio\": 1, \"title\": {\"text\": \"<i>y</i> (mm)\"}}},                        {\"responsive\": true}                    ).then(function(){\n",
       "                            \n",
       "var gd = document.getElementById('b7e4c422-79aa-4437-8031-080b07dd4e8e');\n",
       "var x = new MutationObserver(function (mutations, observer) {{\n",
       "        var display = window.getComputedStyle(gd).display;\n",
       "        if (!display || display === 'none') {{\n",
       "            console.log([gd, 'removed!']);\n",
       "            Plotly.purge(gd);\n",
       "            observer.disconnect();\n",
       "        }}\n",
       "}});\n",
       "\n",
       "// Listen for the removal of the full notebook cells\n",
       "var notebookContainer = gd.closest('#notebook-container');\n",
       "if (notebookContainer) {{\n",
       "    x.observe(notebookContainer, {childList: true});\n",
       "}}\n",
       "\n",
       "// Listen for the clearing of the current output cell\n",
       "var outputEl = gd.closest('.output');\n",
       "if (outputEl) {{\n",
       "    x.observe(outputEl, {childList: true});\n",
       "}}\n",
       "\n",
       "                        })                };                });            </script>        </div>"
      ]
     },
     "metadata": {},
     "output_type": "display_data"
    }
   ],
   "source": [
    "centroid = np.insert(x, 0, lors[:, 0].mean())\n",
    "\n",
    "print(f\"Before iterating: Centroid = {x} mm, Variance = {variance} mm\")\n",
    "\n",
    "# Note that here we use the LORs in their original form for plotting\n",
    "# We are adding a final column to our LORs, where the weights are placed\n",
    "# and we will visualise the weights through the opacity of lines\n",
    "\n",
    "plot_lors = np.zeros((len(lors), 6))\n",
    "plot_lors[:,:5] = lors_original\n",
    "plot_lors[:,5] = weights\n",
    "\n",
    "grapher = PlotlyGrapher2D()\n",
    "\n",
    "for i in range(0, len(plot_lors)):\n",
    "    grapher.add_lines(plot_lors[i:i+1,:], opacity=0.6*plot_lors[i,5]/max(plot_lors[:,5]), color='blue')\n",
    "\n",
    "grapher.add_points([centroid], size=variance)\n",
    "\n",
    "grapher.show()\n",
    "\n"
   ]
  },
  {
   "cell_type": "markdown",
   "metadata": {},
   "source": [
    "## 2.4 Run 1 iteration, and plot the weighted LoRs and new position"
   ]
  },
  {
   "cell_type": "markdown",
   "metadata": {},
   "source": [
    "Then, we run and iteratively recalculate the centroid and variance with the weighted LORs, using the weights we have just calculated. The LOR weights are then recalculated and the \"outlier\" lines become much less visible."
   ]
  },
  {
   "cell_type": "code",
   "execution_count": 25,
   "metadata": {},
   "outputs": [
    {
     "name": "stdout",
     "output_type": "stream",
     "text": [
      "After iterating: Centroid = [313.72107682 244.1459765 ] mm, Variance = 0.33132420034545185 mm\n"
     ]
    },
    {
     "data": {
      "application/vnd.plotly.v1+json": {
       "config": {
        "plotlyServerURL": "https://plot.ly"
       },
       "data": [
        {
         "line": {
          "color": "blue",
          "width": 2
         },
         "mode": "lines",
         "opacity": 6.658637127462503e-22,
         "type": "scatter",
         "x": [
          0,
          600,
          null
         ],
         "xaxis": "x",
         "y": [
          168.7,
          142.8,
          null
         ],
         "yaxis": "y"
        },
        {
         "line": {
          "color": "blue",
          "width": 2
         },
         "mode": "lines",
         "opacity": 0.6,
         "type": "scatter",
         "x": [
          0,
          600,
          null
         ],
         "xaxis": "x",
         "y": [
          167.6,
          313.9,
          null
         ],
         "yaxis": "y"
        },
        {
         "line": {
          "color": "blue",
          "width": 2
         },
         "mode": "lines",
         "opacity": 6.658637127462503e-22,
         "type": "scatter",
         "x": [
          0,
          600,
          null
         ],
         "xaxis": "x",
         "y": [
          410,
          240.1,
          null
         ],
         "yaxis": "y"
        },
        {
         "line": {
          "color": "blue",
          "width": 2
         },
         "mode": "lines",
         "opacity": 6.658637127462503e-22,
         "type": "scatter",
         "x": [
          0,
          600,
          null
         ],
         "xaxis": "x",
         "y": [
          296.2,
          452.5,
          null
         ],
         "yaxis": "y"
        },
        {
         "line": {
          "color": "blue",
          "width": 2
         },
         "mode": "lines",
         "opacity": 6.658637127463509e-22,
         "type": "scatter",
         "x": [
          0,
          600,
          null
         ],
         "xaxis": "x",
         "y": [
          115.1,
          353.4,
          null
         ],
         "yaxis": "y"
        },
        {
         "line": {
          "color": "blue",
          "width": 2
         },
         "mode": "lines",
         "opacity": 6.658637127462503e-22,
         "type": "scatter",
         "x": [
          0,
          600,
          null
         ],
         "xaxis": "x",
         "y": [
          132.2,
          266.1,
          null
         ],
         "yaxis": "y"
        },
        {
         "line": {
          "color": "blue",
          "width": 2
         },
         "mode": "lines",
         "opacity": 4.500152577408413e-12,
         "type": "scatter",
         "x": [
          0,
          600,
          null
         ],
         "xaxis": "x",
         "y": [
          373.5,
          131,
          null
         ],
         "yaxis": "y"
        },
        {
         "line": {
          "color": "blue",
          "width": 2
         },
         "mode": "lines",
         "opacity": 6.658637127462503e-22,
         "type": "scatter",
         "x": [
          0,
          600,
          null
         ],
         "xaxis": "x",
         "y": [
          111.5,
          353.4,
          null
         ],
         "yaxis": "y"
        },
        {
         "line": {
          "color": "blue",
          "width": 2
         },
         "mode": "lines",
         "opacity": 5.3810661780710685e-14,
         "type": "scatter",
         "x": [
          0,
          600,
          null
         ],
         "xaxis": "x",
         "y": [
          209.4,
          280.8,
          null
         ],
         "yaxis": "y"
        },
        {
         "line": {
          "color": "blue",
          "width": 2
         },
         "mode": "lines",
         "opacity": 6.658637127462503e-22,
         "type": "scatter",
         "x": [
          0,
          600,
          null
         ],
         "xaxis": "x",
         "y": [
          274.9,
          306.2,
          null
         ],
         "yaxis": "y"
        },
        {
         "line": {
          "color": "blue",
          "width": 2
         },
         "mode": "lines",
         "opacity": 6.658637127462503e-22,
         "type": "scatter",
         "x": [
          0,
          600,
          null
         ],
         "xaxis": "x",
         "y": [
          238.9,
          168.1,
          null
         ],
         "yaxis": "y"
        },
        {
         "line": {
          "color": "blue",
          "width": 2
         },
         "mode": "lines",
         "opacity": 7.943039784450643e-15,
         "type": "scatter",
         "x": [
          0,
          600,
          null
         ],
         "xaxis": "x",
         "y": [
          428.3,
          70.2,
          null
         ],
         "yaxis": "y"
        },
        {
         "line": {
          "color": "blue",
          "width": 2
         },
         "mode": "lines",
         "opacity": 4.375259513736711e-11,
         "type": "scatter",
         "x": [
          0,
          600,
          null
         ],
         "xaxis": "x",
         "y": [
          133.3,
          349.9,
          null
         ],
         "yaxis": "y"
        },
        {
         "line": {
          "color": "blue",
          "width": 2
         },
         "mode": "lines",
         "opacity": 6.658637127462503e-22,
         "type": "scatter",
         "x": [
          0,
          600,
          null
         ],
         "xaxis": "x",
         "y": [
          305,
          103.2,
          null
         ],
         "yaxis": "y"
        },
        {
         "line": {
          "color": "blue",
          "width": 2
         },
         "mode": "lines",
         "opacity": 6.658637127462503e-22,
         "type": "scatter",
         "x": [
          0,
          600,
          null
         ],
         "xaxis": "x",
         "y": [
          92,
          392.9,
          null
         ],
         "yaxis": "y"
        },
        {
         "line": {
          "color": "blue",
          "width": 2
         },
         "mode": "lines",
         "opacity": 3.7338612871551287e-16,
         "type": "scatter",
         "x": [
          0,
          600,
          null
         ],
         "xaxis": "x",
         "y": [
          185.9,
          302.7,
          null
         ],
         "yaxis": "y"
        },
        {
         "line": {
          "color": "blue",
          "width": 2
         },
         "mode": "lines",
         "opacity": 6.658637127462503e-22,
         "type": "scatter",
         "x": [
          0,
          600,
          null
         ],
         "xaxis": "x",
         "y": [
          185.3,
          285,
          null
         ],
         "yaxis": "y"
        },
        {
         "line": {
          "color": "blue",
          "width": 2
         },
         "mode": "lines",
         "opacity": 6.658637127462503e-22,
         "type": "scatter",
         "x": [
          0,
          600,
          null
         ],
         "xaxis": "x",
         "y": [
          245.4,
          257.2,
          null
         ],
         "yaxis": "y"
        },
        {
         "line": {
          "color": "blue",
          "width": 2
         },
         "mode": "lines",
         "opacity": 6.658637127462503e-22,
         "type": "scatter",
         "x": [
          0,
          600,
          null
         ],
         "xaxis": "x",
         "y": [
          112.7,
          394.1,
          null
         ],
         "yaxis": "y"
        },
        {
         "line": {
          "color": "blue",
          "width": 2
         },
         "mode": "lines",
         "opacity": 6.658637127463316e-22,
         "type": "scatter",
         "x": [
          0,
          600,
          null
         ],
         "xaxis": "x",
         "y": [
          171.1,
          302.7,
          null
         ],
         "yaxis": "y"
        },
        {
         "line": {
          "color": "blue",
          "width": 2
         },
         "mode": "lines",
         "opacity": 6.658637127462503e-22,
         "type": "scatter",
         "x": [
          0,
          600,
          null
         ],
         "xaxis": "x",
         "y": [
          390.6,
          254.9,
          null
         ],
         "yaxis": "y"
        },
        {
         "line": {
          "color": "blue",
          "width": 2
         },
         "mode": "lines",
         "opacity": 6.658637127462503e-22,
         "type": "scatter",
         "x": [
          0,
          600,
          null
         ],
         "xaxis": "x",
         "y": [
          47.2,
          413.6,
          null
         ],
         "yaxis": "y"
        },
        {
         "line": {
          "color": "blue",
          "width": 2
         },
         "mode": "lines",
         "opacity": 6.658637127462503e-22,
         "type": "scatter",
         "x": [
          0,
          600,
          null
         ],
         "xaxis": "x",
         "y": [
          341,
          132.8,
          null
         ],
         "yaxis": "y"
        },
        {
         "line": {
          "color": "blue",
          "width": 2
         },
         "mode": "lines",
         "opacity": 1.9075202277349388e-21,
         "type": "scatter",
         "x": [
          0,
          600,
          null
         ],
         "xaxis": "x",
         "y": [
          126.3,
          345.1,
          null
         ],
         "yaxis": "y"
        },
        {
         "line": {
          "color": "blue",
          "width": 2
         },
         "mode": "lines",
         "opacity": 0.028530932731988687,
         "type": "scatter",
         "x": [
          0,
          600,
          null
         ],
         "xaxis": "x",
         "y": [
          434.8,
          72,
          null
         ],
         "yaxis": "y"
        },
        {
         "line": {
          "color": "blue",
          "width": 2
         },
         "mode": "lines",
         "opacity": 6.658637127462503e-22,
         "type": "scatter",
         "x": [
          0,
          600,
          null
         ],
         "xaxis": "x",
         "y": [
          335.1,
          215.4,
          null
         ],
         "yaxis": "y"
        },
        {
         "line": {
          "color": "blue",
          "width": 2
         },
         "mode": "lines",
         "opacity": 6.658637127462503e-22,
         "type": "scatter",
         "x": [
          0,
          600,
          null
         ],
         "xaxis": "x",
         "y": [
          276.7,
          195.3,
          null
         ],
         "yaxis": "y"
        },
        {
         "line": {
          "color": "blue",
          "width": 2
         },
         "mode": "lines",
         "opacity": 0.04055152565212996,
         "type": "scatter",
         "x": [
          0,
          600,
          null
         ],
         "xaxis": "x",
         "y": [
          189.4,
          295.6,
          null
         ],
         "yaxis": "y"
        },
        {
         "line": {
          "color": "blue",
          "width": 2
         },
         "mode": "lines",
         "opacity": 8.862377588384911e-05,
         "type": "scatter",
         "x": [
          0,
          600,
          null
         ],
         "xaxis": "x",
         "y": [
          305,
          185.9,
          null
         ],
         "yaxis": "y"
        },
        {
         "line": {
          "color": "blue",
          "width": 2
         },
         "mode": "lines",
         "opacity": 6.658637127462503e-22,
         "type": "scatter",
         "x": [
          0,
          600,
          null
         ],
         "xaxis": "x",
         "y": [
          430.1,
          135.7,
          null
         ],
         "yaxis": "y"
        },
        {
         "line": {
          "color": "blue",
          "width": 2
         },
         "mode": "lines",
         "opacity": 3.5673349195074335e-10,
         "type": "scatter",
         "x": [
          0,
          600,
          null
         ],
         "xaxis": "x",
         "y": [
          446.6,
          64.3,
          null
         ],
         "yaxis": "y"
        },
        {
         "line": {
          "color": "blue",
          "width": 2
         },
         "mode": "lines",
         "opacity": 6.658637127462503e-22,
         "type": "scatter",
         "x": [
          0,
          600,
          null
         ],
         "xaxis": "x",
         "y": [
          174.1,
          71.4,
          null
         ],
         "yaxis": "y"
        },
        {
         "line": {
          "color": "blue",
          "width": 2
         },
         "mode": "lines",
         "opacity": 6.658637127462503e-22,
         "type": "scatter",
         "x": [
          0,
          600,
          null
         ],
         "xaxis": "x",
         "y": [
          194.1,
          120.4,
          null
         ],
         "yaxis": "y"
        },
        {
         "line": {
          "color": "blue",
          "width": 2
         },
         "mode": "lines",
         "opacity": 6.658637127462503e-22,
         "type": "scatter",
         "x": [
          0,
          600,
          null
         ],
         "xaxis": "x",
         "y": [
          116.2,
          351,
          null
         ],
         "yaxis": "y"
        },
        {
         "line": {
          "color": "blue",
          "width": 2
         },
         "mode": "lines",
         "opacity": 1.078324463313233e-06,
         "type": "scatter",
         "x": [
          0,
          600,
          null
         ],
         "xaxis": "x",
         "y": [
          230.1,
          253.7,
          null
         ],
         "yaxis": "y"
        },
        {
         "line": {
          "color": "blue",
          "width": 2
         },
         "mode": "lines",
         "opacity": 4.058380676971372e-18,
         "type": "scatter",
         "x": [
          0,
          600,
          null
         ],
         "xaxis": "x",
         "y": [
          276.7,
          220.1,
          null
         ],
         "yaxis": "y"
        },
        {
         "line": {
          "color": "blue",
          "width": 2
         },
         "mode": "lines",
         "opacity": 0.0002387591962651709,
         "type": "scatter",
         "x": [
          0,
          600,
          null
         ],
         "xaxis": "x",
         "y": [
          296.2,
          194.1,
          null
         ],
         "yaxis": "y"
        },
        {
         "line": {
          "color": "blue",
          "width": 2
         },
         "mode": "lines",
         "opacity": 6.658637127462503e-22,
         "type": "scatter",
         "x": [
          0,
          600,
          null
         ],
         "xaxis": "x",
         "y": [
          50.2,
          376.4,
          null
         ],
         "yaxis": "y"
        },
        {
         "line": {
          "color": "blue",
          "width": 2
         },
         "mode": "lines",
         "opacity": 1.5707110725847054e-12,
         "type": "scatter",
         "x": [
          0,
          600,
          null
         ],
         "xaxis": "x",
         "y": [
          300.3,
          197.6,
          null
         ],
         "yaxis": "y"
        },
        {
         "line": {
          "color": "blue",
          "width": 2
         },
         "mode": "lines",
         "opacity": 6.658637127462503e-22,
         "type": "scatter",
         "x": [
          0,
          600,
          null
         ],
         "xaxis": "x",
         "y": [
          103.2,
          136.9,
          null
         ],
         "yaxis": "y"
        },
        {
         "line": {
          "color": "blue",
          "width": 2
         },
         "mode": "lines",
         "opacity": 0.3045264971865511,
         "type": "scatter",
         "x": [
          0,
          600,
          null
         ],
         "xaxis": "x",
         "y": [
          404.7,
          96.8,
          null
         ],
         "yaxis": "y"
        },
        {
         "line": {
          "color": "blue",
          "width": 2
         },
         "mode": "lines",
         "opacity": 0.5328293409307218,
         "type": "scatter",
         "x": [
          0,
          600,
          null
         ],
         "xaxis": "x",
         "y": [
          439.5,
          65.5,
          null
         ],
         "yaxis": "y"
        },
        {
         "line": {
          "color": "blue",
          "width": 2
         },
         "mode": "lines",
         "opacity": 6.658637127462503e-22,
         "type": "scatter",
         "x": [
          0,
          600,
          null
         ],
         "xaxis": "x",
         "y": [
          259,
          290.3,
          null
         ],
         "yaxis": "y"
        },
        {
         "line": {
          "color": "blue",
          "width": 2
         },
         "mode": "lines",
         "opacity": 6.658637127462503e-22,
         "type": "scatter",
         "x": [
          0,
          600,
          null
         ],
         "xaxis": "x",
         "y": [
          167.6,
          227.7,
          null
         ],
         "yaxis": "y"
        },
        {
         "line": {
          "color": "blue",
          "width": 2
         },
         "mode": "lines",
         "opacity": 0.5888066684405799,
         "type": "scatter",
         "x": [
          0,
          600,
          null
         ],
         "xaxis": "x",
         "y": [
          282.6,
          208.9,
          null
         ],
         "yaxis": "y"
        },
        {
         "line": {
          "color": "blue",
          "width": 2
         },
         "mode": "lines",
         "opacity": 6.658637127462503e-22,
         "type": "scatter",
         "x": [
          0,
          600,
          null
         ],
         "xaxis": "x",
         "y": [
          227.7,
          430.1,
          null
         ],
         "yaxis": "y"
        },
        {
         "line": {
          "color": "blue",
          "width": 2
         },
         "mode": "lines",
         "opacity": 6.658637127462503e-22,
         "type": "scatter",
         "x": [
          0,
          600,
          null
         ],
         "xaxis": "x",
         "y": [
          277.3,
          395.3,
          null
         ],
         "yaxis": "y"
        },
        {
         "line": {
          "color": "blue",
          "width": 2
         },
         "mode": "lines",
         "opacity": 1.6360406507982331e-15,
         "type": "scatter",
         "x": [
          0,
          600,
          null
         ],
         "xaxis": "x",
         "y": [
          165.8,
          310.3,
          null
         ],
         "yaxis": "y"
        },
        {
         "line": {
          "color": "blue",
          "width": 2
         },
         "mode": "lines",
         "opacity": 6.0065700557278805e-06,
         "type": "scatter",
         "x": [
          0,
          600,
          null
         ],
         "xaxis": "x",
         "y": [
          154.6,
          322.7,
          null
         ],
         "yaxis": "y"
        },
        {
         "line": {
          "color": "blue",
          "width": 2
         },
         "mode": "lines",
         "opacity": 6.658637127462503e-22,
         "type": "scatter",
         "x": [
          0,
          600,
          null
         ],
         "xaxis": "x",
         "y": [
          76.1,
          506.2,
          null
         ],
         "yaxis": "y"
        },
        {
         "marker": {
          "color": [
           244.14597650252705
          ],
          "colorscale": [
           [
            0,
            "#000004"
           ],
           [
            0.1111111111111111,
            "#180f3d"
           ],
           [
            0.2222222222222222,
            "#440f76"
           ],
           [
            0.3333333333333333,
            "#721f81"
           ],
           [
            0.4444444444444444,
            "#9e2f7f"
           ],
           [
            0.5555555555555556,
            "#cd4071"
           ],
           [
            0.6666666666666666,
            "#f1605d"
           ],
           [
            0.7777777777777778,
            "#fd9668"
           ],
           [
            0.8888888888888888,
            "#feca8d"
           ],
           [
            1,
            "#fcfdbf"
           ]
          ],
          "opacity": 0.8,
          "size": 0.33132420034545185
         },
         "mode": "markers",
         "type": "scatter",
         "x": [
          313.7210768185481
         ],
         "xaxis": "x",
         "y": [
          244.14597650252705
         ],
         "yaxis": "y"
        }
       ],
       "layout": {
        "annotations": [
         {
          "font": {
           "size": 16
          },
          "showarrow": false,
          "text": "  ",
          "x": 0.5,
          "xanchor": "center",
          "xref": "paper",
          "y": 1,
          "yanchor": "bottom",
          "yref": "paper"
         }
        ],
        "margin": {
         "b": 30,
         "l": 0,
         "r": 0,
         "t": 30
        },
        "showlegend": false,
        "template": {
         "data": {
          "bar": [
           {
            "error_x": {
             "color": "#2a3f5f"
            },
            "error_y": {
             "color": "#2a3f5f"
            },
            "marker": {
             "line": {
              "color": "#E5ECF6",
              "width": 0.5
             }
            },
            "type": "bar"
           }
          ],
          "barpolar": [
           {
            "marker": {
             "line": {
              "color": "#E5ECF6",
              "width": 0.5
             }
            },
            "type": "barpolar"
           }
          ],
          "carpet": [
           {
            "aaxis": {
             "endlinecolor": "#2a3f5f",
             "gridcolor": "white",
             "linecolor": "white",
             "minorgridcolor": "white",
             "startlinecolor": "#2a3f5f"
            },
            "baxis": {
             "endlinecolor": "#2a3f5f",
             "gridcolor": "white",
             "linecolor": "white",
             "minorgridcolor": "white",
             "startlinecolor": "#2a3f5f"
            },
            "type": "carpet"
           }
          ],
          "choropleth": [
           {
            "colorbar": {
             "outlinewidth": 0,
             "ticks": ""
            },
            "type": "choropleth"
           }
          ],
          "contour": [
           {
            "colorbar": {
             "outlinewidth": 0,
             "ticks": ""
            },
            "colorscale": [
             [
              0,
              "#0d0887"
             ],
             [
              0.1111111111111111,
              "#46039f"
             ],
             [
              0.2222222222222222,
              "#7201a8"
             ],
             [
              0.3333333333333333,
              "#9c179e"
             ],
             [
              0.4444444444444444,
              "#bd3786"
             ],
             [
              0.5555555555555556,
              "#d8576b"
             ],
             [
              0.6666666666666666,
              "#ed7953"
             ],
             [
              0.7777777777777778,
              "#fb9f3a"
             ],
             [
              0.8888888888888888,
              "#fdca26"
             ],
             [
              1,
              "#f0f921"
             ]
            ],
            "type": "contour"
           }
          ],
          "contourcarpet": [
           {
            "colorbar": {
             "outlinewidth": 0,
             "ticks": ""
            },
            "type": "contourcarpet"
           }
          ],
          "heatmap": [
           {
            "colorbar": {
             "outlinewidth": 0,
             "ticks": ""
            },
            "colorscale": [
             [
              0,
              "#0d0887"
             ],
             [
              0.1111111111111111,
              "#46039f"
             ],
             [
              0.2222222222222222,
              "#7201a8"
             ],
             [
              0.3333333333333333,
              "#9c179e"
             ],
             [
              0.4444444444444444,
              "#bd3786"
             ],
             [
              0.5555555555555556,
              "#d8576b"
             ],
             [
              0.6666666666666666,
              "#ed7953"
             ],
             [
              0.7777777777777778,
              "#fb9f3a"
             ],
             [
              0.8888888888888888,
              "#fdca26"
             ],
             [
              1,
              "#f0f921"
             ]
            ],
            "type": "heatmap"
           }
          ],
          "heatmapgl": [
           {
            "colorbar": {
             "outlinewidth": 0,
             "ticks": ""
            },
            "colorscale": [
             [
              0,
              "#0d0887"
             ],
             [
              0.1111111111111111,
              "#46039f"
             ],
             [
              0.2222222222222222,
              "#7201a8"
             ],
             [
              0.3333333333333333,
              "#9c179e"
             ],
             [
              0.4444444444444444,
              "#bd3786"
             ],
             [
              0.5555555555555556,
              "#d8576b"
             ],
             [
              0.6666666666666666,
              "#ed7953"
             ],
             [
              0.7777777777777778,
              "#fb9f3a"
             ],
             [
              0.8888888888888888,
              "#fdca26"
             ],
             [
              1,
              "#f0f921"
             ]
            ],
            "type": "heatmapgl"
           }
          ],
          "histogram": [
           {
            "marker": {
             "colorbar": {
              "outlinewidth": 0,
              "ticks": ""
             }
            },
            "type": "histogram"
           }
          ],
          "histogram2d": [
           {
            "colorbar": {
             "outlinewidth": 0,
             "ticks": ""
            },
            "colorscale": [
             [
              0,
              "#0d0887"
             ],
             [
              0.1111111111111111,
              "#46039f"
             ],
             [
              0.2222222222222222,
              "#7201a8"
             ],
             [
              0.3333333333333333,
              "#9c179e"
             ],
             [
              0.4444444444444444,
              "#bd3786"
             ],
             [
              0.5555555555555556,
              "#d8576b"
             ],
             [
              0.6666666666666666,
              "#ed7953"
             ],
             [
              0.7777777777777778,
              "#fb9f3a"
             ],
             [
              0.8888888888888888,
              "#fdca26"
             ],
             [
              1,
              "#f0f921"
             ]
            ],
            "type": "histogram2d"
           }
          ],
          "histogram2dcontour": [
           {
            "colorbar": {
             "outlinewidth": 0,
             "ticks": ""
            },
            "colorscale": [
             [
              0,
              "#0d0887"
             ],
             [
              0.1111111111111111,
              "#46039f"
             ],
             [
              0.2222222222222222,
              "#7201a8"
             ],
             [
              0.3333333333333333,
              "#9c179e"
             ],
             [
              0.4444444444444444,
              "#bd3786"
             ],
             [
              0.5555555555555556,
              "#d8576b"
             ],
             [
              0.6666666666666666,
              "#ed7953"
             ],
             [
              0.7777777777777778,
              "#fb9f3a"
             ],
             [
              0.8888888888888888,
              "#fdca26"
             ],
             [
              1,
              "#f0f921"
             ]
            ],
            "type": "histogram2dcontour"
           }
          ],
          "mesh3d": [
           {
            "colorbar": {
             "outlinewidth": 0,
             "ticks": ""
            },
            "type": "mesh3d"
           }
          ],
          "parcoords": [
           {
            "line": {
             "colorbar": {
              "outlinewidth": 0,
              "ticks": ""
             }
            },
            "type": "parcoords"
           }
          ],
          "pie": [
           {
            "automargin": true,
            "type": "pie"
           }
          ],
          "scatter": [
           {
            "marker": {
             "colorbar": {
              "outlinewidth": 0,
              "ticks": ""
             }
            },
            "type": "scatter"
           }
          ],
          "scatter3d": [
           {
            "line": {
             "colorbar": {
              "outlinewidth": 0,
              "ticks": ""
             }
            },
            "marker": {
             "colorbar": {
              "outlinewidth": 0,
              "ticks": ""
             }
            },
            "type": "scatter3d"
           }
          ],
          "scattercarpet": [
           {
            "marker": {
             "colorbar": {
              "outlinewidth": 0,
              "ticks": ""
             }
            },
            "type": "scattercarpet"
           }
          ],
          "scattergeo": [
           {
            "marker": {
             "colorbar": {
              "outlinewidth": 0,
              "ticks": ""
             }
            },
            "type": "scattergeo"
           }
          ],
          "scattergl": [
           {
            "marker": {
             "colorbar": {
              "outlinewidth": 0,
              "ticks": ""
             }
            },
            "type": "scattergl"
           }
          ],
          "scattermapbox": [
           {
            "marker": {
             "colorbar": {
              "outlinewidth": 0,
              "ticks": ""
             }
            },
            "type": "scattermapbox"
           }
          ],
          "scatterpolar": [
           {
            "marker": {
             "colorbar": {
              "outlinewidth": 0,
              "ticks": ""
             }
            },
            "type": "scatterpolar"
           }
          ],
          "scatterpolargl": [
           {
            "marker": {
             "colorbar": {
              "outlinewidth": 0,
              "ticks": ""
             }
            },
            "type": "scatterpolargl"
           }
          ],
          "scatterternary": [
           {
            "marker": {
             "colorbar": {
              "outlinewidth": 0,
              "ticks": ""
             }
            },
            "type": "scatterternary"
           }
          ],
          "surface": [
           {
            "colorbar": {
             "outlinewidth": 0,
             "ticks": ""
            },
            "colorscale": [
             [
              0,
              "#0d0887"
             ],
             [
              0.1111111111111111,
              "#46039f"
             ],
             [
              0.2222222222222222,
              "#7201a8"
             ],
             [
              0.3333333333333333,
              "#9c179e"
             ],
             [
              0.4444444444444444,
              "#bd3786"
             ],
             [
              0.5555555555555556,
              "#d8576b"
             ],
             [
              0.6666666666666666,
              "#ed7953"
             ],
             [
              0.7777777777777778,
              "#fb9f3a"
             ],
             [
              0.8888888888888888,
              "#fdca26"
             ],
             [
              1,
              "#f0f921"
             ]
            ],
            "type": "surface"
           }
          ],
          "table": [
           {
            "cells": {
             "fill": {
              "color": "#EBF0F8"
             },
             "line": {
              "color": "white"
             }
            },
            "header": {
             "fill": {
              "color": "#C8D4E3"
             },
             "line": {
              "color": "white"
             }
            },
            "type": "table"
           }
          ]
         },
         "layout": {
          "annotationdefaults": {
           "arrowcolor": "#2a3f5f",
           "arrowhead": 0,
           "arrowwidth": 1
          },
          "autotypenumbers": "strict",
          "coloraxis": {
           "colorbar": {
            "outlinewidth": 0,
            "ticks": ""
           }
          },
          "colorscale": {
           "diverging": [
            [
             0,
             "#8e0152"
            ],
            [
             0.1,
             "#c51b7d"
            ],
            [
             0.2,
             "#de77ae"
            ],
            [
             0.3,
             "#f1b6da"
            ],
            [
             0.4,
             "#fde0ef"
            ],
            [
             0.5,
             "#f7f7f7"
            ],
            [
             0.6,
             "#e6f5d0"
            ],
            [
             0.7,
             "#b8e186"
            ],
            [
             0.8,
             "#7fbc41"
            ],
            [
             0.9,
             "#4d9221"
            ],
            [
             1,
             "#276419"
            ]
           ],
           "sequential": [
            [
             0,
             "#0d0887"
            ],
            [
             0.1111111111111111,
             "#46039f"
            ],
            [
             0.2222222222222222,
             "#7201a8"
            ],
            [
             0.3333333333333333,
             "#9c179e"
            ],
            [
             0.4444444444444444,
             "#bd3786"
            ],
            [
             0.5555555555555556,
             "#d8576b"
            ],
            [
             0.6666666666666666,
             "#ed7953"
            ],
            [
             0.7777777777777778,
             "#fb9f3a"
            ],
            [
             0.8888888888888888,
             "#fdca26"
            ],
            [
             1,
             "#f0f921"
            ]
           ],
           "sequentialminus": [
            [
             0,
             "#0d0887"
            ],
            [
             0.1111111111111111,
             "#46039f"
            ],
            [
             0.2222222222222222,
             "#7201a8"
            ],
            [
             0.3333333333333333,
             "#9c179e"
            ],
            [
             0.4444444444444444,
             "#bd3786"
            ],
            [
             0.5555555555555556,
             "#d8576b"
            ],
            [
             0.6666666666666666,
             "#ed7953"
            ],
            [
             0.7777777777777778,
             "#fb9f3a"
            ],
            [
             0.8888888888888888,
             "#fdca26"
            ],
            [
             1,
             "#f0f921"
            ]
           ]
          },
          "colorway": [
           "#636efa",
           "#EF553B",
           "#00cc96",
           "#ab63fa",
           "#FFA15A",
           "#19d3f3",
           "#FF6692",
           "#B6E880",
           "#FF97FF",
           "#FECB52"
          ],
          "font": {
           "color": "#2a3f5f"
          },
          "geo": {
           "bgcolor": "white",
           "lakecolor": "white",
           "landcolor": "#E5ECF6",
           "showlakes": true,
           "showland": true,
           "subunitcolor": "white"
          },
          "hoverlabel": {
           "align": "left"
          },
          "hovermode": "closest",
          "mapbox": {
           "style": "light"
          },
          "paper_bgcolor": "white",
          "plot_bgcolor": "#E5ECF6",
          "polar": {
           "angularaxis": {
            "gridcolor": "white",
            "linecolor": "white",
            "ticks": ""
           },
           "bgcolor": "#E5ECF6",
           "radialaxis": {
            "gridcolor": "white",
            "linecolor": "white",
            "ticks": ""
           }
          },
          "scene": {
           "xaxis": {
            "backgroundcolor": "#E5ECF6",
            "gridcolor": "white",
            "gridwidth": 2,
            "linecolor": "white",
            "showbackground": true,
            "ticks": "",
            "zerolinecolor": "white"
           },
           "yaxis": {
            "backgroundcolor": "#E5ECF6",
            "gridcolor": "white",
            "gridwidth": 2,
            "linecolor": "white",
            "showbackground": true,
            "ticks": "",
            "zerolinecolor": "white"
           },
           "zaxis": {
            "backgroundcolor": "#E5ECF6",
            "gridcolor": "white",
            "gridwidth": 2,
            "linecolor": "white",
            "showbackground": true,
            "ticks": "",
            "zerolinecolor": "white"
           }
          },
          "shapedefaults": {
           "line": {
            "color": "#2a3f5f"
           }
          },
          "ternary": {
           "aaxis": {
            "gridcolor": "white",
            "linecolor": "white",
            "ticks": ""
           },
           "baxis": {
            "gridcolor": "white",
            "linecolor": "white",
            "ticks": ""
           },
           "bgcolor": "#E5ECF6",
           "caxis": {
            "gridcolor": "white",
            "linecolor": "white",
            "ticks": ""
           }
          },
          "title": {
           "x": 0.05
          },
          "xaxis": {
           "automargin": true,
           "gridcolor": "white",
           "linecolor": "white",
           "ticks": "",
           "title": {
            "standoff": 15
           },
           "zerolinecolor": "white",
           "zerolinewidth": 2
          },
          "yaxis": {
           "automargin": true,
           "gridcolor": "white",
           "linecolor": "white",
           "ticks": "",
           "title": {
            "standoff": 15
           },
           "zerolinecolor": "white",
           "zerolinewidth": 2
          }
         }
        },
        "xaxis": {
         "anchor": "y",
         "domain": [
          0,
          1
         ],
         "range": [
          0,
          600
         ],
         "title": {
          "text": "<i>x</i> (mm)"
         }
        },
        "yaxis": {
         "anchor": "x",
         "domain": [
          0,
          1
         ],
         "scaleanchor": "x",
         "scaleratio": 1,
         "title": {
          "text": "<i>y</i> (mm)"
         }
        }
       }
      },
      "text/html": [
       "<div>                            <div id=\"1a1a9d3a-1acd-4b26-9eff-8642386e3289\" class=\"plotly-graph-div\" style=\"height:525px; width:100%;\"></div>            <script type=\"text/javascript\">                require([\"plotly\"], function(Plotly) {                    window.PLOTLYENV=window.PLOTLYENV || {};                                    if (document.getElementById(\"1a1a9d3a-1acd-4b26-9eff-8642386e3289\")) {                    Plotly.newPlot(                        \"1a1a9d3a-1acd-4b26-9eff-8642386e3289\",                        [{\"line\": {\"color\": \"blue\", \"width\": 2.0}, \"mode\": \"lines\", \"opacity\": 6.658637127462503e-22, \"type\": \"scatter\", \"x\": [0.0, 600.0, null], \"xaxis\": \"x\", \"y\": [168.7, 142.8, null], \"yaxis\": \"y\"}, {\"line\": {\"color\": \"blue\", \"width\": 2.0}, \"mode\": \"lines\", \"opacity\": 0.6, \"type\": \"scatter\", \"x\": [0.0, 600.0, null], \"xaxis\": \"x\", \"y\": [167.6, 313.9, null], \"yaxis\": \"y\"}, {\"line\": {\"color\": \"blue\", \"width\": 2.0}, \"mode\": \"lines\", \"opacity\": 6.658637127462503e-22, \"type\": \"scatter\", \"x\": [0.0, 600.0, null], \"xaxis\": \"x\", \"y\": [410.0, 240.1, null], \"yaxis\": \"y\"}, {\"line\": {\"color\": \"blue\", \"width\": 2.0}, \"mode\": \"lines\", \"opacity\": 6.658637127462503e-22, \"type\": \"scatter\", \"x\": [0.0, 600.0, null], \"xaxis\": \"x\", \"y\": [296.2, 452.5, null], \"yaxis\": \"y\"}, {\"line\": {\"color\": \"blue\", \"width\": 2.0}, \"mode\": \"lines\", \"opacity\": 6.658637127463509e-22, \"type\": \"scatter\", \"x\": [0.0, 600.0, null], \"xaxis\": \"x\", \"y\": [115.1, 353.4, null], \"yaxis\": \"y\"}, {\"line\": {\"color\": \"blue\", \"width\": 2.0}, \"mode\": \"lines\", \"opacity\": 6.658637127462503e-22, \"type\": \"scatter\", \"x\": [0.0, 600.0, null], \"xaxis\": \"x\", \"y\": [132.2, 266.1, null], \"yaxis\": \"y\"}, {\"line\": {\"color\": \"blue\", \"width\": 2.0}, \"mode\": \"lines\", \"opacity\": 4.500152577408413e-12, \"type\": \"scatter\", \"x\": [0.0, 600.0, null], \"xaxis\": \"x\", \"y\": [373.5, 131.0, null], \"yaxis\": \"y\"}, {\"line\": {\"color\": \"blue\", \"width\": 2.0}, \"mode\": \"lines\", \"opacity\": 6.658637127462503e-22, \"type\": \"scatter\", \"x\": [0.0, 600.0, null], \"xaxis\": \"x\", \"y\": [111.5, 353.4, null], \"yaxis\": \"y\"}, {\"line\": {\"color\": \"blue\", \"width\": 2.0}, \"mode\": \"lines\", \"opacity\": 5.3810661780710685e-14, \"type\": \"scatter\", \"x\": [0.0, 600.0, null], \"xaxis\": \"x\", \"y\": [209.4, 280.8, null], \"yaxis\": \"y\"}, {\"line\": {\"color\": \"blue\", \"width\": 2.0}, \"mode\": \"lines\", \"opacity\": 6.658637127462503e-22, \"type\": \"scatter\", \"x\": [0.0, 600.0, null], \"xaxis\": \"x\", \"y\": [274.9, 306.2, null], \"yaxis\": \"y\"}, {\"line\": {\"color\": \"blue\", \"width\": 2.0}, \"mode\": \"lines\", \"opacity\": 6.658637127462503e-22, \"type\": \"scatter\", \"x\": [0.0, 600.0, null], \"xaxis\": \"x\", \"y\": [238.9, 168.1, null], \"yaxis\": \"y\"}, {\"line\": {\"color\": \"blue\", \"width\": 2.0}, \"mode\": \"lines\", \"opacity\": 7.943039784450643e-15, \"type\": \"scatter\", \"x\": [0.0, 600.0, null], \"xaxis\": \"x\", \"y\": [428.3, 70.2, null], \"yaxis\": \"y\"}, {\"line\": {\"color\": \"blue\", \"width\": 2.0}, \"mode\": \"lines\", \"opacity\": 4.375259513736711e-11, \"type\": \"scatter\", \"x\": [0.0, 600.0, null], \"xaxis\": \"x\", \"y\": [133.3, 349.9, null], \"yaxis\": \"y\"}, {\"line\": {\"color\": \"blue\", \"width\": 2.0}, \"mode\": \"lines\", \"opacity\": 6.658637127462503e-22, \"type\": \"scatter\", \"x\": [0.0, 600.0, null], \"xaxis\": \"x\", \"y\": [305.0, 103.2, null], \"yaxis\": \"y\"}, {\"line\": {\"color\": \"blue\", \"width\": 2.0}, \"mode\": \"lines\", \"opacity\": 6.658637127462503e-22, \"type\": \"scatter\", \"x\": [0.0, 600.0, null], \"xaxis\": \"x\", \"y\": [92.0, 392.9, null], \"yaxis\": \"y\"}, {\"line\": {\"color\": \"blue\", \"width\": 2.0}, \"mode\": \"lines\", \"opacity\": 3.7338612871551287e-16, \"type\": \"scatter\", \"x\": [0.0, 600.0, null], \"xaxis\": \"x\", \"y\": [185.9, 302.7, null], \"yaxis\": \"y\"}, {\"line\": {\"color\": \"blue\", \"width\": 2.0}, \"mode\": \"lines\", \"opacity\": 6.658637127462503e-22, \"type\": \"scatter\", \"x\": [0.0, 600.0, null], \"xaxis\": \"x\", \"y\": [185.3, 285.0, null], \"yaxis\": \"y\"}, {\"line\": {\"color\": \"blue\", \"width\": 2.0}, \"mode\": \"lines\", \"opacity\": 6.658637127462503e-22, \"type\": \"scatter\", \"x\": [0.0, 600.0, null], \"xaxis\": \"x\", \"y\": [245.4, 257.2, null], \"yaxis\": \"y\"}, {\"line\": {\"color\": \"blue\", \"width\": 2.0}, \"mode\": \"lines\", \"opacity\": 6.658637127462503e-22, \"type\": \"scatter\", \"x\": [0.0, 600.0, null], \"xaxis\": \"x\", \"y\": [112.7, 394.1, null], \"yaxis\": \"y\"}, {\"line\": {\"color\": \"blue\", \"width\": 2.0}, \"mode\": \"lines\", \"opacity\": 6.658637127463316e-22, \"type\": \"scatter\", \"x\": [0.0, 600.0, null], \"xaxis\": \"x\", \"y\": [171.1, 302.7, null], \"yaxis\": \"y\"}, {\"line\": {\"color\": \"blue\", \"width\": 2.0}, \"mode\": \"lines\", \"opacity\": 6.658637127462503e-22, \"type\": \"scatter\", \"x\": [0.0, 600.0, null], \"xaxis\": \"x\", \"y\": [390.6, 254.9, null], \"yaxis\": \"y\"}, {\"line\": {\"color\": \"blue\", \"width\": 2.0}, \"mode\": \"lines\", \"opacity\": 6.658637127462503e-22, \"type\": \"scatter\", \"x\": [0.0, 600.0, null], \"xaxis\": \"x\", \"y\": [47.2, 413.6, null], \"yaxis\": \"y\"}, {\"line\": {\"color\": \"blue\", \"width\": 2.0}, \"mode\": \"lines\", \"opacity\": 6.658637127462503e-22, \"type\": \"scatter\", \"x\": [0.0, 600.0, null], \"xaxis\": \"x\", \"y\": [341.0, 132.8, null], \"yaxis\": \"y\"}, {\"line\": {\"color\": \"blue\", \"width\": 2.0}, \"mode\": \"lines\", \"opacity\": 1.9075202277349388e-21, \"type\": \"scatter\", \"x\": [0.0, 600.0, null], \"xaxis\": \"x\", \"y\": [126.3, 345.1, null], \"yaxis\": \"y\"}, {\"line\": {\"color\": \"blue\", \"width\": 2.0}, \"mode\": \"lines\", \"opacity\": 0.028530932731988687, \"type\": \"scatter\", \"x\": [0.0, 600.0, null], \"xaxis\": \"x\", \"y\": [434.8, 72.0, null], \"yaxis\": \"y\"}, {\"line\": {\"color\": \"blue\", \"width\": 2.0}, \"mode\": \"lines\", \"opacity\": 6.658637127462503e-22, \"type\": \"scatter\", \"x\": [0.0, 600.0, null], \"xaxis\": \"x\", \"y\": [335.1, 215.4, null], \"yaxis\": \"y\"}, {\"line\": {\"color\": \"blue\", \"width\": 2.0}, \"mode\": \"lines\", \"opacity\": 6.658637127462503e-22, \"type\": \"scatter\", \"x\": [0.0, 600.0, null], \"xaxis\": \"x\", \"y\": [276.7, 195.3, null], \"yaxis\": \"y\"}, {\"line\": {\"color\": \"blue\", \"width\": 2.0}, \"mode\": \"lines\", \"opacity\": 0.04055152565212996, \"type\": \"scatter\", \"x\": [0.0, 600.0, null], \"xaxis\": \"x\", \"y\": [189.4, 295.6, null], \"yaxis\": \"y\"}, {\"line\": {\"color\": \"blue\", \"width\": 2.0}, \"mode\": \"lines\", \"opacity\": 8.862377588384911e-05, \"type\": \"scatter\", \"x\": [0.0, 600.0, null], \"xaxis\": \"x\", \"y\": [305.0, 185.9, null], \"yaxis\": \"y\"}, {\"line\": {\"color\": \"blue\", \"width\": 2.0}, \"mode\": \"lines\", \"opacity\": 6.658637127462503e-22, \"type\": \"scatter\", \"x\": [0.0, 600.0, null], \"xaxis\": \"x\", \"y\": [430.1, 135.7, null], \"yaxis\": \"y\"}, {\"line\": {\"color\": \"blue\", \"width\": 2.0}, \"mode\": \"lines\", \"opacity\": 3.5673349195074335e-10, \"type\": \"scatter\", \"x\": [0.0, 600.0, null], \"xaxis\": \"x\", \"y\": [446.6, 64.3, null], \"yaxis\": \"y\"}, {\"line\": {\"color\": \"blue\", \"width\": 2.0}, \"mode\": \"lines\", \"opacity\": 6.658637127462503e-22, \"type\": \"scatter\", \"x\": [0.0, 600.0, null], \"xaxis\": \"x\", \"y\": [174.1, 71.4, null], \"yaxis\": \"y\"}, {\"line\": {\"color\": \"blue\", \"width\": 2.0}, \"mode\": \"lines\", \"opacity\": 6.658637127462503e-22, \"type\": \"scatter\", \"x\": [0.0, 600.0, null], \"xaxis\": \"x\", \"y\": [194.1, 120.4, null], \"yaxis\": \"y\"}, {\"line\": {\"color\": \"blue\", \"width\": 2.0}, \"mode\": \"lines\", \"opacity\": 6.658637127462503e-22, \"type\": \"scatter\", \"x\": [0.0, 600.0, null], \"xaxis\": \"x\", \"y\": [116.2, 351.0, null], \"yaxis\": \"y\"}, {\"line\": {\"color\": \"blue\", \"width\": 2.0}, \"mode\": \"lines\", \"opacity\": 1.078324463313233e-06, \"type\": \"scatter\", \"x\": [0.0, 600.0, null], \"xaxis\": \"x\", \"y\": [230.1, 253.7, null], \"yaxis\": \"y\"}, {\"line\": {\"color\": \"blue\", \"width\": 2.0}, \"mode\": \"lines\", \"opacity\": 4.058380676971372e-18, \"type\": \"scatter\", \"x\": [0.0, 600.0, null], \"xaxis\": \"x\", \"y\": [276.7, 220.1, null], \"yaxis\": \"y\"}, {\"line\": {\"color\": \"blue\", \"width\": 2.0}, \"mode\": \"lines\", \"opacity\": 0.0002387591962651709, \"type\": \"scatter\", \"x\": [0.0, 600.0, null], \"xaxis\": \"x\", \"y\": [296.2, 194.1, null], \"yaxis\": \"y\"}, {\"line\": {\"color\": \"blue\", \"width\": 2.0}, \"mode\": \"lines\", \"opacity\": 6.658637127462503e-22, \"type\": \"scatter\", \"x\": [0.0, 600.0, null], \"xaxis\": \"x\", \"y\": [50.2, 376.4, null], \"yaxis\": \"y\"}, {\"line\": {\"color\": \"blue\", \"width\": 2.0}, \"mode\": \"lines\", \"opacity\": 1.5707110725847054e-12, \"type\": \"scatter\", \"x\": [0.0, 600.0, null], \"xaxis\": \"x\", \"y\": [300.3, 197.6, null], \"yaxis\": \"y\"}, {\"line\": {\"color\": \"blue\", \"width\": 2.0}, \"mode\": \"lines\", \"opacity\": 6.658637127462503e-22, \"type\": \"scatter\", \"x\": [0.0, 600.0, null], \"xaxis\": \"x\", \"y\": [103.2, 136.9, null], \"yaxis\": \"y\"}, {\"line\": {\"color\": \"blue\", \"width\": 2.0}, \"mode\": \"lines\", \"opacity\": 0.3045264971865511, \"type\": \"scatter\", \"x\": [0.0, 600.0, null], \"xaxis\": \"x\", \"y\": [404.7, 96.8, null], \"yaxis\": \"y\"}, {\"line\": {\"color\": \"blue\", \"width\": 2.0}, \"mode\": \"lines\", \"opacity\": 0.5328293409307218, \"type\": \"scatter\", \"x\": [0.0, 600.0, null], \"xaxis\": \"x\", \"y\": [439.5, 65.5, null], \"yaxis\": \"y\"}, {\"line\": {\"color\": \"blue\", \"width\": 2.0}, \"mode\": \"lines\", \"opacity\": 6.658637127462503e-22, \"type\": \"scatter\", \"x\": [0.0, 600.0, null], \"xaxis\": \"x\", \"y\": [259.0, 290.3, null], \"yaxis\": \"y\"}, {\"line\": {\"color\": \"blue\", \"width\": 2.0}, \"mode\": \"lines\", \"opacity\": 6.658637127462503e-22, \"type\": \"scatter\", \"x\": [0.0, 600.0, null], \"xaxis\": \"x\", \"y\": [167.6, 227.7, null], \"yaxis\": \"y\"}, {\"line\": {\"color\": \"blue\", \"width\": 2.0}, \"mode\": \"lines\", \"opacity\": 0.5888066684405799, \"type\": \"scatter\", \"x\": [0.0, 600.0, null], \"xaxis\": \"x\", \"y\": [282.6, 208.9, null], \"yaxis\": \"y\"}, {\"line\": {\"color\": \"blue\", \"width\": 2.0}, \"mode\": \"lines\", \"opacity\": 6.658637127462503e-22, \"type\": \"scatter\", \"x\": [0.0, 600.0, null], \"xaxis\": \"x\", \"y\": [227.7, 430.1, null], \"yaxis\": \"y\"}, {\"line\": {\"color\": \"blue\", \"width\": 2.0}, \"mode\": \"lines\", \"opacity\": 6.658637127462503e-22, \"type\": \"scatter\", \"x\": [0.0, 600.0, null], \"xaxis\": \"x\", \"y\": [277.3, 395.3, null], \"yaxis\": \"y\"}, {\"line\": {\"color\": \"blue\", \"width\": 2.0}, \"mode\": \"lines\", \"opacity\": 1.6360406507982331e-15, \"type\": \"scatter\", \"x\": [0.0, 600.0, null], \"xaxis\": \"x\", \"y\": [165.8, 310.3, null], \"yaxis\": \"y\"}, {\"line\": {\"color\": \"blue\", \"width\": 2.0}, \"mode\": \"lines\", \"opacity\": 6.0065700557278805e-06, \"type\": \"scatter\", \"x\": [0.0, 600.0, null], \"xaxis\": \"x\", \"y\": [154.6, 322.7, null], \"yaxis\": \"y\"}, {\"line\": {\"color\": \"blue\", \"width\": 2.0}, \"mode\": \"lines\", \"opacity\": 6.658637127462503e-22, \"type\": \"scatter\", \"x\": [0.0, 600.0, null], \"xaxis\": \"x\", \"y\": [76.1, 506.2, null], \"yaxis\": \"y\"}, {\"marker\": {\"color\": [244.14597650252705], \"colorscale\": [[0.0, \"#000004\"], [0.1111111111111111, \"#180f3d\"], [0.2222222222222222, \"#440f76\"], [0.3333333333333333, \"#721f81\"], [0.4444444444444444, \"#9e2f7f\"], [0.5555555555555556, \"#cd4071\"], [0.6666666666666666, \"#f1605d\"], [0.7777777777777778, \"#fd9668\"], [0.8888888888888888, \"#feca8d\"], [1.0, \"#fcfdbf\"]], \"opacity\": 0.8, \"size\": 0.33132420034545185}, \"mode\": \"markers\", \"type\": \"scatter\", \"x\": [313.7210768185481], \"xaxis\": \"x\", \"y\": [244.14597650252705], \"yaxis\": \"y\"}],                        {\"annotations\": [{\"font\": {\"size\": 16}, \"showarrow\": false, \"text\": \"  \", \"x\": 0.5, \"xanchor\": \"center\", \"xref\": \"paper\", \"y\": 1.0, \"yanchor\": \"bottom\", \"yref\": \"paper\"}], \"margin\": {\"b\": 30, \"l\": 0, \"r\": 0, \"t\": 30}, \"showlegend\": false, \"template\": {\"data\": {\"bar\": [{\"error_x\": {\"color\": \"#2a3f5f\"}, \"error_y\": {\"color\": \"#2a3f5f\"}, \"marker\": {\"line\": {\"color\": \"#E5ECF6\", \"width\": 0.5}}, \"type\": \"bar\"}], \"barpolar\": [{\"marker\": {\"line\": {\"color\": \"#E5ECF6\", \"width\": 0.5}}, \"type\": \"barpolar\"}], \"carpet\": [{\"aaxis\": {\"endlinecolor\": \"#2a3f5f\", \"gridcolor\": \"white\", \"linecolor\": \"white\", \"minorgridcolor\": \"white\", \"startlinecolor\": \"#2a3f5f\"}, \"baxis\": {\"endlinecolor\": \"#2a3f5f\", \"gridcolor\": \"white\", \"linecolor\": \"white\", \"minorgridcolor\": \"white\", \"startlinecolor\": \"#2a3f5f\"}, \"type\": \"carpet\"}], \"choropleth\": [{\"colorbar\": {\"outlinewidth\": 0, \"ticks\": \"\"}, \"type\": \"choropleth\"}], \"contour\": [{\"colorbar\": {\"outlinewidth\": 0, \"ticks\": \"\"}, \"colorscale\": [[0.0, \"#0d0887\"], [0.1111111111111111, \"#46039f\"], [0.2222222222222222, \"#7201a8\"], [0.3333333333333333, \"#9c179e\"], [0.4444444444444444, \"#bd3786\"], [0.5555555555555556, \"#d8576b\"], [0.6666666666666666, \"#ed7953\"], [0.7777777777777778, \"#fb9f3a\"], [0.8888888888888888, \"#fdca26\"], [1.0, \"#f0f921\"]], \"type\": \"contour\"}], \"contourcarpet\": [{\"colorbar\": {\"outlinewidth\": 0, \"ticks\": \"\"}, \"type\": \"contourcarpet\"}], \"heatmap\": [{\"colorbar\": {\"outlinewidth\": 0, \"ticks\": \"\"}, \"colorscale\": [[0.0, \"#0d0887\"], [0.1111111111111111, \"#46039f\"], [0.2222222222222222, \"#7201a8\"], [0.3333333333333333, \"#9c179e\"], [0.4444444444444444, \"#bd3786\"], [0.5555555555555556, \"#d8576b\"], [0.6666666666666666, \"#ed7953\"], [0.7777777777777778, \"#fb9f3a\"], [0.8888888888888888, \"#fdca26\"], [1.0, \"#f0f921\"]], \"type\": \"heatmap\"}], \"heatmapgl\": [{\"colorbar\": {\"outlinewidth\": 0, \"ticks\": \"\"}, \"colorscale\": [[0.0, \"#0d0887\"], [0.1111111111111111, \"#46039f\"], [0.2222222222222222, \"#7201a8\"], [0.3333333333333333, \"#9c179e\"], [0.4444444444444444, \"#bd3786\"], [0.5555555555555556, \"#d8576b\"], [0.6666666666666666, \"#ed7953\"], [0.7777777777777778, \"#fb9f3a\"], [0.8888888888888888, \"#fdca26\"], [1.0, \"#f0f921\"]], \"type\": \"heatmapgl\"}], \"histogram\": [{\"marker\": {\"colorbar\": {\"outlinewidth\": 0, \"ticks\": \"\"}}, \"type\": \"histogram\"}], \"histogram2d\": [{\"colorbar\": {\"outlinewidth\": 0, \"ticks\": \"\"}, \"colorscale\": [[0.0, \"#0d0887\"], [0.1111111111111111, \"#46039f\"], [0.2222222222222222, \"#7201a8\"], [0.3333333333333333, \"#9c179e\"], [0.4444444444444444, \"#bd3786\"], [0.5555555555555556, \"#d8576b\"], [0.6666666666666666, \"#ed7953\"], [0.7777777777777778, \"#fb9f3a\"], [0.8888888888888888, \"#fdca26\"], [1.0, \"#f0f921\"]], \"type\": \"histogram2d\"}], \"histogram2dcontour\": [{\"colorbar\": {\"outlinewidth\": 0, \"ticks\": \"\"}, \"colorscale\": [[0.0, \"#0d0887\"], [0.1111111111111111, \"#46039f\"], [0.2222222222222222, \"#7201a8\"], [0.3333333333333333, \"#9c179e\"], [0.4444444444444444, \"#bd3786\"], [0.5555555555555556, \"#d8576b\"], [0.6666666666666666, \"#ed7953\"], [0.7777777777777778, \"#fb9f3a\"], [0.8888888888888888, \"#fdca26\"], [1.0, \"#f0f921\"]], \"type\": \"histogram2dcontour\"}], \"mesh3d\": [{\"colorbar\": {\"outlinewidth\": 0, \"ticks\": \"\"}, \"type\": \"mesh3d\"}], \"parcoords\": [{\"line\": {\"colorbar\": {\"outlinewidth\": 0, \"ticks\": \"\"}}, \"type\": \"parcoords\"}], \"pie\": [{\"automargin\": true, \"type\": \"pie\"}], \"scatter\": [{\"marker\": {\"colorbar\": {\"outlinewidth\": 0, \"ticks\": \"\"}}, \"type\": \"scatter\"}], \"scatter3d\": [{\"line\": {\"colorbar\": {\"outlinewidth\": 0, \"ticks\": \"\"}}, \"marker\": {\"colorbar\": {\"outlinewidth\": 0, \"ticks\": \"\"}}, \"type\": \"scatter3d\"}], \"scattercarpet\": [{\"marker\": {\"colorbar\": {\"outlinewidth\": 0, \"ticks\": \"\"}}, \"type\": \"scattercarpet\"}], \"scattergeo\": [{\"marker\": {\"colorbar\": {\"outlinewidth\": 0, \"ticks\": \"\"}}, \"type\": \"scattergeo\"}], \"scattergl\": [{\"marker\": {\"colorbar\": {\"outlinewidth\": 0, \"ticks\": \"\"}}, \"type\": \"scattergl\"}], \"scattermapbox\": [{\"marker\": {\"colorbar\": {\"outlinewidth\": 0, \"ticks\": \"\"}}, \"type\": \"scattermapbox\"}], \"scatterpolar\": [{\"marker\": {\"colorbar\": {\"outlinewidth\": 0, \"ticks\": \"\"}}, \"type\": \"scatterpolar\"}], \"scatterpolargl\": [{\"marker\": {\"colorbar\": {\"outlinewidth\": 0, \"ticks\": \"\"}}, \"type\": \"scatterpolargl\"}], \"scatterternary\": [{\"marker\": {\"colorbar\": {\"outlinewidth\": 0, \"ticks\": \"\"}}, \"type\": \"scatterternary\"}], \"surface\": [{\"colorbar\": {\"outlinewidth\": 0, \"ticks\": \"\"}, \"colorscale\": [[0.0, \"#0d0887\"], [0.1111111111111111, \"#46039f\"], [0.2222222222222222, \"#7201a8\"], [0.3333333333333333, \"#9c179e\"], [0.4444444444444444, \"#bd3786\"], [0.5555555555555556, \"#d8576b\"], [0.6666666666666666, \"#ed7953\"], [0.7777777777777778, \"#fb9f3a\"], [0.8888888888888888, \"#fdca26\"], [1.0, \"#f0f921\"]], \"type\": \"surface\"}], \"table\": [{\"cells\": {\"fill\": {\"color\": \"#EBF0F8\"}, \"line\": {\"color\": \"white\"}}, \"header\": {\"fill\": {\"color\": \"#C8D4E3\"}, \"line\": {\"color\": \"white\"}}, \"type\": \"table\"}]}, \"layout\": {\"annotationdefaults\": {\"arrowcolor\": \"#2a3f5f\", \"arrowhead\": 0, \"arrowwidth\": 1}, \"autotypenumbers\": \"strict\", \"coloraxis\": {\"colorbar\": {\"outlinewidth\": 0, \"ticks\": \"\"}}, \"colorscale\": {\"diverging\": [[0, \"#8e0152\"], [0.1, \"#c51b7d\"], [0.2, \"#de77ae\"], [0.3, \"#f1b6da\"], [0.4, \"#fde0ef\"], [0.5, \"#f7f7f7\"], [0.6, \"#e6f5d0\"], [0.7, \"#b8e186\"], [0.8, \"#7fbc41\"], [0.9, \"#4d9221\"], [1, \"#276419\"]], \"sequential\": [[0.0, \"#0d0887\"], [0.1111111111111111, \"#46039f\"], [0.2222222222222222, \"#7201a8\"], [0.3333333333333333, \"#9c179e\"], [0.4444444444444444, \"#bd3786\"], [0.5555555555555556, \"#d8576b\"], [0.6666666666666666, \"#ed7953\"], [0.7777777777777778, \"#fb9f3a\"], [0.8888888888888888, \"#fdca26\"], [1.0, \"#f0f921\"]], \"sequentialminus\": [[0.0, \"#0d0887\"], [0.1111111111111111, \"#46039f\"], [0.2222222222222222, \"#7201a8\"], [0.3333333333333333, \"#9c179e\"], [0.4444444444444444, \"#bd3786\"], [0.5555555555555556, \"#d8576b\"], [0.6666666666666666, \"#ed7953\"], [0.7777777777777778, \"#fb9f3a\"], [0.8888888888888888, \"#fdca26\"], [1.0, \"#f0f921\"]]}, \"colorway\": [\"#636efa\", \"#EF553B\", \"#00cc96\", \"#ab63fa\", \"#FFA15A\", \"#19d3f3\", \"#FF6692\", \"#B6E880\", \"#FF97FF\", \"#FECB52\"], \"font\": {\"color\": \"#2a3f5f\"}, \"geo\": {\"bgcolor\": \"white\", \"lakecolor\": \"white\", \"landcolor\": \"#E5ECF6\", \"showlakes\": true, \"showland\": true, \"subunitcolor\": \"white\"}, \"hoverlabel\": {\"align\": \"left\"}, \"hovermode\": \"closest\", \"mapbox\": {\"style\": \"light\"}, \"paper_bgcolor\": \"white\", \"plot_bgcolor\": \"#E5ECF6\", \"polar\": {\"angularaxis\": {\"gridcolor\": \"white\", \"linecolor\": \"white\", \"ticks\": \"\"}, \"bgcolor\": \"#E5ECF6\", \"radialaxis\": {\"gridcolor\": \"white\", \"linecolor\": \"white\", \"ticks\": \"\"}}, \"scene\": {\"xaxis\": {\"backgroundcolor\": \"#E5ECF6\", \"gridcolor\": \"white\", \"gridwidth\": 2, \"linecolor\": \"white\", \"showbackground\": true, \"ticks\": \"\", \"zerolinecolor\": \"white\"}, \"yaxis\": {\"backgroundcolor\": \"#E5ECF6\", \"gridcolor\": \"white\", \"gridwidth\": 2, \"linecolor\": \"white\", \"showbackground\": true, \"ticks\": \"\", \"zerolinecolor\": \"white\"}, \"zaxis\": {\"backgroundcolor\": \"#E5ECF6\", \"gridcolor\": \"white\", \"gridwidth\": 2, \"linecolor\": \"white\", \"showbackground\": true, \"ticks\": \"\", \"zerolinecolor\": \"white\"}}, \"shapedefaults\": {\"line\": {\"color\": \"#2a3f5f\"}}, \"ternary\": {\"aaxis\": {\"gridcolor\": \"white\", \"linecolor\": \"white\", \"ticks\": \"\"}, \"baxis\": {\"gridcolor\": \"white\", \"linecolor\": \"white\", \"ticks\": \"\"}, \"bgcolor\": \"#E5ECF6\", \"caxis\": {\"gridcolor\": \"white\", \"linecolor\": \"white\", \"ticks\": \"\"}}, \"title\": {\"x\": 0.05}, \"xaxis\": {\"automargin\": true, \"gridcolor\": \"white\", \"linecolor\": \"white\", \"ticks\": \"\", \"title\": {\"standoff\": 15}, \"zerolinecolor\": \"white\", \"zerolinewidth\": 2}, \"yaxis\": {\"automargin\": true, \"gridcolor\": \"white\", \"linecolor\": \"white\", \"ticks\": \"\", \"title\": {\"standoff\": 15}, \"zerolinecolor\": \"white\", \"zerolinewidth\": 2}}}, \"xaxis\": {\"anchor\": \"y\", \"domain\": [0.0, 1.0], \"range\": [0.0, 600.0], \"title\": {\"text\": \"<i>x</i> (mm)\"}}, \"yaxis\": {\"anchor\": \"x\", \"domain\": [0.0, 1.0], \"scaleanchor\": \"x\", \"scaleratio\": 1, \"title\": {\"text\": \"<i>y</i> (mm)\"}}},                        {\"responsive\": true}                    ).then(function(){\n",
       "                            \n",
       "var gd = document.getElementById('1a1a9d3a-1acd-4b26-9eff-8642386e3289');\n",
       "var x = new MutationObserver(function (mutations, observer) {{\n",
       "        var display = window.getComputedStyle(gd).display;\n",
       "        if (!display || display === 'none') {{\n",
       "            console.log([gd, 'removed!']);\n",
       "            Plotly.purge(gd);\n",
       "            observer.disconnect();\n",
       "        }}\n",
       "}});\n",
       "\n",
       "// Listen for the removal of the full notebook cells\n",
       "var notebookContainer = gd.closest('#notebook-container');\n",
       "if (notebookContainer) {{\n",
       "    x.observe(notebookContainer, {childList: true});\n",
       "}}\n",
       "\n",
       "// Listen for the clearing of the current output cell\n",
       "var outputEl = gd.closest('.output');\n",
       "if (outputEl) {{\n",
       "    x.observe(outputEl, {childList: true});\n",
       "}}\n",
       "\n",
       "                        })                };                });            </script>        </div>"
      ]
     },
     "metadata": {},
     "output_type": "display_data"
    }
   ],
   "source": [
    "x = Centroid(lors, weights)\n",
    "d2 = dist_matrix(x, lors)\n",
    "variance = np.sqrt(np.mean(d2*weights))\n",
    "weights  = Latent_weights(d2, variance, eps=0.0001)\n",
    "\n",
    "print(f\"After iterating: Centroid = {x} mm, Variance = {variance} mm\")\n",
    "\n",
    "centroid = np.insert(x, 0, lors[:, 0].mean())\n",
    "plot_lors[:,5] = weights\n",
    "\n",
    "grapher = PlotlyGrapher2D()\n",
    "\n",
    "for i in range(0, len(plot_lors)):\n",
    "    grapher.add_lines(plot_lors[i:i+1,:], opacity=0.6*plot_lors[i,5]/max(plot_lors[:,5]), color='blue')\n",
    "\n",
    "grapher.add_points([centroid], size=variance)\n",
    "\n",
    "grapher.show()"
   ]
  },
  {
   "cell_type": "markdown",
   "metadata": {},
   "source": [
    "In this instance, we see that the point converges very quickly and the PEPT-EM algorithm reduces the weight of outlier LORs. In the case of multiple particles, we may need more iterations in order to converge on the correct points."
   ]
  }
 ],
 "metadata": {
  "colab": {
   "authorship_tag": "ABX9TyO7ADx6R6JyqJjQCxKHGdKm",
   "collapsed_sections": [],
   "include_colab_link": true,
   "name": "BirminghamMethod_RoPP.ipynb",
   "provenance": [],
   "toc_visible": true
  },
  "kernelspec": {
   "display_name": "Python 3",
   "language": "python",
   "name": "python3"
  },
  "language_info": {
   "codemirror_mode": {
    "name": "ipython",
    "version": 3
   },
   "file_extension": ".py",
   "mimetype": "text/x-python",
   "name": "python",
   "nbconvert_exporter": "python",
   "pygments_lexer": "ipython3",
   "version": "3.8.5"
  }
 },
 "nbformat": 4,
 "nbformat_minor": 1
}
